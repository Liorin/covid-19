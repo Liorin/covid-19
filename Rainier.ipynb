{
 "cells": [
  {
   "cell_type": "code",
   "execution_count": 1,
   "metadata": {},
   "outputs": [
    {
     "data": {
      "text/plain": [
       "\u001b[32mimport \u001b[39m\u001b[36m$ivy.$                               \n",
       "\u001b[39m\n",
       "\u001b[32mimport \u001b[39m\u001b[36m$ivy.$                                   \u001b[39m"
      ]
     },
     "execution_count": 1,
     "metadata": {},
     "output_type": "execute_result"
    }
   ],
   "source": [
    "import $ivy.`com.stripe::rainier-core:0.3.2`\n",
    "import $ivy.`com.stripe::rainier-notebook:0.3.2`"
   ]
  },
  {
   "cell_type": "code",
   "execution_count": 2,
   "metadata": {},
   "outputs": [
    {
     "data": {
      "text/plain": [
       "\u001b[32mimport \u001b[39m\u001b[36mcom.stripe.rainier.compute._\n",
       "\u001b[39m\n",
       "\u001b[32mimport \u001b[39m\u001b[36mcom.stripe.rainier.core._\n",
       "\u001b[39m\n",
       "\u001b[32mimport \u001b[39m\u001b[36mcom.stripe.rainier.sampler._\n",
       "\u001b[39m\n",
       "\u001b[32mimport \u001b[39m\u001b[36mcom.stripe.rainier.notebook._\u001b[39m"
      ]
     },
     "execution_count": 2,
     "metadata": {},
     "output_type": "execute_result"
    }
   ],
   "source": [
    "import com.stripe.rainier.compute._\n",
    "import com.stripe.rainier.core._\n",
    "import com.stripe.rainier.sampler._\n",
    "import com.stripe.rainier.notebook._"
   ]
  },
  {
   "cell_type": "code",
   "execution_count": 3,
   "metadata": {},
   "outputs": [],
   "source": [
    "PPrint.register(repl)\n"
   ]
  },
  {
   "cell_type": "code",
   "execution_count": 20,
   "metadata": {},
   "outputs": [
    {
     "data": {
      "text/plain": [
       "\u001b[36mfranceSmoothed\u001b[39m: \u001b[32mList\u001b[39m[\u001b[32mLong\u001b[39m] = \u001b[33mList\u001b[39m(\n",
       "  \u001b[32m12L\u001b[39m,\n",
       "  \u001b[32m18L\u001b[39m,\n",
       "  \u001b[32m23L\u001b[39m,\n",
       "  \u001b[32m30L\u001b[39m,\n",
       "  \u001b[32m42L\u001b[39m,\n",
       "  \u001b[32m59L\u001b[39m,\n",
       "  \u001b[32m73L\u001b[39m,\n",
       "  \u001b[32m106L\u001b[39m,\n",
       "  \u001b[32m138L\u001b[39m,\n",
       "  \u001b[32m179L\u001b[39m,\n",
       "  \u001b[32m229L\u001b[39m,\n",
       "  \u001b[32m289L\u001b[39m,\n",
       "  \u001b[32m362L\u001b[39m,\n",
       "  \u001b[32m441L\u001b[39m,\n",
       "  \u001b[32m528L\u001b[39m,\n",
       "  \u001b[32m640L\u001b[39m,\n",
       "  \u001b[32m736L\u001b[39m,\n",
       "  \u001b[32m857L\u001b[39m,\n",
       "  \u001b[32m1003L\u001b[39m,\n",
       "  \u001b[32m1138L\u001b[39m,\n",
       "  \u001b[32m1282L\u001b[39m,\n",
       "  \u001b[32m1399L\u001b[39m,\n",
       "  \u001b[32m1641L\u001b[39m,\n",
       "  \u001b[32m1837L\u001b[39m,\n",
       "  \u001b[32m2053L\u001b[39m,\n",
       "  \u001b[32m2341L\u001b[39m,\n",
       "  \u001b[32m2626L\u001b[39m,\n",
       "  \u001b[32m2945L\u001b[39m,\n",
       "  \u001b[32m3163L\u001b[39m,\n",
       "  \u001b[32m3415L\u001b[39m,\n",
       "  \u001b[32m3851L\u001b[39m,\n",
       "  \u001b[32m4089L\u001b[39m,\n",
       "  \u001b[32m4231L\u001b[39m,\n",
       "  \u001b[32m4434L\u001b[39m,\n",
       "  \u001b[32m4500L\u001b[39m,\n",
       "  \u001b[32m4374L\u001b[39m,\n",
       "  \u001b[32m4230L\u001b[39m,\n",
       "  \u001b[32m4133L\u001b[39m,\n",
       "..."
      ]
     },
     "execution_count": 20,
     "metadata": {},
     "output_type": "execute_result"
    }
   ],
   "source": [
    "val franceSmoothed = List[Long](12,18,23,30,42,59,73,106,138,179,229,289,362,441,528,640,736,857,1003,1138,1282,1399,1641,1837,2053,2341,2626,2945,3163,3415,3851,4089,4231,4434,4500,4374,4230,4133,3947,3710,3708,3788,3609,3493,3603,3468,3346,3089,2895,2594,2386,2247,2052,1733,1642)"
   ]
  },
  {
   "cell_type": "markdown",
   "metadata": {},
   "source": [
    "All we really need are the ordered case numbers. I refuse to smooth these; the model should take care of that."
   ]
  },
  {
   "cell_type": "code",
   "execution_count": 21,
   "metadata": {},
   "outputs": [
    {
     "data": {
      "text/plain": [
       "\u001b[36madjacentPairs\u001b[39m: \u001b[32mList\u001b[39m[(\u001b[32mLong\u001b[39m, \u001b[32mLong\u001b[39m)] = \u001b[33mList\u001b[39m(\n",
       "  (\u001b[32m18L\u001b[39m, \u001b[32m12L\u001b[39m),\n",
       "  (\u001b[32m23L\u001b[39m, \u001b[32m18L\u001b[39m),\n",
       "  (\u001b[32m30L\u001b[39m, \u001b[32m23L\u001b[39m),\n",
       "  (\u001b[32m42L\u001b[39m, \u001b[32m30L\u001b[39m),\n",
       "  (\u001b[32m59L\u001b[39m, \u001b[32m42L\u001b[39m),\n",
       "  (\u001b[32m73L\u001b[39m, \u001b[32m59L\u001b[39m),\n",
       "  (\u001b[32m106L\u001b[39m, \u001b[32m73L\u001b[39m),\n",
       "  (\u001b[32m138L\u001b[39m, \u001b[32m106L\u001b[39m),\n",
       "  (\u001b[32m179L\u001b[39m, \u001b[32m138L\u001b[39m),\n",
       "  (\u001b[32m229L\u001b[39m, \u001b[32m179L\u001b[39m),\n",
       "  (\u001b[32m289L\u001b[39m, \u001b[32m229L\u001b[39m),\n",
       "  (\u001b[32m362L\u001b[39m, \u001b[32m289L\u001b[39m),\n",
       "  (\u001b[32m441L\u001b[39m, \u001b[32m362L\u001b[39m),\n",
       "  (\u001b[32m528L\u001b[39m, \u001b[32m441L\u001b[39m),\n",
       "  (\u001b[32m640L\u001b[39m, \u001b[32m528L\u001b[39m),\n",
       "  (\u001b[32m736L\u001b[39m, \u001b[32m640L\u001b[39m),\n",
       "  (\u001b[32m857L\u001b[39m, \u001b[32m736L\u001b[39m),\n",
       "  (\u001b[32m1003L\u001b[39m, \u001b[32m857L\u001b[39m),\n",
       "  (\u001b[32m1138L\u001b[39m, \u001b[32m1003L\u001b[39m),\n",
       "  (\u001b[32m1282L\u001b[39m, \u001b[32m1138L\u001b[39m),\n",
       "  (\u001b[32m1399L\u001b[39m, \u001b[32m1282L\u001b[39m),\n",
       "  (\u001b[32m1641L\u001b[39m, \u001b[32m1399L\u001b[39m),\n",
       "  (\u001b[32m1837L\u001b[39m, \u001b[32m1641L\u001b[39m),\n",
       "  (\u001b[32m2053L\u001b[39m, \u001b[32m1837L\u001b[39m),\n",
       "  (\u001b[32m2341L\u001b[39m, \u001b[32m2053L\u001b[39m),\n",
       "  (\u001b[32m2626L\u001b[39m, \u001b[32m2341L\u001b[39m),\n",
       "  (\u001b[32m2945L\u001b[39m, \u001b[32m2626L\u001b[39m),\n",
       "  (\u001b[32m3163L\u001b[39m, \u001b[32m2945L\u001b[39m),\n",
       "  (\u001b[32m3415L\u001b[39m, \u001b[32m3163L\u001b[39m),\n",
       "  (\u001b[32m3851L\u001b[39m, \u001b[32m3415L\u001b[39m),\n",
       "  (\u001b[32m4089L\u001b[39m, \u001b[32m3851L\u001b[39m),\n",
       "  (\u001b[32m4231L\u001b[39m, \u001b[32m4089L\u001b[39m),\n",
       "  (\u001b[32m4434L\u001b[39m, \u001b[32m4231L\u001b[39m),\n",
       "  (\u001b[32m4500L\u001b[39m, \u001b[32m4434L\u001b[39m),\n",
       "  (\u001b[32m4374L\u001b[39m, \u001b[32m4500L\u001b[39m),\n",
       "  (\u001b[32m4230L\u001b[39m, \u001b[32m4374L\u001b[39m),\n",
       "  (\u001b[32m4133L\u001b[39m, \u001b[32m4230L\u001b[39m),\n",
       "  (\u001b[32m3947L\u001b[39m, \u001b[32m4133L\u001b[39m),\n",
       "..."
      ]
     },
     "execution_count": 21,
     "metadata": {},
     "output_type": "execute_result"
    }
   ],
   "source": [
    "val adjacentPairs = franceSmoothed.drop(1).zip(franceSmoothed.take(franceSmoothed.size - 1))"
   ]
  },
  {
   "cell_type": "code",
   "execution_count": 22,
   "metadata": {},
   "outputs": [
    {
     "data": {
      "text/plain": [
       "\u001b[36mr0\u001b[39m: \u001b[32mReal\u001b[39m = \u001b[32mReal(0.00, Infinity)\u001b[39m"
      ]
     },
     "execution_count": 22,
     "metadata": {},
     "output_type": "execute_result"
    }
   ],
   "source": [
    "val r0 = Gamma(4, 3).latent"
   ]
  },
  {
   "cell_type": "markdown",
   "metadata": {},
   "source": [
    "Why are we hardcoding sigma here?? We should have a prior on that.\n",
    "\n",
    "Also, using Normal here is massively overfitting.\n",
    "\n",
    "But anyway, this is the model I'm transcribing."
   ]
  },
  {
   "cell_type": "code",
   "execution_count": 23,
   "metadata": {},
   "outputs": [
    {
     "data": {
      "text/plain": [
       "\u001b[36mdiffs\u001b[39m: \u001b[32mVec\u001b[39m[\u001b[32mReal\u001b[39m] = \u001b[33mVec\u001b[39m(\n",
       "  \u001b[32mReal(-Infinity, Infinity)\u001b[39m,\n",
       "  \u001b[32mReal(-Infinity, Infinity)\u001b[39m,\n",
       "  \u001b[32mReal(-Infinity, Infinity)\u001b[39m,\n",
       "  \u001b[32mReal(-Infinity, Infinity)\u001b[39m,\n",
       "  \u001b[32mReal(-Infinity, Infinity)\u001b[39m,\n",
       "  \u001b[32mReal(-Infinity, Infinity)\u001b[39m,\n",
       "  \u001b[32mReal(-Infinity, Infinity)\u001b[39m,\n",
       "  \u001b[32mReal(-Infinity, Infinity)\u001b[39m,\n",
       "  \u001b[32mReal(-Infinity, Infinity)\u001b[39m,\n",
       "  \u001b[32mReal(-Infinity, Infinity)\u001b[39m,\n",
       "  \u001b[32mReal(-Infinity, Infinity)\u001b[39m,\n",
       "  \u001b[32mReal(-Infinity, Infinity)\u001b[39m,\n",
       "  \u001b[32mReal(-Infinity, Infinity)\u001b[39m,\n",
       "  \u001b[32mReal(-Infinity, Infinity)\u001b[39m,\n",
       "  \u001b[32mReal(-Infinity, Infinity)\u001b[39m,\n",
       "  \u001b[32mReal(-Infinity, Infinity)\u001b[39m,\n",
       "  \u001b[32mReal(-Infinity, Infinity)\u001b[39m,\n",
       "  \u001b[32mReal(-Infinity, Infinity)\u001b[39m,\n",
       "  \u001b[32mReal(-Infinity, Infinity)\u001b[39m,\n",
       "  \u001b[32mReal(-Infinity, Infinity)\u001b[39m,\n",
       "  \u001b[32mReal(-Infinity, Infinity)\u001b[39m,\n",
       "  \u001b[32mReal(-Infinity, Infinity)\u001b[39m,\n",
       "  \u001b[32mReal(-Infinity, Infinity)\u001b[39m,\n",
       "  \u001b[32mReal(-Infinity, Infinity)\u001b[39m,\n",
       "  \u001b[32mReal(-Infinity, Infinity)\u001b[39m,\n",
       "  \u001b[32mReal(-Infinity, Infinity)\u001b[39m,\n",
       "  \u001b[32mReal(-Infinity, Infinity)\u001b[39m,\n",
       "  \u001b[32mReal(-Infinity, Infinity)\u001b[39m,\n",
       "  \u001b[32mReal(-Infinity, Infinity)\u001b[39m,\n",
       "  \u001b[32mReal(-Infinity, Infinity)\u001b[39m,\n",
       "  \u001b[32mReal(-Infinity, Infinity)\u001b[39m,\n",
       "  \u001b[32mReal(-Infinity, Infinity)\u001b[39m,\n",
       "  \u001b[32mReal(-Infinity, Infinity)\u001b[39m,\n",
       "  \u001b[32mReal(-Infinity, Infinity)\u001b[39m,\n",
       "  \u001b[32mReal(-Infinity, Infinity)\u001b[39m,\n",
       "  \u001b[32mReal(-Infinity, Infinity)\u001b[39m,\n",
       "  \u001b[32mReal(-Infinity, Infinity)\u001b[39m,\n",
       "  \u001b[32mReal(-Infinity, Infinity)\u001b[39m,\n",
       "..."
      ]
     },
     "execution_count": 23,
     "metadata": {},
     "output_type": "execute_result"
    }
   ],
   "source": [
    "val diffs = Normal(0,0.25).latentVec(adjacentPairs.size)"
   ]
  },
  {
   "cell_type": "markdown",
   "metadata": {},
   "source": [
    "This would be slightly cleaner if `Vec` implemented `scanLeft`.\n",
    "\n",
    "It seems weird that we're allowing Rt to go negative."
   ]
  },
  {
   "cell_type": "code",
   "execution_count": 24,
   "metadata": {},
   "outputs": [
    {
     "data": {
      "text/plain": [
       "\u001b[36mrts\u001b[39m: \u001b[32mVec\u001b[39m[\u001b[32mReal\u001b[39m] = \u001b[33mVec\u001b[39m(\n",
       "  \u001b[32mReal(0.00, Infinity)\u001b[39m,\n",
       "  \u001b[32mReal(-Infinity, Infinity)\u001b[39m,\n",
       "  \u001b[32mReal(-Infinity, Infinity)\u001b[39m,\n",
       "  \u001b[32mReal(-Infinity, Infinity)\u001b[39m,\n",
       "  \u001b[32mReal(-Infinity, Infinity)\u001b[39m,\n",
       "  \u001b[32mReal(-Infinity, Infinity)\u001b[39m,\n",
       "  \u001b[32mReal(-Infinity, Infinity)\u001b[39m,\n",
       "  \u001b[32mReal(-Infinity, Infinity)\u001b[39m,\n",
       "  \u001b[32mReal(-Infinity, Infinity)\u001b[39m,\n",
       "  \u001b[32mReal(-Infinity, Infinity)\u001b[39m,\n",
       "  \u001b[32mReal(-Infinity, Infinity)\u001b[39m,\n",
       "  \u001b[32mReal(-Infinity, Infinity)\u001b[39m,\n",
       "  \u001b[32mReal(-Infinity, Infinity)\u001b[39m,\n",
       "  \u001b[32mReal(-Infinity, Infinity)\u001b[39m,\n",
       "  \u001b[32mReal(-Infinity, Infinity)\u001b[39m,\n",
       "  \u001b[32mReal(-Infinity, Infinity)\u001b[39m,\n",
       "  \u001b[32mReal(-Infinity, Infinity)\u001b[39m,\n",
       "  \u001b[32mReal(-Infinity, Infinity)\u001b[39m,\n",
       "  \u001b[32mReal(-Infinity, Infinity)\u001b[39m,\n",
       "  \u001b[32mReal(-Infinity, Infinity)\u001b[39m,\n",
       "  \u001b[32mReal(-Infinity, Infinity)\u001b[39m,\n",
       "  \u001b[32mReal(-Infinity, Infinity)\u001b[39m,\n",
       "  \u001b[32mReal(-Infinity, Infinity)\u001b[39m,\n",
       "  \u001b[32mReal(-Infinity, Infinity)\u001b[39m,\n",
       "  \u001b[32mReal(-Infinity, Infinity)\u001b[39m,\n",
       "  \u001b[32mReal(-Infinity, Infinity)\u001b[39m,\n",
       "  \u001b[32mReal(-Infinity, Infinity)\u001b[39m,\n",
       "  \u001b[32mReal(-Infinity, Infinity)\u001b[39m,\n",
       "  \u001b[32mReal(-Infinity, Infinity)\u001b[39m,\n",
       "  \u001b[32mReal(-Infinity, Infinity)\u001b[39m,\n",
       "  \u001b[32mReal(-Infinity, Infinity)\u001b[39m,\n",
       "  \u001b[32mReal(-Infinity, Infinity)\u001b[39m,\n",
       "  \u001b[32mReal(-Infinity, Infinity)\u001b[39m,\n",
       "  \u001b[32mReal(-Infinity, Infinity)\u001b[39m,\n",
       "  \u001b[32mReal(-Infinity, Infinity)\u001b[39m,\n",
       "  \u001b[32mReal(-Infinity, Infinity)\u001b[39m,\n",
       "  \u001b[32mReal(-Infinity, Infinity)\u001b[39m,\n",
       "  \u001b[32mReal(-Infinity, Infinity)\u001b[39m,\n",
       "..."
      ]
     },
     "execution_count": 24,
     "metadata": {},
     "output_type": "execute_result"
    }
   ],
   "source": [
    "val rts = Vec.from(diffs.toList.scanLeft(r0)(_ + _))\n"
   ]
  },
  {
   "cell_type": "markdown",
   "metadata": {},
   "source": [
    "Separating out covariates from the observation."
   ]
  },
  {
   "cell_type": "code",
   "execution_count": 25,
   "metadata": {},
   "outputs": [
    {
     "data": {
      "text/plain": [
       "\u001b[36mxs\u001b[39m: \u001b[32mList\u001b[39m[(\u001b[32mInt\u001b[39m, \u001b[32mLong\u001b[39m)] = \u001b[33mList\u001b[39m(\n",
       "  (\u001b[32m0\u001b[39m, \u001b[32m12L\u001b[39m),\n",
       "  (\u001b[32m1\u001b[39m, \u001b[32m18L\u001b[39m),\n",
       "  (\u001b[32m2\u001b[39m, \u001b[32m23L\u001b[39m),\n",
       "  (\u001b[32m3\u001b[39m, \u001b[32m30L\u001b[39m),\n",
       "  (\u001b[32m4\u001b[39m, \u001b[32m42L\u001b[39m),\n",
       "  (\u001b[32m5\u001b[39m, \u001b[32m59L\u001b[39m),\n",
       "  (\u001b[32m6\u001b[39m, \u001b[32m73L\u001b[39m),\n",
       "  (\u001b[32m7\u001b[39m, \u001b[32m106L\u001b[39m),\n",
       "  (\u001b[32m8\u001b[39m, \u001b[32m138L\u001b[39m),\n",
       "  (\u001b[32m9\u001b[39m, \u001b[32m179L\u001b[39m),\n",
       "  (\u001b[32m10\u001b[39m, \u001b[32m229L\u001b[39m),\n",
       "  (\u001b[32m11\u001b[39m, \u001b[32m289L\u001b[39m),\n",
       "  (\u001b[32m12\u001b[39m, \u001b[32m362L\u001b[39m),\n",
       "  (\u001b[32m13\u001b[39m, \u001b[32m441L\u001b[39m),\n",
       "  (\u001b[32m14\u001b[39m, \u001b[32m528L\u001b[39m),\n",
       "  (\u001b[32m15\u001b[39m, \u001b[32m640L\u001b[39m),\n",
       "  (\u001b[32m16\u001b[39m, \u001b[32m736L\u001b[39m),\n",
       "  (\u001b[32m17\u001b[39m, \u001b[32m857L\u001b[39m),\n",
       "  (\u001b[32m18\u001b[39m, \u001b[32m1003L\u001b[39m),\n",
       "  (\u001b[32m19\u001b[39m, \u001b[32m1138L\u001b[39m),\n",
       "  (\u001b[32m20\u001b[39m, \u001b[32m1282L\u001b[39m),\n",
       "  (\u001b[32m21\u001b[39m, \u001b[32m1399L\u001b[39m),\n",
       "  (\u001b[32m22\u001b[39m, \u001b[32m1641L\u001b[39m),\n",
       "  (\u001b[32m23\u001b[39m, \u001b[32m1837L\u001b[39m),\n",
       "  (\u001b[32m24\u001b[39m, \u001b[32m2053L\u001b[39m),\n",
       "  (\u001b[32m25\u001b[39m, \u001b[32m2341L\u001b[39m),\n",
       "  (\u001b[32m26\u001b[39m, \u001b[32m2626L\u001b[39m),\n",
       "  (\u001b[32m27\u001b[39m, \u001b[32m2945L\u001b[39m),\n",
       "  (\u001b[32m28\u001b[39m, \u001b[32m3163L\u001b[39m),\n",
       "  (\u001b[32m29\u001b[39m, \u001b[32m3415L\u001b[39m),\n",
       "  (\u001b[32m30\u001b[39m, \u001b[32m3851L\u001b[39m),\n",
       "  (\u001b[32m31\u001b[39m, \u001b[32m4089L\u001b[39m),\n",
       "  (\u001b[32m32\u001b[39m, \u001b[32m4231L\u001b[39m),\n",
       "  (\u001b[32m33\u001b[39m, \u001b[32m4434L\u001b[39m),\n",
       "  (\u001b[32m34\u001b[39m, \u001b[32m4500L\u001b[39m),\n",
       "  (\u001b[32m35\u001b[39m, \u001b[32m4374L\u001b[39m),\n",
       "  (\u001b[32m36\u001b[39m, \u001b[32m4230L\u001b[39m),\n",
       "  (\u001b[32m37\u001b[39m, \u001b[32m4133L\u001b[39m),\n",
       "...\n",
       "\u001b[36mys\u001b[39m: \u001b[32mList\u001b[39m[\u001b[32mLong\u001b[39m] = \u001b[33mList\u001b[39m(\n",
       "  \u001b[32m18L\u001b[39m,\n",
       "  \u001b[32m23L\u001b[39m,\n",
       "  \u001b[32m30L\u001b[39m,\n",
       "  \u001b[32m42L\u001b[39m,\n",
       "  \u001b[32m59L\u001b[39m,\n",
       "  \u001b[32m73L\u001b[39m,\n",
       "  \u001b[32m106L\u001b[39m,\n",
       "  \u001b[32m138L\u001b[39m,\n",
       "  \u001b[32m179L\u001b[39m,\n",
       "  \u001b[32m229L\u001b[39m,\n",
       "  \u001b[32m289L\u001b[39m,\n",
       "  \u001b[32m362L\u001b[39m,\n",
       "  \u001b[32m441L\u001b[39m,\n",
       "  \u001b[32m528L\u001b[39m,\n",
       "  \u001b[32m640L\u001b[39m,\n",
       "  \u001b[32m736L\u001b[39m,\n",
       "  \u001b[32m857L\u001b[39m,\n",
       "  \u001b[32m1003L\u001b[39m,\n",
       "  \u001b[32m1138L\u001b[39m,\n",
       "  \u001b[32m1282L\u001b[39m,\n",
       "  \u001b[32m1399L\u001b[39m,\n",
       "  \u001b[32m1641L\u001b[39m,\n",
       "  \u001b[32m1837L\u001b[39m,\n",
       "  \u001b[32m2053L\u001b[39m,\n",
       "  \u001b[32m2341L\u001b[39m,\n",
       "  \u001b[32m2626L\u001b[39m,\n",
       "  \u001b[32m2945L\u001b[39m,\n",
       "  \u001b[32m3163L\u001b[39m,\n",
       "  \u001b[32m3415L\u001b[39m,\n",
       "  \u001b[32m3851L\u001b[39m,\n",
       "  \u001b[32m4089L\u001b[39m,\n",
       "  \u001b[32m4231L\u001b[39m,\n",
       "  \u001b[32m4434L\u001b[39m,\n",
       "  \u001b[32m4500L\u001b[39m,\n",
       "  \u001b[32m4374L\u001b[39m,\n",
       "  \u001b[32m4230L\u001b[39m,\n",
       "  \u001b[32m4133L\u001b[39m,\n",
       "  \u001b[32m3947L\u001b[39m,\n",
       "..."
      ]
     },
     "execution_count": 25,
     "metadata": {},
     "output_type": "execute_result"
    }
   ],
   "source": [
    "val (xs, ys) = adjacentPairs.zipWithIndex.map{case ((kt, kt_prev), i) =>\n",
    "    (i, kt_prev) -> kt\n",
    "}.unzip"
   ]
  },
  {
   "cell_type": "code",
   "execution_count": 26,
   "metadata": {},
   "outputs": [
    {
     "data": {
      "text/plain": [
       "\u001b[36mmodel\u001b[39m: \u001b[32mModel\u001b[39m = \u001b[32mModel[55]\u001b[39m"
      ]
     },
     "execution_count": 26,
     "metadata": {},
     "output_type": "execute_result"
    }
   ],
   "source": [
    "val model =  {\n",
    "    val likelihoods = Vec.from(xs).map{case (i, kt_prev) => \n",
    "        val lambda = ((rts(i) - 1)/7.0).exp * kt_prev\n",
    "        Poisson(lambda)\n",
    "    }\n",
    "    Model.observe(ys, likelihoods)\n",
    "}"
   ]
  },
  {
   "cell_type": "code",
   "execution_count": 27,
   "metadata": {},
   "outputs": [
    {
     "data": {
      "text/html": [
       "<b>Chain 1 Complete</b>: <div>Iteration: 1000 (4ms)</div> <div>Acceptance rate: 0.95</div> <div>E-BFMI: 1.12</div> <div>Step size: 0.02</div> <div>Mass matrix: List(0.045991204586686804, 1.022295197209199, 0.012737898501577024, 0.007772536868027698, 0.007523517104855806, 0.6433492875778533, 1.2698962409837637E-4, 0.06128314835905834, 4.4336327690222137E-4, 0.21420788312902245, 0.011547027953079207, 0.0011695977240026452, 0.4276207378297791, 0.28733305589747865, 0.017998394631581194, 0.5170029916835964, 0.08216742660462292, 0.5970510111607218, 0.01003109624546214, 0.07407453382319834, 0.0036492990958916973, 0.002485004166850028, 0.002194346095345862, 0.04285897638398943, 0.0147988034115762, 0.03143854137800962, 0.059787388817639564, 0.28921879662718264, 0.21027478964093005, 0.05272061849959198, 0.2007537926641597, 0.015305571750364356, 0.09566272264212229, 0.04884131923358248, 0.8021434940498328, 1.4145887256790045E-6, 0.001070028734406493, 6.757994323120309E-4, 0.05456482902822803, 0.28346332513859396, 0.09365229832331291, 0.1325989787556847, 0.08357185232609263, 0.04411065240720688, 0.1489169603424972, 0.11080738091064857, 0.0238065792099472, 0.0025205118677314713, 0.07137299035348611, 0.0017392449472574602, 0.07283713865124039, 0.029026488389489985, 0.008617975816690769, 0.004619052809953419, 0.4808937799312912)</div> <div>Total gradient evaluations: 3e+05 (14us)</div> <div>Total time: 17s</div>"
      ]
     },
     "metadata": {},
     "output_type": "display_data"
    },
    {
     "data": {
      "text/html": [
       "<b>Chain 2 Complete</b>: <div>Iteration: 1000 (3ms)</div> <div>Acceptance rate: 0.93</div> <div>E-BFMI: 0.96</div> <div>Step size: 0.02</div> <div>Mass matrix: List(0.09052730846201072, 1.0668289000507931, 0.44718501803803207, 0.09047549543126095, 0.1600760414430739, 0.001894560904762662, 1.0315903199762853, 0.019532113796685523, 0.09600182269579913, 0.016932137070848664, 0.013688176039974624, 0.0014455708656100294, 1.076169837817342, 0.0027052959155269706, 0.29433169461251946, 0.1593989102354354, 0.20717222421722578, 0.09553163479480652, 0.007379610507699677, 0.05438015938037944, 0.20155484036124358, 0.09234922801613468, 0.0014751530521014524, 0.01703385299142306, 0.026667243170493505, 0.05765045717620706, 0.10952100807910352, 0.0760376828158652, 1.0456501799865647E-5, 0.00559109960622682, 0.06615315885821146, 0.16560125229581601, 3.897638997005908E-5, 0.35400543589243955, 0.10413467967483916, 0.00597715253518667, 0.1473782207483464, 0.1423890129881673, 0.15401267109193512, 0.8911797763653984, 0.08734289341372896, 0.08596015938945639, 0.004012345896950435, 0.048697891041584535, 0.003281826713844238, 0.4202772245671333, 0.16709274457829115, 0.04212667560766973, 0.2459851718789509, 0.6988370925303384, 0.012325693355647963, 0.3777330413640468, 0.04019787762059624, 0.5244052618570839, 0.059668567905901686)</div> <div>Total gradient evaluations: 3e+05 (14us)</div> <div>Total time: 19s</div>"
      ]
     },
     "metadata": {},
     "output_type": "display_data"
    },
    {
     "data": {
      "text/html": [
       "<b>Chain 3 Complete</b>: <div>Iteration: 1000 (4ms)</div> <div>Acceptance rate: 0.90</div> <div>E-BFMI: 0.98</div> <div>Step size: 0.04</div> <div>Mass matrix: List(0.007459903980797418, 0.08633683590720055, 0.08339292583783575, 0.16068645220745978, 0.13524627409452142, 0.036206538755906924, 0.3773456404515928, 0.015082365974869063, 0.19382003306252402, 0.0017924928637341503, 0.6531274698874574, 0.1751036307435052, 7.380973020806203E-4, 0.12495897506751313, 0.2782319278842296, 1.1219608330111102, 0.004393067944934971, 0.005283428539400858, 0.06415137465745234, 0.8365956457001291, 0.12271430773227933, 0.12354279992921466, 0.23697700452006945, 0.028438024843706583, 0.1473555735527772, 0.024779246073475366, 0.16722936582942344, 0.019142520601778817, 0.13097258166519138, 0.006412861153945897, 0.02244699701259234, 0.008723258870885132, 0.03450802851246616, 0.010373188572558116, 0.38517297384636323, 0.021247656412776754, 0.08884265882466745, 0.04235305907173872, 0.03867722084493675, 0.3479143309422823, 0.005934037215306608, 0.5667510276624036, 0.2575475996517816, 0.08531780516420974, 0.12061308449106997, 6.063634755422638E-4, 0.5888523038367591, 0.046049748087247225, 0.3238170830569597, 0.003128655317078511, 0.1643159261052549, 0.013500504530850952, 0.16851768013599014, 0.0062808884174977205, 0.29373503259117206)</div> <div>Total gradient evaluations: 3e+05 (18us)</div> <div>Total time: 23s</div>"
      ]
     },
     "metadata": {},
     "output_type": "display_data"
    },
    {
     "data": {
      "text/html": [
       "<b>Chain 4 Complete</b>: <div>Iteration: 1000 (4ms)</div> <div>Acceptance rate: 0.92</div> <div>E-BFMI: 0.88</div> <div>Step size: 0.04</div> <div>Mass matrix: List(0.006172830947587233, 0.012906497182394184, 0.06906275650754212, 0.21697805606091536, 0.08995749990580652, 0.30963610472324354, 0.2742412647420318, 0.4001225096086785, 0.06863962645602689, 0.008907896495454964, 0.06892212702824206, 0.1918406029638312, 0.9375411938787083, 0.06469402054926626, 0.002031489097275012, 0.11801790083784598, 0.342495302752202, 9.84802402849833E-4, 2.8856281520041135E-5, 0.0011771307329198212, 0.007993312409395794, 0.19805739491029573, 0.9386470376269032, 0.028404715589893506, 0.016948228127561374, 0.034385876786324335, 0.07190818200056151, 0.4981890222257441, 0.01442439104890235, 0.09002943014151786, 0.22612320249411613, 0.20033962630089894, 0.0024353542980686204, 0.2548665981587951, 0.048525629500613905, 0.03231077557563833, 0.009903100711450227, 0.05860528305266757, 0.06298857617362111, 0.3875416170941619, 0.06972633517250863, 0.280068089689841, 0.01443272806902761, 0.5560879875894995, 0.6633963462890765, 0.0032766166666703843, 0.26179349738917296, 0.013610811130289389, 0.004556493217821154, 0.12648639622452876, 0.22832526133967768, 0.003928038156486471, 0.6682189728588247, 0.40022535102926765, 0.07473698288275259)</div> <div>Total gradient evaluations: 3e+05 (15us)</div> <div>Total time: 24s</div>"
      ]
     },
     "metadata": {},
     "output_type": "display_data"
    },
    {
     "data": {
      "text/plain": [
       "\u001b[36mtrace\u001b[39m: \u001b[32mTrace\u001b[39m = \u001b[32mTrace[4][1000][55]\u001b[39m"
      ]
     },
     "execution_count": 27,
     "metadata": {},
     "output_type": "execute_result"
    }
   ],
   "source": [
    "val trace = model.sample(EHMC(1000, 1000, 10))"
   ]
  },
  {
   "cell_type": "code",
   "execution_count": 28,
   "metadata": {},
   "outputs": [
    {
     "data": {
      "text/plain": [
       "\u001b[36mres27\u001b[39m: \u001b[32mList\u001b[39m[\u001b[32mTrace\u001b[39m.\u001b[32mDiagnostics\u001b[39m] = \u001b[33mList\u001b[39m(\n",
       "  \u001b[33mDiagnostics\u001b[39m(\u001b[32m1.0063573238555719\u001b[39m, \u001b[32m545.8582488308233\u001b[39m),\n",
       "  \u001b[33mDiagnostics\u001b[39m(\u001b[32m0.9998600206176027\u001b[39m, \u001b[32m432.09654648548724\u001b[39m),\n",
       "  \u001b[33mDiagnostics\u001b[39m(\u001b[32m1.006918233189342\u001b[39m, \u001b[32m623.3174308745627\u001b[39m),\n",
       "  \u001b[33mDiagnostics\u001b[39m(\u001b[32m1.010095938866143\u001b[39m, \u001b[32m393.1472661057085\u001b[39m),\n",
       "  \u001b[33mDiagnostics\u001b[39m(\u001b[32m1.0047717436486954\u001b[39m, \u001b[32m444.73010913215205\u001b[39m),\n",
       "  \u001b[33mDiagnostics\u001b[39m(\u001b[32m1.0102856605586588\u001b[39m, \u001b[32m198.74063823588543\u001b[39m),\n",
       "  \u001b[33mDiagnostics\u001b[39m(\u001b[32m1.0083098890046978\u001b[39m, \u001b[32m91.93606740838862\u001b[39m),\n",
       "  \u001b[33mDiagnostics\u001b[39m(\u001b[32m1.0026701080780436\u001b[39m, \u001b[32m571.2823785450245\u001b[39m),\n",
       "  \u001b[33mDiagnostics\u001b[39m(\u001b[32m1.000293963958087\u001b[39m, \u001b[32m311.81730884573915\u001b[39m),\n",
       "  \u001b[33mDiagnostics\u001b[39m(\u001b[32m0.9999830811447579\u001b[39m, \u001b[32m493.10038162229625\u001b[39m),\n",
       "  \u001b[33mDiagnostics\u001b[39m(\u001b[32m1.002728356084261\u001b[39m, \u001b[32m388.01885787085456\u001b[39m),\n",
       "  \u001b[33mDiagnostics\u001b[39m(\u001b[32m1.005379587586688\u001b[39m, \u001b[32m77.8043048429335\u001b[39m),\n",
       "  \u001b[33mDiagnostics\u001b[39m(\u001b[32m1.0008241593438671\u001b[39m, \u001b[32m337.39549899917546\u001b[39m),\n",
       "  \u001b[33mDiagnostics\u001b[39m(\u001b[32m1.0015266834605892\u001b[39m, \u001b[32m201.20060543042757\u001b[39m),\n",
       "  \u001b[33mDiagnostics\u001b[39m(\u001b[32m1.0058854801059958\u001b[39m, \u001b[32m419.1500094019179\u001b[39m),\n",
       "  \u001b[33mDiagnostics\u001b[39m(\u001b[32m1.0000677048191295\u001b[39m, \u001b[32m570.2104921776296\u001b[39m),\n",
       "  \u001b[33mDiagnostics\u001b[39m(\u001b[32m0.999787142135075\u001b[39m, \u001b[32m706.3265202025582\u001b[39m),\n",
       "  \u001b[33mDiagnostics\u001b[39m(\u001b[32m1.0011435598056135\u001b[39m, \u001b[32m567.8689160902725\u001b[39m),\n",
       "  \u001b[33mDiagnostics\u001b[39m(\u001b[32m1.0104379831603931\u001b[39m, \u001b[32m96.07303505125296\u001b[39m),\n",
       "  \u001b[33mDiagnostics\u001b[39m(\u001b[32m1.0079008358695112\u001b[39m, \u001b[32m415.2561147835057\u001b[39m),\n",
       "  \u001b[33mDiagnostics\u001b[39m(\u001b[32m1.0055018591989409\u001b[39m, \u001b[32m419.1655112791415\u001b[39m),\n",
       "  \u001b[33mDiagnostics\u001b[39m(\u001b[32m1.0014007759027246\u001b[39m, \u001b[32m443.9089459885641\u001b[39m),\n",
       "  \u001b[33mDiagnostics\u001b[39m(\u001b[32m1.0007715854631885\u001b[39m, \u001b[32m239.12496055312633\u001b[39m),\n",
       "  \u001b[33mDiagnostics\u001b[39m(\u001b[32m1.0032150138779163\u001b[39m, \u001b[32m474.0024312079409\u001b[39m),\n",
       "  \u001b[33mDiagnostics\u001b[39m(\u001b[32m1.0046544426624306\u001b[39m, \u001b[32m513.0179381601487\u001b[39m),\n",
       "  \u001b[33mDiagnostics\u001b[39m(\u001b[32m1.004597220046122\u001b[39m, \u001b[32m707.2216593191374\u001b[39m),\n",
       "  \u001b[33mDiagnostics\u001b[39m(\u001b[32m1.0033074508606945\u001b[39m, \u001b[32m579.4222391302478\u001b[39m),\n",
       "  \u001b[33mDiagnostics\u001b[39m(\u001b[32m0.9996018120555202\u001b[39m, \u001b[32m759.323920893804\u001b[39m),\n",
       "  \u001b[33mDiagnostics\u001b[39m(\u001b[32m1.0082422504634385\u001b[39m, \u001b[32m477.0265461836446\u001b[39m),\n",
       "  \u001b[33mDiagnostics\u001b[39m(\u001b[32m1.001271881466417\u001b[39m, \u001b[32m703.1088174822505\u001b[39m),\n",
       "  \u001b[33mDiagnostics\u001b[39m(\u001b[32m1.000539598023592\u001b[39m, \u001b[32m572.603937740691\u001b[39m),\n",
       "  \u001b[33mDiagnostics\u001b[39m(\u001b[32m1.0033545780403825\u001b[39m, \u001b[32m470.2626742003571\u001b[39m),\n",
       "  \u001b[33mDiagnostics\u001b[39m(\u001b[32m1.0029390808354908\u001b[39m, \u001b[32m284.42763143490805\u001b[39m),\n",
       "  \u001b[33mDiagnostics\u001b[39m(\u001b[32m1.0012340260370869\u001b[39m, \u001b[32m329.971214918931\u001b[39m),\n",
       "  \u001b[33mDiagnostics\u001b[39m(\u001b[32m1.0000699992112771\u001b[39m, \u001b[32m420.7653689456615\u001b[39m),\n",
       "  \u001b[33mDiagnostics\u001b[39m(\u001b[32m1.0093577303201315\u001b[39m, \u001b[32m272.69609507213806\u001b[39m),\n",
       "  \u001b[33mDiagnostics\u001b[39m(\u001b[32m1.0031182140066062\u001b[39m, \u001b[32m262.05578611508525\u001b[39m),\n",
       "  \u001b[33mDiagnostics\u001b[39m(\u001b[32m1.00136805118739\u001b[39m, \u001b[32m378.96792279425136\u001b[39m),\n",
       "..."
      ]
     },
     "execution_count": 28,
     "metadata": {},
     "output_type": "execute_result"
    }
   ],
   "source": [
    "trace.diagnostics"
   ]
  },
  {
   "cell_type": "code",
   "execution_count": 29,
   "metadata": {},
   "outputs": [
    {
     "data": {
      "text/plain": [
       "\u001b[36mrtForecasts\u001b[39m: \u001b[32mList\u001b[39m[\u001b[32mSeq\u001b[39m[\u001b[32mDouble\u001b[39m]] = \u001b[33mList\u001b[39m(\n",
       "  \u001b[33mList\u001b[39m(\n",
       "    \u001b[32m2.8702383396963684\u001b[39m,\n",
       "    \u001b[32m3.1347232629223685\u001b[39m,\n",
       "    \u001b[32m3.0326588849386322\u001b[39m,\n",
       "    \u001b[32m3.0067810530157884\u001b[39m,\n",
       "    \u001b[32m2.8347379919197353\u001b[39m,\n",
       "    \u001b[32m2.6271184495429276\u001b[39m,\n",
       "    \u001b[32m2.7240547703732725\u001b[39m,\n",
       "    \u001b[32m2.8362481243599085\u001b[39m,\n",
       "    \u001b[32m2.8801035190968296\u001b[39m,\n",
       "    \u001b[32m2.913796750535411\u001b[39m,\n",
       "    \u001b[32m2.216063192405386\u001b[39m,\n",
       "    \u001b[32m2.1773957942922317\u001b[39m,\n",
       "    \u001b[32m2.019362612569668\u001b[39m,\n",
       "    \u001b[32m2.276750507462997\u001b[39m,\n",
       "    \u001b[32m2.0082788774921663\u001b[39m,\n",
       "    \u001b[32m1.88307940346054\u001b[39m,\n",
       "    \u001b[32m1.7207488699087035\u001b[39m,\n",
       "    \u001b[32m1.7768546839306993\u001b[39m,\n",
       "    \u001b[32m1.8775288145266416\u001b[39m,\n",
       "    \u001b[32m1.709652261547021\u001b[39m,\n",
       "    \u001b[32m1.8806654794593647\u001b[39m,\n",
       "    \u001b[32m2.1682684934916034\u001b[39m,\n",
       "    \u001b[32m1.7272917334697988\u001b[39m,\n",
       "    \u001b[32m1.6911376192401097\u001b[39m,\n",
       "    \u001b[32m1.944964478457335\u001b[39m,\n",
       "    \u001b[32m1.721884701044847\u001b[39m,\n",
       "    \u001b[32m1.760607755027065\u001b[39m,\n",
       "    \u001b[32m1.5947796450475809\u001b[39m,\n",
       "    \u001b[32m1.6647241525719867\u001b[39m,\n",
       "    \u001b[32m1.8922793589890203\u001b[39m,\n",
       "    \u001b[32m1.4605852070490493\u001b[39m,\n",
       "    \u001b[32m1.2630453833417608\u001b[39m,\n",
       "    \u001b[32m1.3597539110651848\u001b[39m,\n",
       "    \u001b[32m1.0928153181583438\u001b[39m,\n",
       "    \u001b[32m0.784855210991654\u001b[39m,\n",
       "    \u001b[32m0.7808249145922634\u001b[39m,\n",
       "    \u001b[32m1.0355852398631133\u001b[39m,\n",
       "..."
      ]
     },
     "execution_count": 29,
     "metadata": {},
     "output_type": "execute_result"
    }
   ],
   "source": [
    "val rtForecasts = trace.predict(rts)"
   ]
  },
  {
   "cell_type": "code",
   "execution_count": 30,
   "metadata": {},
   "outputs": [
    {
     "data": {
      "text/plain": [
       "\u001b[36mmeans\u001b[39m: \u001b[32mcollection\u001b[39m.\u001b[32mimmutable\u001b[39m.\u001b[32mIndexedSeq\u001b[39m[(\u001b[32mInt\u001b[39m, \u001b[32mDouble\u001b[39m)] = \u001b[33mVector\u001b[39m(\n",
       "  (\u001b[32m0\u001b[39m, \u001b[32m3.193154045065354\u001b[39m),\n",
       "  (\u001b[32m1\u001b[39m, \u001b[32m3.156915469902299\u001b[39m),\n",
       "  (\u001b[32m2\u001b[39m, \u001b[32m3.125493461895119\u001b[39m),\n",
       "  (\u001b[32m3\u001b[39m, \u001b[32m3.085290285109272\u001b[39m),\n",
       "  (\u001b[32m4\u001b[39m, \u001b[32m3.047545845398973\u001b[39m),\n",
       "  (\u001b[32m5\u001b[39m, \u001b[32m2.9849404894489444\u001b[39m),\n",
       "  (\u001b[32m6\u001b[39m, \u001b[32m2.957176034074607\u001b[39m),\n",
       "  (\u001b[32m7\u001b[39m, \u001b[32m2.859256450647117\u001b[39m),\n",
       "  (\u001b[32m8\u001b[39m, \u001b[32m2.7903654297263656\u001b[39m),\n",
       "  (\u001b[32m9\u001b[39m, \u001b[32m2.707667565906496\u001b[39m),\n",
       "  (\u001b[32m10\u001b[39m, \u001b[32m2.6051129804579576\u001b[39m),\n",
       "  (\u001b[32m11\u001b[39m, \u001b[32m2.512268104716885\u001b[39m),\n",
       "  (\u001b[32m12\u001b[39m, \u001b[32m2.401644925809652\u001b[39m),\n",
       "  (\u001b[32m13\u001b[39m, \u001b[32m2.3043496409615236\u001b[39m),\n",
       "  (\u001b[32m14\u001b[39m, \u001b[32m2.2461629416612507\u001b[39m),\n",
       "  (\u001b[32m15\u001b[39m, \u001b[32m2.0915778723018277\u001b[39m),\n",
       "  (\u001b[32m16\u001b[39m, \u001b[32m2.0624792582549643\u001b[39m),\n",
       "  (\u001b[32m17\u001b[39m, \u001b[32m2.0226049961473347\u001b[39m),\n",
       "  (\u001b[32m18\u001b[39m, \u001b[32m1.9196553574151567\u001b[39m),\n",
       "  (\u001b[32m19\u001b[39m, \u001b[32m1.8312970988953654\u001b[39m),\n",
       "  (\u001b[32m20\u001b[39m, \u001b[32m1.752236639007656\u001b[39m),\n",
       "  (\u001b[32m21\u001b[39m, \u001b[32m1.959424085521875\u001b[39m),\n",
       "  (\u001b[32m22\u001b[39m, \u001b[32m1.8229922488546364\u001b[39m),\n",
       "  (\u001b[32m23\u001b[39m, \u001b[32m1.8090321158740994\u001b[39m),\n",
       "  (\u001b[32m24\u001b[39m, \u001b[32m1.8770006095255862\u001b[39m),\n",
       "  (\u001b[32m25\u001b[39m, \u001b[32m1.808081970697935\u001b[39m),\n",
       "  (\u001b[32m26\u001b[39m, \u001b[32m1.7544149697143112\u001b[39m),\n",
       "  (\u001b[32m27\u001b[39m, \u001b[32m1.5510382400871243\u001b[39m),\n",
       "  (\u001b[32m28\u001b[39m, \u001b[32m1.5778427584143446\u001b[39m),\n",
       "  (\u001b[32m29\u001b[39m, \u001b[32m1.7440405869258968\u001b[39m),\n",
       "  (\u001b[32m30\u001b[39m, \u001b[32m1.4420216868659372\u001b[39m),\n",
       "  (\u001b[32m31\u001b[39m, \u001b[32m1.2708049974274678\u001b[39m),\n",
       "  (\u001b[32m32\u001b[39m, \u001b[32m1.2964315705974885\u001b[39m),\n",
       "  (\u001b[32m33\u001b[39m, \u001b[32m1.0930056167035032\u001b[39m),\n",
       "  (\u001b[32m34\u001b[39m, \u001b[32m0.8384647789670789\u001b[39m),\n",
       "  (\u001b[32m35\u001b[39m, \u001b[32m0.779716393411628\u001b[39m),\n",
       "  (\u001b[32m36\u001b[39m, \u001b[32m0.8103956262723218\u001b[39m),\n",
       "  (\u001b[32m37\u001b[39m, \u001b[32m0.6989106684330162\u001b[39m),\n",
       "..."
      ]
     },
     "execution_count": 30,
     "metadata": {},
     "output_type": "execute_result"
    }
   ],
   "source": [
    "val means = 0.until(rts.size).map{i => (i, mean(rtForecasts.map(_(i))))}"
   ]
  },
  {
   "cell_type": "code",
   "execution_count": 31,
   "metadata": {},
   "outputs": [
    {
     "data": {
      "text/plain": [
       "\u001b[36mhdpis\u001b[39m: \u001b[32mcollection\u001b[39m.\u001b[32mimmutable\u001b[39m.\u001b[32mIndexedSeq\u001b[39m[(\u001b[32mInt\u001b[39m, (\u001b[32mDouble\u001b[39m, \u001b[32mDouble\u001b[39m))] = \u001b[33mVector\u001b[39m(\n",
       "  (\u001b[32m0\u001b[39m, (\u001b[32m2.355775044541594\u001b[39m, \u001b[32m3.894734109233304\u001b[39m)),\n",
       "  (\u001b[32m1\u001b[39m, (\u001b[32m2.46933945940112\u001b[39m, \u001b[32m3.823193491179944\u001b[39m)),\n",
       "  (\u001b[32m2\u001b[39m, (\u001b[32m2.4481769467283345\u001b[39m, \u001b[32m3.7933620881894656\u001b[39m)),\n",
       "  (\u001b[32m3\u001b[39m, (\u001b[32m2.447930897125194\u001b[39m, \u001b[32m3.7209450388439422\u001b[39m)),\n",
       "  (\u001b[32m4\u001b[39m, (\u001b[32m2.4910085060147615\u001b[39m, \u001b[32m3.605483674498766\u001b[39m)),\n",
       "  (\u001b[32m5\u001b[39m, (\u001b[32m2.42314670151962\u001b[39m, \u001b[32m3.4527857012152774\u001b[39m)),\n",
       "  (\u001b[32m6\u001b[39m, (\u001b[32m2.467492249662988\u001b[39m, \u001b[32m3.4533110575988935\u001b[39m)),\n",
       "  (\u001b[32m7\u001b[39m, (\u001b[32m2.428912985104174\u001b[39m, \u001b[32m3.292142344884597\u001b[39m)),\n",
       "  (\u001b[32m8\u001b[39m, (\u001b[32m2.397694786690578\u001b[39m, \u001b[32m3.2158932083489202\u001b[39m)),\n",
       "  (\u001b[32m9\u001b[39m, (\u001b[32m2.365450438071314\u001b[39m, \u001b[32m3.1329525284479627\u001b[39m)),\n",
       "  (\u001b[32m10\u001b[39m, (\u001b[32m2.2570064342672094\u001b[39m, \u001b[32m2.9765457312105346\u001b[39m)),\n",
       "  (\u001b[32m11\u001b[39m, (\u001b[32m2.1785673536262156\u001b[39m, \u001b[32m2.8529758064752087\u001b[39m)),\n",
       "  (\u001b[32m12\u001b[39m, (\u001b[32m2.0759535794687416\u001b[39m, \u001b[32m2.7223380748313075\u001b[39m)),\n",
       "  (\u001b[32m13\u001b[39m, (\u001b[32m2.033478369295781\u001b[39m, \u001b[32m2.6108078348073245\u001b[39m)),\n",
       "  (\u001b[32m14\u001b[39m, (\u001b[32m1.9678490740504022\u001b[39m, \u001b[32m2.5355596422997015\u001b[39m)),\n",
       "  (\u001b[32m15\u001b[39m, (\u001b[32m1.8269502314258015\u001b[39m, \u001b[32m2.359691843314714\u001b[39m)),\n",
       "  (\u001b[32m16\u001b[39m, (\u001b[32m1.8107041077431507\u001b[39m, \u001b[32m2.3328357516640756\u001b[39m)),\n",
       "  (\u001b[32m17\u001b[39m, (\u001b[32m1.7841276754074196\u001b[39m, \u001b[32m2.2804566260101513\u001b[39m)),\n",
       "  (\u001b[32m18\u001b[39m, (\u001b[32m1.6579036244352525\u001b[39m, \u001b[32m2.1448202042388553\u001b[39m)),\n",
       "  (\u001b[32m19\u001b[39m, (\u001b[32m1.604467454981454\u001b[39m, \u001b[32m2.0746603135233928\u001b[39m)),\n",
       "  (\u001b[32m20\u001b[39m, (\u001b[32m1.5171855294550647\u001b[39m, \u001b[32m1.960290598155336\u001b[39m)),\n",
       "  (\u001b[32m21\u001b[39m, (\u001b[32m1.7585626884247794\u001b[39m, \u001b[32m2.1586084336389826\u001b[39m)),\n",
       "  (\u001b[32m22\u001b[39m, (\u001b[32m1.6175221065303422\u001b[39m, \u001b[32m2.0174487684280304\u001b[39m)),\n",
       "  (\u001b[32m23\u001b[39m, (\u001b[32m1.6093295217518135\u001b[39m, \u001b[32m1.9822086364834057\u001b[39m)),\n",
       "  (\u001b[32m24\u001b[39m, (\u001b[32m1.7006819740047021\u001b[39m, \u001b[32m2.0932847578400566\u001b[39m)),\n",
       "  (\u001b[32m25\u001b[39m, (\u001b[32m1.6336063007613963\u001b[39m, \u001b[32m1.988180871147717\u001b[39m)),\n",
       "  (\u001b[32m26\u001b[39m, (\u001b[32m1.5891373620392784\u001b[39m, \u001b[32m1.9318366396934252\u001b[39m)),\n",
       "  (\u001b[32m27\u001b[39m, (\u001b[32m1.4097706243612023\u001b[39m, \u001b[32m1.7146365040728488\u001b[39m)),\n",
       "  (\u001b[32m28\u001b[39m, (\u001b[32m1.422897706022781\u001b[39m, \u001b[32m1.7250956273066058\u001b[39m)),\n",
       "  (\u001b[32m29\u001b[39m, (\u001b[32m1.5950865796226787\u001b[39m, \u001b[32m1.8978224880409875\u001b[39m)),\n",
       "  (\u001b[32m30\u001b[39m, (\u001b[32m1.292611449284928\u001b[39m, \u001b[32m1.5793337976147515\u001b[39m)),\n",
       "  (\u001b[32m31\u001b[39m, (\u001b[32m1.130365366789815\u001b[39m, \u001b[32m1.4048830556677114\u001b[39m)),\n",
       "  (\u001b[32m32\u001b[39m, (\u001b[32m1.1497700786726355\u001b[39m, \u001b[32m1.4353253748003294\u001b[39m)),\n",
       "  (\u001b[32m33\u001b[39m, (\u001b[32m0.9371921379990875\u001b[39m, \u001b[32m1.2250542429668418\u001b[39m)),\n",
       "  (\u001b[32m34\u001b[39m, (\u001b[32m0.7102571851771633\u001b[39m, \u001b[32m0.9802219400019778\u001b[39m)),\n",
       "  (\u001b[32m35\u001b[39m, (\u001b[32m0.6477351618991462\u001b[39m, \u001b[32m0.9220910432034684\u001b[39m)),\n",
       "  (\u001b[32m36\u001b[39m, (\u001b[32m0.657297788759841\u001b[39m, \u001b[32m0.9628348569151638\u001b[39m)),\n",
       "  (\u001b[32m37\u001b[39m, (\u001b[32m0.525528220888774\u001b[39m, \u001b[32m0.8574612447322874\u001b[39m)),\n",
       "..."
      ]
     },
     "execution_count": 31,
     "metadata": {},
     "output_type": "execute_result"
    }
   ],
   "source": [
    "val hdpis = 0.until(rts.size).map{i => (i, hdpi(rtForecasts.map(_(i))))}"
   ]
  },
  {
   "cell_type": "markdown",
   "metadata": {},
   "source": [
    "Presumably because I refused to smooth, this output is awful "
   ]
  },
  {
   "cell_type": "code",
   "execution_count": 32,
   "metadata": {},
   "outputs": [
    {
     "data": {
      "image/png": "[encoded data removed]"
     },
     "metadata": {
      "height": "1600",
      "width": "1600"
     },
     "output_type": "display_data"
    }
   ],
   "source": [
    "show(\"t\", \"Rt\", line(means), shade(hdpis))"
   ]
  },
  {
   "cell_type": "code",
   "execution_count": null,
   "metadata": {},
   "outputs": [],
   "source": []
  }
 ],
 "metadata": {
  "kernelspec": {
   "display_name": "Rainier (Scala 2.12)",
   "language": "scala",
   "name": "rainier"
  },
  "language_info": {
   "codemirror_mode": "text/x-scala",
   "file_extension": ".scala",
   "mimetype": "text/x-scala",
   "name": "scala",
   "nbconvert_exporter": "script",
   "version": "2.12.10"
  }
 },
 "nbformat": 4,
 "nbformat_minor": 2
}
