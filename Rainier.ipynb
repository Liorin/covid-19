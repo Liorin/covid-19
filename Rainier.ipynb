{
 "cells": [
  {
   "cell_type": "code",
   "execution_count": 1,
   "metadata": {},
   "outputs": [
    {
     "name": "stderr",
     "output_type": "stream",
     "text": [
      "Downloading https://repo1.maven.org/maven2/com/stripe/rainier-core_2.12/0.3.2/rainier-core_2.12-0.3.2.pom\n",
      "Downloaded https://repo1.maven.org/maven2/com/stripe/rainier-core_2.12/0.3.2/rainier-core_2.12-0.3.2.pom\n",
      "Downloading https://repo1.maven.org/maven2/com/stripe/rainier-core_2.12/0.3.2/rainier-core_2.12-0.3.2.pom.sha1\n",
      "Downloaded https://repo1.maven.org/maven2/com/stripe/rainier-core_2.12/0.3.2/rainier-core_2.12-0.3.2.pom.sha1\n",
      "Downloading https://dl.bintray.com/cibotech/public/com/stripe/rainier-core_2.12/0.3.2/rainier-core_2.12-0.3.2.pom\n",
      "Downloaded https://dl.bintray.com/cibotech/public/com/stripe/rainier-core_2.12/0.3.2/rainier-core_2.12-0.3.2.pom\n",
      "Downloading https://dl.bintray.com/cibotech/public/com/stripe/rainier-core_2.12/0.3.2/rainier-core_2.12-0.3.2.pom.sha1\n",
      "Downloaded https://dl.bintray.com/cibotech/public/com/stripe/rainier-core_2.12/0.3.2/rainier-core_2.12-0.3.2.pom.sha1\n",
      "Downloading https://dl.bintray.com/rainier/maven/com/stripe/rainier-core_2.12/0.3.2/rainier-core_2.12-0.3.2.pom\n",
      "Downloaded https://dl.bintray.com/rainier/maven/com/stripe/rainier-core_2.12/0.3.2/rainier-core_2.12-0.3.2.pom\n",
      "Downloading https://repo1.maven.org/maven2/com/stripe/rainier-compute_2.12/0.3.2/rainier-compute_2.12-0.3.2.pom\n",
      "Downloading https://repo1.maven.org/maven2/com/stripe/rainier-sampler_2.12/0.3.2/rainier-sampler_2.12-0.3.2.pom\n",
      "Downloaded https://repo1.maven.org/maven2/com/stripe/rainier-compute_2.12/0.3.2/rainier-compute_2.12-0.3.2.pom\n",
      "Downloading https://repo1.maven.org/maven2/com/stripe/rainier-compute_2.12/0.3.2/rainier-compute_2.12-0.3.2.pom.sha1\n",
      "Downloaded https://repo1.maven.org/maven2/com/stripe/rainier-sampler_2.12/0.3.2/rainier-sampler_2.12-0.3.2.pom\n",
      "Downloading https://repo1.maven.org/maven2/com/stripe/rainier-sampler_2.12/0.3.2/rainier-sampler_2.12-0.3.2.pom.sha1\n",
      "Downloaded https://repo1.maven.org/maven2/com/stripe/rainier-compute_2.12/0.3.2/rainier-compute_2.12-0.3.2.pom.sha1\n",
      "Downloading https://dl.bintray.com/cibotech/public/com/stripe/rainier-compute_2.12/0.3.2/rainier-compute_2.12-0.3.2.pom\n",
      "Downloaded https://dl.bintray.com/cibotech/public/com/stripe/rainier-compute_2.12/0.3.2/rainier-compute_2.12-0.3.2.pom\n",
      "Downloading https://dl.bintray.com/cibotech/public/com/stripe/rainier-compute_2.12/0.3.2/rainier-compute_2.12-0.3.2.pom.sha1\n",
      "Downloaded https://repo1.maven.org/maven2/com/stripe/rainier-sampler_2.12/0.3.2/rainier-sampler_2.12-0.3.2.pom.sha1\n",
      "Downloaded https://dl.bintray.com/cibotech/public/com/stripe/rainier-compute_2.12/0.3.2/rainier-compute_2.12-0.3.2.pom.sha1\n",
      "Downloading https://dl.bintray.com/cibotech/public/com/stripe/rainier-sampler_2.12/0.3.2/rainier-sampler_2.12-0.3.2.pom\n",
      "Downloading https://dl.bintray.com/rainier/maven/com/stripe/rainier-compute_2.12/0.3.2/rainier-compute_2.12-0.3.2.pom\n",
      "Downloaded https://dl.bintray.com/cibotech/public/com/stripe/rainier-sampler_2.12/0.3.2/rainier-sampler_2.12-0.3.2.pom\n",
      "Downloading https://dl.bintray.com/cibotech/public/com/stripe/rainier-sampler_2.12/0.3.2/rainier-sampler_2.12-0.3.2.pom.sha1\n",
      "Downloaded https://dl.bintray.com/cibotech/public/com/stripe/rainier-sampler_2.12/0.3.2/rainier-sampler_2.12-0.3.2.pom.sha1\n",
      "Downloading https://dl.bintray.com/rainier/maven/com/stripe/rainier-sampler_2.12/0.3.2/rainier-sampler_2.12-0.3.2.pom\n",
      "Downloaded https://dl.bintray.com/rainier/maven/com/stripe/rainier-sampler_2.12/0.3.2/rainier-sampler_2.12-0.3.2.pom\n",
      "Downloaded https://dl.bintray.com/rainier/maven/com/stripe/rainier-compute_2.12/0.3.2/rainier-compute_2.12-0.3.2.pom\n",
      "Downloading https://repo1.maven.org/maven2/com/stripe/rainier-base_2.12/0.3.2/rainier-base_2.12-0.3.2.pom\n",
      "Downloading https://repo1.maven.org/maven2/com/stripe/rainier-shaded-asm_6.0/0.2.1/rainier-shaded-asm_6.0-0.2.1.pom\n",
      "Downloaded https://repo1.maven.org/maven2/com/stripe/rainier-shaded-asm_6.0/0.2.1/rainier-shaded-asm_6.0-0.2.1.pom\n",
      "Downloaded https://repo1.maven.org/maven2/com/stripe/rainier-base_2.12/0.3.2/rainier-base_2.12-0.3.2.pom\n",
      "Downloading https://repo1.maven.org/maven2/com/stripe/rainier-base_2.12/0.3.2/rainier-base_2.12-0.3.2.pom.sha1\n",
      "Downloaded https://repo1.maven.org/maven2/com/stripe/rainier-base_2.12/0.3.2/rainier-base_2.12-0.3.2.pom.sha1\n",
      "Downloading https://dl.bintray.com/cibotech/public/com/stripe/rainier-base_2.12/0.3.2/rainier-base_2.12-0.3.2.pom\n",
      "Downloaded https://dl.bintray.com/cibotech/public/com/stripe/rainier-base_2.12/0.3.2/rainier-base_2.12-0.3.2.pom\n",
      "Downloading https://dl.bintray.com/cibotech/public/com/stripe/rainier-base_2.12/0.3.2/rainier-base_2.12-0.3.2.pom.sha1\n",
      "Downloaded https://dl.bintray.com/cibotech/public/com/stripe/rainier-base_2.12/0.3.2/rainier-base_2.12-0.3.2.pom.sha1\n",
      "Downloading https://dl.bintray.com/rainier/maven/com/stripe/rainier-base_2.12/0.3.2/rainier-base_2.12-0.3.2.pom\n",
      "Downloaded https://dl.bintray.com/rainier/maven/com/stripe/rainier-base_2.12/0.3.2/rainier-base_2.12-0.3.2.pom\n",
      "Downloading https://repo1.maven.org/maven2/com/google/flogger/flogger-system-backend/0.3.1/flogger-system-backend-0.3.1.pom\n",
      "Downloading https://repo1.maven.org/maven2/com/google/flogger/flogger/0.3.1/flogger-0.3.1.pom\n",
      "Downloaded https://repo1.maven.org/maven2/com/google/flogger/flogger-system-backend/0.3.1/flogger-system-backend-0.3.1.pom\n",
      "Downloaded https://repo1.maven.org/maven2/com/google/flogger/flogger/0.3.1/flogger-0.3.1.pom\n",
      "Downloading https://repo1.maven.org/maven2/com/google/code/findbugs/jsr305/3.0.1/jsr305-3.0.1.pom\n",
      "Downloaded https://repo1.maven.org/maven2/com/google/code/findbugs/jsr305/3.0.1/jsr305-3.0.1.pom\n",
      "Downloading https://repo1.maven.org/maven2/com/google/flogger/flogger/0.3.1/flogger-0.3.1-sources.jar\n",
      "Downloading https://dl.bintray.com/rainier/maven/com/stripe/rainier-base_2.12/0.3.2/rainier-base_2.12-0.3.2.jar\n",
      "Downloading https://repo1.maven.org/maven2/com/google/flogger/flogger-system-backend/0.3.1/flogger-system-backend-0.3.1.jar\n",
      "Downloading https://repo1.maven.org/maven2/com/stripe/rainier-shaded-asm_6.0/0.2.1/rainier-shaded-asm_6.0-0.2.1-sources.jar\n",
      "Downloading https://dl.bintray.com/rainier/maven/com/stripe/rainier-core_2.12/0.3.2/rainier-core_2.12-0.3.2.jar\n",
      "Downloaded https://repo1.maven.org/maven2/com/google/flogger/flogger-system-backend/0.3.1/flogger-system-backend-0.3.1.jar\n",
      "Downloading https://dl.bintray.com/rainier/maven/com/stripe/rainier-base_2.12/0.3.2/rainier-base_2.12-0.3.2-sources.jar\n",
      "Downloading https://repo1.maven.org/maven2/com/google/code/findbugs/jsr305/3.0.1/jsr305-3.0.1-sources.jar\n",
      "Downloaded https://repo1.maven.org/maven2/com/google/code/findbugs/jsr305/3.0.1/jsr305-3.0.1-sources.jar\n",
      "Downloading https://repo1.maven.org/maven2/com/google/code/findbugs/jsr305/3.0.1/jsr305-3.0.1.jar\n",
      "Downloaded https://repo1.maven.org/maven2/com/google/flogger/flogger/0.3.1/flogger-0.3.1-sources.jar\n",
      "Downloading https://dl.bintray.com/rainier/maven/com/stripe/rainier-compute_2.12/0.3.2/rainier-compute_2.12-0.3.2.jar\n",
      "Downloaded https://repo1.maven.org/maven2/com/google/code/findbugs/jsr305/3.0.1/jsr305-3.0.1.jar\n",
      "Downloading https://dl.bintray.com/rainier/maven/com/stripe/rainier-sampler_2.12/0.3.2/rainier-sampler_2.12-0.3.2.jar\n",
      "Downloaded https://repo1.maven.org/maven2/com/stripe/rainier-shaded-asm_6.0/0.2.1/rainier-shaded-asm_6.0-0.2.1-sources.jar\n",
      "Downloading https://dl.bintray.com/rainier/maven/com/stripe/rainier-compute_2.12/0.3.2/rainier-compute_2.12-0.3.2-sources.jar\n",
      "Downloaded https://dl.bintray.com/rainier/maven/com/stripe/rainier-base_2.12/0.3.2/rainier-base_2.12-0.3.2.jar\n",
      "Downloading https://dl.bintray.com/rainier/maven/com/stripe/rainier-core_2.12/0.3.2/rainier-core_2.12-0.3.2-sources.jar\n",
      "Downloaded https://dl.bintray.com/rainier/maven/com/stripe/rainier-base_2.12/0.3.2/rainier-base_2.12-0.3.2-sources.jar\n",
      "Downloading https://dl.bintray.com/rainier/maven/com/stripe/rainier-sampler_2.12/0.3.2/rainier-sampler_2.12-0.3.2-sources.jar\n",
      "Downloaded https://dl.bintray.com/rainier/maven/com/stripe/rainier-compute_2.12/0.3.2/rainier-compute_2.12-0.3.2-sources.jar\n",
      "Downloading https://repo1.maven.org/maven2/com/google/flogger/flogger-system-backend/0.3.1/flogger-system-backend-0.3.1-sources.jar\n",
      "Downloaded https://dl.bintray.com/rainier/maven/com/stripe/rainier-core_2.12/0.3.2/rainier-core_2.12-0.3.2-sources.jar\n",
      "Downloading https://repo1.maven.org/maven2/com/google/flogger/flogger/0.3.1/flogger-0.3.1.jar\n"
     ]
    },
    {
     "name": "stderr",
     "output_type": "stream",
     "text": [
      "Downloaded https://repo1.maven.org/maven2/com/google/flogger/flogger-system-backend/0.3.1/flogger-system-backend-0.3.1-sources.jar\n",
      "Downloading https://repo1.maven.org/maven2/com/stripe/rainier-shaded-asm_6.0/0.2.1/rainier-shaded-asm_6.0-0.2.1.jar\n",
      "Downloaded https://dl.bintray.com/rainier/maven/com/stripe/rainier-sampler_2.12/0.3.2/rainier-sampler_2.12-0.3.2.jar\n",
      "Downloaded https://repo1.maven.org/maven2/com/google/flogger/flogger/0.3.1/flogger-0.3.1.jar\n",
      "Downloaded https://dl.bintray.com/rainier/maven/com/stripe/rainier-sampler_2.12/0.3.2/rainier-sampler_2.12-0.3.2-sources.jar\n",
      "Downloaded https://repo1.maven.org/maven2/com/stripe/rainier-shaded-asm_6.0/0.2.1/rainier-shaded-asm_6.0-0.2.1.jar\n",
      "Downloaded https://dl.bintray.com/rainier/maven/com/stripe/rainier-core_2.12/0.3.2/rainier-core_2.12-0.3.2.jar\n",
      "Downloading https://dl.bintray.com/rainier/maven/com/stripe/rainier-core_2.12/0.3.2/rainier-core_2.12-0.3.2.jar.sha1\n",
      "Downloaded https://dl.bintray.com/rainier/maven/com/stripe/rainier-core_2.12/0.3.2/rainier-core_2.12-0.3.2.jar.sha1\n",
      "Downloaded https://dl.bintray.com/rainier/maven/com/stripe/rainier-compute_2.12/0.3.2/rainier-compute_2.12-0.3.2.jar\n",
      "Downloading https://dl.bintray.com/rainier/maven/com/stripe/rainier-compute_2.12/0.3.2/rainier-compute_2.12-0.3.2.jar.sha1\n",
      "Downloaded https://dl.bintray.com/rainier/maven/com/stripe/rainier-compute_2.12/0.3.2/rainier-compute_2.12-0.3.2.jar.sha1\n",
      "Downloading https://repo1.maven.org/maven2/com/stripe/rainier-notebook_2.12/0.3.2/rainier-notebook_2.12-0.3.2.pom\n",
      "Downloaded https://repo1.maven.org/maven2/com/stripe/rainier-notebook_2.12/0.3.2/rainier-notebook_2.12-0.3.2.pom\n",
      "Downloading https://repo1.maven.org/maven2/com/stripe/rainier-notebook_2.12/0.3.2/rainier-notebook_2.12-0.3.2.pom.sha1\n",
      "Downloaded https://repo1.maven.org/maven2/com/stripe/rainier-notebook_2.12/0.3.2/rainier-notebook_2.12-0.3.2.pom.sha1\n",
      "Downloading https://dl.bintray.com/cibotech/public/com/stripe/rainier-notebook_2.12/0.3.2/rainier-notebook_2.12-0.3.2.pom\n",
      "Downloaded https://dl.bintray.com/cibotech/public/com/stripe/rainier-notebook_2.12/0.3.2/rainier-notebook_2.12-0.3.2.pom\n",
      "Downloading https://dl.bintray.com/cibotech/public/com/stripe/rainier-notebook_2.12/0.3.2/rainier-notebook_2.12-0.3.2.pom.sha1\n",
      "Downloaded https://dl.bintray.com/cibotech/public/com/stripe/rainier-notebook_2.12/0.3.2/rainier-notebook_2.12-0.3.2.pom.sha1\n",
      "Downloading https://dl.bintray.com/rainier/maven/com/stripe/rainier-notebook_2.12/0.3.2/rainier-notebook_2.12-0.3.2.pom\n",
      "Downloaded https://dl.bintray.com/rainier/maven/com/stripe/rainier-notebook_2.12/0.3.2/rainier-notebook_2.12-0.3.2.pom\n",
      "Downloading https://repo1.maven.org/maven2/org/scalameta/scalameta_2.12/4.2.3/scalameta_2.12-4.2.3.pom\n",
      "Downloading https://repo1.maven.org/maven2/com/lihaoyi/ammonite-repl_2.12.10/2.0.4/ammonite-repl_2.12.10-2.0.4.pom\n",
      "Downloading https://repo1.maven.org/maven2/org/scalameta/mdoc_2.12/2.1.1/mdoc_2.12-2.1.1.pom\n",
      "Downloading https://repo1.maven.org/maven2/com/cibo/evilplot_2.12/0.6.0/evilplot_2.12-0.6.0.pom\n",
      "Downloaded https://repo1.maven.org/maven2/org/scalameta/mdoc_2.12/2.1.1/mdoc_2.12-2.1.1.pom\n",
      "Downloaded https://repo1.maven.org/maven2/com/lihaoyi/ammonite-repl_2.12.10/2.0.4/ammonite-repl_2.12.10-2.0.4.pom\n",
      "Downloaded https://repo1.maven.org/maven2/org/scalameta/scalameta_2.12/4.2.3/scalameta_2.12-4.2.3.pom\n",
      "Downloaded https://repo1.maven.org/maven2/com/cibo/evilplot_2.12/0.6.0/evilplot_2.12-0.6.0.pom\n",
      "Downloading https://repo1.maven.org/maven2/com/cibo/evilplot_2.12/0.6.0/evilplot_2.12-0.6.0.pom.sha1\n",
      "Downloaded https://repo1.maven.org/maven2/com/cibo/evilplot_2.12/0.6.0/evilplot_2.12-0.6.0.pom.sha1\n",
      "Downloading https://dl.bintray.com/cibotech/public/com/cibo/evilplot_2.12/0.6.0/evilplot_2.12-0.6.0.pom\n",
      "Downloaded https://dl.bintray.com/cibotech/public/com/cibo/evilplot_2.12/0.6.0/evilplot_2.12-0.6.0.pom\n",
      "Downloading https://repo1.maven.org/maven2/org/scalameta/scalameta_2.12/4.3.0/scalameta_2.12-4.3.0.pom\n",
      "Downloading https://repo1.maven.org/maven2/io/methvin/directory-watcher/0.9.6/directory-watcher-0.9.6.pom\n",
      "Downloading https://repo1.maven.org/maven2/io/circe/circe-parser_2.12/0.9.0/circe-parser_2.12-0.9.0.pom\n",
      "Downloading https://repo1.maven.org/maven2/com/lihaoyi/ammonite-interp_2.12.10/2.0.4/ammonite-interp_2.12.10-2.0.4.pom\n",
      "Downloading https://repo1.maven.org/maven2/org/scalameta/parsers_2.12/4.2.3/parsers_2.12-4.2.3.pom\n",
      "Downloading https://repo1.maven.org/maven2/io/undertow/undertow-core/2.0.28.Final/undertow-core-2.0.28.Final.pom\n",
      "Downloaded https://repo1.maven.org/maven2/org/scalameta/scalameta_2.12/4.3.0/scalameta_2.12-4.3.0.pom\n",
      "Downloading https://repo1.maven.org/maven2/com/lihaoyi/ammonite-runtime_2.12.10/2.0.4/ammonite-runtime_2.12.10-2.0.4.pom\n",
      "Downloaded https://repo1.maven.org/maven2/com/lihaoyi/ammonite-interp_2.12.10/2.0.4/ammonite-interp_2.12.10-2.0.4.pom\n",
      "Downloaded https://repo1.maven.org/maven2/io/circe/circe-parser_2.12/0.9.0/circe-parser_2.12-0.9.0.pom\n",
      "Downloading https://repo1.maven.org/maven2/io/circe/circe-core_2.12/0.9.0/circe-core_2.12-0.9.0.pom\n",
      "Downloading https://repo1.maven.org/maven2/com/lihaoyi/ammonite-terminal_2.12/2.0.4/ammonite-terminal_2.12-2.0.4.pom\n",
      "Downloaded https://repo1.maven.org/maven2/io/methvin/directory-watcher/0.9.6/directory-watcher-0.9.6.pom\n",
      "Downloading https://repo1.maven.org/maven2/com/googlecode/java-diff-utils/diffutils/1.3.0/diffutils-1.3.0.pom\n",
      "Downloaded https://repo1.maven.org/maven2/com/lihaoyi/ammonite-runtime_2.12.10/2.0.4/ammonite-runtime_2.12.10-2.0.4.pom\n",
      "Downloading https://repo1.maven.org/maven2/org/scala-lang/scalap/2.12.9/scalap-2.12.9.pom\n",
      "Downloaded https://repo1.maven.org/maven2/com/googlecode/java-diff-utils/diffutils/1.3.0/diffutils-1.3.0.pom\n",
      "Downloading https://repo1.maven.org/maven2/com/lihaoyi/ammonite-ops_2.12/2.0.4/ammonite-ops_2.12-2.0.4.pom\n",
      "Downloaded https://repo1.maven.org/maven2/com/lihaoyi/ammonite-terminal_2.12/2.0.4/ammonite-terminal_2.12-2.0.4.pom\n",
      "Downloading https://repo1.maven.org/maven2/me/xdrop/fuzzywuzzy/1.2.0/fuzzywuzzy-1.2.0.pom\n",
      "Downloaded https://repo1.maven.org/maven2/io/circe/circe-core_2.12/0.9.0/circe-core_2.12-0.9.0.pom\n",
      "Downloading https://repo1.maven.org/maven2/org/jboss/xnio/xnio-nio/3.7.7.Final/xnio-nio-3.7.7.Final.pom\n",
      "Downloaded https://repo1.maven.org/maven2/org/scala-lang/scalap/2.12.9/scalap-2.12.9.pom\n",
      "Downloaded https://repo1.maven.org/maven2/org/scalameta/parsers_2.12/4.2.3/parsers_2.12-4.2.3.pom\n",
      "Downloading https://repo1.maven.org/maven2/com/lihaoyi/ammonite-util_2.12/2.0.4/ammonite-util_2.12-2.0.4.pom\n",
      "Downloading https://repo1.maven.org/maven2/org/scalameta/mdoc-runtime_2.12/2.1.1/mdoc-runtime_2.12-2.1.1.pom\n",
      "Downloaded https://repo1.maven.org/maven2/me/xdrop/fuzzywuzzy/1.2.0/fuzzywuzzy-1.2.0.pom\n",
      "Downloading https://repo1.maven.org/maven2/org/scalactic/scalactic_2.12/3.0.1/scalactic_2.12-3.0.1.pom\n",
      "Downloaded https://repo1.maven.org/maven2/org/jboss/xnio/xnio-nio/3.7.7.Final/xnio-nio-3.7.7.Final.pom\n",
      "Downloaded https://repo1.maven.org/maven2/com/lihaoyi/ammonite-ops_2.12/2.0.4/ammonite-ops_2.12-2.0.4.pom\n",
      "Downloading https://repo1.maven.org/maven2/com/vladsch/flexmark/flexmark-all/0.40.34/flexmark-all-0.40.34.pom\n",
      "Downloading https://repo1.maven.org/maven2/org/slf4j/slf4j-api/1.8.0-beta4/slf4j-api-1.8.0-beta4.pom\n",
      "Downloaded https://repo1.maven.org/maven2/com/lihaoyi/ammonite-util_2.12/2.0.4/ammonite-util_2.12-2.0.4.pom\n",
      "Downloading https://repo1.maven.org/maven2/com/geirsson/metaconfig-typesafe-config_2.12/0.9.4/metaconfig-typesafe-config_2.12-0.9.4.pom\n",
      "Downloaded https://repo1.maven.org/maven2/io/undertow/undertow-core/2.0.28.Final/undertow-core-2.0.28.Final.pom\n",
      "Downloading https://repo1.maven.org/maven2/io/circe/circe-generic_2.12/0.9.0/circe-generic_2.12-0.9.0.pom\n",
      "Downloaded https://repo1.maven.org/maven2/org/scalameta/mdoc-runtime_2.12/2.1.1/mdoc-runtime_2.12-2.1.1.pom\n",
      "Downloaded https://repo1.maven.org/maven2/org/scalactic/scalactic_2.12/3.0.1/scalactic_2.12-3.0.1.pom\n",
      "Downloaded https://repo1.maven.org/maven2/com/vladsch/flexmark/flexmark-all/0.40.34/flexmark-all-0.40.34.pom\n",
      "Downloading https://repo1.maven.org/maven2/io/circe/circe-generic-extras_2.12/0.9.0/circe-generic-extras_2.12-0.9.0.pom\n",
      "Downloaded https://repo1.maven.org/maven2/org/slf4j/slf4j-api/1.8.0-beta4/slf4j-api-1.8.0-beta4.pom\n"
     ]
    },
    {
     "name": "stderr",
     "output_type": "stream",
     "text": [
      "Downloaded https://repo1.maven.org/maven2/com/geirsson/metaconfig-typesafe-config_2.12/0.9.4/metaconfig-typesafe-config_2.12-0.9.4.pom\n",
      "Downloaded https://repo1.maven.org/maven2/io/circe/circe-generic_2.12/0.9.0/circe-generic_2.12-0.9.0.pom\n",
      "Downloaded https://repo1.maven.org/maven2/io/circe/circe-generic-extras_2.12/0.9.0/circe-generic-extras_2.12-0.9.0.pom\n",
      "Downloading https://repo1.maven.org/maven2/org/jboss/xnio/xnio-all/3.7.7.Final/xnio-all-3.7.7.Final.pom\n",
      "Downloading https://repo1.maven.org/maven2/org/slf4j/slf4j-parent/1.8.0-beta4/slf4j-parent-1.8.0-beta4.pom\n",
      "Downloading https://repo1.maven.org/maven2/io/undertow/undertow-parent/2.0.28.Final/undertow-parent-2.0.28.Final.pom\n",
      "Downloading https://repo1.maven.org/maven2/com/vladsch/flexmark/flexmark-java/0.40.34/flexmark-java-0.40.34.pom\n",
      "Downloaded https://repo1.maven.org/maven2/org/jboss/xnio/xnio-all/3.7.7.Final/xnio-all-3.7.7.Final.pom\n",
      "Downloaded https://repo1.maven.org/maven2/org/slf4j/slf4j-parent/1.8.0-beta4/slf4j-parent-1.8.0-beta4.pom\n",
      "Downloaded https://repo1.maven.org/maven2/com/vladsch/flexmark/flexmark-java/0.40.34/flexmark-java-0.40.34.pom\n",
      "Downloaded https://repo1.maven.org/maven2/io/undertow/undertow-parent/2.0.28.Final/undertow-parent-2.0.28.Final.pom\n",
      "Downloading https://repo1.maven.org/maven2/org/jboss/jboss-parent/35/jboss-parent-35.pom\n",
      "Downloaded https://repo1.maven.org/maven2/org/jboss/jboss-parent/35/jboss-parent-35.pom\n",
      "Downloading https://repo1.maven.org/maven2/com/vladsch/flexmark/flexmark-profile-pegdown/0.40.34/flexmark-profile-pegdown-0.40.34.pom\n",
      "Downloading https://repo1.maven.org/maven2/com/lihaoyi/requests_2.12/0.5.0/requests_2.12-0.5.0.pom\n",
      "Downloading https://repo1.maven.org/maven2/com/vladsch/flexmark/flexmark-ext-aside/0.40.34/flexmark-ext-aside-0.40.34.pom\n",
      "Downloading https://repo1.maven.org/maven2/com/vladsch/flexmark/flexmark-ext-autolink/0.40.34/flexmark-ext-autolink-0.40.34.pom\n",
      "Downloading https://repo1.maven.org/maven2/com/vladsch/flexmark/flexmark-ext-gfm-users/0.40.34/flexmark-ext-gfm-users-0.40.34.pom\n",
      "Downloading https://repo1.maven.org/maven2/com/vladsch/flexmark/flexmark-ext-tables/0.40.34/flexmark-ext-tables-0.40.34.pom\n",
      "Downloaded https://repo1.maven.org/maven2/com/vladsch/flexmark/flexmark-profile-pegdown/0.40.34/flexmark-profile-pegdown-0.40.34.pom\n",
      "Downloading https://repo1.maven.org/maven2/com/vladsch/flexmark/flexmark-ext-gfm-tasklist/0.40.34/flexmark-ext-gfm-tasklist-0.40.34.pom\n",
      "Downloaded https://repo1.maven.org/maven2/com/vladsch/flexmark/flexmark-ext-aside/0.40.34/flexmark-ext-aside-0.40.34.pom\n",
      "Downloaded https://repo1.maven.org/maven2/com/vladsch/flexmark/flexmark-ext-gfm-users/0.40.34/flexmark-ext-gfm-users-0.40.34.pom\n",
      "Downloading https://repo1.maven.org/maven2/com/vladsch/flexmark/flexmark-ext-escaped-character/0.40.34/flexmark-ext-escaped-character-0.40.34.pom\n",
      "Downloading https://repo1.maven.org/maven2/com/vladsch/flexmark/flexmark-ext-gitlab/0.40.34/flexmark-ext-gitlab-0.40.34.pom\n",
      "Downloaded https://repo1.maven.org/maven2/com/vladsch/flexmark/flexmark-ext-tables/0.40.34/flexmark-ext-tables-0.40.34.pom\n",
      "Downloading https://repo1.maven.org/maven2/com/lihaoyi/scalaparse_2.12/2.2.3/scalaparse_2.12-2.2.3.pom\n",
      "Downloaded https://repo1.maven.org/maven2/com/vladsch/flexmark/flexmark-ext-autolink/0.40.34/flexmark-ext-autolink-0.40.34.pom\n",
      "Downloading https://repo1.maven.org/maven2/com/vladsch/flexmark/flexmark-ext-ins/0.40.34/flexmark-ext-ins-0.40.34.pom\n",
      "Downloaded https://repo1.maven.org/maven2/com/vladsch/flexmark/flexmark-ext-escaped-character/0.40.34/flexmark-ext-escaped-character-0.40.34.pom\n",
      "Downloading https://repo1.maven.org/maven2/com/vladsch/flexmark/flexmark-ext-macros/0.40.34/flexmark-ext-macros-0.40.34.pom\n",
      "Downloaded https://repo1.maven.org/maven2/com/vladsch/flexmark/flexmark-ext-ins/0.40.34/flexmark-ext-ins-0.40.34.pom\n",
      "Downloading https://repo1.maven.org/maven2/org/scalameta/trees_2.12/4.2.3/trees_2.12-4.2.3.pom\n",
      "Downloaded https://repo1.maven.org/maven2/com/vladsch/flexmark/flexmark-ext-gitlab/0.40.34/flexmark-ext-gitlab-0.40.34.pom\n",
      "Downloading https://repo1.maven.org/maven2/com/vladsch/flexmark/flexmark-ext-definition/0.40.34/flexmark-ext-definition-0.40.34.pom\n",
      "Downloaded https://repo1.maven.org/maven2/com/vladsch/flexmark/flexmark-ext-gfm-tasklist/0.40.34/flexmark-ext-gfm-tasklist-0.40.34.pom\n",
      "Downloading https://repo1.maven.org/maven2/com/vladsch/flexmark/flexmark-html-parser/0.40.34/flexmark-html-parser-0.40.34.pom\n",
      "Downloaded https://repo1.maven.org/maven2/com/lihaoyi/scalaparse_2.12/2.2.3/scalaparse_2.12-2.2.3.pom\n",
      "Downloading https://repo1.maven.org/maven2/com/lihaoyi/sourcecode_2.12/0.2.0/sourcecode_2.12-0.2.0.pom\n",
      "Downloaded https://repo1.maven.org/maven2/com/lihaoyi/requests_2.12/0.5.0/requests_2.12-0.5.0.pom\n",
      "Downloading https://repo1.maven.org/maven2/org/typelevel/cats-core_2.12/1.0.1/cats-core_2.12-1.0.1.pom\n",
      "Downloaded https://repo1.maven.org/maven2/com/vladsch/flexmark/flexmark-ext-macros/0.40.34/flexmark-ext-macros-0.40.34.pom\n",
      "Downloading https://repo1.maven.org/maven2/org/jboss/logging/jboss-logging/3.4.0.Final/jboss-logging-3.4.0.Final.pom\n",
      "Downloaded https://repo1.maven.org/maven2/com/vladsch/flexmark/flexmark-ext-definition/0.40.34/flexmark-ext-definition-0.40.34.pom\n",
      "Downloading https://repo1.maven.org/maven2/org/jboss/xnio/xnio-api/3.7.7.Final/xnio-api-3.7.7.Final.pom\n",
      "Downloaded https://repo1.maven.org/maven2/org/scalameta/trees_2.12/4.2.3/trees_2.12-4.2.3.pom\n",
      "Downloading https://repo1.maven.org/maven2/net/java/dev/jna/jna/5.3.1/jna-5.3.1.pom\n",
      "Downloaded https://repo1.maven.org/maven2/com/vladsch/flexmark/flexmark-html-parser/0.40.34/flexmark-html-parser-0.40.34.pom\n",
      "Downloading https://repo1.maven.org/maven2/com/lihaoyi/upickle_2.12/0.9.8/upickle_2.12-0.9.8.pom\n",
      "Downloaded https://repo1.maven.org/maven2/com/lihaoyi/sourcecode_2.12/0.2.0/sourcecode_2.12-0.2.0.pom\n",
      "Downloading https://repo1.maven.org/maven2/com/geirsson/metaconfig-core_2.12/0.9.4/metaconfig-core_2.12-0.9.4.pom\n",
      "Downloaded https://repo1.maven.org/maven2/org/typelevel/cats-core_2.12/1.0.1/cats-core_2.12-1.0.1.pom\n",
      "Downloading https://repo1.maven.org/maven2/com/vladsch/flexmark/flexmark-ext-attributes/0.40.34/flexmark-ext-attributes-0.40.34.pom\n",
      "Downloaded https://repo1.maven.org/maven2/org/jboss/logging/jboss-logging/3.4.0.Final/jboss-logging-3.4.0.Final.pom\n",
      "Downloading https://repo1.maven.org/maven2/com/vladsch/flexmark/flexmark-ext-jekyll-tag/0.40.34/flexmark-ext-jekyll-tag-0.40.34.pom\n",
      "Downloaded https://repo1.maven.org/maven2/net/java/dev/jna/jna/5.3.1/jna-5.3.1.pom\n",
      "Downloading https://repo1.maven.org/maven2/com/vladsch/flexmark/flexmark-ext-superscript/0.40.34/flexmark-ext-superscript-0.40.34.pom\n",
      "Downloaded https://repo1.maven.org/maven2/org/jboss/xnio/xnio-api/3.7.7.Final/xnio-api-3.7.7.Final.pom\n",
      "Downloading https://repo1.maven.org/maven2/com/vladsch/flexmark/flexmark-jira-converter/0.40.34/flexmark-jira-converter-0.40.34.pom\n",
      "Downloaded https://repo1.maven.org/maven2/com/geirsson/metaconfig-core_2.12/0.9.4/metaconfig-core_2.12-0.9.4.pom\n",
      "Downloading https://repo1.maven.org/maven2/io/circe/circe-jawn_2.12/0.9.0/circe-jawn_2.12-0.9.0.pom\n",
      "Downloaded https://repo1.maven.org/maven2/com/lihaoyi/upickle_2.12/0.9.8/upickle_2.12-0.9.8.pom\n",
      "Downloading https://repo1.maven.org/maven2/com/vladsch/flexmark/flexmark-ext-typographic/0.40.34/flexmark-ext-typographic-0.40.34.pom\n",
      "Downloaded https://repo1.maven.org/maven2/com/vladsch/flexmark/flexmark-ext-attributes/0.40.34/flexmark-ext-attributes-0.40.34.pom\n",
      "Downloading https://repo1.maven.org/maven2/com/vladsch/flexmark/flexmark-ext-gfm-strikethrough/0.40.34/flexmark-ext-gfm-strikethrough-0.40.34.pom\n",
      "Downloaded https://repo1.maven.org/maven2/com/vladsch/flexmark/flexmark-ext-jekyll-tag/0.40.34/flexmark-ext-jekyll-tag-0.40.34.pom\n",
      "Downloading https://repo1.maven.org/maven2/com/vladsch/flexmark/flexmark-ext-toc/0.40.34/flexmark-ext-toc-0.40.34.pom\n",
      "Downloaded https://repo1.maven.org/maven2/com/vladsch/flexmark/flexmark-ext-superscript/0.40.34/flexmark-ext-superscript-0.40.34.pom\n",
      "Downloading https://repo1.maven.org/maven2/com/vladsch/flexmark/flexmark-ext-jekyll-front-matter/0.40.34/flexmark-ext-jekyll-front-matter-0.40.34.pom\n",
      "Downloaded https://repo1.maven.org/maven2/com/vladsch/flexmark/flexmark-jira-converter/0.40.34/flexmark-jira-converter-0.40.34.pom\n"
     ]
    },
    {
     "name": "stderr",
     "output_type": "stream",
     "text": [
      "Downloaded https://repo1.maven.org/maven2/io/circe/circe-jawn_2.12/0.9.0/circe-jawn_2.12-0.9.0.pom\n",
      "Downloading https://repo1.maven.org/maven2/com/vladsch/flexmark/flexmark-ext-youtube-embedded/0.40.34/flexmark-ext-youtube-embedded-0.40.34.pom\n",
      "Downloaded https://repo1.maven.org/maven2/com/vladsch/flexmark/flexmark-ext-typographic/0.40.34/flexmark-ext-typographic-0.40.34.pom\n",
      "Downloading https://repo1.maven.org/maven2/org/scalameta/parsers_2.12/4.3.0/parsers_2.12-4.3.0.pom\n",
      "Downloading https://repo1.maven.org/maven2/com/lihaoyi/fansi_2.12/0.2.8/fansi_2.12-0.2.8.pom\n",
      "Downloaded https://repo1.maven.org/maven2/com/vladsch/flexmark/flexmark-ext-gfm-strikethrough/0.40.34/flexmark-ext-gfm-strikethrough-0.40.34.pom\n",
      "Downloading https://repo1.maven.org/maven2/com/lihaoyi/ammonite-interp-api_2.12.10/2.0.4/ammonite-interp-api_2.12.10-2.0.4.pom\n",
      "Downloaded https://repo1.maven.org/maven2/com/vladsch/flexmark/flexmark-ext-jekyll-front-matter/0.40.34/flexmark-ext-jekyll-front-matter-0.40.34.pom\n",
      "Downloading https://repo1.maven.org/maven2/com/vladsch/flexmark/flexmark-ext-xwiki-macros/0.40.34/flexmark-ext-xwiki-macros-0.40.34.pom\n",
      "Downloaded https://repo1.maven.org/maven2/com/lihaoyi/fansi_2.12/0.2.8/fansi_2.12-0.2.8.pom\n",
      "Downloading https://repo1.maven.org/maven2/org/scala-lang/modules/scala-collection-compat_2.12/2.1.2/scala-collection-compat_2.12-2.1.2.pom\n",
      "Downloaded https://repo1.maven.org/maven2/com/vladsch/flexmark/flexmark-ext-youtube-embedded/0.40.34/flexmark-ext-youtube-embedded-0.40.34.pom\n",
      "Downloading https://repo1.maven.org/maven2/com/lihaoyi/os-lib_2.12/0.6.3/os-lib_2.12-0.6.3.pom\n",
      "Downloaded https://repo1.maven.org/maven2/com/vladsch/flexmark/flexmark-ext-toc/0.40.34/flexmark-ext-toc-0.40.34.pom\n",
      "Downloading https://repo1.maven.org/maven2/com/vladsch/flexmark/flexmark-ext-gfm-tables/0.40.34/flexmark-ext-gfm-tables-0.40.34.pom\n",
      "Downloaded https://repo1.maven.org/maven2/org/scalameta/parsers_2.12/4.3.0/parsers_2.12-4.3.0.pom\n",
      "Downloading https://repo1.maven.org/maven2/com/lihaoyi/ammonite-repl-api_2.12.10/2.0.4/ammonite-repl-api_2.12.10-2.0.4.pom\n",
      "Downloaded https://repo1.maven.org/maven2/com/lihaoyi/ammonite-interp-api_2.12.10/2.0.4/ammonite-interp-api_2.12.10-2.0.4.pom\n",
      "Downloading https://repo1.maven.org/maven2/org/scalameta/mdoc-interfaces/2.1.1/mdoc-interfaces-2.1.1.pom\n",
      "Downloaded https://repo1.maven.org/maven2/com/vladsch/flexmark/flexmark-ext-xwiki-macros/0.40.34/flexmark-ext-xwiki-macros-0.40.34.pom\n",
      "Downloading https://repo1.maven.org/maven2/com/vladsch/flexmark/flexmark-ext-anchorlink/0.40.34/flexmark-ext-anchorlink-0.40.34.pom\n",
      "Downloaded https://repo1.maven.org/maven2/org/scala-lang/modules/scala-collection-compat_2.12/2.1.2/scala-collection-compat_2.12-2.1.2.pom\n",
      "Downloading https://repo1.maven.org/maven2/com/vladsch/flexmark/flexmark-ext-gfm-issues/0.40.34/flexmark-ext-gfm-issues-0.40.34.pom\n",
      "Downloaded https://repo1.maven.org/maven2/com/lihaoyi/os-lib_2.12/0.6.3/os-lib_2.12-0.6.3.pom\n",
      "Downloading https://repo1.maven.org/maven2/com/vladsch/flexmark/flexmark-pdf-converter/0.40.34/flexmark-pdf-converter-0.40.34.pom\n",
      "Downloaded https://repo1.maven.org/maven2/com/vladsch/flexmark/flexmark-ext-gfm-tables/0.40.34/flexmark-ext-gfm-tables-0.40.34.pom\n",
      "Downloading https://repo1.maven.org/maven2/com/vladsch/flexmark/flexmark-ext-admonition/0.40.34/flexmark-ext-admonition-0.40.34.pom\n",
      "Downloaded https://repo1.maven.org/maven2/com/lihaoyi/ammonite-repl-api_2.12.10/2.0.4/ammonite-repl-api_2.12.10-2.0.4.pom\n",
      "Downloading https://repo1.maven.org/maven2/org/scala-lang/scalap/2.12.10/scalap-2.12.10.pom\n",
      "Downloaded https://repo1.maven.org/maven2/org/scalameta/mdoc-interfaces/2.1.1/mdoc-interfaces-2.1.1.pom\n",
      "Downloading https://repo1.maven.org/maven2/com/vladsch/flexmark/flexmark-youtrack-converter/0.40.34/flexmark-youtrack-converter-0.40.34.pom\n",
      "Downloaded https://repo1.maven.org/maven2/com/vladsch/flexmark/flexmark-ext-anchorlink/0.40.34/flexmark-ext-anchorlink-0.40.34.pom\n",
      "Downloading https://repo1.maven.org/maven2/com/vladsch/flexmark/flexmark-ext-wikilink/0.40.34/flexmark-ext-wikilink-0.40.34.pom\n",
      "Downloaded https://repo1.maven.org/maven2/com/vladsch/flexmark/flexmark-ext-gfm-issues/0.40.34/flexmark-ext-gfm-issues-0.40.34.pom\n",
      "Downloading https://repo1.maven.org/maven2/io/circe/circe-numbers_2.12/0.9.0/circe-numbers_2.12-0.9.0.pom\n",
      "Downloaded https://repo1.maven.org/maven2/com/vladsch/flexmark/flexmark-pdf-converter/0.40.34/flexmark-pdf-converter-0.40.34.pom\n",
      "Downloading https://repo1.maven.org/maven2/com/vladsch/flexmark/flexmark/0.40.34/flexmark-0.40.34.pom\n",
      "Downloaded https://repo1.maven.org/maven2/com/vladsch/flexmark/flexmark-ext-admonition/0.40.34/flexmark-ext-admonition-0.40.34.pom\n",
      "Downloading https://repo1.maven.org/maven2/com/vladsch/flexmark/flexmark-ext-abbreviation/0.40.34/flexmark-ext-abbreviation-0.40.34.pom\n",
      "Downloaded https://repo1.maven.org/maven2/com/vladsch/flexmark/flexmark-youtrack-converter/0.40.34/flexmark-youtrack-converter-0.40.34.pom\n",
      "Downloaded https://repo1.maven.org/maven2/org/scala-lang/scalap/2.12.10/scalap-2.12.10.pom\n",
      "Downloading https://repo1.maven.org/maven2/com/vladsch/flexmark/flexmark-ext-emoji/0.40.34/flexmark-ext-emoji-0.40.34.pom\n",
      "Downloading https://repo1.maven.org/maven2/com/vladsch/flexmark/flexmark-util/0.40.34/flexmark-util-0.40.34.pom\n",
      "Downloaded https://repo1.maven.org/maven2/com/vladsch/flexmark/flexmark-ext-wikilink/0.40.34/flexmark-ext-wikilink-0.40.34.pom\n",
      "Downloading https://repo1.maven.org/maven2/com/vladsch/flexmark/flexmark-ext-yaml-front-matter/0.40.34/flexmark-ext-yaml-front-matter-0.40.34.pom\n",
      "Downloaded https://repo1.maven.org/maven2/io/circe/circe-numbers_2.12/0.9.0/circe-numbers_2.12-0.9.0.pom\n",
      "Downloading https://repo1.maven.org/maven2/com/vladsch/flexmark/flexmark-ext-media-tags/0.40.34/flexmark-ext-media-tags-0.40.34.pom\n",
      "Downloaded https://repo1.maven.org/maven2/com/vladsch/flexmark/flexmark/0.40.34/flexmark-0.40.34.pom\n",
      "Downloading https://repo1.maven.org/maven2/com/vladsch/flexmark/flexmark-formatter/0.40.34/flexmark-formatter-0.40.34.pom\n",
      "Downloaded https://repo1.maven.org/maven2/com/vladsch/flexmark/flexmark-ext-abbreviation/0.40.34/flexmark-ext-abbreviation-0.40.34.pom\n",
      "Downloaded https://repo1.maven.org/maven2/com/vladsch/flexmark/flexmark-ext-emoji/0.40.34/flexmark-ext-emoji-0.40.34.pom\n",
      "Downloaded https://repo1.maven.org/maven2/com/vladsch/flexmark/flexmark-util/0.40.34/flexmark-util-0.40.34.pom\n",
      "Downloading https://repo1.maven.org/maven2/com/vladsch/flexmark/flexmark-ext-footnotes/0.40.34/flexmark-ext-footnotes-0.40.34.pom\n",
      "Downloading https://repo1.maven.org/maven2/com/typesafe/config/1.2.1/config-1.2.1.pom\n",
      "Downloaded https://repo1.maven.org/maven2/com/vladsch/flexmark/flexmark-ext-yaml-front-matter/0.40.34/flexmark-ext-yaml-front-matter-0.40.34.pom\n",
      "Downloading https://repo1.maven.org/maven2/com/vladsch/flexmark/flexmark-ext-enumerated-reference/0.40.34/flexmark-ext-enumerated-reference-0.40.34.pom\n",
      "Downloaded https://repo1.maven.org/maven2/com/vladsch/flexmark/flexmark-ext-media-tags/0.40.34/flexmark-ext-media-tags-0.40.34.pom\n",
      "Downloading https://repo1.maven.org/maven2/com/lihaoyi/pprint_2.12/0.5.8/pprint_2.12-0.5.8.pom\n",
      "Downloaded https://repo1.maven.org/maven2/com/vladsch/flexmark/flexmark-formatter/0.40.34/flexmark-formatter-0.40.34.pom\n",
      "Downloaded https://repo1.maven.org/maven2/com/vladsch/flexmark/flexmark-ext-footnotes/0.40.34/flexmark-ext-footnotes-0.40.34.pom\n",
      "Downloaded https://repo1.maven.org/maven2/com/typesafe/config/1.2.1/config-1.2.1.pom\n",
      "Downloaded https://repo1.maven.org/maven2/com/vladsch/flexmark/flexmark-ext-enumerated-reference/0.40.34/flexmark-ext-enumerated-reference-0.40.34.pom\n",
      "Downloaded https://repo1.maven.org/maven2/com/lihaoyi/pprint_2.12/0.5.8/pprint_2.12-0.5.8.pom\n",
      "Downloading https://repo1.maven.org/maven2/org/jboss/jboss-parent/34/jboss-parent-34.pom\n",
      "Downloaded https://repo1.maven.org/maven2/org/jboss/jboss-parent/34/jboss-parent-34.pom\n",
      "Downloading https://repo1.maven.org/maven2/org/typelevel/cats-kernel_2.12/1.0.1/cats-kernel_2.12-1.0.1.pom\n",
      "Downloading https://repo1.maven.org/maven2/org/nibor/autolink/autolink/0.6.0/autolink-0.6.0.pom\n",
      "Downloading https://repo1.maven.org/maven2/com/openhtmltopdf/openhtmltopdf-core/0.0.1-RC19/openhtmltopdf-core-0.0.1-RC19.pom\n",
      "Downloading https://repo1.maven.org/maven2/com/openhtmltopdf/openhtmltopdf-rtl-support/0.0.1-RC19/openhtmltopdf-rtl-support-0.0.1-RC19.pom\n"
     ]
    },
    {
     "name": "stderr",
     "output_type": "stream",
     "text": [
      "Downloading https://repo1.maven.org/maven2/com/openhtmltopdf/openhtmltopdf-jsoup-dom-converter/0.0.1-RC19/openhtmltopdf-jsoup-dom-converter-0.0.1-RC19.pom\n",
      "Downloading https://repo1.maven.org/maven2/org/typelevel/paiges-core_2.12/0.2.4/paiges-core_2.12-0.2.4.pom\n",
      "Downloaded https://repo1.maven.org/maven2/com/openhtmltopdf/openhtmltopdf-jsoup-dom-converter/0.0.1-RC19/openhtmltopdf-jsoup-dom-converter-0.0.1-RC19.pom\n",
      "Downloading https://repo1.maven.org/maven2/org/typelevel/cats-macros_2.12/1.0.1/cats-macros_2.12-1.0.1.pom\n",
      "Downloaded https://repo1.maven.org/maven2/org/typelevel/cats-kernel_2.12/1.0.1/cats-kernel_2.12-1.0.1.pom\n",
      "Downloading https://repo1.maven.org/maven2/org/scalameta/trees_2.12/4.3.0/trees_2.12-4.3.0.pom\n",
      "Downloaded https://repo1.maven.org/maven2/com/openhtmltopdf/openhtmltopdf-rtl-support/0.0.1-RC19/openhtmltopdf-rtl-support-0.0.1-RC19.pom\n",
      "Downloading https://repo1.maven.org/maven2/com/lihaoyi/upack_2.12/0.9.8/upack_2.12-0.9.8.pom\n",
      "Downloaded https://repo1.maven.org/maven2/com/openhtmltopdf/openhtmltopdf-core/0.0.1-RC19/openhtmltopdf-core-0.0.1-RC19.pom\n",
      "Downloading https://repo1.maven.org/maven2/com/lihaoyi/upickle-implicits_2.12/0.9.8/upickle-implicits_2.12-0.9.8.pom\n",
      "Downloaded https://repo1.maven.org/maven2/org/typelevel/paiges-core_2.12/0.2.4/paiges-core_2.12-0.2.4.pom\n",
      "Downloading https://repo1.maven.org/maven2/io/get-coursier/interface/0.0.8/interface-0.0.8.pom\n",
      "Downloaded https://repo1.maven.org/maven2/org/typelevel/cats-macros_2.12/1.0.1/cats-macros_2.12-1.0.1.pom\n",
      "Downloading https://repo1.maven.org/maven2/org/jsoup/jsoup/1.10.2/jsoup-1.10.2.pom\n",
      "Downloaded https://repo1.maven.org/maven2/com/lihaoyi/upack_2.12/0.9.8/upack_2.12-0.9.8.pom\n",
      "Downloading https://repo1.maven.org/maven2/org/jboss/threads/jboss-threads/2.3.0.Beta2/jboss-threads-2.3.0.Beta2.pom\n",
      "Downloaded https://repo1.maven.org/maven2/com/lihaoyi/upickle-implicits_2.12/0.9.8/upickle-implicits_2.12-0.9.8.pom\n",
      "Downloading https://repo1.maven.org/maven2/com/lihaoyi/ujson_2.12/0.9.8/ujson_2.12-0.9.8.pom\n",
      "Downloaded https://repo1.maven.org/maven2/org/scalameta/trees_2.12/4.3.0/trees_2.12-4.3.0.pom\n",
      "Downloading https://repo1.maven.org/maven2/org/typelevel/machinist_2.12/0.6.2/machinist_2.12-0.6.2.pom\n",
      "Downloaded https://repo1.maven.org/maven2/io/get-coursier/interface/0.0.8/interface-0.0.8.pom\n",
      "Downloading https://repo1.maven.org/maven2/com/openhtmltopdf/openhtmltopdf-pdfbox/0.0.1-RC19/openhtmltopdf-pdfbox-0.0.1-RC19.pom\n",
      "Downloaded https://repo1.maven.org/maven2/org/nibor/autolink/autolink/0.6.0/autolink-0.6.0.pom\n",
      "Downloading https://repo1.maven.org/maven2/com/lihaoyi/fastparse_2.12/2.2.3/fastparse_2.12-2.2.3.pom\n",
      "Downloaded https://repo1.maven.org/maven2/org/jsoup/jsoup/1.10.2/jsoup-1.10.2.pom\n",
      "Downloading https://repo1.maven.org/maven2/org/scalameta/fastparse_2.12/1.0.1/fastparse_2.12-1.0.1.pom\n",
      "Downloaded https://repo1.maven.org/maven2/org/jboss/threads/jboss-threads/2.3.0.Beta2/jboss-threads-2.3.0.Beta2.pom\n",
      "Downloading https://repo1.maven.org/maven2/com/lihaoyi/geny_2.12/0.5.0/geny_2.12-0.5.0.pom\n",
      "Downloaded https://repo1.maven.org/maven2/com/lihaoyi/ujson_2.12/0.9.8/ujson_2.12-0.9.8.pom\n",
      "Downloaded https://repo1.maven.org/maven2/org/typelevel/machinist_2.12/0.6.2/machinist_2.12-0.6.2.pom\n",
      "Downloading https://repo1.maven.org/maven2/org/wildfly/client/wildfly-client-config/1.0.0.Final/wildfly-client-config-1.0.0.Final.pom\n",
      "Downloading https://repo1.maven.org/maven2/org/wildfly/common/wildfly-common/1.5.2.Final/wildfly-common-1.5.2.Final.pom\n",
      "Downloaded https://repo1.maven.org/maven2/com/openhtmltopdf/openhtmltopdf-pdfbox/0.0.1-RC19/openhtmltopdf-pdfbox-0.0.1-RC19.pom\n",
      "Downloading https://repo1.maven.org/maven2/org/scalameta/common_2.12/4.2.3/common_2.12-4.2.3.pom\n",
      "Downloaded https://repo1.maven.org/maven2/com/lihaoyi/fastparse_2.12/2.2.3/fastparse_2.12-2.2.3.pom\n",
      "Downloaded https://repo1.maven.org/maven2/org/scalameta/fastparse_2.12/1.0.1/fastparse_2.12-1.0.1.pom\n",
      "Downloading https://repo1.maven.org/maven2/com/thesamet/scalapb/scalapb-runtime_2.12/0.9.0/scalapb-runtime_2.12-0.9.0.pom\n",
      "Downloaded https://repo1.maven.org/maven2/com/lihaoyi/geny_2.12/0.5.0/geny_2.12-0.5.0.pom\n",
      "Downloaded https://repo1.maven.org/maven2/org/wildfly/common/wildfly-common/1.5.2.Final/wildfly-common-1.5.2.Final.pom\n",
      "Downloading https://repo1.maven.org/maven2/org/spire-math/jawn-parser_2.12/0.11.0/jawn-parser_2.12-0.11.0.pom\n",
      "Downloaded https://repo1.maven.org/maven2/org/wildfly/client/wildfly-client-config/1.0.0.Final/wildfly-client-config-1.0.0.Final.pom\n",
      "Downloaded https://repo1.maven.org/maven2/org/scalameta/common_2.12/4.2.3/common_2.12-4.2.3.pom\n",
      "Downloaded https://repo1.maven.org/maven2/com/thesamet/scalapb/scalapb-runtime_2.12/0.9.0/scalapb-runtime_2.12-0.9.0.pom\n",
      "Downloaded https://repo1.maven.org/maven2/org/spire-math/jawn-parser_2.12/0.11.0/jawn-parser_2.12-0.11.0.pom\n",
      "Downloading https://repo1.maven.org/maven2/org/jboss/jboss-parent/23/jboss-parent-23.pom\n",
      "Downloading https://repo1.maven.org/maven2/com/openhtmltopdf/openhtmltopdf-parent/0.0.1-RC19/openhtmltopdf-parent-0.0.1-RC19.pom\n",
      "Downloaded https://repo1.maven.org/maven2/com/openhtmltopdf/openhtmltopdf-parent/0.0.1-RC19/openhtmltopdf-parent-0.0.1-RC19.pom\n",
      "Downloaded https://repo1.maven.org/maven2/org/jboss/jboss-parent/23/jboss-parent-23.pom\n",
      "Downloading https://repo1.maven.org/maven2/org/jboss/jboss-parent/20/jboss-parent-20.pom\n",
      "Downloaded https://repo1.maven.org/maven2/org/jboss/jboss-parent/20/jboss-parent-20.pom\n",
      "Downloading https://repo1.maven.org/maven2/com/thesamet/scalapb/lenses_2.12/0.9.0/lenses_2.12-0.9.0.pom\n",
      "Downloading https://repo1.maven.org/maven2/com/google/protobuf/protobuf-java/3.7.1/protobuf-java-3.7.1.pom\n",
      "Downloading https://repo1.maven.org/maven2/com/lihaoyi/upickle-core_2.12/0.9.8/upickle-core_2.12-0.9.8.pom\n",
      "Downloading https://repo1.maven.org/maven2/com/ibm/icu/icu4j/59.1/icu4j-59.1.pom\n",
      "Downloading https://repo1.maven.org/maven2/org/scalameta/fastparse-utils_2.12/1.0.1/fastparse-utils_2.12-1.0.1.pom\n",
      "Downloading https://repo1.maven.org/maven2/org/apache/pdfbox/xmpbox/2.0.14/xmpbox-2.0.14.pom\n",
      "Downloaded https://repo1.maven.org/maven2/com/thesamet/scalapb/lenses_2.12/0.9.0/lenses_2.12-0.9.0.pom\n",
      "Downloading https://repo1.maven.org/maven2/de/rototor/pdfbox/graphics2d/0.21/graphics2d-0.21.pom\n",
      "Downloaded https://repo1.maven.org/maven2/org/apache/pdfbox/xmpbox/2.0.14/xmpbox-2.0.14.pom\n",
      "Downloading https://repo1.maven.org/maven2/org/scalameta/common_2.12/4.3.0/common_2.12-4.3.0.pom\n",
      "Downloaded https://repo1.maven.org/maven2/com/ibm/icu/icu4j/59.1/icu4j-59.1.pom\n",
      "Downloaded https://repo1.maven.org/maven2/org/scalameta/fastparse-utils_2.12/1.0.1/fastparse-utils_2.12-1.0.1.pom\n",
      "Downloading https://repo1.maven.org/maven2/org/apache/pdfbox/pdfbox/2.0.14/pdfbox-2.0.14.pom\n",
      "Downloaded https://repo1.maven.org/maven2/com/google/protobuf/protobuf-java/3.7.1/protobuf-java-3.7.1.pom\n",
      "Downloaded https://repo1.maven.org/maven2/de/rototor/pdfbox/graphics2d/0.21/graphics2d-0.21.pom\n",
      "Downloaded https://repo1.maven.org/maven2/org/scalameta/common_2.12/4.3.0/common_2.12-4.3.0.pom\n",
      "Downloaded https://repo1.maven.org/maven2/org/apache/pdfbox/pdfbox/2.0.14/pdfbox-2.0.14.pom\n",
      "Downloaded https://repo1.maven.org/maven2/com/lihaoyi/upickle-core_2.12/0.9.8/upickle-core_2.12-0.9.8.pom\n",
      "Downloading https://repo1.maven.org/maven2/org/apache/pdfbox/pdfbox-parent/2.0.14/pdfbox-parent-2.0.14.pom\n",
      "Downloading https://repo1.maven.org/maven2/com/google/protobuf/protobuf-parent/3.7.1/protobuf-parent-3.7.1.pom\n",
      "Downloaded https://repo1.maven.org/maven2/org/apache/pdfbox/pdfbox-parent/2.0.14/pdfbox-parent-2.0.14.pom\n",
      "Downloaded https://repo1.maven.org/maven2/com/google/protobuf/protobuf-parent/3.7.1/protobuf-parent-3.7.1.pom\n",
      "Downloading https://repo1.maven.org/maven2/org/apache/apache/19/apache-19.pom\n",
      "Downloading https://repo1.maven.org/maven2/com/google/protobuf/protobuf-bom/3.7.1/protobuf-bom-3.7.1.pom\n",
      "Downloaded https://repo1.maven.org/maven2/com/google/protobuf/protobuf-bom/3.7.1/protobuf-bom-3.7.1.pom\n",
      "Downloaded https://repo1.maven.org/maven2/org/apache/apache/19/apache-19.pom\n",
      "Downloading https://repo1.maven.org/maven2/commons-logging/commons-logging/1.2/commons-logging-1.2.pom\n",
      "Downloading https://repo1.maven.org/maven2/org/scala-lang/modules/scala-collection-compat_2.12/2.1.3/scala-collection-compat_2.12-2.1.3.pom\n"
     ]
    },
    {
     "name": "stderr",
     "output_type": "stream",
     "text": [
      "Downloading https://repo1.maven.org/maven2/org/apache/pdfbox/fontbox/2.0.14/fontbox-2.0.14.pom\n",
      "Downloaded https://repo1.maven.org/maven2/commons-logging/commons-logging/1.2/commons-logging-1.2.pom\n",
      "Downloaded https://repo1.maven.org/maven2/org/apache/pdfbox/fontbox/2.0.14/fontbox-2.0.14.pom\n",
      "Downloaded https://repo1.maven.org/maven2/org/scala-lang/modules/scala-collection-compat_2.12/2.1.3/scala-collection-compat_2.12-2.1.3.pom\n",
      "Downloading https://repo1.maven.org/maven2/org/apache/commons/commons-parent/34/commons-parent-34.pom\n",
      "Downloaded https://repo1.maven.org/maven2/org/apache/commons/commons-parent/34/commons-parent-34.pom\n",
      "Downloading https://repo1.maven.org/maven2/org/apache/apache/13/apache-13.pom\n",
      "Downloaded https://repo1.maven.org/maven2/org/apache/apache/13/apache-13.pom\n",
      "Downloading https://repo1.maven.org/maven2/org/typelevel/machinist_2.12/0.6.2/machinist_2.12-0.6.2.jar\n",
      "Downloading https://repo1.maven.org/maven2/org/typelevel/cats-kernel_2.12/1.0.1/cats-kernel_2.12-1.0.1.jar\n",
      "Downloading https://repo1.maven.org/maven2/io/circe/circe-core_2.12/0.9.0/circe-core_2.12-0.9.0.jar\n",
      "Downloading https://repo1.maven.org/maven2/io/circe/circe-numbers_2.12/0.9.0/circe-numbers_2.12-0.9.0.jar\n",
      "Downloading https://repo1.maven.org/maven2/org/typelevel/cats-macros_2.12/1.0.1/cats-macros_2.12-1.0.1.jar\n",
      "Downloading https://repo1.maven.org/maven2/io/circe/circe-parser_2.12/0.9.0/circe-parser_2.12-0.9.0.jar\n",
      "Downloaded https://repo1.maven.org/maven2/io/circe/circe-numbers_2.12/0.9.0/circe-numbers_2.12-0.9.0.jar\n",
      "Downloading https://repo1.maven.org/maven2/org/spire-math/jawn-parser_2.12/0.11.0/jawn-parser_2.12-0.11.0.jar\n",
      "Downloaded https://repo1.maven.org/maven2/org/typelevel/machinist_2.12/0.6.2/machinist_2.12-0.6.2.jar\n",
      "Downloading https://repo1.maven.org/maven2/io/circe/circe-generic_2.12/0.9.0/circe-generic_2.12-0.9.0.jar\n",
      "Downloaded https://repo1.maven.org/maven2/org/spire-math/jawn-parser_2.12/0.11.0/jawn-parser_2.12-0.11.0.jar\n",
      "Downloading https://repo1.maven.org/maven2/io/circe/circe-jawn_2.12/0.9.0/circe-jawn_2.12-0.9.0.jar\n",
      "Downloaded https://repo1.maven.org/maven2/io/circe/circe-parser_2.12/0.9.0/circe-parser_2.12-0.9.0.jar\n",
      "Downloading https://repo1.maven.org/maven2/org/scalactic/scalactic_2.12/3.0.1/scalactic_2.12-3.0.1.jar\n",
      "Downloaded https://repo1.maven.org/maven2/io/circe/circe-jawn_2.12/0.9.0/circe-jawn_2.12-0.9.0.jar\n",
      "Downloading https://repo1.maven.org/maven2/com/lihaoyi/geny_2.12/0.5.0/geny_2.12-0.5.0.jar\n",
      "Downloaded https://repo1.maven.org/maven2/io/circe/circe-generic_2.12/0.9.0/circe-generic_2.12-0.9.0.jar\n",
      "Downloading https://dl.bintray.com/cibotech/public/com/cibo/evilplot_2.12/0.6.0/evilplot_2.12-0.6.0.jar\n",
      "Downloaded https://repo1.maven.org/maven2/org/typelevel/cats-macros_2.12/1.0.1/cats-macros_2.12-1.0.1.jar\n",
      "Downloading https://repo1.maven.org/maven2/org/scalameta/fastparse_2.12/1.0.1/fastparse_2.12-1.0.1.jar\n",
      "Downloaded https://repo1.maven.org/maven2/com/lihaoyi/geny_2.12/0.5.0/geny_2.12-0.5.0.jar\n",
      "Downloading https://repo1.maven.org/maven2/com/lihaoyi/fastparse_2.12/2.2.3/fastparse_2.12-2.2.3.jar\n",
      "Downloaded https://repo1.maven.org/maven2/org/scalameta/fastparse_2.12/1.0.1/fastparse_2.12-1.0.1.jar\n",
      "Downloading https://repo1.maven.org/maven2/org/scalameta/common_2.12/4.3.0/common_2.12-4.3.0.jar\n",
      "Downloaded https://repo1.maven.org/maven2/com/lihaoyi/fastparse_2.12/2.2.3/fastparse_2.12-2.2.3.jar\n",
      "Downloading https://repo1.maven.org/maven2/com/thesamet/scalapb/lenses_2.12/0.9.0/lenses_2.12-0.9.0.jar\n",
      "Downloaded https://repo1.maven.org/maven2/com/thesamet/scalapb/lenses_2.12/0.9.0/lenses_2.12-0.9.0.jar\n",
      "Downloading https://repo1.maven.org/maven2/org/scalameta/trees_2.12/4.3.0/trees_2.12-4.3.0.jar\n",
      "Downloaded https://repo1.maven.org/maven2/org/scalactic/scalactic_2.12/3.0.1/scalactic_2.12-3.0.1.jar\n",
      "Downloading https://repo1.maven.org/maven2/com/thesamet/scalapb/scalapb-runtime_2.12/0.9.0/scalapb-runtime_2.12-0.9.0.jar\n",
      "Downloaded https://repo1.maven.org/maven2/io/circe/circe-core_2.12/0.9.0/circe-core_2.12-0.9.0.jar\n",
      "Downloading https://repo1.maven.org/maven2/org/scalameta/scalameta_2.12/4.3.0/scalameta_2.12-4.3.0.jar\n",
      "Downloaded https://repo1.maven.org/maven2/org/scalameta/common_2.12/4.3.0/common_2.12-4.3.0.jar\n",
      "Downloading https://repo1.maven.org/maven2/io/circe/circe-generic-extras_2.12/0.9.0/circe-generic-extras_2.12-0.9.0.jar\n",
      "Downloaded https://repo1.maven.org/maven2/io/circe/circe-generic-extras_2.12/0.9.0/circe-generic-extras_2.12-0.9.0.jar\n",
      "Downloading https://repo1.maven.org/maven2/org/scalameta/mdoc-runtime_2.12/2.1.1/mdoc-runtime_2.12-2.1.1.jar\n",
      "Downloaded https://repo1.maven.org/maven2/org/scalameta/mdoc-runtime_2.12/2.1.1/mdoc-runtime_2.12-2.1.1.jar\n",
      "Downloading https://repo1.maven.org/maven2/org/scalameta/mdoc-interfaces/2.1.1/mdoc-interfaces-2.1.1.jar\n",
      "Downloaded https://repo1.maven.org/maven2/org/scalameta/mdoc-interfaces/2.1.1/mdoc-interfaces-2.1.1.jar\n",
      "Downloading https://repo1.maven.org/maven2/org/typelevel/paiges-core_2.12/0.2.4/paiges-core_2.12-0.2.4.jar\n",
      "Downloaded https://repo1.maven.org/maven2/org/typelevel/paiges-core_2.12/0.2.4/paiges-core_2.12-0.2.4.jar\n",
      "Downloading https://repo1.maven.org/maven2/org/scala-lang/scalap/2.12.10/scalap-2.12.10.jar\n",
      "Downloaded https://dl.bintray.com/cibotech/public/com/cibo/evilplot_2.12/0.6.0/evilplot_2.12-0.6.0.jar\n",
      "Downloading https://repo1.maven.org/maven2/com/lihaoyi/sourcecode_2.12/0.2.0/sourcecode_2.12-0.2.0.jar\n",
      "Downloaded https://repo1.maven.org/maven2/com/lihaoyi/sourcecode_2.12/0.2.0/sourcecode_2.12-0.2.0.jar\n",
      "Downloading https://repo1.maven.org/maven2/com/googlecode/java-diff-utils/diffutils/1.3.0/diffutils-1.3.0.jar\n",
      "Downloaded https://repo1.maven.org/maven2/com/googlecode/java-diff-utils/diffutils/1.3.0/diffutils-1.3.0.jar\n",
      "Downloading https://repo1.maven.org/maven2/com/typesafe/config/1.2.1/config-1.2.1.jar\n",
      "Downloaded https://repo1.maven.org/maven2/org/scalameta/scalameta_2.12/4.3.0/scalameta_2.12-4.3.0.jar\n",
      "Downloading https://repo1.maven.org/maven2/com/lihaoyi/pprint_2.12/0.5.8/pprint_2.12-0.5.8.jar\n",
      "Downloaded https://repo1.maven.org/maven2/com/typesafe/config/1.2.1/config-1.2.1.jar\n",
      "Downloading https://repo1.maven.org/maven2/org/scala-lang/modules/scala-collection-compat_2.12/2.1.3/scala-collection-compat_2.12-2.1.3.jar\n",
      "Downloaded https://repo1.maven.org/maven2/com/lihaoyi/pprint_2.12/0.5.8/pprint_2.12-0.5.8.jar\n",
      "Downloading https://repo1.maven.org/maven2/com/vladsch/flexmark/flexmark-ext-autolink/0.40.34/flexmark-ext-autolink-0.40.34.jar\n",
      "Downloaded https://repo1.maven.org/maven2/org/scala-lang/modules/scala-collection-compat_2.12/2.1.3/scala-collection-compat_2.12-2.1.3.jar\n",
      "Downloading https://repo1.maven.org/maven2/com/vladsch/flexmark/flexmark-util/0.40.34/flexmark-util-0.40.34.jar\n",
      "Downloaded https://repo1.maven.org/maven2/com/vladsch/flexmark/flexmark-ext-autolink/0.40.34/flexmark-ext-autolink-0.40.34.jar\n",
      "Downloading https://repo1.maven.org/maven2/com/geirsson/metaconfig-typesafe-config_2.12/0.9.4/metaconfig-typesafe-config_2.12-0.9.4.jar\n",
      "Downloaded https://repo1.maven.org/maven2/com/geirsson/metaconfig-typesafe-config_2.12/0.9.4/metaconfig-typesafe-config_2.12-0.9.4.jar\n",
      "Downloading https://repo1.maven.org/maven2/org/nibor/autolink/autolink/0.6.0/autolink-0.6.0.jar\n",
      "Downloaded https://repo1.maven.org/maven2/org/nibor/autolink/autolink/0.6.0/autolink-0.6.0.jar\n",
      "Downloading https://repo1.maven.org/maven2/com/vladsch/flexmark/flexmark-ext-tables/0.40.34/flexmark-ext-tables-0.40.34.jar\n",
      "Downloaded https://repo1.maven.org/maven2/com/vladsch/flexmark/flexmark-ext-tables/0.40.34/flexmark-ext-tables-0.40.34.jar\n",
      "Downloading https://repo1.maven.org/maven2/com/vladsch/flexmark/flexmark-ext-gfm-strikethrough/0.40.34/flexmark-ext-gfm-strikethrough-0.40.34.jar\n",
      "Downloaded https://repo1.maven.org/maven2/com/vladsch/flexmark/flexmark-ext-gfm-strikethrough/0.40.34/flexmark-ext-gfm-strikethrough-0.40.34.jar\n",
      "Downloading https://repo1.maven.org/maven2/com/vladsch/flexmark/flexmark-ext-anchorlink/0.40.34/flexmark-ext-anchorlink-0.40.34.jar\n",
      "Downloaded https://repo1.maven.org/maven2/com/vladsch/flexmark/flexmark-ext-anchorlink/0.40.34/flexmark-ext-anchorlink-0.40.34.jar\n",
      "Downloading https://repo1.maven.org/maven2/org/scalameta/parsers_2.12/4.3.0/parsers_2.12-4.3.0.jar\n",
      "Downloaded https://repo1.maven.org/maven2/com/vladsch/flexmark/flexmark-util/0.40.34/flexmark-util-0.40.34.jar\n"
     ]
    },
    {
     "name": "stderr",
     "output_type": "stream",
     "text": [
      "Downloading https://repo1.maven.org/maven2/org/typelevel/cats-core_2.12/1.0.1/cats-core_2.12-1.0.1.jar\n",
      "Downloaded https://repo1.maven.org/maven2/org/scala-lang/scalap/2.12.10/scalap-2.12.10.jar\n",
      "Downloading https://repo1.maven.org/maven2/com/lihaoyi/fansi_2.12/0.2.8/fansi_2.12-0.2.8.jar\n",
      "Downloaded https://repo1.maven.org/maven2/com/lihaoyi/fansi_2.12/0.2.8/fansi_2.12-0.2.8.jar\n",
      "Downloading https://repo1.maven.org/maven2/com/geirsson/metaconfig-core_2.12/0.9.4/metaconfig-core_2.12-0.9.4.jar\n",
      "Downloaded https://repo1.maven.org/maven2/com/geirsson/metaconfig-core_2.12/0.9.4/metaconfig-core_2.12-0.9.4.jar\n",
      "Downloading https://repo1.maven.org/maven2/com/vladsch/flexmark/flexmark-ext-wikilink/0.40.34/flexmark-ext-wikilink-0.40.34.jar\n",
      "Downloaded https://repo1.maven.org/maven2/org/scalameta/parsers_2.12/4.3.0/parsers_2.12-4.3.0.jar\n",
      "Downloading https://repo1.maven.org/maven2/com/vladsch/flexmark/flexmark-ext-aside/0.40.34/flexmark-ext-aside-0.40.34.jar\n",
      "Downloaded https://repo1.maven.org/maven2/com/vladsch/flexmark/flexmark-ext-wikilink/0.40.34/flexmark-ext-wikilink-0.40.34.jar\n",
      "Downloading https://repo1.maven.org/maven2/com/vladsch/flexmark/flexmark-jira-converter/0.40.34/flexmark-jira-converter-0.40.34.jar\n",
      "Downloaded https://repo1.maven.org/maven2/com/vladsch/flexmark/flexmark-ext-aside/0.40.34/flexmark-ext-aside-0.40.34.jar\n",
      "Downloading https://repo1.maven.org/maven2/com/vladsch/flexmark/flexmark-ext-attributes/0.40.34/flexmark-ext-attributes-0.40.34.jar\n",
      "Downloaded https://repo1.maven.org/maven2/com/vladsch/flexmark/flexmark-ext-attributes/0.40.34/flexmark-ext-attributes-0.40.34.jar\n",
      "Downloading https://repo1.maven.org/maven2/com/vladsch/flexmark/flexmark-ext-gfm-tables/0.40.34/flexmark-ext-gfm-tables-0.40.34.jar\n",
      "Downloaded https://repo1.maven.org/maven2/com/vladsch/flexmark/flexmark-jira-converter/0.40.34/flexmark-jira-converter-0.40.34.jar\n",
      "Downloading https://repo1.maven.org/maven2/com/google/protobuf/protobuf-java/3.7.1/protobuf-java-3.7.1.jar\n",
      "Downloaded https://repo1.maven.org/maven2/com/vladsch/flexmark/flexmark-ext-gfm-tables/0.40.34/flexmark-ext-gfm-tables-0.40.34.jar\n",
      "Downloading https://repo1.maven.org/maven2/com/vladsch/flexmark/flexmark-ext-escaped-character/0.40.34/flexmark-ext-escaped-character-0.40.34.jar\n",
      "Downloaded https://repo1.maven.org/maven2/com/vladsch/flexmark/flexmark-ext-escaped-character/0.40.34/flexmark-ext-escaped-character-0.40.34.jar\n",
      "Downloading https://repo1.maven.org/maven2/com/vladsch/flexmark/flexmark-ext-emoji/0.40.34/flexmark-ext-emoji-0.40.34.jar\n",
      "Downloaded https://repo1.maven.org/maven2/com/vladsch/flexmark/flexmark-ext-emoji/0.40.34/flexmark-ext-emoji-0.40.34.jar\n",
      "Downloading https://repo1.maven.org/maven2/com/vladsch/flexmark/flexmark-ext-definition/0.40.34/flexmark-ext-definition-0.40.34.jar\n",
      "Downloaded https://repo1.maven.org/maven2/com/vladsch/flexmark/flexmark-ext-definition/0.40.34/flexmark-ext-definition-0.40.34.jar\n",
      "Downloading https://repo1.maven.org/maven2/com/vladsch/flexmark/flexmark-ext-footnotes/0.40.34/flexmark-ext-footnotes-0.40.34.jar\n",
      "Downloaded https://repo1.maven.org/maven2/com/vladsch/flexmark/flexmark-ext-footnotes/0.40.34/flexmark-ext-footnotes-0.40.34.jar\n",
      "Downloading https://repo1.maven.org/maven2/com/vladsch/flexmark/flexmark-ext-gfm-users/0.40.34/flexmark-ext-gfm-users-0.40.34.jar\n",
      "Downloaded https://repo1.maven.org/maven2/com/vladsch/flexmark/flexmark-ext-gfm-users/0.40.34/flexmark-ext-gfm-users-0.40.34.jar\n",
      "Downloading https://repo1.maven.org/maven2/com/vladsch/flexmark/flexmark-ext-enumerated-reference/0.40.34/flexmark-ext-enumerated-reference-0.40.34.jar\n",
      "Downloaded https://repo1.maven.org/maven2/com/vladsch/flexmark/flexmark-ext-enumerated-reference/0.40.34/flexmark-ext-enumerated-reference-0.40.34.jar\n",
      "Downloading https://repo1.maven.org/maven2/com/vladsch/flexmark/flexmark-formatter/0.40.34/flexmark-formatter-0.40.34.jar\n",
      "Downloaded https://repo1.maven.org/maven2/com/vladsch/flexmark/flexmark-formatter/0.40.34/flexmark-formatter-0.40.34.jar\n",
      "Downloading https://repo1.maven.org/maven2/com/vladsch/flexmark/flexmark-ext-media-tags/0.40.34/flexmark-ext-media-tags-0.40.34.jar\n",
      "Downloaded https://repo1.maven.org/maven2/com/vladsch/flexmark/flexmark-ext-media-tags/0.40.34/flexmark-ext-media-tags-0.40.34.jar\n",
      "Downloading https://repo1.maven.org/maven2/com/vladsch/flexmark/flexmark-ext-jekyll-front-matter/0.40.34/flexmark-ext-jekyll-front-matter-0.40.34.jar\n",
      "Downloaded https://repo1.maven.org/maven2/com/vladsch/flexmark/flexmark-ext-jekyll-front-matter/0.40.34/flexmark-ext-jekyll-front-matter-0.40.34.jar\n",
      "Downloading https://repo1.maven.org/maven2/com/vladsch/flexmark/flexmark-ext-superscript/0.40.34/flexmark-ext-superscript-0.40.34.jar\n",
      "Downloaded https://repo1.maven.org/maven2/com/vladsch/flexmark/flexmark-ext-superscript/0.40.34/flexmark-ext-superscript-0.40.34.jar\n",
      "Downloading https://repo1.maven.org/maven2/com/vladsch/flexmark/flexmark-ext-jekyll-tag/0.40.34/flexmark-ext-jekyll-tag-0.40.34.jar\n",
      "Downloaded https://repo1.maven.org/maven2/com/vladsch/flexmark/flexmark-ext-jekyll-tag/0.40.34/flexmark-ext-jekyll-tag-0.40.34.jar\n",
      "Downloading https://repo1.maven.org/maven2/com/vladsch/flexmark/flexmark-ext-typographic/0.40.34/flexmark-ext-typographic-0.40.34.jar\n",
      "Downloaded https://repo1.maven.org/maven2/com/vladsch/flexmark/flexmark-ext-typographic/0.40.34/flexmark-ext-typographic-0.40.34.jar\n",
      "Downloading https://repo1.maven.org/maven2/com/vladsch/flexmark/flexmark-ext-ins/0.40.34/flexmark-ext-ins-0.40.34.jar\n",
      "Downloaded https://repo1.maven.org/maven2/com/vladsch/flexmark/flexmark-ext-ins/0.40.34/flexmark-ext-ins-0.40.34.jar\n",
      "Downloading https://repo1.maven.org/maven2/com/vladsch/flexmark/flexmark/0.40.34/flexmark-0.40.34.jar\n",
      "Downloaded https://repo1.maven.org/maven2/com/vladsch/flexmark/flexmark/0.40.34/flexmark-0.40.34.jar\n",
      "Downloading https://repo1.maven.org/maven2/com/vladsch/flexmark/flexmark-ext-macros/0.40.34/flexmark-ext-macros-0.40.34.jar\n",
      "Downloaded https://repo1.maven.org/maven2/com/vladsch/flexmark/flexmark-ext-macros/0.40.34/flexmark-ext-macros-0.40.34.jar\n",
      "Downloading https://repo1.maven.org/maven2/com/vladsch/flexmark/flexmark-html-parser/0.40.34/flexmark-html-parser-0.40.34.jar\n",
      "Downloaded https://repo1.maven.org/maven2/com/vladsch/flexmark/flexmark-html-parser/0.40.34/flexmark-html-parser-0.40.34.jar\n",
      "Downloading https://repo1.maven.org/maven2/org/apache/pdfbox/pdfbox/2.0.14/pdfbox-2.0.14.jar\n",
      "Downloaded https://repo1.maven.org/maven2/org/typelevel/cats-kernel_2.12/1.0.1/cats-kernel_2.12-1.0.1.jar\n",
      "Downloading https://repo1.maven.org/maven2/org/apache/pdfbox/xmpbox/2.0.14/xmpbox-2.0.14.jar\n",
      "Downloaded https://repo1.maven.org/maven2/com/thesamet/scalapb/scalapb-runtime_2.12/0.9.0/scalapb-runtime_2.12-0.9.0.jar\n",
      "Downloading https://repo1.maven.org/maven2/commons-logging/commons-logging/1.2/commons-logging-1.2.jar\n",
      "Downloaded https://repo1.maven.org/maven2/org/apache/pdfbox/xmpbox/2.0.14/xmpbox-2.0.14.jar\n",
      "Downloading https://repo1.maven.org/maven2/com/openhtmltopdf/openhtmltopdf-pdfbox/0.0.1-RC19/openhtmltopdf-pdfbox-0.0.1-RC19.jar\n",
      "Downloaded https://repo1.maven.org/maven2/com/google/protobuf/protobuf-java/3.7.1/protobuf-java-3.7.1.jar\n",
      "Downloading https://repo1.maven.org/maven2/com/vladsch/flexmark/flexmark-ext-yaml-front-matter/0.40.34/flexmark-ext-yaml-front-matter-0.40.34.jar\n",
      "Downloaded https://repo1.maven.org/maven2/com/vladsch/flexmark/flexmark-ext-yaml-front-matter/0.40.34/flexmark-ext-yaml-front-matter-0.40.34.jar\n",
      "Downloading https://repo1.maven.org/maven2/org/jsoup/jsoup/1.10.2/jsoup-1.10.2.jar\n",
      "Downloaded https://repo1.maven.org/maven2/commons-logging/commons-logging/1.2/commons-logging-1.2.jar\n",
      "Downloading https://repo1.maven.org/maven2/org/apache/pdfbox/fontbox/2.0.14/fontbox-2.0.14.jar\n",
      "Downloaded https://repo1.maven.org/maven2/com/openhtmltopdf/openhtmltopdf-pdfbox/0.0.1-RC19/openhtmltopdf-pdfbox-0.0.1-RC19.jar\n",
      "Downloading https://repo1.maven.org/maven2/com/vladsch/flexmark/flexmark-ext-toc/0.40.34/flexmark-ext-toc-0.40.34.jar\n",
      "Downloaded https://repo1.maven.org/maven2/org/jsoup/jsoup/1.10.2/jsoup-1.10.2.jar\n",
      "Downloading https://repo1.maven.org/maven2/com/vladsch/flexmark/flexmark-ext-xwiki-macros/0.40.34/flexmark-ext-xwiki-macros-0.40.34.jar\n",
      "Downloaded https://repo1.maven.org/maven2/com/vladsch/flexmark/flexmark-ext-xwiki-macros/0.40.34/flexmark-ext-xwiki-macros-0.40.34.jar\n"
     ]
    },
    {
     "name": "stderr",
     "output_type": "stream",
     "text": [
      "Downloading https://repo1.maven.org/maven2/com/ibm/icu/icu4j/59.1/icu4j-59.1.jar\n",
      "Downloaded https://repo1.maven.org/maven2/com/vladsch/flexmark/flexmark-ext-toc/0.40.34/flexmark-ext-toc-0.40.34.jar\n",
      "Downloading https://repo1.maven.org/maven2/com/openhtmltopdf/openhtmltopdf-rtl-support/0.0.1-RC19/openhtmltopdf-rtl-support-0.0.1-RC19.jar\n",
      "Downloaded https://repo1.maven.org/maven2/com/openhtmltopdf/openhtmltopdf-rtl-support/0.0.1-RC19/openhtmltopdf-rtl-support-0.0.1-RC19.jar\n",
      "Downloading https://repo1.maven.org/maven2/com/vladsch/flexmark/flexmark-ext-abbreviation/0.40.34/flexmark-ext-abbreviation-0.40.34.jar\n",
      "Downloaded https://repo1.maven.org/maven2/com/vladsch/flexmark/flexmark-ext-abbreviation/0.40.34/flexmark-ext-abbreviation-0.40.34.jar\n",
      "Downloading https://repo1.maven.org/maven2/com/openhtmltopdf/openhtmltopdf-core/0.0.1-RC19/openhtmltopdf-core-0.0.1-RC19.jar\n",
      "Downloaded https://repo1.maven.org/maven2/org/apache/pdfbox/pdfbox/2.0.14/pdfbox-2.0.14.jar\n",
      "Downloading https://repo1.maven.org/maven2/com/vladsch/flexmark/flexmark-ext-admonition/0.40.34/flexmark-ext-admonition-0.40.34.jar\n",
      "Downloaded https://repo1.maven.org/maven2/com/vladsch/flexmark/flexmark-ext-admonition/0.40.34/flexmark-ext-admonition-0.40.34.jar\n",
      "Downloading https://repo1.maven.org/maven2/com/vladsch/flexmark/flexmark-ext-gfm-tasklist/0.40.34/flexmark-ext-gfm-tasklist-0.40.34.jar\n",
      "Downloaded https://repo1.maven.org/maven2/com/vladsch/flexmark/flexmark-ext-gfm-tasklist/0.40.34/flexmark-ext-gfm-tasklist-0.40.34.jar\n",
      "Downloading https://repo1.maven.org/maven2/com/vladsch/flexmark/flexmark-pdf-converter/0.40.34/flexmark-pdf-converter-0.40.34.jar\n",
      "Downloaded https://repo1.maven.org/maven2/com/vladsch/flexmark/flexmark-pdf-converter/0.40.34/flexmark-pdf-converter-0.40.34.jar\n",
      "Downloading https://repo1.maven.org/maven2/com/vladsch/flexmark/flexmark-all/0.40.34/flexmark-all-0.40.34.jar\n",
      "Downloaded https://repo1.maven.org/maven2/com/vladsch/flexmark/flexmark-all/0.40.34/flexmark-all-0.40.34.jar\n",
      "Downloading https://repo1.maven.org/maven2/net/java/dev/jna/jna/5.3.1/jna-5.3.1.jar\n",
      "Downloaded https://repo1.maven.org/maven2/org/typelevel/cats-core_2.12/1.0.1/cats-core_2.12-1.0.1.jar\n",
      "Downloading https://repo1.maven.org/maven2/com/vladsch/flexmark/flexmark-profile-pegdown/0.40.34/flexmark-profile-pegdown-0.40.34.jar\n",
      "Downloaded https://repo1.maven.org/maven2/com/vladsch/flexmark/flexmark-profile-pegdown/0.40.34/flexmark-profile-pegdown-0.40.34.jar\n",
      "Downloading https://repo1.maven.org/maven2/org/jboss/logging/jboss-logging/3.4.0.Final/jboss-logging-3.4.0.Final.jar\n",
      "Downloaded https://repo1.maven.org/maven2/org/apache/pdfbox/fontbox/2.0.14/fontbox-2.0.14.jar\n",
      "Downloading https://repo1.maven.org/maven2/org/slf4j/slf4j-api/1.8.0-beta4/slf4j-api-1.8.0-beta4.jar\n",
      "Downloaded https://repo1.maven.org/maven2/com/openhtmltopdf/openhtmltopdf-core/0.0.1-RC19/openhtmltopdf-core-0.0.1-RC19.jar\n",
      "Downloading https://repo1.maven.org/maven2/org/wildfly/client/wildfly-client-config/1.0.0.Final/wildfly-client-config-1.0.0.Final.jar\n",
      "Downloaded https://repo1.maven.org/maven2/org/jboss/logging/jboss-logging/3.4.0.Final/jboss-logging-3.4.0.Final.jar\n",
      "Downloading https://repo1.maven.org/maven2/io/methvin/directory-watcher/0.9.6/directory-watcher-0.9.6.jar\n",
      "Downloaded https://repo1.maven.org/maven2/org/slf4j/slf4j-api/1.8.0-beta4/slf4j-api-1.8.0-beta4.jar\n",
      "Downloading https://repo1.maven.org/maven2/org/wildfly/common/wildfly-common/1.5.2.Final/wildfly-common-1.5.2.Final.jar\n",
      "Downloaded https://repo1.maven.org/maven2/io/methvin/directory-watcher/0.9.6/directory-watcher-0.9.6.jar\n",
      "Downloading https://repo1.maven.org/maven2/com/vladsch/flexmark/flexmark-ext-gfm-issues/0.40.34/flexmark-ext-gfm-issues-0.40.34.jar\n",
      "Downloaded https://repo1.maven.org/maven2/org/wildfly/client/wildfly-client-config/1.0.0.Final/wildfly-client-config-1.0.0.Final.jar\n",
      "Downloading https://repo1.maven.org/maven2/me/xdrop/fuzzywuzzy/1.2.0/fuzzywuzzy-1.2.0.jar\n",
      "Downloaded https://repo1.maven.org/maven2/com/vladsch/flexmark/flexmark-ext-gfm-issues/0.40.34/flexmark-ext-gfm-issues-0.40.34.jar\n",
      "Downloading https://repo1.maven.org/maven2/org/jboss/xnio/xnio-nio/3.7.7.Final/xnio-nio-3.7.7.Final.jar\n",
      "Downloaded https://repo1.maven.org/maven2/me/xdrop/fuzzywuzzy/1.2.0/fuzzywuzzy-1.2.0.jar\n",
      "Downloading https://repo1.maven.org/maven2/org/jboss/xnio/xnio-api/3.7.7.Final/xnio-api-3.7.7.Final.jar\n",
      "Downloaded https://repo1.maven.org/maven2/org/jboss/xnio/xnio-nio/3.7.7.Final/xnio-nio-3.7.7.Final.jar\n",
      "Downloading https://repo1.maven.org/maven2/io/undertow/undertow-core/2.0.28.Final/undertow-core-2.0.28.Final.jar\n",
      "Downloaded https://repo1.maven.org/maven2/org/wildfly/common/wildfly-common/1.5.2.Final/wildfly-common-1.5.2.Final.jar\n",
      "Downloading https://repo1.maven.org/maven2/com/lihaoyi/ammonite-ops_2.12/2.0.4/ammonite-ops_2.12-2.0.4.jar\n",
      "Downloaded https://repo1.maven.org/maven2/com/lihaoyi/ammonite-ops_2.12/2.0.4/ammonite-ops_2.12-2.0.4.jar\n",
      "Downloading https://repo1.maven.org/maven2/com/lihaoyi/ammonite-util_2.12/2.0.4/ammonite-util_2.12-2.0.4.jar\n",
      "Downloaded https://repo1.maven.org/maven2/net/java/dev/jna/jna/5.3.1/jna-5.3.1.jar\n",
      "Downloading https://repo1.maven.org/maven2/org/scalameta/fastparse-utils_2.12/1.0.1/fastparse-utils_2.12-1.0.1.jar\n",
      "Downloaded https://repo1.maven.org/maven2/com/lihaoyi/ammonite-util_2.12/2.0.4/ammonite-util_2.12-2.0.4.jar\n",
      "Downloading https://repo1.maven.org/maven2/com/vladsch/flexmark/flexmark-youtrack-converter/0.40.34/flexmark-youtrack-converter-0.40.34.jar\n",
      "Downloaded https://repo1.maven.org/maven2/org/scalameta/fastparse-utils_2.12/1.0.1/fastparse-utils_2.12-1.0.1.jar\n",
      "Downloading https://repo1.maven.org/maven2/com/vladsch/flexmark/flexmark-ext-gitlab/0.40.34/flexmark-ext-gitlab-0.40.34.jar\n",
      "Downloaded https://repo1.maven.org/maven2/com/vladsch/flexmark/flexmark-ext-gitlab/0.40.34/flexmark-ext-gitlab-0.40.34.jar\n",
      "Downloading https://repo1.maven.org/maven2/com/lihaoyi/upickle_2.12/0.9.8/upickle_2.12-0.9.8.jar\n",
      "Downloaded https://repo1.maven.org/maven2/com/vladsch/flexmark/flexmark-youtrack-converter/0.40.34/flexmark-youtrack-converter-0.40.34.jar\n",
      "Downloading https://repo1.maven.org/maven2/de/rototor/pdfbox/graphics2d/0.21/graphics2d-0.21.jar\n",
      "Downloaded https://repo1.maven.org/maven2/com/lihaoyi/upickle_2.12/0.9.8/upickle_2.12-0.9.8.jar\n",
      "Downloading https://repo1.maven.org/maven2/com/lihaoyi/upickle-implicits_2.12/0.9.8/upickle-implicits_2.12-0.9.8.jar\n",
      "Downloaded https://repo1.maven.org/maven2/de/rototor/pdfbox/graphics2d/0.21/graphics2d-0.21.jar\n",
      "Downloading https://repo1.maven.org/maven2/com/vladsch/flexmark/flexmark-ext-youtube-embedded/0.40.34/flexmark-ext-youtube-embedded-0.40.34.jar\n",
      "Downloaded https://repo1.maven.org/maven2/com/vladsch/flexmark/flexmark-ext-youtube-embedded/0.40.34/flexmark-ext-youtube-embedded-0.40.34.jar\n",
      "Downloading https://repo1.maven.org/maven2/com/lihaoyi/ujson_2.12/0.9.8/ujson_2.12-0.9.8.jar\n",
      "Downloaded https://repo1.maven.org/maven2/com/lihaoyi/upickle-implicits_2.12/0.9.8/upickle-implicits_2.12-0.9.8.jar\n",
      "Downloading https://repo1.maven.org/maven2/com/lihaoyi/os-lib_2.12/0.6.3/os-lib_2.12-0.6.3.jar\n",
      "Downloaded https://repo1.maven.org/maven2/org/scalameta/trees_2.12/4.3.0/trees_2.12-4.3.0.jar\n",
      "Downloading https://repo1.maven.org/maven2/org/jboss/threads/jboss-threads/2.3.0.Beta2/jboss-threads-2.3.0.Beta2.jar\n",
      "Downloaded https://repo1.maven.org/maven2/com/lihaoyi/ujson_2.12/0.9.8/ujson_2.12-0.9.8.jar\n",
      "Downloading https://repo1.maven.org/maven2/com/lihaoyi/upack_2.12/0.9.8/upack_2.12-0.9.8.jar\n",
      "Downloaded https://repo1.maven.org/maven2/org/jboss/xnio/xnio-api/3.7.7.Final/xnio-api-3.7.7.Final.jar\n",
      "Downloading https://repo1.maven.org/maven2/com/lihaoyi/requests_2.12/0.5.0/requests_2.12-0.5.0.jar\n",
      "Downloaded https://repo1.maven.org/maven2/com/lihaoyi/os-lib_2.12/0.6.3/os-lib_2.12-0.6.3.jar\n",
      "Downloading https://repo1.maven.org/maven2/com/lihaoyi/upickle-core_2.12/0.9.8/upickle-core_2.12-0.9.8.jar\n",
      "Downloaded https://repo1.maven.org/maven2/com/lihaoyi/upack_2.12/0.9.8/upack_2.12-0.9.8.jar\n",
      "Downloading https://repo1.maven.org/maven2/com/openhtmltopdf/openhtmltopdf-jsoup-dom-converter/0.0.1-RC19/openhtmltopdf-jsoup-dom-converter-0.0.1-RC19.jar\n",
      "Downloaded https://repo1.maven.org/maven2/com/lihaoyi/upickle-core_2.12/0.9.8/upickle-core_2.12-0.9.8.jar\n",
      "Downloading https://repo1.maven.org/maven2/io/get-coursier/interface/0.0.8/interface-0.0.8.jar\n"
     ]
    },
    {
     "name": "stderr",
     "output_type": "stream",
     "text": [
      "Downloaded https://repo1.maven.org/maven2/com/openhtmltopdf/openhtmltopdf-jsoup-dom-converter/0.0.1-RC19/openhtmltopdf-jsoup-dom-converter-0.0.1-RC19.jar\n",
      "Downloading https://repo1.maven.org/maven2/com/lihaoyi/ammonite-repl-api_2.12.10/2.0.4/ammonite-repl-api_2.12.10-2.0.4.jar\n",
      "Downloaded https://repo1.maven.org/maven2/com/lihaoyi/requests_2.12/0.5.0/requests_2.12-0.5.0.jar\n",
      "Downloading https://repo1.maven.org/maven2/org/scalameta/mdoc_2.12/2.1.1/mdoc_2.12-2.1.1.jar\n",
      "Downloaded https://repo1.maven.org/maven2/org/jboss/threads/jboss-threads/2.3.0.Beta2/jboss-threads-2.3.0.Beta2.jar\n",
      "Downloading https://repo1.maven.org/maven2/com/lihaoyi/ammonite-interp-api_2.12.10/2.0.4/ammonite-interp-api_2.12.10-2.0.4.jar\n",
      "Downloaded https://repo1.maven.org/maven2/com/lihaoyi/ammonite-interp-api_2.12.10/2.0.4/ammonite-interp-api_2.12.10-2.0.4.jar\n",
      "Downloading https://repo1.maven.org/maven2/com/lihaoyi/ammonite-runtime_2.12.10/2.0.4/ammonite-runtime_2.12.10-2.0.4.jar\n",
      "Downloaded https://repo1.maven.org/maven2/com/lihaoyi/ammonite-repl-api_2.12.10/2.0.4/ammonite-repl-api_2.12.10-2.0.4.jar\n",
      "Downloading https://repo1.maven.org/maven2/com/lihaoyi/ammonite-terminal_2.12/2.0.4/ammonite-terminal_2.12-2.0.4.jar\n",
      "Downloaded https://repo1.maven.org/maven2/com/lihaoyi/ammonite-runtime_2.12.10/2.0.4/ammonite-runtime_2.12.10-2.0.4.jar\n",
      "Downloading https://repo1.maven.org/maven2/com/lihaoyi/scalaparse_2.12/2.2.3/scalaparse_2.12-2.2.3.jar\n",
      "Downloaded https://repo1.maven.org/maven2/com/lihaoyi/ammonite-terminal_2.12/2.0.4/ammonite-terminal_2.12-2.0.4.jar\n",
      "Downloading https://repo1.maven.org/maven2/com/lihaoyi/ammonite-interp_2.12.10/2.0.4/ammonite-interp_2.12.10-2.0.4.jar\n",
      "Downloaded https://repo1.maven.org/maven2/org/scalameta/mdoc_2.12/2.1.1/mdoc_2.12-2.1.1.jar\n",
      "Downloading https://repo1.maven.org/maven2/com/lihaoyi/ammonite-repl_2.12.10/2.0.4/ammonite-repl_2.12.10-2.0.4.jar\n",
      "Downloaded https://repo1.maven.org/maven2/com/lihaoyi/scalaparse_2.12/2.2.3/scalaparse_2.12-2.2.3.jar\n",
      "Downloading https://dl.bintray.com/rainier/maven/com/stripe/rainier-notebook_2.12/0.3.2/rainier-notebook_2.12-0.3.2.jar\n",
      "Downloaded https://repo1.maven.org/maven2/io/undertow/undertow-core/2.0.28.Final/undertow-core-2.0.28.Final.jar\n",
      "Downloading https://repo1.maven.org/maven2/io/circe/circe-numbers_2.12/0.9.0/circe-numbers_2.12-0.9.0-sources.jar\n",
      "Downloaded https://repo1.maven.org/maven2/io/circe/circe-numbers_2.12/0.9.0/circe-numbers_2.12-0.9.0-sources.jar\n",
      "Downloading https://repo1.maven.org/maven2/org/typelevel/machinist_2.12/0.6.2/machinist_2.12-0.6.2-sources.jar\n",
      "Downloaded https://repo1.maven.org/maven2/com/lihaoyi/ammonite-interp_2.12.10/2.0.4/ammonite-interp_2.12.10-2.0.4.jar\n",
      "Downloading https://repo1.maven.org/maven2/org/typelevel/cats-core_2.12/1.0.1/cats-core_2.12-1.0.1-sources.jar\n",
      "Downloaded https://repo1.maven.org/maven2/org/typelevel/machinist_2.12/0.6.2/machinist_2.12-0.6.2-sources.jar\n",
      "Downloading https://repo1.maven.org/maven2/org/typelevel/cats-kernel_2.12/1.0.1/cats-kernel_2.12-1.0.1-sources.jar\n",
      "Downloaded https://repo1.maven.org/maven2/org/typelevel/cats-kernel_2.12/1.0.1/cats-kernel_2.12-1.0.1-sources.jar\n",
      "Downloading https://repo1.maven.org/maven2/io/circe/circe-core_2.12/0.9.0/circe-core_2.12-0.9.0-sources.jar\n",
      "Downloaded https://repo1.maven.org/maven2/com/lihaoyi/ammonite-repl_2.12.10/2.0.4/ammonite-repl_2.12.10-2.0.4.jar\n",
      "Downloading https://repo1.maven.org/maven2/org/typelevel/macro-compat_2.12/1.1.1/macro-compat_2.12-1.1.1-sources.jar\n",
      "Downloaded https://repo1.maven.org/maven2/org/typelevel/macro-compat_2.12/1.1.1/macro-compat_2.12-1.1.1-sources.jar\n",
      "Downloading https://repo1.maven.org/maven2/com/chuusai/shapeless_2.12/2.3.3/shapeless_2.12-2.3.3-sources.jar\n",
      "Downloaded https://repo1.maven.org/maven2/io/circe/circe-core_2.12/0.9.0/circe-core_2.12-0.9.0-sources.jar\n",
      "Downloading https://repo1.maven.org/maven2/org/spire-math/jawn-parser_2.12/0.11.0/jawn-parser_2.12-0.11.0-sources.jar\n",
      "Downloaded https://repo1.maven.org/maven2/org/spire-math/jawn-parser_2.12/0.11.0/jawn-parser_2.12-0.11.0-sources.jar\n",
      "Downloading https://repo1.maven.org/maven2/io/circe/circe-generic_2.12/0.9.0/circe-generic_2.12-0.9.0-sources.jar\n",
      "Downloaded https://dl.bintray.com/rainier/maven/com/stripe/rainier-notebook_2.12/0.3.2/rainier-notebook_2.12-0.3.2.jar\n",
      "Downloading https://repo1.maven.org/maven2/org/typelevel/cats-macros_2.12/1.0.1/cats-macros_2.12-1.0.1-sources.jar\n",
      "Downloaded https://repo1.maven.org/maven2/io/circe/circe-generic_2.12/0.9.0/circe-generic_2.12-0.9.0-sources.jar\n",
      "Downloading https://repo1.maven.org/maven2/io/circe/circe-jawn_2.12/0.9.0/circe-jawn_2.12-0.9.0-sources.jar\n",
      "Downloaded https://repo1.maven.org/maven2/org/typelevel/cats-macros_2.12/1.0.1/cats-macros_2.12-1.0.1-sources.jar\n",
      "Downloading https://repo1.maven.org/maven2/com/lihaoyi/sourcecode_2.12/0.2.0/sourcecode_2.12-0.2.0-sources.jar\n",
      "Downloaded https://repo1.maven.org/maven2/org/typelevel/cats-core_2.12/1.0.1/cats-core_2.12-1.0.1-sources.jar\n",
      "Downloading https://repo1.maven.org/maven2/com/lihaoyi/geny_2.12/0.5.0/geny_2.12-0.5.0-sources.jar\n",
      "Downloaded https://repo1.maven.org/maven2/io/circe/circe-jawn_2.12/0.9.0/circe-jawn_2.12-0.9.0-sources.jar\n",
      "Downloading https://repo1.maven.org/maven2/io/circe/circe-generic-extras_2.12/0.9.0/circe-generic-extras_2.12-0.9.0-sources.jar\n",
      "Downloaded https://repo1.maven.org/maven2/com/lihaoyi/sourcecode_2.12/0.2.0/sourcecode_2.12-0.2.0-sources.jar\n",
      "Downloading https://repo1.maven.org/maven2/com/lihaoyi/fastparse_2.12/2.2.3/fastparse_2.12-2.2.3-sources.jar\n",
      "Downloaded https://repo1.maven.org/maven2/com/lihaoyi/geny_2.12/0.5.0/geny_2.12-0.5.0-sources.jar\n",
      "Downloading https://repo1.maven.org/maven2/io/circe/circe-parser_2.12/0.9.0/circe-parser_2.12-0.9.0-sources.jar\n",
      "Downloaded https://repo1.maven.org/maven2/io/circe/circe-generic-extras_2.12/0.9.0/circe-generic-extras_2.12-0.9.0-sources.jar\n",
      "Downloading https://dl.bintray.com/cibotech/public/com/cibo/evilplot_2.12/0.6.0/evilplot_2.12-0.6.0-sources.jar\n",
      "Downloaded https://repo1.maven.org/maven2/com/lihaoyi/fastparse_2.12/2.2.3/fastparse_2.12-2.2.3-sources.jar\n",
      "Downloading https://repo1.maven.org/maven2/org/scalameta/common_2.12/4.3.0/common_2.12-4.3.0-sources.jar\n",
      "Downloaded https://repo1.maven.org/maven2/io/circe/circe-parser_2.12/0.9.0/circe-parser_2.12-0.9.0-sources.jar\n",
      "Downloading https://repo1.maven.org/maven2/org/scalactic/scalactic_2.12/3.0.1/scalactic_2.12-3.0.1-sources.jar\n",
      "Downloaded https://repo1.maven.org/maven2/org/scalameta/common_2.12/4.3.0/common_2.12-4.3.0-sources.jar\n",
      "Downloading https://repo1.maven.org/maven2/com/thesamet/scalapb/lenses_2.12/0.9.0/lenses_2.12-0.9.0-sources.jar\n",
      "Downloaded https://repo1.maven.org/maven2/com/thesamet/scalapb/lenses_2.12/0.9.0/lenses_2.12-0.9.0-sources.jar\n",
      "Downloading https://repo1.maven.org/maven2/org/scalameta/fastparse-utils_2.12/1.0.1/fastparse-utils_2.12-1.0.1-sources.jar\n",
      "Downloaded https://repo1.maven.org/maven2/org/scalameta/fastparse-utils_2.12/1.0.1/fastparse-utils_2.12-1.0.1-sources.jar\n",
      "Downloading https://repo1.maven.org/maven2/com/thesamet/scalapb/scalapb-runtime_2.12/0.9.0/scalapb-runtime_2.12-0.9.0-sources.jar\n",
      "Downloaded https://repo1.maven.org/maven2/com/chuusai/shapeless_2.12/2.3.3/shapeless_2.12-2.3.3-sources.jar\n",
      "Downloading https://repo1.maven.org/maven2/org/scalameta/parsers_2.12/4.3.0/parsers_2.12-4.3.0-sources.jar\n",
      "Downloaded https://repo1.maven.org/maven2/org/scalactic/scalactic_2.12/3.0.1/scalactic_2.12-3.0.1-sources.jar\n",
      "Downloading https://repo1.maven.org/maven2/org/scala-lang/scalap/2.12.10/scalap-2.12.10-sources.jar\n",
      "Downloaded https://repo1.maven.org/maven2/org/scalameta/parsers_2.12/4.3.0/parsers_2.12-4.3.0-sources.jar\n",
      "Downloading https://repo1.maven.org/maven2/com/google/protobuf/protobuf-java/3.7.1/protobuf-java-3.7.1-sources.jar\n",
      "Downloaded https://dl.bintray.com/cibotech/public/com/cibo/evilplot_2.12/0.6.0/evilplot_2.12-0.6.0-sources.jar\n",
      "Downloading https://repo1.maven.org/maven2/org/scalameta/trees_2.12/4.3.0/trees_2.12-4.3.0-sources.jar\n",
      "Downloaded https://repo1.maven.org/maven2/org/scala-lang/scalap/2.12.10/scalap-2.12.10-sources.jar\n",
      "Downloading https://repo1.maven.org/maven2/com/lihaoyi/fansi_2.12/0.2.8/fansi_2.12-0.2.8-sources.jar\n",
      "Downloaded https://repo1.maven.org/maven2/com/lihaoyi/fansi_2.12/0.2.8/fansi_2.12-0.2.8-sources.jar\n"
     ]
    },
    {
     "name": "stderr",
     "output_type": "stream",
     "text": [
      "Downloading https://repo1.maven.org/maven2/org/scalameta/mdoc-runtime_2.12/2.1.1/mdoc-runtime_2.12-2.1.1-sources.jar\n",
      "Downloaded https://repo1.maven.org/maven2/com/thesamet/scalapb/scalapb-runtime_2.12/0.9.0/scalapb-runtime_2.12-0.9.0-sources.jar\n",
      "Downloading https://repo1.maven.org/maven2/org/scalameta/mdoc-interfaces/2.1.1/mdoc-interfaces-2.1.1-sources.jar\n",
      "Downloaded https://repo1.maven.org/maven2/org/scalameta/mdoc-runtime_2.12/2.1.1/mdoc-runtime_2.12-2.1.1-sources.jar\n",
      "Downloading https://repo1.maven.org/maven2/org/scalameta/fastparse_2.12/1.0.1/fastparse_2.12-1.0.1-sources.jar\n",
      "Downloaded https://repo1.maven.org/maven2/org/scalameta/trees_2.12/4.3.0/trees_2.12-4.3.0-sources.jar\n",
      "Downloading https://repo1.maven.org/maven2/org/scalameta/scalameta_2.12/4.3.0/scalameta_2.12-4.3.0-sources.jar\n",
      "Downloaded https://repo1.maven.org/maven2/org/scalameta/mdoc-interfaces/2.1.1/mdoc-interfaces-2.1.1-sources.jar\n",
      "Downloading https://repo1.maven.org/maven2/org/typelevel/paiges-core_2.12/0.2.4/paiges-core_2.12-0.2.4-sources.jar\n",
      "Downloaded https://repo1.maven.org/maven2/org/scalameta/fastparse_2.12/1.0.1/fastparse_2.12-1.0.1-sources.jar\n",
      "Downloading https://repo1.maven.org/maven2/org/scala-lang/modules/scala-collection-compat_2.12/2.1.3/scala-collection-compat_2.12-2.1.3-sources.jar\n",
      "Downloaded https://repo1.maven.org/maven2/org/typelevel/paiges-core_2.12/0.2.4/paiges-core_2.12-0.2.4-sources.jar\n",
      "Downloading https://repo1.maven.org/maven2/com/vladsch/flexmark/flexmark-ext-admonition/0.40.34/flexmark-ext-admonition-0.40.34-sources.jar\n",
      "Downloaded https://repo1.maven.org/maven2/org/scala-lang/modules/scala-collection-compat_2.12/2.1.3/scala-collection-compat_2.12-2.1.3-sources.jar\n",
      "Downloading https://repo1.maven.org/maven2/com/typesafe/config/1.2.1/config-1.2.1-sources.jar\n",
      "Downloaded https://repo1.maven.org/maven2/com/vladsch/flexmark/flexmark-ext-admonition/0.40.34/flexmark-ext-admonition-0.40.34-sources.jar\n",
      "Downloading https://repo1.maven.org/maven2/com/vladsch/flexmark/flexmark-util/0.40.34/flexmark-util-0.40.34-sources.jar\n",
      "Downloaded https://repo1.maven.org/maven2/org/scalameta/scalameta_2.12/4.3.0/scalameta_2.12-4.3.0-sources.jar\n",
      "Downloading https://repo1.maven.org/maven2/com/googlecode/java-diff-utils/diffutils/1.3.0/diffutils-1.3.0-sources.jar\n",
      "Downloaded https://repo1.maven.org/maven2/com/googlecode/java-diff-utils/diffutils/1.3.0/diffutils-1.3.0-sources.jar\n",
      "Downloading https://repo1.maven.org/maven2/org/nibor/autolink/autolink/0.6.0/autolink-0.6.0-sources.jar\n",
      "Downloaded https://repo1.maven.org/maven2/org/nibor/autolink/autolink/0.6.0/autolink-0.6.0-sources.jar\n",
      "Downloading https://repo1.maven.org/maven2/com/vladsch/flexmark/flexmark-ext-gfm-strikethrough/0.40.34/flexmark-ext-gfm-strikethrough-0.40.34-sources.jar\n",
      "Downloaded https://repo1.maven.org/maven2/com/typesafe/config/1.2.1/config-1.2.1-sources.jar\n",
      "Downloading https://repo1.maven.org/maven2/com/geirsson/metaconfig-typesafe-config_2.12/0.9.4/metaconfig-typesafe-config_2.12-0.9.4-sources.jar\n",
      "Downloaded https://repo1.maven.org/maven2/com/vladsch/flexmark/flexmark-ext-gfm-strikethrough/0.40.34/flexmark-ext-gfm-strikethrough-0.40.34-sources.jar\n",
      "Downloading https://repo1.maven.org/maven2/com/vladsch/flexmark/flexmark-formatter/0.40.34/flexmark-formatter-0.40.34-sources.jar\n",
      "Downloaded https://repo1.maven.org/maven2/com/geirsson/metaconfig-typesafe-config_2.12/0.9.4/metaconfig-typesafe-config_2.12-0.9.4-sources.jar\n",
      "Downloading https://repo1.maven.org/maven2/com/vladsch/flexmark/flexmark-ext-anchorlink/0.40.34/flexmark-ext-anchorlink-0.40.34-sources.jar\n",
      "Downloaded https://repo1.maven.org/maven2/com/vladsch/flexmark/flexmark-ext-anchorlink/0.40.34/flexmark-ext-anchorlink-0.40.34-sources.jar\n",
      "Downloading https://repo1.maven.org/maven2/com/vladsch/flexmark/flexmark-ext-tables/0.40.34/flexmark-ext-tables-0.40.34-sources.jar\n",
      "Downloaded https://repo1.maven.org/maven2/com/vladsch/flexmark/flexmark-formatter/0.40.34/flexmark-formatter-0.40.34-sources.jar\n",
      "Downloading https://repo1.maven.org/maven2/com/vladsch/flexmark/flexmark-ext-ins/0.40.34/flexmark-ext-ins-0.40.34-sources.jar\n",
      "Downloaded https://repo1.maven.org/maven2/com/vladsch/flexmark/flexmark-ext-ins/0.40.34/flexmark-ext-ins-0.40.34-sources.jar\n",
      "Downloading https://repo1.maven.org/maven2/com/vladsch/flexmark/flexmark-ext-abbreviation/0.40.34/flexmark-ext-abbreviation-0.40.34-sources.jar\n",
      "Downloaded https://repo1.maven.org/maven2/com/vladsch/flexmark/flexmark-ext-tables/0.40.34/flexmark-ext-tables-0.40.34-sources.jar\n",
      "Downloading https://repo1.maven.org/maven2/com/vladsch/flexmark/flexmark-ext-autolink/0.40.34/flexmark-ext-autolink-0.40.34-sources.jar\n",
      "Downloaded https://repo1.maven.org/maven2/com/vladsch/flexmark/flexmark-ext-abbreviation/0.40.34/flexmark-ext-abbreviation-0.40.34-sources.jar\n",
      "Downloading https://repo1.maven.org/maven2/com/vladsch/flexmark/flexmark-ext-emoji/0.40.34/flexmark-ext-emoji-0.40.34-sources.jar\n",
      "Downloaded https://repo1.maven.org/maven2/com/vladsch/flexmark/flexmark-ext-autolink/0.40.34/flexmark-ext-autolink-0.40.34-sources.jar\n",
      "Downloading https://repo1.maven.org/maven2/com/vladsch/flexmark/flexmark-jira-converter/0.40.34/flexmark-jira-converter-0.40.34-sources.jar\n",
      "Downloaded https://repo1.maven.org/maven2/com/vladsch/flexmark/flexmark-util/0.40.34/flexmark-util-0.40.34-sources.jar\n",
      "Downloading https://repo1.maven.org/maven2/com/vladsch/flexmark/flexmark-ext-definition/0.40.34/flexmark-ext-definition-0.40.34-sources.jar\n",
      "Downloaded https://repo1.maven.org/maven2/com/vladsch/flexmark/flexmark-jira-converter/0.40.34/flexmark-jira-converter-0.40.34-sources.jar\n",
      "Downloading https://repo1.maven.org/maven2/com/vladsch/flexmark/flexmark-ext-enumerated-reference/0.40.34/flexmark-ext-enumerated-reference-0.40.34-sources.jar\n",
      "Downloaded https://repo1.maven.org/maven2/com/vladsch/flexmark/flexmark-ext-emoji/0.40.34/flexmark-ext-emoji-0.40.34-sources.jar\n",
      "Downloading https://repo1.maven.org/maven2/com/vladsch/flexmark/flexmark-ext-aside/0.40.34/flexmark-ext-aside-0.40.34-sources.jar\n",
      "Downloaded https://repo1.maven.org/maven2/com/vladsch/flexmark/flexmark-ext-definition/0.40.34/flexmark-ext-definition-0.40.34-sources.jar\n",
      "Downloading https://repo1.maven.org/maven2/com/vladsch/flexmark/flexmark-ext-escaped-character/0.40.34/flexmark-ext-escaped-character-0.40.34-sources.jar\n",
      "Downloaded https://repo1.maven.org/maven2/com/vladsch/flexmark/flexmark-ext-aside/0.40.34/flexmark-ext-aside-0.40.34-sources.jar\n",
      "Downloading https://repo1.maven.org/maven2/com/vladsch/flexmark/flexmark-ext-attributes/0.40.34/flexmark-ext-attributes-0.40.34-sources.jar\n",
      "Downloaded https://repo1.maven.org/maven2/com/vladsch/flexmark/flexmark-ext-enumerated-reference/0.40.34/flexmark-ext-enumerated-reference-0.40.34-sources.jar\n",
      "Downloading https://repo1.maven.org/maven2/com/vladsch/flexmark/flexmark-ext-gfm-users/0.40.34/flexmark-ext-gfm-users-0.40.34-sources.jar\n",
      "Downloaded https://repo1.maven.org/maven2/com/vladsch/flexmark/flexmark-ext-escaped-character/0.40.34/flexmark-ext-escaped-character-0.40.34-sources.jar\n",
      "Downloading https://repo1.maven.org/maven2/com/vladsch/flexmark/flexmark-ext-footnotes/0.40.34/flexmark-ext-footnotes-0.40.34-sources.jar\n",
      "Downloaded https://repo1.maven.org/maven2/com/vladsch/flexmark/flexmark-ext-gfm-users/0.40.34/flexmark-ext-gfm-users-0.40.34-sources.jar\n",
      "Downloading https://repo1.maven.org/maven2/com/vladsch/flexmark/flexmark-ext-gfm-tables/0.40.34/flexmark-ext-gfm-tables-0.40.34-sources.jar\n",
      "Downloaded https://repo1.maven.org/maven2/com/vladsch/flexmark/flexmark-ext-gfm-tables/0.40.34/flexmark-ext-gfm-tables-0.40.34-sources.jar\n",
      "Downloading https://repo1.maven.org/maven2/com/lihaoyi/pprint_2.12/0.5.8/pprint_2.12-0.5.8-sources.jar\n",
      "Downloaded https://repo1.maven.org/maven2/com/vladsch/flexmark/flexmark-ext-attributes/0.40.34/flexmark-ext-attributes-0.40.34-sources.jar\n",
      "Downloading https://repo1.maven.org/maven2/com/vladsch/flexmark/flexmark-ext-gfm-tasklist/0.40.34/flexmark-ext-gfm-tasklist-0.40.34-sources.jar\n",
      "Downloaded https://repo1.maven.org/maven2/com/vladsch/flexmark/flexmark-ext-footnotes/0.40.34/flexmark-ext-footnotes-0.40.34-sources.jar\n",
      "Downloading https://repo1.maven.org/maven2/com/vladsch/flexmark/flexmark-ext-xwiki-macros/0.40.34/flexmark-ext-xwiki-macros-0.40.34-sources.jar\n"
     ]
    },
    {
     "name": "stderr",
     "output_type": "stream",
     "text": [
      "Downloaded https://repo1.maven.org/maven2/com/lihaoyi/pprint_2.12/0.5.8/pprint_2.12-0.5.8-sources.jar\n",
      "Downloading https://repo1.maven.org/maven2/com/vladsch/flexmark/flexmark-ext-media-tags/0.40.34/flexmark-ext-media-tags-0.40.34-sources.jar\n",
      "Downloaded https://repo1.maven.org/maven2/com/vladsch/flexmark/flexmark-ext-gfm-tasklist/0.40.34/flexmark-ext-gfm-tasklist-0.40.34-sources.jar\n",
      "Downloading https://repo1.maven.org/maven2/org/scala-lang/modules/scala-xml_2.12/1.2.0/scala-xml_2.12-1.2.0-sources.jar\n",
      "Downloaded https://repo1.maven.org/maven2/com/vladsch/flexmark/flexmark-ext-media-tags/0.40.34/flexmark-ext-media-tags-0.40.34-sources.jar\n",
      "Downloading https://repo1.maven.org/maven2/com/vladsch/flexmark/flexmark-ext-gitlab/0.40.34/flexmark-ext-gitlab-0.40.34-sources.jar\n",
      "Downloaded https://repo1.maven.org/maven2/com/vladsch/flexmark/flexmark-ext-xwiki-macros/0.40.34/flexmark-ext-xwiki-macros-0.40.34-sources.jar\n",
      "Downloading https://repo1.maven.org/maven2/com/vladsch/flexmark/flexmark-ext-jekyll-tag/0.40.34/flexmark-ext-jekyll-tag-0.40.34-sources.jar\n",
      "Downloaded https://repo1.maven.org/maven2/com/vladsch/flexmark/flexmark-ext-gitlab/0.40.34/flexmark-ext-gitlab-0.40.34-sources.jar\n",
      "Downloading https://repo1.maven.org/maven2/com/openhtmltopdf/openhtmltopdf-core/0.0.1-RC19/openhtmltopdf-core-0.0.1-RC19-sources.jar\n",
      "Downloaded https://repo1.maven.org/maven2/com/vladsch/flexmark/flexmark-ext-jekyll-tag/0.40.34/flexmark-ext-jekyll-tag-0.40.34-sources.jar\n",
      "Downloading https://repo1.maven.org/maven2/com/vladsch/flexmark/flexmark-ext-toc/0.40.34/flexmark-ext-toc-0.40.34-sources.jar\n",
      "Downloaded https://repo1.maven.org/maven2/com/vladsch/flexmark/flexmark-ext-toc/0.40.34/flexmark-ext-toc-0.40.34-sources.jar\n",
      "Downloading https://repo1.maven.org/maven2/org/apache/pdfbox/xmpbox/2.0.14/xmpbox-2.0.14-sources.jar\n",
      "Downloaded https://repo1.maven.org/maven2/org/scala-lang/modules/scala-xml_2.12/1.2.0/scala-xml_2.12-1.2.0-sources.jar\n",
      "Downloading https://repo1.maven.org/maven2/com/vladsch/flexmark/flexmark-html-parser/0.40.34/flexmark-html-parser-0.40.34-sources.jar\n",
      "Downloaded https://repo1.maven.org/maven2/com/vladsch/flexmark/flexmark-html-parser/0.40.34/flexmark-html-parser-0.40.34-sources.jar\n",
      "Downloading https://repo1.maven.org/maven2/com/vladsch/flexmark/flexmark-ext-typographic/0.40.34/flexmark-ext-typographic-0.40.34-sources.jar\n",
      "Downloaded https://repo1.maven.org/maven2/com/vladsch/flexmark/flexmark-ext-typographic/0.40.34/flexmark-ext-typographic-0.40.34-sources.jar\n",
      "Downloading https://repo1.maven.org/maven2/de/rototor/pdfbox/graphics2d/0.21/graphics2d-0.21-sources.jar\n",
      "Downloaded https://repo1.maven.org/maven2/de/rototor/pdfbox/graphics2d/0.21/graphics2d-0.21-sources.jar\n",
      "Downloading https://repo1.maven.org/maven2/org/apache/pdfbox/pdfbox/2.0.14/pdfbox-2.0.14-sources.jar\n",
      "Downloaded https://repo1.maven.org/maven2/org/apache/pdfbox/xmpbox/2.0.14/xmpbox-2.0.14-sources.jar\n",
      "Downloading https://repo1.maven.org/maven2/com/openhtmltopdf/openhtmltopdf-rtl-support/0.0.1-RC19/openhtmltopdf-rtl-support-0.0.1-RC19-sources.jar\n",
      "Downloaded https://repo1.maven.org/maven2/com/google/protobuf/protobuf-java/3.7.1/protobuf-java-3.7.1-sources.jar\n",
      "Downloading https://repo1.maven.org/maven2/com/vladsch/flexmark/flexmark-profile-pegdown/0.40.34/flexmark-profile-pegdown-0.40.34-sources.jar\n",
      "Downloaded https://repo1.maven.org/maven2/com/vladsch/flexmark/flexmark-profile-pegdown/0.40.34/flexmark-profile-pegdown-0.40.34-sources.jar\n",
      "Downloading https://repo1.maven.org/maven2/org/apache/pdfbox/fontbox/2.0.14/fontbox-2.0.14-sources.jar\n",
      "Downloaded https://repo1.maven.org/maven2/com/openhtmltopdf/openhtmltopdf-rtl-support/0.0.1-RC19/openhtmltopdf-rtl-support-0.0.1-RC19-sources.jar\n",
      "Downloading https://repo1.maven.org/maven2/com/ibm/icu/icu4j/59.1/icu4j-59.1-sources.jar\n",
      "Downloaded https://repo1.maven.org/maven2/io/get-coursier/interface/0.0.8/interface-0.0.8.jar\n",
      "Downloading https://repo1.maven.org/maven2/com/openhtmltopdf/openhtmltopdf-jsoup-dom-converter/0.0.1-RC19/openhtmltopdf-jsoup-dom-converter-0.0.1-RC19-sources.jar\n",
      "Downloaded https://repo1.maven.org/maven2/com/openhtmltopdf/openhtmltopdf-jsoup-dom-converter/0.0.1-RC19/openhtmltopdf-jsoup-dom-converter-0.0.1-RC19-sources.jar\n",
      "Downloading https://repo1.maven.org/maven2/com/vladsch/flexmark/flexmark-youtrack-converter/0.40.34/flexmark-youtrack-converter-0.40.34-sources.jar\n",
      "Downloaded https://repo1.maven.org/maven2/com/vladsch/flexmark/flexmark-youtrack-converter/0.40.34/flexmark-youtrack-converter-0.40.34-sources.jar\n",
      "Downloading https://repo1.maven.org/maven2/org/jboss/threads/jboss-threads/2.3.0.Beta2/jboss-threads-2.3.0.Beta2-sources.jar\n",
      "Downloaded https://repo1.maven.org/maven2/org/jboss/threads/jboss-threads/2.3.0.Beta2/jboss-threads-2.3.0.Beta2-sources.jar\n",
      "Downloading https://repo1.maven.org/maven2/io/methvin/directory-watcher/0.9.6/directory-watcher-0.9.6-sources.jar\n",
      "Downloaded https://repo1.maven.org/maven2/io/methvin/directory-watcher/0.9.6/directory-watcher-0.9.6-sources.jar\n",
      "Downloading https://repo1.maven.org/maven2/com/vladsch/flexmark/flexmark-ext-jekyll-front-matter/0.40.34/flexmark-ext-jekyll-front-matter-0.40.34-sources.jar\n",
      "Downloaded https://repo1.maven.org/maven2/com/vladsch/flexmark/flexmark-ext-jekyll-front-matter/0.40.34/flexmark-ext-jekyll-front-matter-0.40.34-sources.jar\n",
      "Downloading https://repo1.maven.org/maven2/org/wildfly/common/wildfly-common/1.5.2.Final/wildfly-common-1.5.2.Final-sources.jar\n",
      "Downloaded https://repo1.maven.org/maven2/org/wildfly/common/wildfly-common/1.5.2.Final/wildfly-common-1.5.2.Final-sources.jar\n",
      "Downloading https://repo1.maven.org/maven2/me/xdrop/fuzzywuzzy/1.2.0/fuzzywuzzy-1.2.0-sources.jar\n",
      "Downloaded https://repo1.maven.org/maven2/me/xdrop/fuzzywuzzy/1.2.0/fuzzywuzzy-1.2.0-sources.jar\n",
      "Downloading https://repo1.maven.org/maven2/com/vladsch/flexmark/flexmark-pdf-converter/0.40.34/flexmark-pdf-converter-0.40.34-sources.jar\n",
      "Downloaded https://repo1.maven.org/maven2/com/vladsch/flexmark/flexmark-pdf-converter/0.40.34/flexmark-pdf-converter-0.40.34-sources.jar\n",
      "Downloading https://repo1.maven.org/maven2/com/vladsch/flexmark/flexmark-all/0.40.34/flexmark-all-0.40.34-sources.jar\n",
      "Downloaded https://repo1.maven.org/maven2/com/vladsch/flexmark/flexmark-all/0.40.34/flexmark-all-0.40.34-sources.jar\n",
      "Downloading https://repo1.maven.org/maven2/org/jboss/logging/jboss-logging/3.4.0.Final/jboss-logging-3.4.0.Final-sources.jar\n",
      "Downloaded https://repo1.maven.org/maven2/org/jboss/logging/jboss-logging/3.4.0.Final/jboss-logging-3.4.0.Final-sources.jar\n",
      "Downloading https://repo1.maven.org/maven2/io/undertow/undertow-core/2.0.28.Final/undertow-core-2.0.28.Final-sources.jar\n",
      "Downloaded https://repo1.maven.org/maven2/com/openhtmltopdf/openhtmltopdf-core/0.0.1-RC19/openhtmltopdf-core-0.0.1-RC19-sources.jar\n",
      "Downloading https://repo1.maven.org/maven2/com/geirsson/metaconfig-core_2.12/0.9.4/metaconfig-core_2.12-0.9.4-sources.jar\n",
      "Downloaded https://repo1.maven.org/maven2/com/geirsson/metaconfig-core_2.12/0.9.4/metaconfig-core_2.12-0.9.4-sources.jar\n",
      "Downloading https://repo1.maven.org/maven2/org/jboss/xnio/xnio-nio/3.7.7.Final/xnio-nio-3.7.7.Final-sources.jar\n",
      "Downloaded https://repo1.maven.org/maven2/org/jboss/xnio/xnio-nio/3.7.7.Final/xnio-nio-3.7.7.Final-sources.jar\n",
      "Downloading https://repo1.maven.org/maven2/com/vladsch/flexmark/flexmark-ext-macros/0.40.34/flexmark-ext-macros-0.40.34-sources.jar\n",
      "Downloaded https://repo1.maven.org/maven2/com/vladsch/flexmark/flexmark-ext-macros/0.40.34/flexmark-ext-macros-0.40.34-sources.jar\n",
      "Downloading https://repo1.maven.org/maven2/org/jboss/xnio/xnio-api/3.7.7.Final/xnio-api-3.7.7.Final-sources.jar\n",
      "Downloaded https://repo1.maven.org/maven2/io/undertow/undertow-core/2.0.28.Final/undertow-core-2.0.28.Final-sources.jar\n",
      "Downloading https://repo1.maven.org/maven2/com/vladsch/flexmark/flexmark-ext-wikilink/0.40.34/flexmark-ext-wikilink-0.40.34-sources.jar\n",
      "Downloaded https://repo1.maven.org/maven2/org/apache/pdfbox/fontbox/2.0.14/fontbox-2.0.14-sources.jar\n",
      "Downloading https://repo1.maven.org/maven2/com/github/scopt/scopt_2.12/3.7.1/scopt_2.12-3.7.1-sources.jar\n",
      "Downloaded https://repo1.maven.org/maven2/com/vladsch/flexmark/flexmark-ext-wikilink/0.40.34/flexmark-ext-wikilink-0.40.34-sources.jar\n",
      "Downloading https://repo1.maven.org/maven2/org/jline/jline-terminal/3.6.2/jline-terminal-3.6.2-sources.jar\n"
     ]
    },
    {
     "name": "stderr",
     "output_type": "stream",
     "text": [
      "Downloaded https://repo1.maven.org/maven2/com/github/scopt/scopt_2.12/3.7.1/scopt_2.12-3.7.1-sources.jar\n",
      "Downloading https://repo1.maven.org/maven2/org/wildfly/client/wildfly-client-config/1.0.0.Final/wildfly-client-config-1.0.0.Final-sources.jar\n",
      "Downloaded https://repo1.maven.org/maven2/org/wildfly/client/wildfly-client-config/1.0.0.Final/wildfly-client-config-1.0.0.Final-sources.jar\n",
      "Downloading https://repo1.maven.org/maven2/org/scalameta/mdoc_2.12/2.1.1/mdoc_2.12-2.1.1-sources.jar\n",
      "Downloaded https://repo1.maven.org/maven2/org/jline/jline-terminal/3.6.2/jline-terminal-3.6.2-sources.jar\n",
      "Downloading https://repo1.maven.org/maven2/com/lihaoyi/ujson_2.12/0.9.8/ujson_2.12-0.9.8-sources.jar\n",
      "Downloaded https://repo1.maven.org/maven2/org/jboss/xnio/xnio-api/3.7.7.Final/xnio-api-3.7.7.Final-sources.jar\n",
      "Downloading https://repo1.maven.org/maven2/org/jsoup/jsoup/1.10.2/jsoup-1.10.2-sources.jar\n",
      "Downloaded https://repo1.maven.org/maven2/com/lihaoyi/ujson_2.12/0.9.8/ujson_2.12-0.9.8-sources.jar\n",
      "Downloading https://repo1.maven.org/maven2/com/github/javaparser/javaparser-core/3.2.5/javaparser-core-3.2.5-sources.jar\n",
      "Downloaded https://repo1.maven.org/maven2/org/scalameta/mdoc_2.12/2.1.1/mdoc_2.12-2.1.1-sources.jar\n",
      "Downloading https://repo1.maven.org/maven2/com/vladsch/flexmark/flexmark-ext-superscript/0.40.34/flexmark-ext-superscript-0.40.34-sources.jar\n",
      "Downloaded https://repo1.maven.org/maven2/com/vladsch/flexmark/flexmark-ext-superscript/0.40.34/flexmark-ext-superscript-0.40.34-sources.jar\n",
      "Downloading https://repo1.maven.org/maven2/org/jline/jline-terminal-jna/3.6.2/jline-terminal-jna-3.6.2-sources.jar\n",
      "Downloaded https://repo1.maven.org/maven2/org/jsoup/jsoup/1.10.2/jsoup-1.10.2-sources.jar\n",
      "Downloading https://repo1.maven.org/maven2/com/lihaoyi/ammonite-ops_2.12/2.0.4/ammonite-ops_2.12-2.0.4-sources.jar\n",
      "Downloaded https://repo1.maven.org/maven2/org/jline/jline-terminal-jna/3.6.2/jline-terminal-jna-3.6.2-sources.jar\n",
      "Downloading https://repo1.maven.org/maven2/com/vladsch/flexmark/flexmark-ext-youtube-embedded/0.40.34/flexmark-ext-youtube-embedded-0.40.34-sources.jar\n",
      "Downloaded https://repo1.maven.org/maven2/com/lihaoyi/ammonite-ops_2.12/2.0.4/ammonite-ops_2.12-2.0.4-sources.jar\n",
      "Downloading https://repo1.maven.org/maven2/commons-logging/commons-logging/1.2/commons-logging-1.2-sources.jar\n",
      "Downloaded https://repo1.maven.org/maven2/com/vladsch/flexmark/flexmark-ext-youtube-embedded/0.40.34/flexmark-ext-youtube-embedded-0.40.34-sources.jar\n",
      "Downloading https://repo1.maven.org/maven2/com/vladsch/flexmark/flexmark/0.40.34/flexmark-0.40.34-sources.jar\n",
      "Downloaded https://repo1.maven.org/maven2/org/apache/pdfbox/pdfbox/2.0.14/pdfbox-2.0.14-sources.jar\n",
      "Downloading https://repo1.maven.org/maven2/io/get-coursier/interface/0.0.8/interface-0.0.8-sources.jar\n",
      "Downloaded https://repo1.maven.org/maven2/io/get-coursier/interface/0.0.8/interface-0.0.8-sources.jar\n",
      "Downloading https://repo1.maven.org/maven2/com/lihaoyi/upickle_2.12/0.9.8/upickle_2.12-0.9.8-sources.jar\n",
      "Downloaded https://repo1.maven.org/maven2/commons-logging/commons-logging/1.2/commons-logging-1.2-sources.jar\n",
      "Downloading https://repo1.maven.org/maven2/com/lihaoyi/ammonite-repl-api_2.12.10/2.0.4/ammonite-repl-api_2.12.10-2.0.4-sources.jar\n",
      "Downloaded https://repo1.maven.org/maven2/com/lihaoyi/upickle_2.12/0.9.8/upickle_2.12-0.9.8-sources.jar\n",
      "Downloading https://repo1.maven.org/maven2/com/lihaoyi/ammonite-interp-api_2.12.10/2.0.4/ammonite-interp-api_2.12.10-2.0.4-sources.jar\n",
      "Downloaded https://repo1.maven.org/maven2/com/lihaoyi/ammonite-repl-api_2.12.10/2.0.4/ammonite-repl-api_2.12.10-2.0.4-sources.jar\n",
      "Downloading https://repo1.maven.org/maven2/com/lihaoyi/ammonite-runtime_2.12.10/2.0.4/ammonite-runtime_2.12.10-2.0.4-sources.jar\n",
      "Downloaded https://repo1.maven.org/maven2/com/vladsch/flexmark/flexmark/0.40.34/flexmark-0.40.34-sources.jar\n",
      "Downloading https://repo1.maven.org/maven2/org/javassist/javassist/3.21.0-GA/javassist-3.21.0-GA-sources.jar\n",
      "Downloaded https://repo1.maven.org/maven2/com/lihaoyi/ammonite-interp-api_2.12.10/2.0.4/ammonite-interp-api_2.12.10-2.0.4-sources.jar\n",
      "Downloading https://repo1.maven.org/maven2/com/lihaoyi/upickle-core_2.12/0.9.8/upickle-core_2.12-0.9.8-sources.jar\n",
      "Downloaded https://repo1.maven.org/maven2/com/github/javaparser/javaparser-core/3.2.5/javaparser-core-3.2.5-sources.jar\n",
      "Downloading https://repo1.maven.org/maven2/sh/almond/interpreter-api_2.12/0.9.0/interpreter-api_2.12-0.9.0-sources.jar\n",
      "Downloaded https://repo1.maven.org/maven2/com/lihaoyi/ammonite-runtime_2.12.10/2.0.4/ammonite-runtime_2.12.10-2.0.4-sources.jar\n",
      "Downloading https://repo1.maven.org/maven2/com/lihaoyi/scalaparse_2.12/2.2.3/scalaparse_2.12-2.2.3-sources.jar\n",
      "Downloaded https://repo1.maven.org/maven2/com/lihaoyi/upickle-core_2.12/0.9.8/upickle-core_2.12-0.9.8-sources.jar\n",
      "Downloading https://repo1.maven.org/maven2/com/lihaoyi/upickle-implicits_2.12/0.9.8/upickle-implicits_2.12-0.9.8-sources.jar\n",
      "Downloaded https://repo1.maven.org/maven2/com/lihaoyi/scalaparse_2.12/2.2.3/scalaparse_2.12-2.2.3-sources.jar\n",
      "Downloading https://repo1.maven.org/maven2/com/lihaoyi/ammonite-terminal_2.12/2.0.4/ammonite-terminal_2.12-2.0.4-sources.jar\n",
      "Downloaded https://repo1.maven.org/maven2/com/lihaoyi/upickle-implicits_2.12/0.9.8/upickle-implicits_2.12-0.9.8-sources.jar\n",
      "Downloading https://repo1.maven.org/maven2/com/openhtmltopdf/openhtmltopdf-pdfbox/0.0.1-RC19/openhtmltopdf-pdfbox-0.0.1-RC19-sources.jar\n",
      "Downloaded https://repo1.maven.org/maven2/sh/almond/interpreter-api_2.12/0.9.0/interpreter-api_2.12-0.9.0-sources.jar\n",
      "Downloading https://repo1.maven.org/maven2/org/jline/jline-reader/3.6.2/jline-reader-3.6.2-sources.jar\n",
      "Downloaded https://repo1.maven.org/maven2/com/lihaoyi/ammonite-terminal_2.12/2.0.4/ammonite-terminal_2.12-2.0.4-sources.jar\n",
      "Downloading https://repo1.maven.org/maven2/com/lihaoyi/requests_2.12/0.5.0/requests_2.12-0.5.0-sources.jar\n",
      "Downloaded https://repo1.maven.org/maven2/com/lihaoyi/requests_2.12/0.5.0/requests_2.12-0.5.0-sources.jar\n",
      "Downloading https://repo1.maven.org/maven2/com/lihaoyi/os-lib_2.12/0.6.3/os-lib_2.12-0.6.3-sources.jar\n",
      "Downloaded https://repo1.maven.org/maven2/org/jline/jline-reader/3.6.2/jline-reader-3.6.2-sources.jar\n",
      "Downloading https://jitpack.io/com/github/jupyter/jvm-repr/0.4.0/jvm-repr-0.4.0-sources.jar\n",
      "Downloaded https://repo1.maven.org/maven2/com/openhtmltopdf/openhtmltopdf-pdfbox/0.0.1-RC19/openhtmltopdf-pdfbox-0.0.1-RC19-sources.jar\n",
      "Downloading https://repo1.maven.org/maven2/sh/almond/jupyter-api_2.12/0.9.0/jupyter-api_2.12-0.9.0-sources.jar\n",
      "Downloaded https://repo1.maven.org/maven2/com/lihaoyi/os-lib_2.12/0.6.3/os-lib_2.12-0.6.3-sources.jar\n",
      "Downloading https://repo1.maven.org/maven2/com/lihaoyi/ammonite-interp_2.12.10/2.0.4/ammonite-interp_2.12.10-2.0.4-sources.jar\n",
      "Downloaded https://repo1.maven.org/maven2/sh/almond/jupyter-api_2.12/0.9.0/jupyter-api_2.12-0.9.0-sources.jar\n",
      "Downloading https://dl.bintray.com/rainier/maven/com/stripe/rainier-notebook_2.12/0.3.2/rainier-notebook_2.12-0.3.2-sources.jar\n",
      "Downloaded https://repo1.maven.org/maven2/com/lihaoyi/ammonite-interp_2.12.10/2.0.4/ammonite-interp_2.12.10-2.0.4-sources.jar\n",
      "Downloading https://repo1.maven.org/maven2/com/vladsch/flexmark/flexmark-ext-gfm-issues/0.40.34/flexmark-ext-gfm-issues-0.40.34-sources.jar\n",
      "Downloaded https://repo1.maven.org/maven2/com/vladsch/flexmark/flexmark-ext-gfm-issues/0.40.34/flexmark-ext-gfm-issues-0.40.34-sources.jar\n",
      "Downloading https://repo1.maven.org/maven2/com/lihaoyi/ammonite-repl_2.12.10/2.0.4/ammonite-repl_2.12.10-2.0.4-sources.jar\n",
      "Downloaded https://repo1.maven.org/maven2/org/javassist/javassist/3.21.0-GA/javassist-3.21.0-GA-sources.jar\n",
      "Downloading https://repo1.maven.org/maven2/com/lihaoyi/ammonite-util_2.12/2.0.4/ammonite-util_2.12-2.0.4-sources.jar\n",
      "Downloaded https://repo1.maven.org/maven2/com/lihaoyi/ammonite-util_2.12/2.0.4/ammonite-util_2.12-2.0.4-sources.jar\n",
      "Downloading https://repo1.maven.org/maven2/org/slf4j/slf4j-api/1.8.0-beta4/slf4j-api-1.8.0-beta4-sources.jar\n",
      "Downloaded https://repo1.maven.org/maven2/com/lihaoyi/ammonite-repl_2.12.10/2.0.4/ammonite-repl_2.12.10-2.0.4-sources.jar\n",
      "Downloading https://repo1.maven.org/maven2/com/vladsch/flexmark/flexmark-ext-yaml-front-matter/0.40.34/flexmark-ext-yaml-front-matter-0.40.34-sources.jar\n"
     ]
    },
    {
     "name": "stderr",
     "output_type": "stream",
     "text": [
      "Downloaded https://repo1.maven.org/maven2/com/vladsch/flexmark/flexmark-ext-yaml-front-matter/0.40.34/flexmark-ext-yaml-front-matter-0.40.34-sources.jar\n",
      "Downloading https://repo1.maven.org/maven2/com/lihaoyi/upack_2.12/0.9.8/upack_2.12-0.9.8-sources.jar\n",
      "Downloaded https://repo1.maven.org/maven2/org/slf4j/slf4j-api/1.8.0-beta4/slf4j-api-1.8.0-beta4-sources.jar\n",
      "Downloading https://repo1.maven.org/maven2/net/java/dev/jna/jna/5.3.1/jna-5.3.1-sources.jar\n",
      "Downloaded https://jitpack.io/com/github/jupyter/jvm-repr/0.4.0/jvm-repr-0.4.0-sources.jar\n",
      "Downloaded https://repo1.maven.org/maven2/com/lihaoyi/upack_2.12/0.9.8/upack_2.12-0.9.8-sources.jar\n",
      "Downloaded https://dl.bintray.com/rainier/maven/com/stripe/rainier-notebook_2.12/0.3.2/rainier-notebook_2.12-0.3.2-sources.jar\n",
      "Downloading https://dl.bintray.com/cibotech/public/com/cibo/evilplot_2.12/0.6.0/evilplot_2.12-0.6.0.jar.sha1\n",
      "Downloaded https://repo1.maven.org/maven2/net/java/dev/jna/jna/5.3.1/jna-5.3.1-sources.jar\n",
      "Downloading https://repo1.maven.org/maven2/com/vladsch/flexmark/flexmark-all/0.40.34/flexmark-all-0.40.34-sources.jar.sha1\n",
      "Downloaded https://dl.bintray.com/cibotech/public/com/cibo/evilplot_2.12/0.6.0/evilplot_2.12-0.6.0.jar.sha1\n",
      "Downloaded https://repo1.maven.org/maven2/com/vladsch/flexmark/flexmark-all/0.40.34/flexmark-all-0.40.34-sources.jar.sha1\n",
      "Downloading https://jitpack.io/com/github/jupyter/jvm-repr/0.4.0/jvm-repr-0.4.0-sources.jar.sha1\n",
      "Downloaded https://jitpack.io/com/github/jupyter/jvm-repr/0.4.0/jvm-repr-0.4.0-sources.jar.sha1\n",
      "Downloaded https://repo1.maven.org/maven2/com/ibm/icu/icu4j/59.1/icu4j-59.1-sources.jar\n",
      "Downloaded https://repo1.maven.org/maven2/com/ibm/icu/icu4j/59.1/icu4j-59.1.jar\n"
     ]
    },
    {
     "data": {
      "text/plain": [
       "\u001b[32mimport \u001b[39m\u001b[36m$ivy.$                               \n",
       "\u001b[39m\n",
       "\u001b[32mimport \u001b[39m\u001b[36m$ivy.$                                   \u001b[39m"
      ]
     },
     "execution_count": 1,
     "metadata": {},
     "output_type": "execute_result"
    }
   ],
   "source": [
    "import $ivy.`com.stripe::rainier-core:0.3.2`\n",
    "import $ivy.`com.stripe::rainier-notebook:0.3.2`"
   ]
  },
  {
   "cell_type": "code",
   "execution_count": 2,
   "metadata": {},
   "outputs": [
    {
     "data": {
      "text/plain": [
       "\u001b[32mimport \u001b[39m\u001b[36mcom.stripe.rainier.compute._\n",
       "\u001b[39m\n",
       "\u001b[32mimport \u001b[39m\u001b[36mcom.stripe.rainier.core._\n",
       "\u001b[39m\n",
       "\u001b[32mimport \u001b[39m\u001b[36mcom.stripe.rainier.sampler._\n",
       "\u001b[39m\n",
       "\u001b[32mimport \u001b[39m\u001b[36mcom.stripe.rainier.notebook._\u001b[39m"
      ]
     },
     "execution_count": 2,
     "metadata": {},
     "output_type": "execute_result"
    }
   ],
   "source": [
    "import com.stripe.rainier.compute._\n",
    "import com.stripe.rainier.core._\n",
    "import com.stripe.rainier.sampler._\n",
    "import com.stripe.rainier.notebook._"
   ]
  },
  {
   "cell_type": "code",
   "execution_count": 3,
   "metadata": {},
   "outputs": [],
   "source": [
    "PPrint.register(repl)\n"
   ]
  },
  {
   "cell_type": "code",
   "execution_count": 117,
   "metadata": {},
   "outputs": [
    {
     "data": {
      "text/plain": [
       "\u001b[32mimport \u001b[39m\u001b[36m$ivy.$                                      \n",
       "\u001b[39m\n",
       "\u001b[32mimport \u001b[39m\u001b[36mcom.github.tototoshi.csv._\n",
       "\u001b[39m\n",
       "\u001b[32mimport \u001b[39m\u001b[36mjava.io.File\u001b[39m"
      ]
     },
     "execution_count": 117,
     "metadata": {},
     "output_type": "execute_result"
    }
   ],
   "source": [
    "import $ivy.`com.github.tototoshi::scala-csv:1.3.6`\n",
    "import com.github.tototoshi.csv._\n",
    "import java.io.File"
   ]
  },
  {
   "cell_type": "code",
   "execution_count": 118,
   "metadata": {
    "scrolled": true
   },
   "outputs": [
    {
     "data": {
      "text/plain": [
       "\u001b[36mcountriesSmooth\u001b[39m: \u001b[32mList\u001b[39m[\u001b[32mMap\u001b[39m[\u001b[32mString\u001b[39m, \u001b[32mString\u001b[39m]] = \u001b[33mList\u001b[39m(\n",
       "  \u001b[33mMap\u001b[39m(\u001b[32m\"country\"\u001b[39m -> \u001b[32m\"Austria\"\u001b[39m, \u001b[32m\"date\"\u001b[39m -> \u001b[32m\"2020-03-05\"\u001b[39m, \u001b[32m\"cases\"\u001b[39m -> \u001b[32m\"11\"\u001b[39m),\n",
       "  \u001b[33mMap\u001b[39m(\u001b[32m\"country\"\u001b[39m -> \u001b[32m\"Austria\"\u001b[39m, \u001b[32m\"date\"\u001b[39m -> \u001b[32m\"2020-03-06\"\u001b[39m, \u001b[32m\"cases\"\u001b[39m -> \u001b[32m\"14\"\u001b[39m),\n",
       "  \u001b[33mMap\u001b[39m(\u001b[32m\"country\"\u001b[39m -> \u001b[32m\"Austria\"\u001b[39m, \u001b[32m\"date\"\u001b[39m -> \u001b[32m\"2020-03-07\"\u001b[39m, \u001b[32m\"cases\"\u001b[39m -> \u001b[32m\"18\"\u001b[39m),\n",
       "  \u001b[33mMap\u001b[39m(\u001b[32m\"country\"\u001b[39m -> \u001b[32m\"Austria\"\u001b[39m, \u001b[32m\"date\"\u001b[39m -> \u001b[32m\"2020-03-08\"\u001b[39m, \u001b[32m\"cases\"\u001b[39m -> \u001b[32m\"24\"\u001b[39m),\n",
       "  \u001b[33mMap\u001b[39m(\u001b[32m\"country\"\u001b[39m -> \u001b[32m\"Austria\"\u001b[39m, \u001b[32m\"date\"\u001b[39m -> \u001b[32m\"2020-03-09\"\u001b[39m, \u001b[32m\"cases\"\u001b[39m -> \u001b[32m\"33\"\u001b[39m),\n",
       "  \u001b[33mMap\u001b[39m(\u001b[32m\"country\"\u001b[39m -> \u001b[32m\"Austria\"\u001b[39m, \u001b[32m\"date\"\u001b[39m -> \u001b[32m\"2020-03-10\"\u001b[39m, \u001b[32m\"cases\"\u001b[39m -> \u001b[32m\"47\"\u001b[39m),\n",
       "  \u001b[33mMap\u001b[39m(\u001b[32m\"country\"\u001b[39m -> \u001b[32m\"Austria\"\u001b[39m, \u001b[32m\"date\"\u001b[39m -> \u001b[32m\"2020-03-11\"\u001b[39m, \u001b[32m\"cases\"\u001b[39m -> \u001b[32m\"63\"\u001b[39m),\n",
       "  \u001b[33mMap\u001b[39m(\u001b[32m\"country\"\u001b[39m -> \u001b[32m\"Austria\"\u001b[39m, \u001b[32m\"date\"\u001b[39m -> \u001b[32m\"2020-03-12\"\u001b[39m, \u001b[32m\"cases\"\u001b[39m -> \u001b[32m\"84\"\u001b[39m),\n",
       "  \u001b[33mMap\u001b[39m(\u001b[32m\"country\"\u001b[39m -> \u001b[32m\"Austria\"\u001b[39m, \u001b[32m\"date\"\u001b[39m -> \u001b[32m\"2020-03-13\"\u001b[39m, \u001b[32m\"cases\"\u001b[39m -> \u001b[32m\"104\"\u001b[39m),\n",
       "  \u001b[33mMap\u001b[39m(\u001b[32m\"country\"\u001b[39m -> \u001b[32m\"Austria\"\u001b[39m, \u001b[32m\"date\"\u001b[39m -> \u001b[32m\"2020-03-14\"\u001b[39m, \u001b[32m\"cases\"\u001b[39m -> \u001b[32m\"134\"\u001b[39m),\n",
       "  \u001b[33mMap\u001b[39m(\u001b[32m\"country\"\u001b[39m -> \u001b[32m\"Austria\"\u001b[39m, \u001b[32m\"date\"\u001b[39m -> \u001b[32m\"2020-03-15\"\u001b[39m, \u001b[32m\"cases\"\u001b[39m -> \u001b[32m\"165\"\u001b[39m),\n",
       "  \u001b[33mMap\u001b[39m(\u001b[32m\"country\"\u001b[39m -> \u001b[32m\"Austria\"\u001b[39m, \u001b[32m\"date\"\u001b[39m -> \u001b[32m\"2020-03-16\"\u001b[39m, \u001b[32m\"cases\"\u001b[39m -> \u001b[32m\"211\"\u001b[39m),\n",
       "  \u001b[33mMap\u001b[39m(\u001b[32m\"country\"\u001b[39m -> \u001b[32m\"Austria\"\u001b[39m, \u001b[32m\"date\"\u001b[39m -> \u001b[32m\"2020-03-17\"\u001b[39m, \u001b[32m\"cases\"\u001b[39m -> \u001b[32m\"257\"\u001b[39m),\n",
       "  \u001b[33mMap\u001b[39m(\u001b[32m\"country\"\u001b[39m -> \u001b[32m\"Austria\"\u001b[39m, \u001b[32m\"date\"\u001b[39m -> \u001b[32m\"2020-03-18\"\u001b[39m, \u001b[32m\"cases\"\u001b[39m -> \u001b[32m\"298\"\u001b[39m),\n",
       "  \u001b[33mMap\u001b[39m(\u001b[32m\"country\"\u001b[39m -> \u001b[32m\"Austria\"\u001b[39m, \u001b[32m\"date\"\u001b[39m -> \u001b[32m\"2020-03-19\"\u001b[39m, \u001b[32m\"cases\"\u001b[39m -> \u001b[32m\"350\"\u001b[39m),\n",
       "  \u001b[33mMap\u001b[39m(\u001b[32m\"country\"\u001b[39m -> \u001b[32m\"Austria\"\u001b[39m, \u001b[32m\"date\"\u001b[39m -> \u001b[32m\"2020-03-20\"\u001b[39m, \u001b[32m\"cases\"\u001b[39m -> \u001b[32m\"418\"\u001b[39m),\n",
       "  \u001b[33mMap\u001b[39m(\u001b[32m\"country\"\u001b[39m -> \u001b[32m\"Austria\"\u001b[39m, \u001b[32m\"date\"\u001b[39m -> \u001b[32m\"2020-03-21\"\u001b[39m, \u001b[32m\"cases\"\u001b[39m -> \u001b[32m\"485\"\u001b[39m),\n",
       "  \u001b[33mMap\u001b[39m(\u001b[32m\"country\"\u001b[39m -> \u001b[32m\"Austria\"\u001b[39m, \u001b[32m\"date\"\u001b[39m -> \u001b[32m\"2020-03-22\"\u001b[39m, \u001b[32m\"cases\"\u001b[39m -> \u001b[32m\"545\"\u001b[39m),\n",
       "  \u001b[33mMap\u001b[39m(\u001b[32m\"country\"\u001b[39m -> \u001b[32m\"Austria\"\u001b[39m, \u001b[32m\"date\"\u001b[39m -> \u001b[32m\"2020-03-23\"\u001b[39m, \u001b[32m\"cases\"\u001b[39m -> \u001b[32m\"623\"\u001b[39m),\n",
       "  \u001b[33mMap\u001b[39m(\u001b[32m\"country\"\u001b[39m -> \u001b[32m\"Austria\"\u001b[39m, \u001b[32m\"date\"\u001b[39m -> \u001b[32m\"2020-03-24\"\u001b[39m, \u001b[32m\"cases\"\u001b[39m -> \u001b[32m\"679\"\u001b[39m),\n",
       "  \u001b[33mMap\u001b[39m(\u001b[32m\"country\"\u001b[39m -> \u001b[32m\"Austria\"\u001b[39m, \u001b[32m\"date\"\u001b[39m -> \u001b[32m\"2020-03-25\"\u001b[39m, \u001b[32m\"cases\"\u001b[39m -> \u001b[32m\"711\"\u001b[39m),\n",
       "  \u001b[33mMap\u001b[39m(\u001b[32m\"country\"\u001b[39m -> \u001b[32m\"Austria\"\u001b[39m, \u001b[32m\"date\"\u001b[39m -> \u001b[32m\"2020-03-26\"\u001b[39m, \u001b[32m\"cases\"\u001b[39m -> \u001b[32m\"728\"\u001b[39m),\n",
       "  \u001b[33mMap\u001b[39m(\u001b[32m\"country\"\u001b[39m -> \u001b[32m\"Austria\"\u001b[39m, \u001b[32m\"date\"\u001b[39m -> \u001b[32m\"2020-03-27\"\u001b[39m, \u001b[32m\"cases\"\u001b[39m -> \u001b[32m\"747\"\u001b[39m),\n",
       "  \u001b[33mMap\u001b[39m(\u001b[32m\"country\"\u001b[39m -> \u001b[32m\"Austria\"\u001b[39m, \u001b[32m\"date\"\u001b[39m -> \u001b[32m\"2020-03-28\"\u001b[39m, \u001b[32m\"cases\"\u001b[39m -> \u001b[32m\"730\"\u001b[39m),\n",
       "  \u001b[33mMap\u001b[39m(\u001b[32m\"country\"\u001b[39m -> \u001b[32m\"Austria\"\u001b[39m, \u001b[32m\"date\"\u001b[39m -> \u001b[32m\"2020-03-29\"\u001b[39m, \u001b[32m\"cases\"\u001b[39m -> \u001b[32m\"694\"\u001b[39m),\n",
       "  \u001b[33mMap\u001b[39m(\u001b[32m\"country\"\u001b[39m -> \u001b[32m\"Austria\"\u001b[39m, \u001b[32m\"date\"\u001b[39m -> \u001b[32m\"2020-03-30\"\u001b[39m, \u001b[32m\"cases\"\u001b[39m -> \u001b[32m\"653\"\u001b[39m),\n",
       "  \u001b[33mMap\u001b[39m(\u001b[32m\"country\"\u001b[39m -> \u001b[32m\"Austria\"\u001b[39m, \u001b[32m\"date\"\u001b[39m -> \u001b[32m\"2020-03-31\"\u001b[39m, \u001b[32m\"cases\"\u001b[39m -> \u001b[32m\"616\"\u001b[39m),\n",
       "  \u001b[33mMap\u001b[39m(\u001b[32m\"country\"\u001b[39m -> \u001b[32m\"Austria\"\u001b[39m, \u001b[32m\"date\"\u001b[39m -> \u001b[32m\"2020-04-01\"\u001b[39m, \u001b[32m\"cases\"\u001b[39m -> \u001b[32m\"544\"\u001b[39m),\n",
       "  \u001b[33mMap\u001b[39m(\u001b[32m\"country\"\u001b[39m -> \u001b[32m\"Austria\"\u001b[39m, \u001b[32m\"date\"\u001b[39m -> \u001b[32m\"2020-04-02\"\u001b[39m, \u001b[32m\"cases\"\u001b[39m -> \u001b[32m\"493\"\u001b[39m),\n",
       "  \u001b[33mMap\u001b[39m(\u001b[32m\"country\"\u001b[39m -> \u001b[32m\"Austria\"\u001b[39m, \u001b[32m\"date\"\u001b[39m -> \u001b[32m\"2020-04-03\"\u001b[39m, \u001b[32m\"cases\"\u001b[39m -> \u001b[32m\"444\"\u001b[39m),\n",
       "  \u001b[33mMap\u001b[39m(\u001b[32m\"country\"\u001b[39m -> \u001b[32m\"Austria\"\u001b[39m, \u001b[32m\"date\"\u001b[39m -> \u001b[32m\"2020-04-04\"\u001b[39m, \u001b[32m\"cases\"\u001b[39m -> \u001b[32m\"401\"\u001b[39m),\n",
       "  \u001b[33mMap\u001b[39m(\u001b[32m\"country\"\u001b[39m -> \u001b[32m\"Austria\"\u001b[39m, \u001b[32m\"date\"\u001b[39m -> \u001b[32m\"2020-04-05\"\u001b[39m, \u001b[32m\"cases\"\u001b[39m -> \u001b[32m\"353\"\u001b[39m),\n",
       "  \u001b[33mMap\u001b[39m(\u001b[32m\"country\"\u001b[39m -> \u001b[32m\"Austria\"\u001b[39m, \u001b[32m\"date\"\u001b[39m -> \u001b[32m\"2020-04-06\"\u001b[39m, \u001b[32m\"cases\"\u001b[39m -> \u001b[32m\"325\"\u001b[39m),\n",
       "  \u001b[33mMap\u001b[39m(\u001b[32m\"country\"\u001b[39m -> \u001b[32m\"Austria\"\u001b[39m, \u001b[32m\"date\"\u001b[39m -> \u001b[32m\"2020-04-07\"\u001b[39m, \u001b[32m\"cases\"\u001b[39m -> \u001b[32m\"308\"\u001b[39m),\n",
       "  \u001b[33mMap\u001b[39m(\u001b[32m\"country\"\u001b[39m -> \u001b[32m\"Austria\"\u001b[39m, \u001b[32m\"date\"\u001b[39m -> \u001b[32m\"2020-04-08\"\u001b[39m, \u001b[32m\"cases\"\u001b[39m -> \u001b[32m\"298\"\u001b[39m),\n",
       "  \u001b[33mMap\u001b[39m(\u001b[32m\"country\"\u001b[39m -> \u001b[32m\"Austria\"\u001b[39m, \u001b[32m\"date\"\u001b[39m -> \u001b[32m\"2020-04-09\"\u001b[39m, \u001b[32m\"cases\"\u001b[39m -> \u001b[32m\"284\"\u001b[39m),\n",
       "  \u001b[33mMap\u001b[39m(\u001b[32m\"country\"\u001b[39m -> \u001b[32m\"Austria\"\u001b[39m, \u001b[32m\"date\"\u001b[39m -> \u001b[32m\"2020-04-10\"\u001b[39m, \u001b[32m\"cases\"\u001b[39m -> \u001b[32m\"270\"\u001b[39m),\n",
       "  \u001b[33mMap\u001b[39m(\u001b[32m\"country\"\u001b[39m -> \u001b[32m\"Austria\"\u001b[39m, \u001b[32m\"date\"\u001b[39m -> \u001b[32m\"2020-04-11\"\u001b[39m, \u001b[32m\"cases\"\u001b[39m -> \u001b[32m\"254\"\u001b[39m),\n",
       "..."
      ]
     },
     "execution_count": 118,
     "metadata": {},
     "output_type": "execute_result"
    }
   ],
   "source": [
    "val countriesSmooth = {\n",
    "    val csvReader = CSVReader.open(new File(\"data/smooth_countries.csv\"))\n",
    "    val xs = csvReader.allWithHeaders()\n",
    "    csvReader.close()\n",
    "    xs\n",
    "}"
   ]
  },
  {
   "cell_type": "code",
   "execution_count": 119,
   "metadata": {},
   "outputs": [
    {
     "data": {
      "text/plain": [
       "defined \u001b[32mfunction\u001b[39m \u001b[36mprepareDataForModel\u001b[39m"
      ]
     },
     "execution_count": 119,
     "metadata": {},
     "output_type": "execute_result"
    }
   ],
   "source": [
    "def prepareDataForModel(xs: List[Long]): List[((Int, Long), Long)] = {\n",
    "    val adjacentPairs = xs.drop(1).zip(xs.take(xs.size - 1))\n",
    "    adjacentPairs.zipWithIndex.map{case ((kt, kt_prev), i) =>\n",
    "        (i, kt_prev) -> kt\n",
    "    }\n",
    "}"
   ]
  },
  {
   "cell_type": "code",
   "execution_count": 120,
   "metadata": {},
   "outputs": [
    {
     "data": {
      "text/plain": [
       "\u001b[36msamplerConfig\u001b[39m: \u001b[32mDefaultConfig\u001b[39m{def massMatrixTuner(): com.stripe.rainier.sampler.IdentityMassMatrixTuner;def sampler(): com.stripe.rainier.sampler.HMCSampler} = ammonite.$sess.cmd119$Helper$$anon$1@16631809"
      ]
     },
     "execution_count": 120,
     "metadata": {},
     "output_type": "execute_result"
    }
   ],
   "source": [
    "val samplerConfig = new DefaultConfig {\n",
    "    override def massMatrixTuner() = new IdentityMassMatrixTuner\n",
    "    override def sampler() = new HMCSampler(100)\n",
    "}"
   ]
  },
  {
   "cell_type": "code",
   "execution_count": 121,
   "metadata": {},
   "outputs": [
    {
     "data": {
      "text/plain": [
       "defined \u001b[32mfunction\u001b[39m \u001b[36mpredictRt\u001b[39m"
      ]
     },
     "execution_count": 121,
     "metadata": {},
     "output_type": "execute_result"
    }
   ],
   "source": [
    "def predictRt(caseNumbers: List[Long]): (Vec[Real], List[Seq[Double]]) = {\n",
    "    val data = prepareDataForModel(caseNumbers)\n",
    "    \n",
    "    val (model, rts) =  {\n",
    "        val (xs, ys) = data.unzip\n",
    "\n",
    "        val serialInterval = Normal(5,2).latent\n",
    "        val logR0 = Normal(0, 1).latent\n",
    "        val sigma = Exponential(10).latent\n",
    "        val diffs = Laplace(0,sigma).latentVec(data.size)\n",
    "        val logRts = Vec.from(diffs.toList.scanLeft(logR0)(_ + _))\n",
    "        val likelihoods = Vec.from(xs).map{case (i, kt_prev) => \n",
    "            val lambda = ((logRts(i).exp - 1)/serialInterval).exp * kt_prev\n",
    "            Poisson(lambda)\n",
    "        }\n",
    "\n",
    "        (Model.observe(ys, likelihoods), logRts.map(_.exp))\n",
    "    }\n",
    "\n",
    "    val trace = model.sample(samplerConfig, 4)\n",
    "    \n",
    "    rts -> trace.predict(rts)\n",
    "}"
   ]
  },
  {
   "cell_type": "code",
   "execution_count": 122,
   "metadata": {},
   "outputs": [
    {
     "data": {
      "text/plain": [
       "defined \u001b[32mclass\u001b[39m \u001b[36mRtsDistributionStats\u001b[39m\n",
       "defined \u001b[32mfunction\u001b[39m \u001b[36mdistributionStats\u001b[39m"
      ]
     },
     "execution_count": 122,
     "metadata": {},
     "output_type": "execute_result"
    }
   ],
   "source": [
    "case class RtsDistributionStats(means: Seq[(Int, Double)], hdpis: Seq[(Int, (Double, Double))])\n",
    "def distributionStats(rts: Vec[Real], rtForecasts: List[Seq[Double]]): RtsDistributionStats = {\n",
    "    val means = 0.until(rts.size).map{i => (i,mean(rtForecasts.map(_(i))))}\n",
    "    val hdpis = 0.until(rts.size).map{i => (i, hdpi(rtForecasts.map(_(i))))}\n",
    "    RtsDistributionStats(means, hdpis)\n",
    "}"
   ]
  },
  {
   "cell_type": "code",
   "execution_count": 125,
   "metadata": {},
   "outputs": [
    {
     "data": {
      "text/html": [
       "<b>Chain 1 Complete</b>: <div>Iteration: 1000 (2ms)</div> <div>Acceptance rate: 0.85</div> <div>E-BFMI: 0.65</div> <div>Step size: 0.05</div> <div></div> <div>Total gradient evaluations: 2e+05 (13us)</div> <div>Total time: 6s</div>"
      ]
     },
     "metadata": {},
     "output_type": "display_data"
    },
    {
     "data": {
      "text/html": [
       "<b>Chain 2 Complete</b>: <div>Iteration: 1000 (3ms)</div> <div>Acceptance rate: 0.88</div> <div>E-BFMI: 0.60</div> <div>Step size: 0.05</div> <div></div> <div>Total gradient evaluations: 2e+05 (13us)</div> <div>Total time: 6s</div>"
      ]
     },
     "metadata": {},
     "output_type": "display_data"
    },
    {
     "data": {
      "text/html": [
       "<b>Chain 3 Complete</b>: <div>Iteration: 1000 (3ms)</div> <div>Acceptance rate: 0.84</div> <div>E-BFMI: 0.59</div> <div>Step size: 0.05</div> <div></div> <div>Total gradient evaluations: 2e+05 (14us)</div> <div>Total time: 6s</div>"
      ]
     },
     "metadata": {},
     "output_type": "display_data"
    },
    {
     "data": {
      "text/html": [
       "<b>Chain 4 Complete</b>: <div>Iteration: 1000 (3ms)</div> <div>Acceptance rate: 0.86</div> <div>E-BFMI: 0.67</div> <div>Step size: 0.05</div> <div></div> <div>Total gradient evaluations: 2e+05 (13us)</div> <div>Total time: 6s</div>"
      ]
     },
     "metadata": {},
     "output_type": "display_data"
    },
    {
     "data": {
      "image/png": "[encoded data removed]"
     },
     "metadata": {
      "height": "1600",
      "width": "1624"
     },
     "output_type": "display_data"
    }
   ],
   "source": [
    "{{\n",
    "    val countryName = \"Hungary\"\n",
    "    val caseNumbers = countriesSmooth.collect {\n",
    "        case m if m(\"country\") == countryName => m(\"cases\").toLong\n",
    "    }\n",
    "    val (rts,estimates) = predictRt(caseNumbers)\n",
    "    val RtsDistributionStats(means, hdpis) = distributionStats(rts, estimates)\n",
    "    show(\"t\", \"Rt\", line(means), shade(hdpis))\n",
    "}}"
   ]
  },
  {
   "cell_type": "code",
   "execution_count": 126,
   "metadata": {},
   "outputs": [
    {
     "data": {
      "text/plain": [
       "\u001b[36mcountriesToPredict\u001b[39m: \u001b[32mSet\u001b[39m[\u001b[32mString\u001b[39m] = \u001b[33mSet\u001b[39m(\n",
       "  \u001b[32m\"Poland\"\u001b[39m,\n",
       "  \u001b[32m\"Croatia\"\u001b[39m,\n",
       "  \u001b[32m\"Luxembourg\"\u001b[39m,\n",
       "  \u001b[32m\"Greece\"\u001b[39m,\n",
       "  \u001b[32m\"Spain\"\u001b[39m,\n",
       "  \u001b[32m\"Russia\"\u001b[39m,\n",
       "  \u001b[32m\"Estonia\"\u001b[39m,\n",
       "  \u001b[32m\"Czechia\"\u001b[39m,\n",
       "  \u001b[32m\"Romania\"\u001b[39m,\n",
       "  \u001b[32m\"Denmark\"\u001b[39m,\n",
       "  \u001b[32m\"Belgium\"\u001b[39m,\n",
       "  \u001b[32m\"Slovenia\"\u001b[39m,\n",
       "  \u001b[32m\"Malta\"\u001b[39m,\n",
       "  \u001b[32m\"Slovakia\"\u001b[39m,\n",
       "  \u001b[32m\"Finland\"\u001b[39m,\n",
       "  \u001b[32m\"Lithuania\"\u001b[39m,\n",
       "  \u001b[32m\"Sweden\"\u001b[39m,\n",
       "  \u001b[32m\"Austria\"\u001b[39m,\n",
       "  \u001b[32m\"Latvia\"\u001b[39m,\n",
       "  \u001b[32m\"Italy\"\u001b[39m,\n",
       "  \u001b[32m\"Ireland\"\u001b[39m,\n",
       "  \u001b[32m\"Bulgaria\"\u001b[39m,\n",
       "  \u001b[32m\"Norway\"\u001b[39m,\n",
       "  \u001b[32m\"France\"\u001b[39m,\n",
       "  \u001b[32m\"Netherlands\"\u001b[39m,\n",
       "  \u001b[32m\"Switzerland\"\u001b[39m,\n",
       "  \u001b[32m\"Cyprus\"\u001b[39m,\n",
       "  \u001b[32m\"Germany\"\u001b[39m,\n",
       "  \u001b[32m\"Portugal\"\u001b[39m,\n",
       "  \u001b[32m\"Hungary\"\u001b[39m\n",
       ")"
      ]
     },
     "execution_count": 126,
     "metadata": {},
     "output_type": "execute_result"
    }
   ],
   "source": [
    "val countriesToPredict = countriesSmooth.map(_(\"country\")).toSet //smaller set: Seq(\"Poland\", \"France\", \"Italy\", \"Germany\", \"Czechia\")"
   ]
  },
  {
   "cell_type": "code",
   "execution_count": 127,
   "metadata": {},
   "outputs": [
    {
     "name": "stdout",
     "output_type": "stream",
     "text": [
      "Poland\n"
     ]
    },
    {
     "data": {
      "text/html": [
       "<b>Chain 1 Complete</b>: <div>Iteration: 1000 (3ms)</div> <div>Acceptance rate: 0.92</div> <div>E-BFMI: 0.71</div> <div>Step size: 0.03</div> <div></div> <div>Total gradient evaluations: 2e+05 (27us)</div> <div>Total time: 7s</div>"
      ]
     },
     "metadata": {},
     "output_type": "display_data"
    },
    {
     "data": {
      "text/html": [
       "<b>Chain 2 Complete</b>: <div>Iteration: 1000 (4ms)</div> <div>Acceptance rate: 0.80</div> <div>E-BFMI: 0.65</div> <div>Step size: 0.03</div> <div></div> <div>Total gradient evaluations: 2e+05 (19us)</div> <div>Total time: 8s</div>"
      ]
     },
     "metadata": {},
     "output_type": "display_data"
    },
    {
     "data": {
      "text/html": [
       "<b>Chain 3 Complete</b>: <div>Iteration: 1000 (3ms)</div> <div>Acceptance rate: 0.89</div> <div>E-BFMI: 0.69</div> <div>Step size: 0.03</div> <div></div> <div>Total gradient evaluations: 2e+05 (16us)</div> <div>Total time: 8s</div>"
      ]
     },
     "metadata": {},
     "output_type": "display_data"
    },
    {
     "data": {
      "text/html": [
       "<b>Chain 4 Complete</b>: <div>Iteration: 1000 (3ms)</div> <div>Acceptance rate: 0.89</div> <div>E-BFMI: 0.67</div> <div>Step size: 0.03</div> <div></div> <div>Total gradient evaluations: 2e+05 (17us)</div> <div>Total time: 7s</div>"
      ]
     },
     "metadata": {},
     "output_type": "display_data"
    },
    {
     "name": "stdout",
     "output_type": "stream",
     "text": [
      "Croatia\n"
     ]
    },
    {
     "data": {
      "text/html": [
       "<b>Chain 1 Complete</b>: <div>Iteration: 1000 (3ms)</div> <div>Acceptance rate: 0.86</div> <div>E-BFMI: 0.70</div> <div>Step size: 0.05</div> <div></div> <div>Total gradient evaluations: 2e+05 (15us)</div> <div>Total time: 7s</div>"
      ]
     },
     "metadata": {},
     "output_type": "display_data"
    },
    {
     "data": {
      "text/html": [
       "<b>Chain 2 Complete</b>: <div>Iteration: 1000 (3ms)</div> <div>Acceptance rate: 0.86</div> <div>E-BFMI: 0.69</div> <div>Step size: 0.05</div> <div></div> <div>Total gradient evaluations: 2e+05 (15us)</div> <div>Total time: 7s</div>"
      ]
     },
     "metadata": {},
     "output_type": "display_data"
    },
    {
     "data": {
      "text/html": [
       "<b>Chain 3 Complete</b>: <div>Iteration: 1000 (3ms)</div> <div>Acceptance rate: 0.86</div> <div>E-BFMI: 0.68</div> <div>Step size: 0.05</div> <div></div> <div>Total gradient evaluations: 2e+05 (18us)</div> <div>Total time: 6s</div>"
      ]
     },
     "metadata": {},
     "output_type": "display_data"
    },
    {
     "data": {
      "text/html": [
       "<b>Chain 4 Complete</b>: <div>Iteration: 1000 (3ms)</div> <div>Acceptance rate: 0.85</div> <div>E-BFMI: 0.68</div> <div>Step size: 0.05</div> <div></div> <div>Total gradient evaluations: 2e+05 (15us)</div> <div>Total time: 6s</div>"
      ]
     },
     "metadata": {},
     "output_type": "display_data"
    },
    {
     "name": "stdout",
     "output_type": "stream",
     "text": [
      "Luxembourg\n"
     ]
    },
    {
     "data": {
      "text/html": [
       "<b>Chain 1 Complete</b>: <div>Iteration: 1000 (4ms)</div> <div>Acceptance rate: 0.80</div> <div>E-BFMI: 0.64</div> <div>Step size: 0.04</div> <div></div> <div>Total gradient evaluations: 2e+05 (21us)</div> <div>Total time: 8s</div>"
      ]
     },
     "metadata": {},
     "output_type": "display_data"
    },
    {
     "data": {
      "text/html": [
       "<b>Chain 2 Complete</b>: <div>Iteration: 1000 (4ms)</div> <div>Acceptance rate: 0.89</div> <div>E-BFMI: 0.60</div> <div>Step size: 0.04</div> <div></div> <div>Total gradient evaluations: 2e+05 (23us)</div> <div>Total time: 8s</div>"
      ]
     },
     "metadata": {},
     "output_type": "display_data"
    },
    {
     "data": {
      "text/html": [
       "<b>Chain 3 Complete</b>: <div>Iteration: 1000 (5ms)</div> <div>Acceptance rate: 0.89</div> <div>E-BFMI: 0.60</div> <div>Step size: 0.04</div> <div></div> <div>Total gradient evaluations: 2e+05 (34us)</div> <div>Total time: 10s</div>"
      ]
     },
     "metadata": {},
     "output_type": "display_data"
    },
    {
     "data": {
      "text/html": [
       "<b>Chain 4 Complete</b>: <div>Iteration: 1000 (4ms)</div> <div>Acceptance rate: 0.90</div> <div>E-BFMI: 0.68</div> <div>Step size: 0.04</div> <div></div> <div>Total gradient evaluations: 2e+05 (26us)</div> <div>Total time: 9s</div>"
      ]
     },
     "metadata": {},
     "output_type": "display_data"
    },
    {
     "name": "stdout",
     "output_type": "stream",
     "text": [
      "Greece\n"
     ]
    },
    {
     "data": {
      "text/html": [
       "<b>Chain 1 Complete</b>: <div>Iteration: 1000 (6ms)</div> <div>Acceptance rate: 0.83</div> <div>E-BFMI: 0.72</div> <div>Step size: 0.05</div> <div></div> <div>Total gradient evaluations: 2e+05 (33us)</div> <div>Total time: 12s</div>"
      ]
     },
     "metadata": {},
     "output_type": "display_data"
    },
    {
     "data": {
      "text/html": [
       "<b>Chain 2 Complete</b>: <div>Iteration: 1000 (5ms)</div> <div>Acceptance rate: 0.83</div> <div>E-BFMI: 0.66</div> <div>Step size: 0.05</div> <div></div> <div>Total gradient evaluations: 2e+05 (29us)</div> <div>Total time: 11s</div>"
      ]
     },
     "metadata": {},
     "output_type": "display_data"
    },
    {
     "data": {
      "text/html": [
       "<b>Chain 3 Complete</b>: <div>Iteration: 1000 (5ms)</div> <div>Acceptance rate: 0.82</div> <div>E-BFMI: 0.79</div> <div>Step size: 0.05</div> <div></div> <div>Total gradient evaluations: 2e+05 (25us)</div> <div>Total time: 11s</div>"
      ]
     },
     "metadata": {},
     "output_type": "display_data"
    },
    {
     "data": {
      "text/html": [
       "<b>Chain 4 Complete</b>: <div>Iteration: 1000 (5ms)</div> <div>Acceptance rate: 0.84</div> <div>E-BFMI: 0.72</div> <div>Step size: 0.05</div> <div></div> <div>Total gradient evaluations: 2e+05 (25us)</div> <div>Total time: 11s</div>"
      ]
     },
     "metadata": {},
     "output_type": "display_data"
    },
    {
     "name": "stdout",
     "output_type": "stream",
     "text": [
      "Spain\n"
     ]
    },
    {
     "data": {
      "text/html": [
       "<b>Chain 1 Complete</b>: <div>Iteration: 1000 (6ms)</div> <div>Acceptance rate: 0.90</div> <div>E-BFMI: 0.61</div> <div>Step size: 0.009</div> <div></div> <div>Total gradient evaluations: 2e+05 (31us)</div> <div>Total time: 13s</div>"
      ]
     },
     "metadata": {},
     "output_type": "display_data"
    },
    {
     "data": {
      "text/html": [
       "<b>Chain 2 Complete</b>: <div>Iteration: 1000 (6ms)</div> <div>Acceptance rate: 0.93</div> <div>E-BFMI: 0.56</div> <div>Step size: 0.008</div> <div></div> <div>Total gradient evaluations: 2e+05 (29us)</div> <div>Total time: 12s</div>"
      ]
     },
     "metadata": {},
     "output_type": "display_data"
    },
    {
     "data": {
      "text/html": [
       "<b>Chain 3 Complete</b>: <div>Iteration: 1000 (6ms)</div> <div>Acceptance rate: 0.92</div> <div>E-BFMI: 0.69</div> <div>Step size: 0.008</div> <div></div> <div>Total gradient evaluations: 2e+05 (30us)</div> <div>Total time: 12s</div>"
      ]
     },
     "metadata": {},
     "output_type": "display_data"
    },
    {
     "data": {
      "text/html": [
       "<b>Chain 4 Complete</b>: <div>Iteration: 1000 (6ms)</div> <div>Acceptance rate: 1.00</div> <div>E-BFMI: 1.26</div> <div>Step size: 0.0007</div> <div></div> <div>Total gradient evaluations: 2e+05 (29us)</div> <div>Total time: 12s</div>"
      ]
     },
     "metadata": {},
     "output_type": "display_data"
    },
    {
     "name": "stdout",
     "output_type": "stream",
     "text": [
      "Russia\n"
     ]
    },
    {
     "data": {
      "text/html": [
       "<b>Chain 1 Complete</b>: <div>Iteration: 1000 (3ms)</div> <div>Acceptance rate: 0.90</div> <div>E-BFMI: 0.58</div> <div>Step size: 0.01</div> <div></div> <div>Total gradient evaluations: 2e+05 (21us)</div> <div>Total time: 8s</div>"
      ]
     },
     "metadata": {},
     "output_type": "display_data"
    },
    {
     "data": {
      "text/html": [
       "<b>Chain 2 Complete</b>: <div>Iteration: 1000 (3ms)</div> <div>Acceptance rate: 0.95</div> <div>E-BFMI: 0.65</div> <div>Step size: 0.01</div> <div></div> <div>Total gradient evaluations: 2e+05 (17us)</div> <div>Total time: 7s</div>"
      ]
     },
     "metadata": {},
     "output_type": "display_data"
    },
    {
     "data": {
      "text/html": [
       "<b>Chain 3 Complete</b>: <div>Iteration: 1000 (3ms)</div> <div>Acceptance rate: 0.84</div> <div>E-BFMI: 0.60</div> <div>Step size: 0.01</div> <div></div> <div>Total gradient evaluations: 2e+05 (17us)</div> <div>Total time: 8s</div>"
      ]
     },
     "metadata": {},
     "output_type": "display_data"
    },
    {
     "data": {
      "text/html": [
       "<b>Chain 4 Complete</b>: <div>Iteration: 1000 (3ms)</div> <div>Acceptance rate: 0.95</div> <div>E-BFMI: 0.60</div> <div>Step size: 0.01</div> <div></div> <div>Total gradient evaluations: 2e+05 (17us)</div> <div>Total time: 7s</div>"
      ]
     },
     "metadata": {},
     "output_type": "display_data"
    },
    {
     "name": "stdout",
     "output_type": "stream",
     "text": [
      "Estonia\n"
     ]
    },
    {
     "data": {
      "text/html": [
       "<b>Chain 1 Complete</b>: <div>Iteration: 1000 (3ms)</div> <div>Acceptance rate: 0.87</div> <div>E-BFMI: 0.70</div> <div>Step size: 0.05</div> <div></div> <div>Total gradient evaluations: 2e+05 (15us)</div> <div>Total time: 7s</div>"
      ]
     },
     "metadata": {},
     "output_type": "display_data"
    },
    {
     "data": {
      "text/html": [
       "<b>Chain 2 Complete</b>: <div>Iteration: 1000 (3ms)</div> <div>Acceptance rate: 0.82</div> <div>E-BFMI: 0.65</div> <div>Step size: 0.06</div> <div></div> <div>Total gradient evaluations: 2e+05 (25us)</div> <div>Total time: 6s</div>"
      ]
     },
     "metadata": {},
     "output_type": "display_data"
    },
    {
     "data": {
      "text/html": [
       "<b>Chain 3 Complete</b>: <div>Iteration: 1000 (3ms)</div> <div>Acceptance rate: 0.86</div> <div>E-BFMI: 0.67</div> <div>Step size: 0.05</div> <div></div> <div>Total gradient evaluations: 2e+05 (20us)</div> <div>Total time: 6s</div>"
      ]
     },
     "metadata": {},
     "output_type": "display_data"
    },
    {
     "data": {
      "text/html": [
       "<b>Chain 4 Complete</b>: <div>Iteration: 1000 (3ms)</div> <div>Acceptance rate: 0.78</div> <div>E-BFMI: 0.77</div> <div>Step size: 0.06</div> <div></div> <div>Total gradient evaluations: 2e+05 (17us)</div> <div>Total time: 6s</div>"
      ]
     },
     "metadata": {},
     "output_type": "display_data"
    },
    {
     "name": "stdout",
     "output_type": "stream",
     "text": [
      "Czechia\n"
     ]
    },
    {
     "data": {
      "text/html": [
       "<b>Chain 1 Complete</b>: <div>Iteration: 1000 (4ms)</div> <div>Acceptance rate: 0.88</div> <div>E-BFMI: 0.61</div> <div>Step size: 0.03</div> <div></div> <div>Total gradient evaluations: 2e+05 (19us)</div> <div>Total time: 8s</div>"
      ]
     },
     "metadata": {},
     "output_type": "display_data"
    },
    {
     "data": {
      "text/html": [
       "<b>Chain 2 Complete</b>: <div>Iteration: 1000 (4ms)</div> <div>Acceptance rate: 0.87</div> <div>E-BFMI: 0.66</div> <div>Step size: 0.03</div> <div></div> <div>Total gradient evaluations: 2e+05 (19us)</div> <div>Total time: 8s</div>"
      ]
     },
     "metadata": {},
     "output_type": "display_data"
    },
    {
     "data": {
      "text/html": [
       "<b>Chain 3 Complete</b>: <div>Iteration: 1000 (4ms)</div> <div>Acceptance rate: 0.91</div> <div>E-BFMI: 0.68</div> <div>Step size: 0.03</div> <div></div> <div>Total gradient evaluations: 2e+05 (19us)</div> <div>Total time: 8s</div>"
      ]
     },
     "metadata": {},
     "output_type": "display_data"
    },
    {
     "data": {
      "text/html": [
       "<b>Chain 4 Complete</b>: <div>Iteration: 1000 (4ms)</div> <div>Acceptance rate: 0.88</div> <div>E-BFMI: 0.55</div> <div>Step size: 0.03</div> <div></div> <div>Total gradient evaluations: 2e+05 (19us)</div> <div>Total time: 8s</div>"
      ]
     },
     "metadata": {},
     "output_type": "display_data"
    },
    {
     "name": "stdout",
     "output_type": "stream",
     "text": [
      "Romania\n"
     ]
    },
    {
     "data": {
      "text/html": [
       "<b>Chain 1 Complete</b>: <div>Iteration: 1000 (3ms)</div> <div>Acceptance rate: 0.88</div> <div>E-BFMI: 0.72</div> <div>Step size: 0.03</div> <div></div> <div>Total gradient evaluations: 2e+05 (15us)</div> <div>Total time: 6s</div>"
      ]
     },
     "metadata": {},
     "output_type": "display_data"
    },
    {
     "data": {
      "text/html": [
       "<b>Chain 2 Complete</b>: <div>Iteration: 1000 (3ms)</div> <div>Acceptance rate: 0.90</div> <div>E-BFMI: 0.70</div> <div>Step size: 0.03</div> <div></div> <div>Total gradient evaluations: 2e+05 (15us)</div> <div>Total time: 6s</div>"
      ]
     },
     "metadata": {},
     "output_type": "display_data"
    },
    {
     "data": {
      "text/html": [
       "<b>Chain 3 Complete</b>: <div>Iteration: 1000 (3ms)</div> <div>Acceptance rate: 0.85</div> <div>E-BFMI: 0.71</div> <div>Step size: 0.03</div> <div></div> <div>Total gradient evaluations: 2e+05 (15us)</div> <div>Total time: 7s</div>"
      ]
     },
     "metadata": {},
     "output_type": "display_data"
    },
    {
     "data": {
      "text/html": [
       "<b>Chain 4 Complete</b>: <div>Iteration: 1000 (3ms)</div> <div>Acceptance rate: 0.79</div> <div>E-BFMI: 0.71</div> <div>Step size: 0.03</div> <div></div> <div>Total gradient evaluations: 2e+05 (16us)</div> <div>Total time: 6s</div>"
      ]
     },
     "metadata": {},
     "output_type": "display_data"
    },
    {
     "name": "stdout",
     "output_type": "stream",
     "text": [
      "Denmark\n"
     ]
    },
    {
     "data": {
      "text/html": [
       "<b>Chain 1 Complete</b>: <div>Iteration: 1000 (4ms)</div> <div>Acceptance rate: 0.90</div> <div>E-BFMI: 0.71</div> <div>Step size: 0.03</div> <div></div> <div>Total gradient evaluations: 2e+05 (21us)</div> <div>Total time: 9s</div>"
      ]
     },
     "metadata": {},
     "output_type": "display_data"
    },
    {
     "data": {
      "text/html": [
       "<b>Chain 2 Complete</b>: <div>Iteration: 1000 (4ms)</div> <div>Acceptance rate: 0.91</div> <div>E-BFMI: 0.66</div> <div>Step size: 0.03</div> <div></div> <div>Total gradient evaluations: 2e+05 (22us)</div> <div>Total time: 9s</div>"
      ]
     },
     "metadata": {},
     "output_type": "display_data"
    },
    {
     "data": {
      "text/html": [
       "<b>Chain 3 Complete</b>: <div>Iteration: 1000 (4ms)</div> <div>Acceptance rate: 0.88</div> <div>E-BFMI: 0.61</div> <div>Step size: 0.03</div> <div></div> <div>Total gradient evaluations: 2e+05 (22us)</div> <div>Total time: 9s</div>"
      ]
     },
     "metadata": {},
     "output_type": "display_data"
    },
    {
     "data": {
      "text/html": [
       "<b>Chain 4 Complete</b>: <div>Iteration: 1000 (4ms)</div> <div>Acceptance rate: 0.92</div> <div>E-BFMI: 0.62</div> <div>Step size: 0.03</div> <div></div> <div>Total gradient evaluations: 2e+05 (22us)</div> <div>Total time: 9s</div>"
      ]
     },
     "metadata": {},
     "output_type": "display_data"
    },
    {
     "name": "stdout",
     "output_type": "stream",
     "text": [
      "Belgium\n"
     ]
    },
    {
     "data": {
      "text/html": [
       "<b>Chain 1 Complete</b>: <div>Iteration: 1000 (4ms)</div> <div>Acceptance rate: 0.92</div> <div>E-BFMI: 0.60</div> <div>Step size: 0.02</div> <div></div> <div>Total gradient evaluations: 2e+05 (24us)</div> <div>Total time: 9s</div>"
      ]
     },
     "metadata": {},
     "output_type": "display_data"
    },
    {
     "data": {
      "text/html": [
       "<b>Chain 2 Complete</b>: <div>Iteration: 1000 (4ms)</div> <div>Acceptance rate: 0.91</div> <div>E-BFMI: 0.65</div> <div>Step size: 0.02</div> <div></div> <div>Total gradient evaluations: 2e+05 (23us)</div> <div>Total time: 9s</div>"
      ]
     },
     "metadata": {},
     "output_type": "display_data"
    },
    {
     "data": {
      "text/html": [
       "<b>Chain 3 Complete</b>: <div>Iteration: 1000 (4ms)</div> <div>Acceptance rate: 0.92</div> <div>E-BFMI: 0.64</div> <div>Step size: 0.02</div> <div></div> <div>Total gradient evaluations: 2e+05 (22us)</div> <div>Total time: 9s</div>"
      ]
     },
     "metadata": {},
     "output_type": "display_data"
    },
    {
     "data": {
      "text/html": [
       "<b>Chain 4 Complete</b>: <div>Iteration: 1000 (4ms)</div> <div>Acceptance rate: 0.92</div> <div>E-BFMI: 0.63</div> <div>Step size: 0.02</div> <div></div> <div>Total gradient evaluations: 2e+05 (21us)</div> <div>Total time: 9s</div>"
      ]
     },
     "metadata": {},
     "output_type": "display_data"
    },
    {
     "name": "stdout",
     "output_type": "stream",
     "text": [
      "Slovenia\n"
     ]
    },
    {
     "data": {
      "text/html": [
       "<b>Chain 1 Complete</b>: <div>Iteration: 1000 (3ms)</div> <div>Acceptance rate: 0.83</div> <div>E-BFMI: 0.67</div> <div>Step size: 0.05</div> <div></div> <div>Total gradient evaluations: 2e+05 (17us)</div> <div>Total time: 7s</div>"
      ]
     },
     "metadata": {},
     "output_type": "display_data"
    },
    {
     "data": {
      "text/html": [
       "<b>Chain 2 Complete</b>: <div>Iteration: 1000 (3ms)</div> <div>Acceptance rate: 0.80</div> <div>E-BFMI: 0.72</div> <div>Step size: 0.05</div> <div></div> <div>Total gradient evaluations: 2e+05 (17us)</div> <div>Total time: 7s</div>"
      ]
     },
     "metadata": {},
     "output_type": "display_data"
    },
    {
     "data": {
      "text/html": [
       "<b>Chain 3 Complete</b>: <div>Iteration: 1000 (3ms)</div> <div>Acceptance rate: 0.85</div> <div>E-BFMI: 0.74</div> <div>Step size: 0.05</div> <div></div> <div>Total gradient evaluations: 2e+05 (17us)</div> <div>Total time: 7s</div>"
      ]
     },
     "metadata": {},
     "output_type": "display_data"
    },
    {
     "data": {
      "text/html": [
       "<b>Chain 4 Complete</b>: <div>Iteration: 1000 (3ms)</div> <div>Acceptance rate: 0.82</div> <div>E-BFMI: 0.62</div> <div>Step size: 0.05</div> <div></div> <div>Total gradient evaluations: 2e+05 (23us)</div> <div>Total time: 7s</div>"
      ]
     },
     "metadata": {},
     "output_type": "display_data"
    },
    {
     "name": "stdout",
     "output_type": "stream",
     "text": [
      "Malta\n"
     ]
    },
    {
     "data": {
      "text/html": [
       "<b>Chain 1 Complete</b>: <div>Iteration: 1000 (997us)</div> <div>Acceptance rate: 0.86</div> <div>E-BFMI: 0.59</div> <div>Step size: 0.07</div> <div></div> <div>Total gradient evaluations: 2e+05 (4us)</div> <div>Total time: 2s</div>"
      ]
     },
     "metadata": {},
     "output_type": "display_data"
    },
    {
     "data": {
      "text/html": [
       "<b>Chain 2 Complete</b>: <div>Iteration: 1000 (999us)</div> <div>Acceptance rate: 0.81</div> <div>E-BFMI: 0.72</div> <div>Step size: 0.07</div> <div></div> <div>Total gradient evaluations: 2e+05 (4us)</div> <div>Total time: 1s</div>"
      ]
     },
     "metadata": {},
     "output_type": "display_data"
    },
    {
     "data": {
      "text/html": [
       "<b>Chain 3 Complete</b>: <div>Iteration: 1000 (1ms)</div> <div>Acceptance rate: 0.84</div> <div>E-BFMI: 0.68</div> <div>Step size: 0.07</div> <div></div> <div>Total gradient evaluations: 2e+05 (4us)</div> <div>Total time: 1s</div>"
      ]
     },
     "metadata": {},
     "output_type": "display_data"
    },
    {
     "data": {
      "text/html": [
       "<b>Chain 4 Complete</b>: <div>Iteration: 1000 (963us)</div> <div>Acceptance rate: 0.81</div> <div>E-BFMI: 0.60</div> <div>Step size: 0.07</div> <div></div> <div>Total gradient evaluations: 2e+05 (4us)</div> <div>Total time: 1s</div>"
      ]
     },
     "metadata": {},
     "output_type": "display_data"
    },
    {
     "name": "stdout",
     "output_type": "stream",
     "text": [
      "Slovakia\n"
     ]
    },
    {
     "data": {
      "text/html": [
       "<b>Chain 1 Complete</b>: <div>Iteration: 1000 (3ms)</div> <div>Acceptance rate: 0.85</div> <div>E-BFMI: 0.54</div> <div>Step size: 0.05</div> <div></div> <div>Total gradient evaluations: 2e+05 (18us)</div> <div>Total time: 7s</div>"
      ]
     },
     "metadata": {},
     "output_type": "display_data"
    },
    {
     "data": {
      "text/html": [
       "<b>Chain 2 Complete</b>: <div>Iteration: 1000 (3ms)</div> <div>Acceptance rate: 0.90</div> <div>E-BFMI: 0.72</div> <div>Step size: 0.04</div> <div></div> <div>Total gradient evaluations: 2e+05 (18us)</div> <div>Total time: 7s</div>"
      ]
     },
     "metadata": {},
     "output_type": "display_data"
    },
    {
     "data": {
      "text/html": [
       "<b>Chain 3 Complete</b>: <div>Iteration: 1000 (3ms)</div> <div>Acceptance rate: 0.86</div> <div>E-BFMI: 0.74</div> <div>Step size: 0.05</div> <div></div> <div>Total gradient evaluations: 2e+05 (17us)</div> <div>Total time: 7s</div>"
      ]
     },
     "metadata": {},
     "output_type": "display_data"
    },
    {
     "data": {
      "text/html": [
       "<b>Chain 4 Complete</b>: <div>Iteration: 1000 (3ms)</div> <div>Acceptance rate: 0.80</div> <div>E-BFMI: 0.69</div> <div>Step size: 0.06</div> <div></div> <div>Total gradient evaluations: 2e+05 (17us)</div> <div>Total time: 7s</div>"
      ]
     },
     "metadata": {},
     "output_type": "display_data"
    },
    {
     "name": "stdout",
     "output_type": "stream",
     "text": [
      "Finland\n"
     ]
    },
    {
     "data": {
      "text/html": [
       "<b>Chain 1 Complete</b>: <div>Iteration: 1000 (4ms)</div> <div>Acceptance rate: 0.88</div> <div>E-BFMI: 0.54</div> <div>Step size: 0.04</div> <div></div> <div>Total gradient evaluations: 2e+05 (18us)</div> <div>Total time: 8s</div>"
      ]
     },
     "metadata": {},
     "output_type": "display_data"
    },
    {
     "data": {
      "text/html": [
       "<b>Chain 2 Complete</b>: <div>Iteration: 1000 (4ms)</div> <div>Acceptance rate: 0.90</div> <div>E-BFMI: 0.71</div> <div>Step size: 0.04</div> <div></div> <div>Total gradient evaluations: 2e+05 (18us)</div> <div>Total time: 8s</div>"
      ]
     },
     "metadata": {},
     "output_type": "display_data"
    },
    {
     "data": {
      "text/html": [
       "<b>Chain 3 Complete</b>: <div>Iteration: 1000 (3ms)</div> <div>Acceptance rate: 0.87</div> <div>E-BFMI: 0.58</div> <div>Step size: 0.04</div> <div></div> <div>Total gradient evaluations: 2e+05 (24us)</div> <div>Total time: 8s</div>"
      ]
     },
     "metadata": {},
     "output_type": "display_data"
    },
    {
     "data": {
      "text/html": [
       "<b>Chain 4 Complete</b>: <div>Iteration: 1000 (4ms)</div> <div>Acceptance rate: 0.82</div> <div>E-BFMI: 0.67</div> <div>Step size: 0.04</div> <div></div> <div>Total gradient evaluations: 2e+05 (18us)</div> <div>Total time: 8s</div>"
      ]
     },
     "metadata": {},
     "output_type": "display_data"
    },
    {
     "name": "stdout",
     "output_type": "stream",
     "text": [
      "Lithuania\n"
     ]
    },
    {
     "data": {
      "text/html": [
       "<b>Chain 1 Complete</b>: <div>Iteration: 1000 (2ms)</div> <div>Acceptance rate: 0.81</div> <div>E-BFMI: 0.72</div> <div>Step size: 0.06</div> <div></div> <div>Total gradient evaluations: 2e+05 (13us)</div> <div>Total time: 6s</div>"
      ]
     },
     "metadata": {},
     "output_type": "display_data"
    },
    {
     "data": {
      "text/html": [
       "<b>Chain 2 Complete</b>: <div>Iteration: 1000 (2ms)</div> <div>Acceptance rate: 0.83</div> <div>E-BFMI: 0.58</div> <div>Step size: 0.06</div> <div></div> <div>Total gradient evaluations: 2e+05 (12us)</div> <div>Total time: 5s</div>"
      ]
     },
     "metadata": {},
     "output_type": "display_data"
    },
    {
     "data": {
      "text/html": [
       "<b>Chain 3 Complete</b>: <div>Iteration: 1000 (2ms)</div> <div>Acceptance rate: 0.87</div> <div>E-BFMI: 0.71</div> <div>Step size: 0.05</div> <div></div> <div>Total gradient evaluations: 2e+05 (15us)</div> <div>Total time: 5s</div>"
      ]
     },
     "metadata": {},
     "output_type": "display_data"
    },
    {
     "data": {
      "text/html": [
       "<b>Chain 4 Complete</b>: <div>Iteration: 1000 (2ms)</div> <div>Acceptance rate: 0.85</div> <div>E-BFMI: 0.63</div> <div>Step size: 0.05</div> <div></div> <div>Total gradient evaluations: 2e+05 (12us)</div> <div>Total time: 5s</div>"
      ]
     },
     "metadata": {},
     "output_type": "display_data"
    },
    {
     "name": "stdout",
     "output_type": "stream",
     "text": [
      "Sweden\n"
     ]
    },
    {
     "data": {
      "text/html": [
       "<b>Chain 1 Complete</b>: <div>Iteration: 1000 (4ms)</div> <div>Acceptance rate: 0.87</div> <div>E-BFMI: 0.63</div> <div>Step size: 0.03</div> <div></div> <div>Total gradient evaluations: 2e+05 (25us)</div> <div>Total time: 9s</div>"
      ]
     },
     "metadata": {},
     "output_type": "display_data"
    },
    {
     "data": {
      "text/html": [
       "<b>Chain 2 Complete</b>: <div>Iteration: 1000 (4ms)</div> <div>Acceptance rate: 0.91</div> <div>E-BFMI: 0.59</div> <div>Step size: 0.03</div> <div></div> <div>Total gradient evaluations: 2e+05 (23us)</div> <div>Total time: 9s</div>"
      ]
     },
     "metadata": {},
     "output_type": "display_data"
    },
    {
     "data": {
      "text/html": [
       "<b>Chain 3 Complete</b>: <div>Iteration: 1000 (5ms)</div> <div>Acceptance rate: 0.88</div> <div>E-BFMI: 0.68</div> <div>Step size: 0.007</div> <div></div> <div>Total gradient evaluations: 2e+05 (28us)</div> <div>Total time: 10s</div>"
      ]
     },
     "metadata": {},
     "output_type": "display_data"
    },
    {
     "data": {
      "text/html": [
       "<b>Chain 4 Complete</b>: <div>Iteration: 1000 (4ms)</div> <div>Acceptance rate: 0.83</div> <div>E-BFMI: 0.62</div> <div>Step size: 0.03</div> <div></div> <div>Total gradient evaluations: 2e+05 (24us)</div> <div>Total time: 11s</div>"
      ]
     },
     "metadata": {},
     "output_type": "display_data"
    },
    {
     "name": "stdout",
     "output_type": "stream",
     "text": [
      "Austria\n"
     ]
    },
    {
     "data": {
      "text/html": [
       "<b>Chain 1 Complete</b>: <div>Iteration: 1000 (5ms)</div> <div>Acceptance rate: 0.94</div> <div>E-BFMI: 0.62</div> <div>Step size: 0.02</div> <div></div> <div>Total gradient evaluations: 2e+05 (26us)</div> <div>Total time: 12s</div>"
      ]
     },
     "metadata": {},
     "output_type": "display_data"
    },
    {
     "data": {
      "text/html": [
       "<b>Chain 2 Complete</b>: <div>Iteration: 1000 (5ms)</div> <div>Acceptance rate: 0.92</div> <div>E-BFMI: 0.58</div> <div>Step size: 0.02</div> <div></div> <div>Total gradient evaluations: 2e+05 (34us)</div> <div>Total time: 11s</div>"
      ]
     },
     "metadata": {},
     "output_type": "display_data"
    },
    {
     "data": {
      "text/html": [
       "<b>Chain 3 Complete</b>: <div>Iteration: 1000 (5ms)</div> <div>Acceptance rate: 0.92</div> <div>E-BFMI: 0.66</div> <div>Step size: 0.02</div> <div></div> <div>Total gradient evaluations: 2e+05 (39us)</div> <div>Total time: 11s</div>"
      ]
     },
     "metadata": {},
     "output_type": "display_data"
    },
    {
     "data": {
      "text/html": [
       "<b>Chain 4 Complete</b>: <div>Iteration: 1000 (5ms)</div> <div>Acceptance rate: 0.88</div> <div>E-BFMI: 0.68</div> <div>Step size: 0.02</div> <div></div> <div>Total gradient evaluations: 2e+05 (27us)</div> <div>Total time: 11s</div>"
      ]
     },
     "metadata": {},
     "output_type": "display_data"
    },
    {
     "name": "stdout",
     "output_type": "stream",
     "text": [
      "Latvia\n"
     ]
    },
    {
     "data": {
      "text/html": [
       "<b>Chain 1 Complete</b>: <div>Iteration: 1000 (3ms)</div> <div>Acceptance rate: 0.81</div> <div>E-BFMI: 0.76</div> <div>Step size: 0.06</div> <div></div> <div>Total gradient evaluations: 2e+05 (16us)</div> <div>Total time: 6s</div>"
      ]
     },
     "metadata": {},
     "output_type": "display_data"
    },
    {
     "data": {
      "text/html": [
       "<b>Chain 2 Complete</b>: <div>Iteration: 1000 (3ms)</div> <div>Acceptance rate: 0.80</div> <div>E-BFMI: 0.62</div> <div>Step size: 0.06</div> <div></div> <div>Total gradient evaluations: 2e+05 (15us)</div> <div>Total time: 6s</div>"
      ]
     },
     "metadata": {},
     "output_type": "display_data"
    },
    {
     "data": {
      "text/html": [
       "<b>Chain 3 Complete</b>: <div>Iteration: 1000 (2ms)</div> <div>Acceptance rate: 1.00</div> <div>E-BFMI: NaN</div> <div>Step size: 1e-32</div> <div></div> <div>Total gradient evaluations: 2e+05 (14us)</div> <div>Total time: 6s</div>"
      ]
     },
     "metadata": {},
     "output_type": "display_data"
    },
    {
     "data": {
      "text/html": [
       "<b>Chain 4 Complete</b>: <div>Iteration: 1000 (3ms)</div> <div>Acceptance rate: 0.80</div> <div>E-BFMI: 0.67</div> <div>Step size: 0.06</div> <div></div> <div>Total gradient evaluations: 2e+05 (14us)</div> <div>Total time: 6s</div>"
      ]
     },
     "metadata": {},
     "output_type": "display_data"
    },
    {
     "name": "stdout",
     "output_type": "stream",
     "text": [
      "Italy\n"
     ]
    },
    {
     "data": {
      "text/html": [
       "<b>Chain 1 Complete</b>: <div>Iteration: 1000 (8ms)</div> <div>Acceptance rate: 0.92</div> <div>E-BFMI: 0.66</div> <div>Step size: 0.009</div> <div></div> <div>Total gradient evaluations: 2e+05 (41us)</div> <div>Total time: 16s</div>"
      ]
     },
     "metadata": {},
     "output_type": "display_data"
    },
    {
     "data": {
      "text/html": [
       "<b>Chain 2 Complete</b>: <div>Iteration: 1000 (8ms)</div> <div>Acceptance rate: 0.92</div> <div>E-BFMI: 0.64</div> <div>Step size: 0.01</div> <div></div> <div>Total gradient evaluations: 2e+05 (40us)</div> <div>Total time: 16s</div>"
      ]
     },
     "metadata": {},
     "output_type": "display_data"
    },
    {
     "data": {
      "text/html": [
       "<b>Chain 3 Complete</b>: <div>Iteration: 1000 (8ms)</div> <div>Acceptance rate: 0.95</div> <div>E-BFMI: 0.59</div> <div>Step size: 0.009</div> <div></div> <div>Total gradient evaluations: 2e+05 (40us)</div> <div>Total time: 16s</div>"
      ]
     },
     "metadata": {},
     "output_type": "display_data"
    },
    {
     "data": {
      "text/html": [
       "<b>Chain 4 Complete</b>: <div>Iteration: 1000 (8ms)</div> <div>Acceptance rate: 0.94</div> <div>E-BFMI: 0.69</div> <div>Step size: 0.01</div> <div></div> <div>Total gradient evaluations: 2e+05 (40us)</div> <div>Total time: 16s</div>"
      ]
     },
     "metadata": {},
     "output_type": "display_data"
    },
    {
     "name": "stdout",
     "output_type": "stream",
     "text": [
      "Ireland\n"
     ]
    },
    {
     "data": {
      "text/html": [
       "<b>Chain 1 Complete</b>: <div>Iteration: 1000 (3ms)</div> <div>Acceptance rate: 0.89</div> <div>E-BFMI: 0.56</div> <div>Step size: 0.02</div> <div></div> <div>Total gradient evaluations: 2e+05 (19us)</div> <div>Total time: 7s</div>"
      ]
     },
     "metadata": {},
     "output_type": "display_data"
    },
    {
     "data": {
      "text/html": [
       "<b>Chain 2 Complete</b>: <div>Iteration: 1000 (5ms)</div> <div>Acceptance rate: 0.93</div> <div>E-BFMI: 0.66</div> <div>Step size: 0.02</div> <div></div> <div>Total gradient evaluations: 2e+05 (19us)</div> <div>Total time: 8s</div>"
      ]
     },
     "metadata": {},
     "output_type": "display_data"
    },
    {
     "data": {
      "text/html": [
       "<b>Chain 3 Complete</b>: <div>Iteration: 1000 (3ms)</div> <div>Acceptance rate: 0.89</div> <div>E-BFMI: 0.65</div> <div>Step size: 0.02</div> <div></div> <div>Total gradient evaluations: 2e+05 (16us)</div> <div>Total time: 7s</div>"
      ]
     },
     "metadata": {},
     "output_type": "display_data"
    },
    {
     "data": {
      "text/html": [
       "<b>Chain 4 Complete</b>: <div>Iteration: 1000 (3ms)</div> <div>Acceptance rate: 0.91</div> <div>E-BFMI: 0.61</div> <div>Step size: 0.02</div> <div></div> <div>Total gradient evaluations: 2e+05 (15us)</div> <div>Total time: 7s</div>"
      ]
     },
     "metadata": {},
     "output_type": "display_data"
    },
    {
     "name": "stdout",
     "output_type": "stream",
     "text": [
      "Bulgaria\n"
     ]
    },
    {
     "data": {
      "text/html": [
       "<b>Chain 1 Complete</b>: <div>Iteration: 1000 (3ms)</div> <div>Acceptance rate: 0.83</div> <div>E-BFMI: 0.57</div> <div>Step size: 0.06</div> <div></div> <div>Total gradient evaluations: 2e+05 (15us)</div> <div>Total time: 7s</div>"
      ]
     },
     "metadata": {},
     "output_type": "display_data"
    },
    {
     "data": {
      "text/html": [
       "<b>Chain 2 Complete</b>: <div>Iteration: 1000 (3ms)</div> <div>Acceptance rate: 0.86</div> <div>E-BFMI: 0.80</div> <div>Step size: 0.06</div> <div></div> <div>Total gradient evaluations: 2e+05 (16us)</div> <div>Total time: 7s</div>"
      ]
     },
     "metadata": {},
     "output_type": "display_data"
    },
    {
     "data": {
      "text/html": [
       "<b>Chain 3 Complete</b>: <div>Iteration: 1000 (3ms)</div> <div>Acceptance rate: 0.85</div> <div>E-BFMI: 0.65</div> <div>Step size: 0.05</div> <div></div> <div>Total gradient evaluations: 2e+05 (16us)</div> <div>Total time: 7s</div>"
      ]
     },
     "metadata": {},
     "output_type": "display_data"
    },
    {
     "data": {
      "text/html": [
       "<b>Chain 4 Complete</b>: <div>Iteration: 1000 (3ms)</div> <div>Acceptance rate: 0.86</div> <div>E-BFMI: 0.67</div> <div>Step size: 0.05</div> <div></div> <div>Total gradient evaluations: 2e+05 (16us)</div> <div>Total time: 7s</div>"
      ]
     },
     "metadata": {},
     "output_type": "display_data"
    },
    {
     "name": "stdout",
     "output_type": "stream",
     "text": [
      "Norway\n"
     ]
    },
    {
     "data": {
      "text/html": [
       "<b>Chain 1 Complete</b>: <div>Iteration: 1000 (5ms)</div> <div>Acceptance rate: 0.89</div> <div>E-BFMI: 0.71</div> <div>Step size: 0.03</div> <div></div> <div>Total gradient evaluations: 2e+05 (25us)</div> <div>Total time: 10s</div>"
      ]
     },
     "metadata": {},
     "output_type": "display_data"
    },
    {
     "data": {
      "text/html": [
       "<b>Chain 2 Complete</b>: <div>Iteration: 1000 (5ms)</div> <div>Acceptance rate: 0.90</div> <div>E-BFMI: 0.64</div> <div>Step size: 0.03</div> <div></div> <div>Total gradient evaluations: 2e+05 (24us)</div> <div>Total time: 10s</div>"
      ]
     },
     "metadata": {},
     "output_type": "display_data"
    },
    {
     "data": {
      "text/html": [
       "<b>Chain 3 Complete</b>: <div>Iteration: 1000 (5ms)</div> <div>Acceptance rate: 0.90</div> <div>E-BFMI: 0.75</div> <div>Step size: 0.03</div> <div></div> <div>Total gradient evaluations: 2e+05 (24us)</div> <div>Total time: 10s</div>"
      ]
     },
     "metadata": {},
     "output_type": "display_data"
    },
    {
     "data": {
      "text/html": [
       "<b>Chain 4 Complete</b>: <div>Iteration: 1000 (5ms)</div> <div>Acceptance rate: 0.92</div> <div>E-BFMI: 0.65</div> <div>Step size: 0.03</div> <div></div> <div>Total gradient evaluations: 2e+05 (23us)</div> <div>Total time: 10s</div>"
      ]
     },
     "metadata": {},
     "output_type": "display_data"
    },
    {
     "name": "stdout",
     "output_type": "stream",
     "text": [
      "France\n"
     ]
    },
    {
     "data": {
      "text/html": [
       "<b>Chain 1 Complete</b>: <div>Iteration: 1000 (7ms)</div> <div>Acceptance rate: 0.94</div> <div>E-BFMI: 0.64</div> <div>Step size: 0.008</div> <div></div> <div>Total gradient evaluations: 2e+05 (32us)</div> <div>Total time: 14s</div>"
      ]
     },
     "metadata": {},
     "output_type": "display_data"
    },
    {
     "data": {
      "text/html": [
       "<b>Chain 2 Complete</b>: <div>Iteration: 1000 (6ms)</div> <div>Acceptance rate: 0.84</div> <div>E-BFMI: 0.61</div> <div>Step size: 0.008</div> <div></div> <div>Total gradient evaluations: 2e+05 (35us)</div> <div>Total time: 14s</div>"
      ]
     },
     "metadata": {},
     "output_type": "display_data"
    },
    {
     "data": {
      "text/html": [
       "<b>Chain 3 Complete</b>: <div>Iteration: 1000 (7ms)</div> <div>Acceptance rate: 0.82</div> <div>E-BFMI: 0.46</div> <div>Step size: 0.007</div> <div></div> <div>Total gradient evaluations: 2e+05 (42us)</div> <div>Total time: 14s</div>"
      ]
     },
     "metadata": {},
     "output_type": "display_data"
    },
    {
     "data": {
      "text/html": [
       "<b>Chain 4 Complete</b>: <div>Iteration: 1000 (6ms)</div> <div>Acceptance rate: 0.96</div> <div>E-BFMI: 0.54</div> <div>Step size: 0.006</div> <div></div> <div>Total gradient evaluations: 2e+05 (32us)</div> <div>Total time: 14s</div>"
      ]
     },
     "metadata": {},
     "output_type": "display_data"
    },
    {
     "name": "stdout",
     "output_type": "stream",
     "text": [
      "Netherlands\n"
     ]
    },
    {
     "data": {
      "text/html": [
       "<b>Chain 1 Complete</b>: <div>Iteration: 1000 (4ms)</div> <div>Acceptance rate: 0.91</div> <div>E-BFMI: 0.62</div> <div>Step size: 0.02</div> <div></div> <div>Total gradient evaluations: 2e+05 (21us)</div> <div>Total time: 9s</div>"
      ]
     },
     "metadata": {},
     "output_type": "display_data"
    },
    {
     "data": {
      "text/html": [
       "<b>Chain 2 Complete</b>: <div>Iteration: 1000 (4ms)</div> <div>Acceptance rate: 0.94</div> <div>E-BFMI: 0.65</div> <div>Step size: 0.02</div> <div></div> <div>Total gradient evaluations: 2e+05 (21us)</div> <div>Total time: 9s</div>"
      ]
     },
     "metadata": {},
     "output_type": "display_data"
    },
    {
     "data": {
      "text/html": [
       "<b>Chain 3 Complete</b>: <div>Iteration: 1000 (4ms)</div> <div>Acceptance rate: 0.88</div> <div>E-BFMI: 0.71</div> <div>Step size: 0.02</div> <div></div> <div>Total gradient evaluations: 2e+05 (23us)</div> <div>Total time: 9s</div>"
      ]
     },
     "metadata": {},
     "output_type": "display_data"
    },
    {
     "data": {
      "text/html": [
       "<b>Chain 4 Complete</b>: <div>Iteration: 1000 (4ms)</div> <div>Acceptance rate: 0.91</div> <div>E-BFMI: 0.67</div> <div>Step size: 0.02</div> <div></div> <div>Total gradient evaluations: 2e+05 (21us)</div> <div>Total time: 9s</div>"
      ]
     },
     "metadata": {},
     "output_type": "display_data"
    },
    {
     "name": "stdout",
     "output_type": "stream",
     "text": [
      "Switzerland\n"
     ]
    },
    {
     "data": {
      "text/html": [
       "<b>Chain 1 Complete</b>: <div>Iteration: 1000 (4ms)</div> <div>Acceptance rate: 0.93</div> <div>E-BFMI: 0.73</div> <div>Step size: 0.02</div> <div></div> <div>Total gradient evaluations: 2e+05 (22us)</div> <div>Total time: 9s</div>"
      ]
     },
     "metadata": {},
     "output_type": "display_data"
    },
    {
     "data": {
      "text/html": [
       "<b>Chain 2 Complete</b>: <div>Iteration: 1000 (4ms)</div> <div>Acceptance rate: 0.86</div> <div>E-BFMI: 0.64</div> <div>Step size: 0.02</div> <div></div> <div>Total gradient evaluations: 2e+05 (20us)</div> <div>Total time: 9s</div>"
      ]
     },
     "metadata": {},
     "output_type": "display_data"
    },
    {
     "data": {
      "text/html": [
       "<b>Chain 3 Complete</b>: <div>Iteration: 1000 (4ms)</div> <div>Acceptance rate: 0.90</div> <div>E-BFMI: 0.79</div> <div>Step size: 0.02</div> <div></div> <div>Total gradient evaluations: 2e+05 (20us)</div> <div>Total time: 9s</div>"
      ]
     },
     "metadata": {},
     "output_type": "display_data"
    },
    {
     "data": {
      "text/html": [
       "<b>Chain 4 Complete</b>: <div>Iteration: 1000 (4ms)</div> <div>Acceptance rate: 0.92</div> <div>E-BFMI: 0.67</div> <div>Step size: 0.02</div> <div></div> <div>Total gradient evaluations: 2e+05 (21us)</div> <div>Total time: 9s</div>"
      ]
     },
     "metadata": {},
     "output_type": "display_data"
    },
    {
     "name": "stdout",
     "output_type": "stream",
     "text": [
      "Cyprus\n"
     ]
    },
    {
     "data": {
      "text/html": [
       "<b>Chain 1 Complete</b>: <div>Iteration: 1000 (2ms)</div> <div>Acceptance rate: 0.82</div> <div>E-BFMI: 0.60</div> <div>Step size: 0.06</div> <div></div> <div>Total gradient evaluations: 2e+05 (10us)</div> <div>Total time: 4s</div>"
      ]
     },
     "metadata": {},
     "output_type": "display_data"
    },
    {
     "data": {
      "text/html": [
       "<b>Chain 2 Complete</b>: <div>Iteration: 1000 (2ms)</div> <div>Acceptance rate: 0.82</div> <div>E-BFMI: 0.59</div> <div>Step size: 0.06</div> <div></div> <div>Total gradient evaluations: 2e+05 (11us)</div> <div>Total time: 4s</div>"
      ]
     },
     "metadata": {},
     "output_type": "display_data"
    },
    {
     "data": {
      "text/html": [
       "<b>Chain 3 Complete</b>: <div>Iteration: 1000 (2ms)</div> <div>Acceptance rate: 0.85</div> <div>E-BFMI: 0.71</div> <div>Step size: 0.06</div> <div></div> <div>Total gradient evaluations: 2e+05 (10us)</div> <div>Total time: 4s</div>"
      ]
     },
     "metadata": {},
     "output_type": "display_data"
    },
    {
     "data": {
      "text/html": [
       "<b>Chain 4 Complete</b>: <div>Iteration: 1000 (2ms)</div> <div>Acceptance rate: 0.84</div> <div>E-BFMI: 0.77</div> <div>Step size: 0.06</div> <div></div> <div>Total gradient evaluations: 2e+05 (10us)</div> <div>Total time: 4s</div>"
      ]
     },
     "metadata": {},
     "output_type": "display_data"
    },
    {
     "name": "stdout",
     "output_type": "stream",
     "text": [
      "Germany\n"
     ]
    },
    {
     "data": {
      "text/html": [
       "<b>Chain 1 Complete</b>: <div>Iteration: 1000 (6ms)</div> <div>Acceptance rate: 0.91</div> <div>E-BFMI: 0.57</div> <div>Step size: 0.01</div> <div></div> <div>Total gradient evaluations: 2e+05 (31us)</div> <div>Total time: 14s</div>"
      ]
     },
     "metadata": {},
     "output_type": "display_data"
    },
    {
     "data": {
      "text/html": [
       "<b>Chain 2 Complete</b>: <div>Iteration: 1000 (6ms)</div> <div>Acceptance rate: 0.90</div> <div>E-BFMI: 0.53</div> <div>Step size: 0.01</div> <div></div> <div>Total gradient evaluations: 2e+05 (31us)</div> <div>Total time: 13s</div>"
      ]
     },
     "metadata": {},
     "output_type": "display_data"
    },
    {
     "data": {
      "text/html": [
       "<b>Chain 3 Complete</b>: <div>Iteration: 1000 (6ms)</div> <div>Acceptance rate: 0.93</div> <div>E-BFMI: 0.57</div> <div>Step size: 0.01</div> <div></div> <div>Total gradient evaluations: 2e+05 (30us)</div> <div>Total time: 13s</div>"
      ]
     },
     "metadata": {},
     "output_type": "display_data"
    },
    {
     "data": {
      "text/html": [
       "<b>Chain 4 Complete</b>: <div>Iteration: 1000 (6ms)</div> <div>Acceptance rate: 0.83</div> <div>E-BFMI: 0.64</div> <div>Step size: 0.01</div> <div></div> <div>Total gradient evaluations: 2e+05 (31us)</div> <div>Total time: 13s</div>"
      ]
     },
     "metadata": {},
     "output_type": "display_data"
    },
    {
     "name": "stdout",
     "output_type": "stream",
     "text": [
      "Portugal\n"
     ]
    },
    {
     "data": {
      "text/html": [
       "<b>Chain 1 Complete</b>: <div>Iteration: 1000 (3ms)</div> <div>Acceptance rate: 0.87</div> <div>E-BFMI: 0.72</div> <div>Step size: 0.02</div> <div></div> <div>Total gradient evaluations: 2e+05 (20us)</div> <div>Total time: 7s</div>"
      ]
     },
     "metadata": {},
     "output_type": "display_data"
    },
    {
     "data": {
      "text/html": [
       "<b>Chain 2 Complete</b>: <div>Iteration: 1000 (3ms)</div> <div>Acceptance rate: 0.87</div> <div>E-BFMI: 0.61</div> <div>Step size: 0.02</div> <div></div> <div>Total gradient evaluations: 2e+05 (18us)</div> <div>Total time: 7s</div>"
      ]
     },
     "metadata": {},
     "output_type": "display_data"
    },
    {
     "data": {
      "text/html": [
       "<b>Chain 3 Complete</b>: <div>Iteration: 1000 (3ms)</div> <div>Acceptance rate: 0.91</div> <div>E-BFMI: 0.64</div> <div>Step size: 0.02</div> <div></div> <div>Total gradient evaluations: 2e+05 (18us)</div> <div>Total time: 7s</div>"
      ]
     },
     "metadata": {},
     "output_type": "display_data"
    },
    {
     "data": {
      "text/html": [
       "<b>Chain 4 Complete</b>: <div>Iteration: 1000 (3ms)</div> <div>Acceptance rate: 0.93</div> <div>E-BFMI: 0.69</div> <div>Step size: 0.02</div> <div></div> <div>Total gradient evaluations: 2e+05 (24us)</div> <div>Total time: 7s</div>"
      ]
     },
     "metadata": {},
     "output_type": "display_data"
    },
    {
     "name": "stdout",
     "output_type": "stream",
     "text": [
      "Hungary\n"
     ]
    },
    {
     "data": {
      "text/html": [
       "<b>Chain 1 Complete</b>: <div>Iteration: 1000 (3ms)</div> <div>Acceptance rate: 0.82</div> <div>E-BFMI: 0.69</div> <div>Step size: 0.05</div> <div></div> <div>Total gradient evaluations: 2e+05 (14us)</div> <div>Total time: 6s</div>"
      ]
     },
     "metadata": {},
     "output_type": "display_data"
    },
    {
     "data": {
      "text/html": [
       "<b>Chain 2 Complete</b>: <div>Iteration: 1000 (2ms)</div> <div>Acceptance rate: 0.86</div> <div>E-BFMI: 0.66</div> <div>Step size: 0.05</div> <div></div> <div>Total gradient evaluations: 2e+05 (13us)</div> <div>Total time: 5s</div>"
      ]
     },
     "metadata": {},
     "output_type": "display_data"
    },
    {
     "data": {
      "text/html": [
       "<b>Chain 3 Complete</b>: <div>Iteration: 1000 (2ms)</div> <div>Acceptance rate: 0.80</div> <div>E-BFMI: 0.72</div> <div>Step size: 0.05</div> <div></div> <div>Total gradient evaluations: 2e+05 (14us)</div> <div>Total time: 5s</div>"
      ]
     },
     "metadata": {},
     "output_type": "display_data"
    },
    {
     "data": {
      "text/html": [
       "<b>Chain 4 Complete</b>: <div>Iteration: 1000 (2ms)</div> <div>Acceptance rate: 0.92</div> <div>E-BFMI: 0.74</div> <div>Step size: 0.05</div> <div></div> <div>Total gradient evaluations: 2e+05 (15us)</div> <div>Total time: 5s</div>"
      ]
     },
     "metadata": {},
     "output_type": "display_data"
    },
    {
     "data": {
      "text/plain": [
       "\u001b[36mcountryStats\u001b[39m: \u001b[32mMap\u001b[39m[\u001b[32mString\u001b[39m, \u001b[32mRtsDistributionStats\u001b[39m] = \u001b[33mMap\u001b[39m(\n",
       "  \u001b[32m\"Poland\"\u001b[39m -> \u001b[33mRtsDistributionStats\u001b[39m(\n",
       "    \u001b[33mVector\u001b[39m(\n",
       "      (\u001b[32m0\u001b[39m, \u001b[32m1.936120178812351\u001b[39m),\n",
       "      (\u001b[32m1\u001b[39m, \u001b[32m1.940704241895107\u001b[39m),\n",
       "      (\u001b[32m2\u001b[39m, \u001b[32m1.9305624494498765\u001b[39m),\n",
       "      (\u001b[32m3\u001b[39m, \u001b[32m1.9138968880017393\u001b[39m),\n",
       "      (\u001b[32m4\u001b[39m, \u001b[32m1.8914351913997065\u001b[39m),\n",
       "      (\u001b[32m5\u001b[39m, \u001b[32m1.8670896518366633\u001b[39m),\n",
       "      (\u001b[32m6\u001b[39m, \u001b[32m1.8459714770863744\u001b[39m),\n",
       "      (\u001b[32m7\u001b[39m, \u001b[32m1.8146011481231838\u001b[39m),\n",
       "      (\u001b[32m8\u001b[39m, \u001b[32m1.781264839556118\u001b[39m),\n",
       "      (\u001b[32m9\u001b[39m, \u001b[32m1.7547305316904198\u001b[39m),\n",
       "      (\u001b[32m10\u001b[39m, \u001b[32m1.7217939419535009\u001b[39m),\n",
       "      (\u001b[32m11\u001b[39m, \u001b[32m1.6910060183551467\u001b[39m),\n",
       "      (\u001b[32m12\u001b[39m, \u001b[32m1.6592326806642397\u001b[39m),\n",
       "      (\u001b[32m13\u001b[39m, \u001b[32m1.632443810685662\u001b[39m),\n",
       "      (\u001b[32m14\u001b[39m, \u001b[32m1.5939913668125736\u001b[39m),\n",
       "      (\u001b[32m15\u001b[39m, \u001b[32m1.5550451951743787\u001b[39m),\n",
       "      (\u001b[32m16\u001b[39m, \u001b[32m1.5252694046078619\u001b[39m),\n",
       "      (\u001b[32m17\u001b[39m, \u001b[32m1.4970271910133852\u001b[39m),\n",
       "      (\u001b[32m18\u001b[39m, \u001b[32m1.4807936630437257\u001b[39m),\n",
       "      (\u001b[32m19\u001b[39m, \u001b[32m1.460967705608679\u001b[39m),\n",
       "      (\u001b[32m20\u001b[39m, \u001b[32m1.4235671636478198\u001b[39m),\n",
       "      (\u001b[32m21\u001b[39m, \u001b[32m1.392610493130754\u001b[39m),\n",
       "      (\u001b[32m22\u001b[39m, \u001b[32m1.349898662385658\u001b[39m),\n",
       "      (\u001b[32m23\u001b[39m, \u001b[32m1.3024701165064774\u001b[39m),\n",
       "      (\u001b[32m24\u001b[39m, \u001b[32m1.2485897350007051\u001b[39m),\n",
       "      (\u001b[32m25\u001b[39m, \u001b[32m1.1944871400481063\u001b[39m),\n",
       "      (\u001b[32m26\u001b[39m, \u001b[32m1.1440591539417873\u001b[39m),\n",
       "      (\u001b[32m27\u001b[39m, \u001b[32m1.0956127733647236\u001b[39m),\n",
       "      (\u001b[32m28\u001b[39m, \u001b[32m1.0624328241417251\u001b[39m),\n",
       "      (\u001b[32m29\u001b[39m, \u001b[32m1.0356334682710142\u001b[39m),\n",
       "      (\u001b[32m30\u001b[39m, \u001b[32m1.0147756944804907\u001b[39m),\n",
       "      (\u001b[32m31\u001b[39m, \u001b[32m1.0117044426265935\u001b[39m),\n",
       "      (\u001b[32m32\u001b[39m, \u001b[32m1.0131444496053756\u001b[39m),\n",
       "      (\u001b[32m33\u001b[39m, \u001b[32m1.0250709113869312\u001b[39m),\n",
       "      (\u001b[32m34\u001b[39m, \u001b[32m1.038181966184048\u001b[39m),\n",
       "      (\u001b[32m35\u001b[39m, \u001b[32m1.0502945176194212\u001b[39m),\n",
       "..."
      ]
     },
     "execution_count": 127,
     "metadata": {},
     "output_type": "execute_result"
    }
   ],
   "source": [
    "val countryStats: Map[String, RtsDistributionStats] = {\n",
    "    assert(countriesToPredict.toSet.subsetOf(countriesSmooth.map(_(\"country\")).toSet))\n",
    "    countriesToPredict.map { countryName =>\n",
    "        println(countryName)\n",
    "        val caseNumbers = countriesSmooth.collect {\n",
    "            case m if m(\"country\") == countryName => m(\"cases\").toLong\n",
    "        }\n",
    "        val (rts,estimates) = predictRt(caseNumbers)\n",
    "        val stats@RtsDistributionStats(means, hdpis) = distributionStats(rts, estimates)\n",
    "//         show(\"t\", s\"Rt - $countryName\", line(means), shade(hdpis))\n",
    "        countryName -> stats\n",
    "    }.toMap\n",
    "}"
   ]
  },
  {
   "cell_type": "code",
   "execution_count": 139,
   "metadata": {},
   "outputs": [
    {
     "data": {
      "image/png": "[encoded data removed]"
     },
     "metadata": {
      "height": "1600",
      "width": "1624"
     },
     "output_type": "display_data"
    }
   ],
   "source": [
    "{{\n",
    "    val RtsDistributionStats(means, hdpis) = countryStats(\"Latvia\")\n",
    "    show(\"t\", \"Rt\", line(means), shade(hdpis))\n",
    "}}"
   ]
  },
  {
   "cell_type": "code",
   "execution_count": 129,
   "metadata": {},
   "outputs": [
    {
     "data": {
      "text/plain": [
       "defined \u001b[32mfunction\u001b[39m \u001b[36mdatesForCountry\u001b[39m"
      ]
     },
     "execution_count": 129,
     "metadata": {},
     "output_type": "execute_result"
    }
   ],
   "source": [
    "def datesForCountry(country: String) = {\n",
    "    countriesSmooth.collect {\n",
    "        case m if m(\"country\") == country => m(\"date\")\n",
    "    }\n",
    "}"
   ]
  },
  {
   "cell_type": "code",
   "execution_count": 130,
   "metadata": {},
   "outputs": [
    {
     "data": {
      "text/plain": [
       "defined \u001b[32mfunction\u001b[39m \u001b[36mwriteStatsToCsv\u001b[39m"
      ]
     },
     "execution_count": 130,
     "metadata": {},
     "output_type": "execute_result"
    }
   ],
   "source": [
    "def writeStatsToCsv(country: String, stats: RtsDistributionStats, csvWriter: CSVWriter): Unit = {\n",
    "    val xs = stats.means.unzip._2 zip stats.hdpis.unzip._2\n",
    "    val dates = datesForCountry(country)\n",
    "    assert(xs.size == dates.size)\n",
    "    (xs zip dates) foreach {\n",
    "        case ((mean, (low90, high90)), date) => \n",
    "            csvWriter.writeRow(country :: date :: mean.toString :: low90.toString :: high90.toString :: Nil)\n",
    "    }\n",
    "}"
   ]
  },
  {
   "cell_type": "code",
   "execution_count": 135,
   "metadata": {},
   "outputs": [
    {
     "data": {
      "text/plain": [
       "\u001b[36mcsvWriter\u001b[39m: \u001b[32mCSVWriter\u001b[39m = com.github.tototoshi.csv.CSVWriter@207c0b81"
      ]
     },
     "execution_count": 135,
     "metadata": {},
     "output_type": "execute_result"
    }
   ],
   "source": [
    "val csvWriter = CSVWriter.open(new File(\"data/rt-rainier.csv\"))"
   ]
  },
  {
   "cell_type": "code",
   "execution_count": 136,
   "metadata": {},
   "outputs": [],
   "source": [
    "csvWriter.writeRow(List(\"country\", \"date\", \"ML\", \"Low_90\", \"High_90\"))"
   ]
  },
  {
   "cell_type": "code",
   "execution_count": 137,
   "metadata": {},
   "outputs": [],
   "source": [
    "countryStats.toList.sortBy(_._1).foreach {\n",
    "    case (country, stats) => writeStatsToCsv(country, stats, csvWriter)\n",
    "}"
   ]
  },
  {
   "cell_type": "code",
   "execution_count": 138,
   "metadata": {},
   "outputs": [],
   "source": [
    "csvWriter.close()"
   ]
  },
  {
   "cell_type": "markdown",
   "metadata": {},
   "source": [
    "Changes from the original model:\n",
    "* run the markov process with log(R_t) to ensure that it always stays positive\n",
    "* use a Laplace transition to strongly regularize\n",
    "* put a prior on the std dev of the transition, rather than fixing it\n",
    "* put a prior on the serial interval rather than fixing it"
   ]
  },
  {
   "cell_type": "code",
   "execution_count": 5,
   "metadata": {},
   "outputs": [
    {
     "data": {
      "text/plain": [
       "\u001b[36mmodel\u001b[39m: \u001b[32mModel\u001b[39m = \u001b[32mModel[57]\u001b[39m\n",
       "\u001b[36mrts\u001b[39m: \u001b[32mVec\u001b[39m[\u001b[32mReal\u001b[39m] = \u001b[33mVec\u001b[39m(\n",
       "  \u001b[32mReal(0.00, Infinity)\u001b[39m,\n",
       "  \u001b[32mReal(0.00, Infinity)\u001b[39m,\n",
       "  \u001b[32mReal(0.00, Infinity)\u001b[39m,\n",
       "  \u001b[32mReal(0.00, Infinity)\u001b[39m,\n",
       "  \u001b[32mReal(0.00, Infinity)\u001b[39m,\n",
       "  \u001b[32mReal(0.00, Infinity)\u001b[39m,\n",
       "  \u001b[32mReal(0.00, Infinity)\u001b[39m,\n",
       "  \u001b[32mReal(0.00, Infinity)\u001b[39m,\n",
       "  \u001b[32mReal(0.00, Infinity)\u001b[39m,\n",
       "  \u001b[32mReal(0.00, Infinity)\u001b[39m,\n",
       "  \u001b[32mReal(0.00, Infinity)\u001b[39m,\n",
       "  \u001b[32mReal(0.00, Infinity)\u001b[39m,\n",
       "  \u001b[32mReal(0.00, Infinity)\u001b[39m,\n",
       "  \u001b[32mReal(0.00, Infinity)\u001b[39m,\n",
       "  \u001b[32mReal(0.00, Infinity)\u001b[39m,\n",
       "  \u001b[32mReal(0.00, Infinity)\u001b[39m,\n",
       "  \u001b[32mReal(0.00, Infinity)\u001b[39m,\n",
       "  \u001b[32mReal(0.00, Infinity)\u001b[39m,\n",
       "  \u001b[32mReal(0.00, Infinity)\u001b[39m,\n",
       "  \u001b[32mReal(0.00, Infinity)\u001b[39m,\n",
       "  \u001b[32mReal(0.00, Infinity)\u001b[39m,\n",
       "  \u001b[32mReal(0.00, Infinity)\u001b[39m,\n",
       "  \u001b[32mReal(0.00, Infinity)\u001b[39m,\n",
       "  \u001b[32mReal(0.00, Infinity)\u001b[39m,\n",
       "  \u001b[32mReal(0.00, Infinity)\u001b[39m,\n",
       "  \u001b[32mReal(0.00, Infinity)\u001b[39m,\n",
       "  \u001b[32mReal(0.00, Infinity)\u001b[39m,\n",
       "  \u001b[32mReal(0.00, Infinity)\u001b[39m,\n",
       "  \u001b[32mReal(0.00, Infinity)\u001b[39m,\n",
       "  \u001b[32mReal(0.00, Infinity)\u001b[39m,\n",
       "  \u001b[32mReal(0.00, Infinity)\u001b[39m,\n",
       "  \u001b[32mReal(0.00, Infinity)\u001b[39m,\n",
       "  \u001b[32mReal(0.00, Infinity)\u001b[39m,\n",
       "  \u001b[32mReal(0.00, Infinity)\u001b[39m,\n",
       "  \u001b[32mReal(0.00, Infinity)\u001b[39m,\n",
       "  \u001b[32mReal(0.00, Infinity)\u001b[39m,\n",
       "  \u001b[32mReal(0.00, Infinity)\u001b[39m,\n",
       "  \u001b[32mReal(0.00, Infinity)\u001b[39m,\n",
       "..."
      ]
     },
     "execution_count": 5,
     "metadata": {},
     "output_type": "execute_result"
    }
   ],
   "source": [
    "val (model, rts) =  {\n",
    "    val (xs, ys) = data.unzip\n",
    "\n",
    "    val serialInterval = Normal(5,2).latent\n",
    "    val logR0 = Normal(0, 1).latent\n",
    "    val sigma = Exponential(10).latent\n",
    "    val diffs = Laplace(0,sigma).latentVec(data.size)\n",
    "    val logRts = Vec.from(diffs.toList.scanLeft(logR0)(_ + _))\n",
    "    val likelihoods = Vec.from(xs).map{case (i, kt_prev) => \n",
    "        val lambda = ((logRts(i).exp - 1)/serialInterval).exp * kt_prev\n",
    "        Poisson(lambda)\n",
    "    }\n",
    "\n",
    "    (Model.observe(ys, likelihoods), logRts.map(_.exp))\n",
    "}"
   ]
  },
  {
   "cell_type": "markdown",
   "metadata": {},
   "source": [
    "This seems to work best (and fastest) with a dead simple HMC(100) sampler, no mass matrix or path length adapation."
   ]
  },
  {
   "cell_type": "code",
   "execution_count": 8,
   "metadata": {},
   "outputs": [
    {
     "data": {
      "text/html": [
       "<b>Chain 1 Complete</b>: <div>Iteration: 1000 (6ms)</div> <div>Acceptance rate: 0.91</div> <div>E-BFMI: 0.55</div> <div>Step size: 0.007</div> <div></div> <div>Total gradient evaluations: 2e+05 (33us)</div> <div>Total time: 13s</div>"
      ]
     },
     "metadata": {},
     "output_type": "display_data"
    },
    {
     "data": {
      "text/html": [
       "<b>Chain 2 Complete</b>: <div>Iteration: 1000 (6ms)</div> <div>Acceptance rate: 0.95</div> <div>E-BFMI: 0.67</div> <div>Step size: 0.006</div> <div></div> <div>Total gradient evaluations: 2e+05 (26us)</div> <div>Total time: 13s</div>"
      ]
     },
     "metadata": {},
     "output_type": "display_data"
    },
    {
     "data": {
      "text/plain": [
       "\u001b[36msamplerConfig\u001b[39m: \u001b[32mDefaultConfig\u001b[39m{def massMatrixTuner(): com.stripe.rainier.sampler.IdentityMassMatrixTuner;def sampler(): com.stripe.rainier.sampler.HMCSampler} = ammonite.$sess.cmd7$Helper$$anon$1@7a190a17\n",
       "\u001b[36mtrace\u001b[39m: \u001b[32mTrace\u001b[39m = \u001b[32mTrace[2][1000][57]\u001b[39m"
      ]
     },
     "execution_count": 8,
     "metadata": {},
     "output_type": "execute_result"
    }
   ],
   "source": [
    "val samplerConfig = new DefaultConfig {\n",
    "    override def massMatrixTuner() = new IdentityMassMatrixTuner\n",
    "    override def sampler() = new HMCSampler(100)\n",
    "}\n",
    "val trace = model.sample(samplerConfig, 2)"
   ]
  },
  {
   "cell_type": "code",
   "execution_count": 9,
   "metadata": {},
   "outputs": [
    {
     "data": {
      "image/png": "[encoded data removed]"
     },
     "metadata": {
      "height": "1600",
      "width": "1600"
     },
     "output_type": "display_data"
    }
   ],
   "source": [
    "{{\n",
    "    val rtForecasts = trace.predict(rts)\n",
    "    val means = 0.until(rts.size).map{i => (i,mean(rtForecasts.map(_(i))))}\n",
    "    val hdpis = 0.until(rts.size).map{i => (i, hdpi(rtForecasts.map(_(i))))}\n",
    "    show(\"t\", \"Rt\", line(means), shade(hdpis))\n",
    "}}"
   ]
  },
  {
   "cell_type": "code",
   "execution_count": 39,
   "metadata": {},
   "outputs": [
    {
     "data": {
      "text/plain": [
       "\u001b[36mres38\u001b[39m: \u001b[32mVec\u001b[39m[\u001b[32mReal\u001b[39m] = \u001b[33mVec\u001b[39m(\n",
       "  \u001b[32mReal(0.00, Infinity)\u001b[39m,\n",
       "  \u001b[32mReal(0.00, Infinity)\u001b[39m,\n",
       "  \u001b[32mReal(0.00, Infinity)\u001b[39m,\n",
       "  \u001b[32mReal(0.00, Infinity)\u001b[39m,\n",
       "  \u001b[32mReal(0.00, Infinity)\u001b[39m,\n",
       "  \u001b[32mReal(0.00, Infinity)\u001b[39m,\n",
       "  \u001b[32mReal(0.00, Infinity)\u001b[39m,\n",
       "  \u001b[32mReal(0.00, Infinity)\u001b[39m,\n",
       "  \u001b[32mReal(0.00, Infinity)\u001b[39m,\n",
       "  \u001b[32mReal(0.00, Infinity)\u001b[39m,\n",
       "  \u001b[32mReal(0.00, Infinity)\u001b[39m,\n",
       "  \u001b[32mReal(0.00, Infinity)\u001b[39m,\n",
       "  \u001b[32mReal(0.00, Infinity)\u001b[39m,\n",
       "  \u001b[32mReal(0.00, Infinity)\u001b[39m,\n",
       "  \u001b[32mReal(0.00, Infinity)\u001b[39m,\n",
       "  \u001b[32mReal(0.00, Infinity)\u001b[39m,\n",
       "  \u001b[32mReal(0.00, Infinity)\u001b[39m,\n",
       "  \u001b[32mReal(0.00, Infinity)\u001b[39m,\n",
       "  \u001b[32mReal(0.00, Infinity)\u001b[39m,\n",
       "  \u001b[32mReal(0.00, Infinity)\u001b[39m,\n",
       "  \u001b[32mReal(0.00, Infinity)\u001b[39m,\n",
       "  \u001b[32mReal(0.00, Infinity)\u001b[39m,\n",
       "  \u001b[32mReal(0.00, Infinity)\u001b[39m,\n",
       "  \u001b[32mReal(0.00, Infinity)\u001b[39m,\n",
       "  \u001b[32mReal(0.00, Infinity)\u001b[39m,\n",
       "  \u001b[32mReal(0.00, Infinity)\u001b[39m,\n",
       "  \u001b[32mReal(0.00, Infinity)\u001b[39m,\n",
       "  \u001b[32mReal(0.00, Infinity)\u001b[39m,\n",
       "  \u001b[32mReal(0.00, Infinity)\u001b[39m,\n",
       "  \u001b[32mReal(0.00, Infinity)\u001b[39m,\n",
       "  \u001b[32mReal(0.00, Infinity)\u001b[39m,\n",
       "  \u001b[32mReal(0.00, Infinity)\u001b[39m,\n",
       "  \u001b[32mReal(0.00, Infinity)\u001b[39m,\n",
       "  \u001b[32mReal(0.00, Infinity)\u001b[39m,\n",
       "  \u001b[32mReal(0.00, Infinity)\u001b[39m,\n",
       "  \u001b[32mReal(0.00, Infinity)\u001b[39m,\n",
       "  \u001b[32mReal(0.00, Infinity)\u001b[39m,\n",
       "  \u001b[32mReal(0.00, Infinity)\u001b[39m,\n",
       "..."
      ]
     },
     "execution_count": 39,
     "metadata": {},
     "output_type": "execute_result"
    }
   ],
   "source": [
    "rts"
   ]
  },
  {
   "cell_type": "code",
   "execution_count": null,
   "metadata": {},
   "outputs": [],
   "source": []
  }
 ],
 "metadata": {
  "kernelspec": {
   "display_name": "Rainier (Scala 2.12)",
   "language": "scala",
   "name": "rainier"
  },
  "language_info": {
   "codemirror_mode": "text/x-scala",
   "file_extension": ".scala",
   "mimetype": "text/x-scala",
   "name": "scala",
   "nbconvert_exporter": "script",
   "version": "2.12.10"
  }
 },
 "nbformat": 4,
 "nbformat_minor": 2
}
