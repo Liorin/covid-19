{
 "cells": [
  {
   "cell_type": "code",
   "execution_count": 1,
   "metadata": {},
   "outputs": [
    {
     "data": {
      "text/plain": [
       "\u001b[32mimport \u001b[39m\u001b[36m$ivy.$                               \n",
       "\u001b[39m\n",
       "\u001b[32mimport \u001b[39m\u001b[36m$ivy.$                                   \u001b[39m"
      ]
     },
     "execution_count": 1,
     "metadata": {},
     "output_type": "execute_result"
    }
   ],
   "source": [
    "import $ivy.`com.stripe::rainier-core:0.3.2`\n",
    "import $ivy.`com.stripe::rainier-notebook:0.3.3`"
   ]
  },
  {
   "cell_type": "code",
   "execution_count": 2,
   "metadata": {},
   "outputs": [
    {
     "data": {
      "text/plain": [
       "\u001b[32mimport \u001b[39m\u001b[36mcom.stripe.rainier.compute._\n",
       "\u001b[39m\n",
       "\u001b[32mimport \u001b[39m\u001b[36mcom.stripe.rainier.core._\n",
       "\u001b[39m\n",
       "\u001b[32mimport \u001b[39m\u001b[36mcom.stripe.rainier.sampler._\n",
       "\u001b[39m\n",
       "\u001b[32mimport \u001b[39m\u001b[36mcom.stripe.rainier.notebook._\u001b[39m"
      ]
     },
     "execution_count": 2,
     "metadata": {},
     "output_type": "execute_result"
    }
   ],
   "source": [
    "import com.stripe.rainier.compute._\n",
    "import com.stripe.rainier.core._\n",
    "import com.stripe.rainier.sampler._\n",
    "import com.stripe.rainier.notebook._"
   ]
  },
  {
   "cell_type": "code",
   "execution_count": 3,
   "metadata": {},
   "outputs": [],
   "source": [
    "PPrint.register(repl)\n"
   ]
  },
  {
   "cell_type": "code",
   "execution_count": 4,
   "metadata": {},
   "outputs": [
    {
     "data": {
      "text/plain": [
       "\u001b[32mimport \u001b[39m\u001b[36m$ivy.$                                      \n",
       "\u001b[39m\n",
       "\u001b[32mimport \u001b[39m\u001b[36mcom.github.tototoshi.csv._\n",
       "\u001b[39m\n",
       "\u001b[32mimport \u001b[39m\u001b[36mjava.io.File\u001b[39m"
      ]
     },
     "execution_count": 4,
     "metadata": {},
     "output_type": "execute_result"
    }
   ],
   "source": [
    "import $ivy.`com.github.tototoshi::scala-csv:1.3.6`\n",
    "import com.github.tototoshi.csv._\n",
    "import java.io.File"
   ]
  },
  {
   "cell_type": "code",
   "execution_count": 21,
   "metadata": {
    "scrolled": true
   },
   "outputs": [
    {
     "data": {
      "text/plain": [
       "\u001b[36mcountriesSmooth\u001b[39m: \u001b[32mList\u001b[39m[\u001b[32mMap\u001b[39m[\u001b[32mString\u001b[39m, \u001b[32mString\u001b[39m]] = \u001b[33mList\u001b[39m(\n",
       "  \u001b[33mMap\u001b[39m(\u001b[32m\"country\"\u001b[39m -> \u001b[32m\"Austria\"\u001b[39m, \u001b[32m\"date\"\u001b[39m -> \u001b[32m\"2020-03-05\"\u001b[39m, \u001b[32m\"cases\"\u001b[39m -> \u001b[32m\"11\"\u001b[39m),\n",
       "  \u001b[33mMap\u001b[39m(\u001b[32m\"country\"\u001b[39m -> \u001b[32m\"Austria\"\u001b[39m, \u001b[32m\"date\"\u001b[39m -> \u001b[32m\"2020-03-06\"\u001b[39m, \u001b[32m\"cases\"\u001b[39m -> \u001b[32m\"14\"\u001b[39m),\n",
       "  \u001b[33mMap\u001b[39m(\u001b[32m\"country\"\u001b[39m -> \u001b[32m\"Austria\"\u001b[39m, \u001b[32m\"date\"\u001b[39m -> \u001b[32m\"2020-03-07\"\u001b[39m, \u001b[32m\"cases\"\u001b[39m -> \u001b[32m\"18\"\u001b[39m),\n",
       "  \u001b[33mMap\u001b[39m(\u001b[32m\"country\"\u001b[39m -> \u001b[32m\"Austria\"\u001b[39m, \u001b[32m\"date\"\u001b[39m -> \u001b[32m\"2020-03-08\"\u001b[39m, \u001b[32m\"cases\"\u001b[39m -> \u001b[32m\"24\"\u001b[39m),\n",
       "  \u001b[33mMap\u001b[39m(\u001b[32m\"country\"\u001b[39m -> \u001b[32m\"Austria\"\u001b[39m, \u001b[32m\"date\"\u001b[39m -> \u001b[32m\"2020-03-09\"\u001b[39m, \u001b[32m\"cases\"\u001b[39m -> \u001b[32m\"33\"\u001b[39m),\n",
       "  \u001b[33mMap\u001b[39m(\u001b[32m\"country\"\u001b[39m -> \u001b[32m\"Austria\"\u001b[39m, \u001b[32m\"date\"\u001b[39m -> \u001b[32m\"2020-03-10\"\u001b[39m, \u001b[32m\"cases\"\u001b[39m -> \u001b[32m\"47\"\u001b[39m),\n",
       "  \u001b[33mMap\u001b[39m(\u001b[32m\"country\"\u001b[39m -> \u001b[32m\"Austria\"\u001b[39m, \u001b[32m\"date\"\u001b[39m -> \u001b[32m\"2020-03-11\"\u001b[39m, \u001b[32m\"cases\"\u001b[39m -> \u001b[32m\"63\"\u001b[39m),\n",
       "  \u001b[33mMap\u001b[39m(\u001b[32m\"country\"\u001b[39m -> \u001b[32m\"Austria\"\u001b[39m, \u001b[32m\"date\"\u001b[39m -> \u001b[32m\"2020-03-12\"\u001b[39m, \u001b[32m\"cases\"\u001b[39m -> \u001b[32m\"84\"\u001b[39m),\n",
       "  \u001b[33mMap\u001b[39m(\u001b[32m\"country\"\u001b[39m -> \u001b[32m\"Austria\"\u001b[39m, \u001b[32m\"date\"\u001b[39m -> \u001b[32m\"2020-03-13\"\u001b[39m, \u001b[32m\"cases\"\u001b[39m -> \u001b[32m\"104\"\u001b[39m),\n",
       "  \u001b[33mMap\u001b[39m(\u001b[32m\"country\"\u001b[39m -> \u001b[32m\"Austria\"\u001b[39m, \u001b[32m\"date\"\u001b[39m -> \u001b[32m\"2020-03-14\"\u001b[39m, \u001b[32m\"cases\"\u001b[39m -> \u001b[32m\"134\"\u001b[39m),\n",
       "  \u001b[33mMap\u001b[39m(\u001b[32m\"country\"\u001b[39m -> \u001b[32m\"Austria\"\u001b[39m, \u001b[32m\"date\"\u001b[39m -> \u001b[32m\"2020-03-15\"\u001b[39m, \u001b[32m\"cases\"\u001b[39m -> \u001b[32m\"165\"\u001b[39m),\n",
       "  \u001b[33mMap\u001b[39m(\u001b[32m\"country\"\u001b[39m -> \u001b[32m\"Austria\"\u001b[39m, \u001b[32m\"date\"\u001b[39m -> \u001b[32m\"2020-03-16\"\u001b[39m, \u001b[32m\"cases\"\u001b[39m -> \u001b[32m\"211\"\u001b[39m),\n",
       "  \u001b[33mMap\u001b[39m(\u001b[32m\"country\"\u001b[39m -> \u001b[32m\"Austria\"\u001b[39m, \u001b[32m\"date\"\u001b[39m -> \u001b[32m\"2020-03-17\"\u001b[39m, \u001b[32m\"cases\"\u001b[39m -> \u001b[32m\"257\"\u001b[39m),\n",
       "  \u001b[33mMap\u001b[39m(\u001b[32m\"country\"\u001b[39m -> \u001b[32m\"Austria\"\u001b[39m, \u001b[32m\"date\"\u001b[39m -> \u001b[32m\"2020-03-18\"\u001b[39m, \u001b[32m\"cases\"\u001b[39m -> \u001b[32m\"298\"\u001b[39m),\n",
       "  \u001b[33mMap\u001b[39m(\u001b[32m\"country\"\u001b[39m -> \u001b[32m\"Austria\"\u001b[39m, \u001b[32m\"date\"\u001b[39m -> \u001b[32m\"2020-03-19\"\u001b[39m, \u001b[32m\"cases\"\u001b[39m -> \u001b[32m\"350\"\u001b[39m),\n",
       "  \u001b[33mMap\u001b[39m(\u001b[32m\"country\"\u001b[39m -> \u001b[32m\"Austria\"\u001b[39m, \u001b[32m\"date\"\u001b[39m -> \u001b[32m\"2020-03-20\"\u001b[39m, \u001b[32m\"cases\"\u001b[39m -> \u001b[32m\"418\"\u001b[39m),\n",
       "  \u001b[33mMap\u001b[39m(\u001b[32m\"country\"\u001b[39m -> \u001b[32m\"Austria\"\u001b[39m, \u001b[32m\"date\"\u001b[39m -> \u001b[32m\"2020-03-21\"\u001b[39m, \u001b[32m\"cases\"\u001b[39m -> \u001b[32m\"485\"\u001b[39m),\n",
       "  \u001b[33mMap\u001b[39m(\u001b[32m\"country\"\u001b[39m -> \u001b[32m\"Austria\"\u001b[39m, \u001b[32m\"date\"\u001b[39m -> \u001b[32m\"2020-03-22\"\u001b[39m, \u001b[32m\"cases\"\u001b[39m -> \u001b[32m\"545\"\u001b[39m),\n",
       "  \u001b[33mMap\u001b[39m(\u001b[32m\"country\"\u001b[39m -> \u001b[32m\"Austria\"\u001b[39m, \u001b[32m\"date\"\u001b[39m -> \u001b[32m\"2020-03-23\"\u001b[39m, \u001b[32m\"cases\"\u001b[39m -> \u001b[32m\"623\"\u001b[39m),\n",
       "  \u001b[33mMap\u001b[39m(\u001b[32m\"country\"\u001b[39m -> \u001b[32m\"Austria\"\u001b[39m, \u001b[32m\"date\"\u001b[39m -> \u001b[32m\"2020-03-24\"\u001b[39m, \u001b[32m\"cases\"\u001b[39m -> \u001b[32m\"679\"\u001b[39m),\n",
       "  \u001b[33mMap\u001b[39m(\u001b[32m\"country\"\u001b[39m -> \u001b[32m\"Austria\"\u001b[39m, \u001b[32m\"date\"\u001b[39m -> \u001b[32m\"2020-03-25\"\u001b[39m, \u001b[32m\"cases\"\u001b[39m -> \u001b[32m\"711\"\u001b[39m),\n",
       "  \u001b[33mMap\u001b[39m(\u001b[32m\"country\"\u001b[39m -> \u001b[32m\"Austria\"\u001b[39m, \u001b[32m\"date\"\u001b[39m -> \u001b[32m\"2020-03-26\"\u001b[39m, \u001b[32m\"cases\"\u001b[39m -> \u001b[32m\"728\"\u001b[39m),\n",
       "  \u001b[33mMap\u001b[39m(\u001b[32m\"country\"\u001b[39m -> \u001b[32m\"Austria\"\u001b[39m, \u001b[32m\"date\"\u001b[39m -> \u001b[32m\"2020-03-27\"\u001b[39m, \u001b[32m\"cases\"\u001b[39m -> \u001b[32m\"747\"\u001b[39m),\n",
       "  \u001b[33mMap\u001b[39m(\u001b[32m\"country\"\u001b[39m -> \u001b[32m\"Austria\"\u001b[39m, \u001b[32m\"date\"\u001b[39m -> \u001b[32m\"2020-03-28\"\u001b[39m, \u001b[32m\"cases\"\u001b[39m -> \u001b[32m\"730\"\u001b[39m),\n",
       "  \u001b[33mMap\u001b[39m(\u001b[32m\"country\"\u001b[39m -> \u001b[32m\"Austria\"\u001b[39m, \u001b[32m\"date\"\u001b[39m -> \u001b[32m\"2020-03-29\"\u001b[39m, \u001b[32m\"cases\"\u001b[39m -> \u001b[32m\"694\"\u001b[39m),\n",
       "  \u001b[33mMap\u001b[39m(\u001b[32m\"country\"\u001b[39m -> \u001b[32m\"Austria\"\u001b[39m, \u001b[32m\"date\"\u001b[39m -> \u001b[32m\"2020-03-30\"\u001b[39m, \u001b[32m\"cases\"\u001b[39m -> \u001b[32m\"653\"\u001b[39m),\n",
       "  \u001b[33mMap\u001b[39m(\u001b[32m\"country\"\u001b[39m -> \u001b[32m\"Austria\"\u001b[39m, \u001b[32m\"date\"\u001b[39m -> \u001b[32m\"2020-03-31\"\u001b[39m, \u001b[32m\"cases\"\u001b[39m -> \u001b[32m\"616\"\u001b[39m),\n",
       "  \u001b[33mMap\u001b[39m(\u001b[32m\"country\"\u001b[39m -> \u001b[32m\"Austria\"\u001b[39m, \u001b[32m\"date\"\u001b[39m -> \u001b[32m\"2020-04-01\"\u001b[39m, \u001b[32m\"cases\"\u001b[39m -> \u001b[32m\"544\"\u001b[39m),\n",
       "  \u001b[33mMap\u001b[39m(\u001b[32m\"country\"\u001b[39m -> \u001b[32m\"Austria\"\u001b[39m, \u001b[32m\"date\"\u001b[39m -> \u001b[32m\"2020-04-02\"\u001b[39m, \u001b[32m\"cases\"\u001b[39m -> \u001b[32m\"493\"\u001b[39m),\n",
       "  \u001b[33mMap\u001b[39m(\u001b[32m\"country\"\u001b[39m -> \u001b[32m\"Austria\"\u001b[39m, \u001b[32m\"date\"\u001b[39m -> \u001b[32m\"2020-04-03\"\u001b[39m, \u001b[32m\"cases\"\u001b[39m -> \u001b[32m\"444\"\u001b[39m),\n",
       "  \u001b[33mMap\u001b[39m(\u001b[32m\"country\"\u001b[39m -> \u001b[32m\"Austria\"\u001b[39m, \u001b[32m\"date\"\u001b[39m -> \u001b[32m\"2020-04-04\"\u001b[39m, \u001b[32m\"cases\"\u001b[39m -> \u001b[32m\"401\"\u001b[39m),\n",
       "  \u001b[33mMap\u001b[39m(\u001b[32m\"country\"\u001b[39m -> \u001b[32m\"Austria\"\u001b[39m, \u001b[32m\"date\"\u001b[39m -> \u001b[32m\"2020-04-05\"\u001b[39m, \u001b[32m\"cases\"\u001b[39m -> \u001b[32m\"353\"\u001b[39m),\n",
       "  \u001b[33mMap\u001b[39m(\u001b[32m\"country\"\u001b[39m -> \u001b[32m\"Austria\"\u001b[39m, \u001b[32m\"date\"\u001b[39m -> \u001b[32m\"2020-04-06\"\u001b[39m, \u001b[32m\"cases\"\u001b[39m -> \u001b[32m\"325\"\u001b[39m),\n",
       "  \u001b[33mMap\u001b[39m(\u001b[32m\"country\"\u001b[39m -> \u001b[32m\"Austria\"\u001b[39m, \u001b[32m\"date\"\u001b[39m -> \u001b[32m\"2020-04-07\"\u001b[39m, \u001b[32m\"cases\"\u001b[39m -> \u001b[32m\"308\"\u001b[39m),\n",
       "  \u001b[33mMap\u001b[39m(\u001b[32m\"country\"\u001b[39m -> \u001b[32m\"Austria\"\u001b[39m, \u001b[32m\"date\"\u001b[39m -> \u001b[32m\"2020-04-08\"\u001b[39m, \u001b[32m\"cases\"\u001b[39m -> \u001b[32m\"298\"\u001b[39m),\n",
       "  \u001b[33mMap\u001b[39m(\u001b[32m\"country\"\u001b[39m -> \u001b[32m\"Austria\"\u001b[39m, \u001b[32m\"date\"\u001b[39m -> \u001b[32m\"2020-04-09\"\u001b[39m, \u001b[32m\"cases\"\u001b[39m -> \u001b[32m\"284\"\u001b[39m),\n",
       "  \u001b[33mMap\u001b[39m(\u001b[32m\"country\"\u001b[39m -> \u001b[32m\"Austria\"\u001b[39m, \u001b[32m\"date\"\u001b[39m -> \u001b[32m\"2020-04-10\"\u001b[39m, \u001b[32m\"cases\"\u001b[39m -> \u001b[32m\"270\"\u001b[39m),\n",
       "  \u001b[33mMap\u001b[39m(\u001b[32m\"country\"\u001b[39m -> \u001b[32m\"Austria\"\u001b[39m, \u001b[32m\"date\"\u001b[39m -> \u001b[32m\"2020-04-11\"\u001b[39m, \u001b[32m\"cases\"\u001b[39m -> \u001b[32m\"254\"\u001b[39m),\n",
       "..."
      ]
     },
     "execution_count": 21,
     "metadata": {},
     "output_type": "execute_result"
    }
   ],
   "source": [
    "val countriesSmooth = {\n",
    "    val csvReader = CSVReader.open(new File(\"data/smooth_countries.csv\"))\n",
    "    val xs = csvReader.allWithHeaders()\n",
    "    csvReader.close()\n",
    "    xs\n",
    "}"
   ]
  },
  {
   "cell_type": "code",
   "execution_count": 6,
   "metadata": {},
   "outputs": [
    {
     "data": {
      "text/plain": [
       "defined \u001b[32mfunction\u001b[39m \u001b[36mprepareDataForModel\u001b[39m"
      ]
     },
     "execution_count": 6,
     "metadata": {},
     "output_type": "execute_result"
    }
   ],
   "source": [
    "def prepareDataForModel(xs: List[Long]): List[((Int, Long), Long)] = {\n",
    "    val adjacentPairs = xs.drop(1).zip(xs.take(xs.size - 1))\n",
    "    adjacentPairs.zipWithIndex.map{case ((kt, kt_prev), i) =>\n",
    "        (i, kt_prev) -> kt\n",
    "    }\n",
    "}"
   ]
  },
  {
   "cell_type": "code",
   "execution_count": 7,
   "metadata": {},
   "outputs": [
    {
     "data": {
      "text/plain": [
       "\u001b[36msamplerConfig\u001b[39m: \u001b[32mDefaultConfig\u001b[39m{def massMatrixTuner(): com.stripe.rainier.sampler.IdentityMassMatrixTuner;def sampler(): com.stripe.rainier.sampler.HMCSampler} = ammonite.$sess.cmd6$Helper$$anon$1@76a20484"
      ]
     },
     "execution_count": 7,
     "metadata": {},
     "output_type": "execute_result"
    }
   ],
   "source": [
    "val samplerConfig = new DefaultConfig {\n",
    "    override def massMatrixTuner() = new IdentityMassMatrixTuner\n",
    "    override def sampler() = new HMCSampler(100)\n",
    "}"
   ]
  },
  {
   "cell_type": "markdown",
   "metadata": {},
   "source": [
    "Define a function that we'll use to retry the call to Rainier's `predict` that fails occassionally. Fortunately, the failure can be easily detected and 1-2 retries solves the issue."
   ]
  },
  {
   "cell_type": "code",
   "execution_count": 25,
   "metadata": {},
   "outputs": [
    {
     "data": {
      "text/plain": [
       "defined \u001b[32mfunction\u001b[39m \u001b[36mretry\u001b[39m"
      ]
     },
     "execution_count": 25,
     "metadata": {},
     "output_type": "execute_result"
    }
   ],
   "source": [
    "def retry[T](maxAttempts: Int, isSuccessful: T => Boolean)(f: => T): T = {\n",
    "    var i = 0\n",
    "    \n",
    "    do {\n",
    "        val res = f\n",
    "        i = i + 1\n",
    "        if (isSuccessful(res))\n",
    "            return res\n",
    "        println(s\"WARN: Attempt[$i] failed. Retrying...\")\n",
    "    } while (i < maxAttempts)\n",
    "    sys.error(\"Exceeded maximum number of retries\")\n",
    "}"
   ]
  },
  {
   "cell_type": "code",
   "execution_count": 38,
   "metadata": {},
   "outputs": [
    {
     "data": {
      "text/plain": [
       "defined \u001b[32mfunction\u001b[39m \u001b[36mpredictRt\u001b[39m"
      ]
     },
     "execution_count": 38,
     "metadata": {},
     "output_type": "execute_result"
    }
   ],
   "source": [
    "def predictRt(caseNumbers: List[Long]): (Vec[Real], List[Seq[Double]]) = {\n",
    "    val data = prepareDataForModel(caseNumbers)\n",
    "    \n",
    "    val (model, rts) =  {\n",
    "        val (xs, ys) = data.unzip\n",
    "\n",
    "        val serialInterval = Normal(5,2).latent\n",
    "        val logR0 = Normal(0, 1).latent\n",
    "        val sigma = Exponential(10).latent\n",
    "        val diffs = Laplace(0,sigma).latentVec(data.size)\n",
    "        val logRts = Vec.from(diffs.toList.scanLeft(logR0)(_ + _))\n",
    "        val likelihoods = Vec.from(xs).map{case (i, kt_prev) => \n",
    "            val lambda = ((logRts(i).exp - 1)/serialInterval).exp * kt_prev\n",
    "            Poisson(lambda)\n",
    "        }\n",
    "\n",
    "        (Model.observe(ys, likelihoods), logRts.map(_.exp))\n",
    "    }\n",
    "    \n",
    "    def detectFailedRun(trace: Trace): Boolean =\n",
    "        // from: https://twitter.com/avibryant/status/1253049509128499201\n",
    "        trace.diagnostics.map(_.rHat).max < 1.1\n",
    "    \n",
    "    val trace = retry(maxAttempts = 3, isSuccessful = detectFailedRun) {\n",
    "        model.sample(samplerConfig, 4)\n",
    "    }\n",
    "    \n",
    "    rts -> trace.predict(rts)\n",
    "}"
   ]
  },
  {
   "cell_type": "code",
   "execution_count": 27,
   "metadata": {},
   "outputs": [
    {
     "data": {
      "text/plain": [
       "defined \u001b[32mclass\u001b[39m \u001b[36mRtsDistributionStats\u001b[39m\n",
       "defined \u001b[32mfunction\u001b[39m \u001b[36mdistributionStats\u001b[39m"
      ]
     },
     "execution_count": 27,
     "metadata": {},
     "output_type": "execute_result"
    }
   ],
   "source": [
    "case class RtsDistributionStats(means: Seq[(Int, Double)], hdpis: Seq[(Int, (Double, Double))])\n",
    "def distributionStats(rts: Vec[Real], rtForecasts: List[Seq[Double]]): RtsDistributionStats = {\n",
    "    val means = 0.until(rts.size).map{i => (i,mean(rtForecasts.map(_(i))))}\n",
    "    val hdpis = 0.until(rts.size).map{i => (i, hdpi(rtForecasts.map(_(i))))}\n",
    "    RtsDistributionStats(means, hdpis)\n",
    "}"
   ]
  },
  {
   "cell_type": "code",
   "execution_count": 28,
   "metadata": {
    "scrolled": true
   },
   "outputs": [
    {
     "data": {
      "text/html": [
       "<b>Chain 1 Complete</b>: <div>Iteration: 1000 (6ms)</div> <div>Acceptance rate: 0.88</div> <div>E-BFMI: 0.68</div> <div>Step size: 0.02</div> <div>Total gradient evaluations: 2e+05 (28us)</div> <div>Total time: 12s</div>"
      ]
     },
     "metadata": {},
     "output_type": "display_data"
    },
    {
     "data": {
      "text/html": [
       "<b>Chain 2 Complete</b>: <div>Iteration: 1000 (6ms)</div> <div>Acceptance rate: 0.88</div> <div>E-BFMI: 0.62</div> <div>Step size: 0.02</div> <div>Total gradient evaluations: 2e+05 (28us)</div> <div>Total time: 11s</div>"
      ]
     },
     "metadata": {},
     "output_type": "display_data"
    },
    {
     "data": {
      "text/html": [
       "<b>Chain 3 Complete</b>: <div>Iteration: 1000 (6ms)</div> <div>Acceptance rate: 0.92</div> <div>E-BFMI: 0.73</div> <div>Step size: 0.02</div> <div>Total gradient evaluations: 2e+05 (38us)</div> <div>Total time: 11s</div>"
      ]
     },
     "metadata": {},
     "output_type": "display_data"
    },
    {
     "data": {
      "text/html": [
       "<b>Chain 4 Complete</b>: <div>Iteration: 1000 (6ms)</div> <div>Acceptance rate: 0.90</div> <div>E-BFMI: 0.72</div> <div>Step size: 0.02</div> <div>Total gradient evaluations: 2e+05 (25us)</div> <div>Total time: 12s</div>"
      ]
     },
     "metadata": {},
     "output_type": "display_data"
    },
    {
     "data": {
      "image/png": "[encoded data removed]"
     },
     "metadata": {
      "height": "1600",
      "width": "1600"
     },
     "output_type": "display_data"
    }
   ],
   "source": [
    "{{\n",
    "    val countryName = \"Austria\"\n",
    "    val caseNumbers = countriesSmooth.collect {\n",
    "        case m if m(\"country\") == countryName => m(\"cases\").toLong\n",
    "    }\n",
    "    val (rts,estimates) = predictRt(caseNumbers)\n",
    "    val RtsDistributionStats(means, hdpis) = distributionStats(rts, estimates)\n",
    "    show(\"t\", \"Rt\", line(means), shade(hdpis))\n",
    "}}"
   ]
  },
  {
   "cell_type": "code",
   "execution_count": 29,
   "metadata": {},
   "outputs": [
    {
     "data": {
      "text/plain": [
       "\u001b[36mcountriesToPredict\u001b[39m: \u001b[32mSet\u001b[39m[\u001b[32mString\u001b[39m] = \u001b[33mSet\u001b[39m(\n",
       "  \u001b[32m\"Poland\"\u001b[39m,\n",
       "  \u001b[32m\"Croatia\"\u001b[39m,\n",
       "  \u001b[32m\"Luxembourg\"\u001b[39m,\n",
       "  \u001b[32m\"Greece\"\u001b[39m,\n",
       "  \u001b[32m\"Spain\"\u001b[39m,\n",
       "  \u001b[32m\"Russia\"\u001b[39m,\n",
       "  \u001b[32m\"Estonia\"\u001b[39m,\n",
       "  \u001b[32m\"Czechia\"\u001b[39m,\n",
       "  \u001b[32m\"Romania\"\u001b[39m,\n",
       "  \u001b[32m\"Denmark\"\u001b[39m,\n",
       "  \u001b[32m\"Belgium\"\u001b[39m,\n",
       "  \u001b[32m\"Slovenia\"\u001b[39m,\n",
       "  \u001b[32m\"Malta\"\u001b[39m,\n",
       "  \u001b[32m\"Slovakia\"\u001b[39m,\n",
       "  \u001b[32m\"Finland\"\u001b[39m,\n",
       "  \u001b[32m\"Lithuania\"\u001b[39m,\n",
       "  \u001b[32m\"Sweden\"\u001b[39m,\n",
       "  \u001b[32m\"Austria\"\u001b[39m,\n",
       "  \u001b[32m\"Latvia\"\u001b[39m,\n",
       "  \u001b[32m\"Italy\"\u001b[39m,\n",
       "  \u001b[32m\"Ireland\"\u001b[39m,\n",
       "  \u001b[32m\"Bulgaria\"\u001b[39m,\n",
       "  \u001b[32m\"Norway\"\u001b[39m,\n",
       "  \u001b[32m\"France\"\u001b[39m,\n",
       "  \u001b[32m\"Netherlands\"\u001b[39m,\n",
       "  \u001b[32m\"Switzerland\"\u001b[39m,\n",
       "  \u001b[32m\"Cyprus\"\u001b[39m,\n",
       "  \u001b[32m\"Germany\"\u001b[39m,\n",
       "  \u001b[32m\"Portugal\"\u001b[39m,\n",
       "  \u001b[32m\"Hungary\"\u001b[39m\n",
       ")"
      ]
     },
     "execution_count": 29,
     "metadata": {},
     "output_type": "execute_result"
    }
   ],
   "source": [
    "val countriesToPredict = countriesSmooth.map(_(\"country\")).toSet //smaller set: Seq(\"Poland\", \"France\", \"Italy\", \"Germany\", \"Czechia\")"
   ]
  },
  {
   "cell_type": "code",
   "execution_count": 30,
   "metadata": {},
   "outputs": [
    {
     "name": "stdout",
     "output_type": "stream",
     "text": [
      "Poland\n"
     ]
    },
    {
     "data": {
      "text/html": [
       "<b>Chain 1 Complete</b>: <div>Iteration: 1000 (4ms)</div> <div>Acceptance rate: 0.88</div> <div>E-BFMI: 0.63</div> <div>Step size: 0.03</div> <div>Total gradient evaluations: 2e+05 (19us)</div> <div>Total time: 7s</div>"
      ]
     },
     "metadata": {},
     "output_type": "display_data"
    },
    {
     "data": {
      "text/html": [
       "<b>Chain 2 Complete</b>: <div>Iteration: 1000 (3ms)</div> <div>Acceptance rate: 0.89</div> <div>E-BFMI: 0.67</div> <div>Step size: 0.03</div> <div>Total gradient evaluations: 2e+05 (13us)</div> <div>Total time: 6s</div>"
      ]
     },
     "metadata": {},
     "output_type": "display_data"
    },
    {
     "data": {
      "text/html": [
       "<b>Chain 3 Complete</b>: <div>Iteration: 1000 (4ms)</div> <div>Acceptance rate: 0.91</div> <div>E-BFMI: 0.61</div> <div>Step size: 0.03</div> <div>Total gradient evaluations: 2e+05 (50us)</div> <div>Total time: 7s</div>"
      ]
     },
     "metadata": {},
     "output_type": "display_data"
    },
    {
     "data": {
      "text/html": [
       "<b>Chain 4 Complete</b>: <div>Iteration: 1000 (3ms)</div> <div>Acceptance rate: 0.84</div> <div>E-BFMI: 0.71</div> <div>Step size: 0.03</div> <div>Total gradient evaluations: 2e+05 (14us)</div> <div>Total time: 7s</div>"
      ]
     },
     "metadata": {},
     "output_type": "display_data"
    },
    {
     "name": "stdout",
     "output_type": "stream",
     "text": [
      "Croatia\n"
     ]
    },
    {
     "data": {
      "text/html": [
       "<b>Chain 1 Complete</b>: <div>Iteration: 1000 (3ms)</div> <div>Acceptance rate: 0.85</div> <div>E-BFMI: 0.55</div> <div>Step size: 0.05</div> <div>Total gradient evaluations: 2e+05 (19us)</div> <div>Total time: 7s</div>"
      ]
     },
     "metadata": {},
     "output_type": "display_data"
    },
    {
     "data": {
      "text/html": [
       "<b>Chain 2 Complete</b>: <div>Iteration: 1000 (3ms)</div> <div>Acceptance rate: 0.88</div> <div>E-BFMI: 0.52</div> <div>Step size: 0.05</div> <div>Total gradient evaluations: 2e+05 (14us)</div> <div>Total time: 6s</div>"
      ]
     },
     "metadata": {},
     "output_type": "display_data"
    },
    {
     "data": {
      "text/html": [
       "<b>Chain 3 Complete</b>: <div>Iteration: 1000 (4ms)</div> <div>Acceptance rate: 0.81</div> <div>E-BFMI: 0.74</div> <div>Step size: 0.05</div> <div>Total gradient evaluations: 2e+05 (20us)</div> <div>Total time: 7s</div>"
      ]
     },
     "metadata": {},
     "output_type": "display_data"
    },
    {
     "data": {
      "text/html": [
       "<b>Chain 4 Complete</b>: <div>Iteration: 1000 (3ms)</div> <div>Acceptance rate: 0.84</div> <div>E-BFMI: 0.75</div> <div>Step size: 0.05</div> <div>Total gradient evaluations: 2e+05 (15us)</div> <div>Total time: 7s</div>"
      ]
     },
     "metadata": {},
     "output_type": "display_data"
    },
    {
     "name": "stdout",
     "output_type": "stream",
     "text": [
      "Luxembourg\n"
     ]
    },
    {
     "data": {
      "text/html": [
       "<b>Chain 1 Complete</b>: <div>Iteration: 1000 (5ms)</div> <div>Acceptance rate: 0.88</div> <div>E-BFMI: 0.63</div> <div>Step size: 0.04</div> <div>Total gradient evaluations: 2e+05 (20us)</div> <div>Total time: 9s</div>"
      ]
     },
     "metadata": {},
     "output_type": "display_data"
    },
    {
     "data": {
      "text/html": [
       "<b>Chain 2 Complete</b>: <div>Iteration: 1000 (4ms)</div> <div>Acceptance rate: 0.85</div> <div>E-BFMI: 0.67</div> <div>Step size: 0.04</div> <div>Total gradient evaluations: 2e+05 (22us)</div> <div>Total time: 9s</div>"
      ]
     },
     "metadata": {},
     "output_type": "display_data"
    },
    {
     "data": {
      "text/html": [
       "<b>Chain 3 Complete</b>: <div>Iteration: 1000 (4ms)</div> <div>Acceptance rate: 0.84</div> <div>E-BFMI: 0.69</div> <div>Step size: 0.04</div> <div>Total gradient evaluations: 2e+05 (18us)</div> <div>Total time: 8s</div>"
      ]
     },
     "metadata": {},
     "output_type": "display_data"
    },
    {
     "data": {
      "text/html": [
       "<b>Chain 4 Complete</b>: <div>Iteration: 1000 (4ms)</div> <div>Acceptance rate: 0.90</div> <div>E-BFMI: 0.69</div> <div>Step size: 0.04</div> <div>Total gradient evaluations: 2e+05 (19us)</div> <div>Total time: 8s</div>"
      ]
     },
     "metadata": {},
     "output_type": "display_data"
    },
    {
     "name": "stdout",
     "output_type": "stream",
     "text": [
      "Greece\n"
     ]
    },
    {
     "data": {
      "text/html": [
       "<b>Chain 1 Complete</b>: <div>Iteration: 1000 (6ms)</div> <div>Acceptance rate: 0.85</div> <div>E-BFMI: 0.64</div> <div>Step size: 0.05</div> <div>Total gradient evaluations: 2e+05 (27us)</div> <div>Total time: 12s</div>"
      ]
     },
     "metadata": {},
     "output_type": "display_data"
    },
    {
     "data": {
      "text/html": [
       "<b>Chain 2 Complete</b>: <div>Iteration: 1000 (5ms)</div> <div>Acceptance rate: 0.83</div> <div>E-BFMI: 0.58</div> <div>Step size: 0.04</div> <div>Total gradient evaluations: 2e+05 (26us)</div> <div>Total time: 11s</div>"
      ]
     },
     "metadata": {},
     "output_type": "display_data"
    },
    {
     "data": {
      "text/html": [
       "<b>Chain 3 Complete</b>: <div>Iteration: 1000 (6ms)</div> <div>Acceptance rate: 0.85</div> <div>E-BFMI: 0.65</div> <div>Step size: 0.05</div> <div>Total gradient evaluations: 2e+05 (25us)</div> <div>Total time: 12s</div>"
      ]
     },
     "metadata": {},
     "output_type": "display_data"
    },
    {
     "data": {
      "text/html": [
       "<b>Chain 4 Complete</b>: <div>Iteration: 1000 (6ms)</div> <div>Acceptance rate: 0.87</div> <div>E-BFMI: 0.73</div> <div>Step size: 0.05</div> <div>Total gradient evaluations: 2e+05 (26us)</div> <div>Total time: 12s</div>"
      ]
     },
     "metadata": {},
     "output_type": "display_data"
    },
    {
     "name": "stdout",
     "output_type": "stream",
     "text": [
      "Spain\n"
     ]
    },
    {
     "data": {
      "text/html": [
       "<b>Chain 1 Complete</b>: <div>Iteration: 1000 (7ms)</div> <div>Acceptance rate: 0.92</div> <div>E-BFMI: 0.61</div> <div>Step size: 0.009</div> <div>Total gradient evaluations: 2e+05 (34us)</div> <div>Total time: 15s</div>"
      ]
     },
     "metadata": {},
     "output_type": "display_data"
    },
    {
     "data": {
      "text/html": [
       "<b>Chain 2 Complete</b>: <div>Iteration: 1000 (7ms)</div> <div>Acceptance rate: 0.87</div> <div>E-BFMI: 0.61</div> <div>Step size: 0.008</div> <div>Total gradient evaluations: 2e+05 (32us)</div> <div>Total time: 15s</div>"
      ]
     },
     "metadata": {},
     "output_type": "display_data"
    },
    {
     "data": {
      "text/html": [
       "<b>Chain 3 Complete</b>: <div>Iteration: 1000 (8ms)</div> <div>Acceptance rate: 0.86</div> <div>E-BFMI: 0.61</div> <div>Step size: 0.009</div> <div>Total gradient evaluations: 2e+05 (34us)</div> <div>Total time: 16s</div>"
      ]
     },
     "metadata": {},
     "output_type": "display_data"
    },
    {
     "data": {
      "text/html": [
       "<b>Chain 4 Complete</b>: <div>Iteration: 1000 (7ms)</div> <div>Acceptance rate: 0.85</div> <div>E-BFMI: 0.60</div> <div>Step size: 0.008</div> <div>Total gradient evaluations: 2e+05 (36us)</div> <div>Total time: 16s</div>"
      ]
     },
     "metadata": {},
     "output_type": "display_data"
    },
    {
     "name": "stdout",
     "output_type": "stream",
     "text": [
      "Russia\n"
     ]
    },
    {
     "data": {
      "text/html": [
       "<b>Chain 1 Complete</b>: <div>Iteration: 1000 (3ms)</div> <div>Acceptance rate: 0.91</div> <div>E-BFMI: 0.67</div> <div>Step size: 0.01</div> <div>Total gradient evaluations: 2e+05 (18us)</div> <div>Total time: 9s</div>"
      ]
     },
     "metadata": {},
     "output_type": "display_data"
    },
    {
     "data": {
      "text/html": [
       "<b>Chain 2 Complete</b>: <div>Iteration: 1000 (3ms)</div> <div>Acceptance rate: 0.93</div> <div>E-BFMI: 0.69</div> <div>Step size: 0.01</div> <div>Total gradient evaluations: 2e+05 (16us)</div> <div>Total time: 7s</div>"
      ]
     },
     "metadata": {},
     "output_type": "display_data"
    },
    {
     "data": {
      "text/html": [
       "<b>Chain 3 Complete</b>: <div>Iteration: 1000 (4ms)</div> <div>Acceptance rate: 0.93</div> <div>E-BFMI: 0.62</div> <div>Step size: 0.01</div> <div>Total gradient evaluations: 2e+05 (30us)</div> <div>Total time: 7s</div>"
      ]
     },
     "metadata": {},
     "output_type": "display_data"
    },
    {
     "data": {
      "text/html": [
       "<b>Chain 4 Complete</b>: <div>Iteration: 1000 (4ms)</div> <div>Acceptance rate: 0.91</div> <div>E-BFMI: 0.60</div> <div>Step size: 0.01</div> <div>Total gradient evaluations: 2e+05 (22us)</div> <div>Total time: 7s</div>"
      ]
     },
     "metadata": {},
     "output_type": "display_data"
    },
    {
     "name": "stdout",
     "output_type": "stream",
     "text": [
      "Estonia\n"
     ]
    },
    {
     "data": {
      "text/html": [
       "<b>Chain 1 Complete</b>: <div>Iteration: 1000 (3ms)</div> <div>Acceptance rate: 0.83</div> <div>E-BFMI: 0.68</div> <div>Step size: 0.05</div> <div>Total gradient evaluations: 2e+05 (16us)</div> <div>Total time: 7s</div>"
      ]
     },
     "metadata": {},
     "output_type": "display_data"
    },
    {
     "data": {
      "text/html": [
       "<b>Chain 2 Complete</b>: <div>Iteration: 1000 (3ms)</div> <div>Acceptance rate: 0.00</div> <div>E-BFMI: NaN</div> <div>Step size: 0</div> <div>Total gradient evaluations: 2e+05 (15us)</div> <div>Total time: 7s</div>"
      ]
     },
     "metadata": {},
     "output_type": "display_data"
    },
    {
     "data": {
      "text/html": [
       "<b>Chain 3 Complete</b>: <div>Iteration: 1000 (5ms)</div> <div>Acceptance rate: 0.85</div> <div>E-BFMI: 0.56</div> <div>Step size: 0.05</div> <div>Total gradient evaluations: 2e+05 (35us)</div> <div>Total time: 9s</div>"
      ]
     },
     "metadata": {},
     "output_type": "display_data"
    },
    {
     "data": {
      "text/html": [
       "<b>Chain 4 Complete</b>: <div>Iteration: 1000 (3ms)</div> <div>Acceptance rate: 0.82</div> <div>E-BFMI: 0.70</div> <div>Step size: 0.05</div> <div>Total gradient evaluations: 2e+05 (17us)</div> <div>Total time: 8s</div>"
      ]
     },
     "metadata": {},
     "output_type": "display_data"
    },
    {
     "name": "stdout",
     "output_type": "stream",
     "text": [
      "WARN: Attempt[1] failed. Retrying...\n"
     ]
    },
    {
     "data": {
      "text/html": [
       "<b>Chain 1 Complete</b>: <div>Iteration: 1000 (3ms)</div> <div>Acceptance rate: 0.87</div> <div>E-BFMI: 0.77</div> <div>Step size: 0.05</div> <div>Total gradient evaluations: 2e+05 (16us)</div> <div>Total time: 7s</div>"
      ]
     },
     "metadata": {},
     "output_type": "display_data"
    },
    {
     "data": {
      "text/html": [
       "<b>Chain 2 Complete</b>: <div>Iteration: 1000 (3ms)</div> <div>Acceptance rate: 0.85</div> <div>E-BFMI: 0.72</div> <div>Step size: 0.05</div> <div>Total gradient evaluations: 2e+05 (18us)</div> <div>Total time: 7s</div>"
      ]
     },
     "metadata": {},
     "output_type": "display_data"
    },
    {
     "data": {
      "text/html": [
       "<b>Chain 3 Complete</b>: <div>Iteration: 1000 (3ms)</div> <div>Acceptance rate: 0.88</div> <div>E-BFMI: 0.62</div> <div>Step size: 0.05</div> <div>Total gradient evaluations: 2e+05 (24us)</div> <div>Total time: 8s</div>"
      ]
     },
     "metadata": {},
     "output_type": "display_data"
    },
    {
     "data": {
      "text/html": [
       "<b>Chain 4 Complete</b>: <div>Iteration: 1000 (3ms)</div> <div>Acceptance rate: 0.85</div> <div>E-BFMI: 0.62</div> <div>Step size: 0.05</div> <div>Total gradient evaluations: 2e+05 (17us)</div> <div>Total time: 7s</div>"
      ]
     },
     "metadata": {},
     "output_type": "display_data"
    },
    {
     "name": "stdout",
     "output_type": "stream",
     "text": [
      "Czechia\n"
     ]
    },
    {
     "data": {
      "text/html": [
       "<b>Chain 1 Complete</b>: <div>Iteration: 1000 (5ms)</div> <div>Acceptance rate: 0.90</div> <div>E-BFMI: 0.67</div> <div>Step size: 0.03</div> <div>Total gradient evaluations: 2e+05 (25us)</div> <div>Total time: 10s</div>"
      ]
     },
     "metadata": {},
     "output_type": "display_data"
    },
    {
     "data": {
      "text/html": [
       "<b>Chain 2 Complete</b>: <div>Iteration: 1000 (5ms)</div> <div>Acceptance rate: 0.87</div> <div>E-BFMI: 0.67</div> <div>Step size: 0.03</div> <div>Total gradient evaluations: 2e+05 (23us)</div> <div>Total time: 10s</div>"
      ]
     },
     "metadata": {},
     "output_type": "display_data"
    },
    {
     "data": {
      "text/html": [
       "<b>Chain 3 Complete</b>: <div>Iteration: 1000 (5ms)</div> <div>Acceptance rate: 0.84</div> <div>E-BFMI: 0.64</div> <div>Step size: 0.03</div> <div>Total gradient evaluations: 2e+05 (30us)</div> <div>Total time: 10s</div>"
      ]
     },
     "metadata": {},
     "output_type": "display_data"
    },
    {
     "data": {
      "text/html": [
       "<b>Chain 4 Complete</b>: <div>Iteration: 1000 (6ms)</div> <div>Acceptance rate: 0.89</div> <div>E-BFMI: 0.67</div> <div>Step size: 0.03</div> <div>Total gradient evaluations: 2e+05 (35us)</div> <div>Total time: 13s</div>"
      ]
     },
     "metadata": {},
     "output_type": "display_data"
    },
    {
     "name": "stdout",
     "output_type": "stream",
     "text": [
      "Romania\n"
     ]
    },
    {
     "data": {
      "text/html": [
       "<b>Chain 1 Complete</b>: <div>Iteration: 1000 (4ms)</div> <div>Acceptance rate: 0.93</div> <div>E-BFMI: 0.74</div> <div>Step size: 0.03</div> <div>Total gradient evaluations: 2e+05 (26us)</div> <div>Total time: 10s</div>"
      ]
     },
     "metadata": {},
     "output_type": "display_data"
    },
    {
     "data": {
      "text/html": [
       "<b>Chain 2 Complete</b>: <div>Iteration: 1000 (3ms)</div> <div>Acceptance rate: 0.86</div> <div>E-BFMI: 0.62</div> <div>Step size: 0.03</div> <div>Total gradient evaluations: 2e+05 (19us)</div> <div>Total time: 7s</div>"
      ]
     },
     "metadata": {},
     "output_type": "display_data"
    },
    {
     "data": {
      "text/html": [
       "<b>Chain 3 Complete</b>: <div>Iteration: 1000 (4ms)</div> <div>Acceptance rate: 0.92</div> <div>E-BFMI: 0.69</div> <div>Step size: 0.03</div> <div>Total gradient evaluations: 2e+05 (18us)</div> <div>Total time: 7s</div>"
      ]
     },
     "metadata": {},
     "output_type": "display_data"
    },
    {
     "data": {
      "text/html": [
       "<b>Chain 4 Complete</b>: <div>Iteration: 1000 (3ms)</div> <div>Acceptance rate: 0.66</div> <div>E-BFMI: 0.63</div> <div>Step size: 0.03</div> <div>Total gradient evaluations: 2e+05 (18us)</div> <div>Total time: 9s</div>"
      ]
     },
     "metadata": {},
     "output_type": "display_data"
    },
    {
     "name": "stdout",
     "output_type": "stream",
     "text": [
      "Denmark\n"
     ]
    },
    {
     "data": {
      "text/html": [
       "<b>Chain 1 Complete</b>: <div>Iteration: 1000 (4ms)</div> <div>Acceptance rate: 0.90</div> <div>E-BFMI: 0.59</div> <div>Step size: 0.03</div> <div>Total gradient evaluations: 2e+05 (27us)</div> <div>Total time: 11s</div>"
      ]
     },
     "metadata": {},
     "output_type": "display_data"
    },
    {
     "data": {
      "text/html": [
       "<b>Chain 2 Complete</b>: <div>Iteration: 1000 (6ms)</div> <div>Acceptance rate: 0.92</div> <div>E-BFMI: 0.68</div> <div>Step size: 0.03</div> <div>Total gradient evaluations: 2e+05 (31us)</div> <div>Total time: 11s</div>"
      ]
     },
     "metadata": {},
     "output_type": "display_data"
    },
    {
     "data": {
      "text/html": [
       "<b>Chain 3 Complete</b>: <div>Iteration: 1000 (4ms)</div> <div>Acceptance rate: 0.92</div> <div>E-BFMI: 0.64</div> <div>Step size: 0.03</div> <div>Total gradient evaluations: 2e+05 (22us)</div> <div>Total time: 10s</div>"
      ]
     },
     "metadata": {},
     "output_type": "display_data"
    },
    {
     "data": {
      "text/html": [
       "<b>Chain 4 Complete</b>: <div>Iteration: 1000 (5ms)</div> <div>Acceptance rate: 0.87</div> <div>E-BFMI: 0.63</div> <div>Step size: 0.03</div> <div>Total gradient evaluations: 2e+05 (29us)</div> <div>Total time: 10s</div>"
      ]
     },
     "metadata": {},
     "output_type": "display_data"
    },
    {
     "name": "stdout",
     "output_type": "stream",
     "text": [
      "Belgium\n"
     ]
    },
    {
     "data": {
      "text/html": [
       "<b>Chain 1 Complete</b>: <div>Iteration: 1000 (6ms)</div> <div>Acceptance rate: 0.91</div> <div>E-BFMI: 0.60</div> <div>Step size: 0.02</div> <div>Total gradient evaluations: 2e+05 (28us)</div> <div>Total time: 13s</div>"
      ]
     },
     "metadata": {},
     "output_type": "display_data"
    },
    {
     "data": {
      "text/html": [
       "<b>Chain 2 Complete</b>: <div>Iteration: 1000 (5ms)</div> <div>Acceptance rate: 0.91</div> <div>E-BFMI: 0.68</div> <div>Step size: 0.02</div> <div>Total gradient evaluations: 2e+05 (27us)</div> <div>Total time: 12s</div>"
      ]
     },
     "metadata": {},
     "output_type": "display_data"
    },
    {
     "data": {
      "text/html": [
       "<b>Chain 3 Complete</b>: <div>Iteration: 1000 (6ms)</div> <div>Acceptance rate: 0.88</div> <div>E-BFMI: 0.69</div> <div>Step size: 0.02</div> <div>Total gradient evaluations: 2e+05 (31us)</div> <div>Total time: 11s</div>"
      ]
     },
     "metadata": {},
     "output_type": "display_data"
    },
    {
     "data": {
      "text/html": [
       "<b>Chain 4 Complete</b>: <div>Iteration: 1000 (5ms)</div> <div>Acceptance rate: 0.86</div> <div>E-BFMI: 0.70</div> <div>Step size: 0.02</div> <div>Total gradient evaluations: 2e+05 (23us)</div> <div>Total time: 11s</div>"
      ]
     },
     "metadata": {},
     "output_type": "display_data"
    },
    {
     "name": "stdout",
     "output_type": "stream",
     "text": [
      "Slovenia\n"
     ]
    },
    {
     "data": {
      "text/html": [
       "<b>Chain 1 Complete</b>: <div>Iteration: 1000 (4ms)</div> <div>Acceptance rate: 0.85</div> <div>E-BFMI: 0.75</div> <div>Step size: 0.05</div> <div>Total gradient evaluations: 2e+05 (20us)</div> <div>Total time: 9s</div>"
      ]
     },
     "metadata": {},
     "output_type": "display_data"
    },
    {
     "data": {
      "text/html": [
       "<b>Chain 2 Complete</b>: <div>Iteration: 1000 (4ms)</div> <div>Acceptance rate: 0.83</div> <div>E-BFMI: 0.70</div> <div>Step size: 0.05</div> <div>Total gradient evaluations: 2e+05 (22us)</div> <div>Total time: 9s</div>"
      ]
     },
     "metadata": {},
     "output_type": "display_data"
    },
    {
     "data": {
      "text/html": [
       "<b>Chain 3 Complete</b>: <div>Iteration: 1000 (4ms)</div> <div>Acceptance rate: 0.86</div> <div>E-BFMI: 0.56</div> <div>Step size: 0.06</div> <div>Total gradient evaluations: 2e+05 (20us)</div> <div>Total time: 8s</div>"
      ]
     },
     "metadata": {},
     "output_type": "display_data"
    },
    {
     "data": {
      "text/html": [
       "<b>Chain 4 Complete</b>: <div>Iteration: 1000 (4ms)</div> <div>Acceptance rate: 0.84</div> <div>E-BFMI: 0.76</div> <div>Step size: 0.05</div> <div>Total gradient evaluations: 2e+05 (19us)</div> <div>Total time: 8s</div>"
      ]
     },
     "metadata": {},
     "output_type": "display_data"
    },
    {
     "name": "stdout",
     "output_type": "stream",
     "text": [
      "Malta\n"
     ]
    },
    {
     "data": {
      "text/html": [
       "<b>Chain 1 Complete</b>: <div>Iteration: 1000 (1ms)</div> <div>Acceptance rate: 0.79</div> <div>E-BFMI: 0.74</div> <div>Step size: 0.07</div> <div>Total gradient evaluations: 2e+05 (4us)</div> <div>Total time: 2s</div>"
      ]
     },
     "metadata": {},
     "output_type": "display_data"
    },
    {
     "data": {
      "text/html": [
       "<b>Chain 2 Complete</b>: <div>Iteration: 1000 (1ms)</div> <div>Acceptance rate: 0.82</div> <div>E-BFMI: 0.64</div> <div>Step size: 0.07</div> <div>Total gradient evaluations: 2e+05 (4us)</div> <div>Total time: 2s</div>"
      ]
     },
     "metadata": {},
     "output_type": "display_data"
    },
    {
     "data": {
      "text/html": [
       "<b>Chain 3 Complete</b>: <div>Iteration: 1000 (1ms)</div> <div>Acceptance rate: 0.82</div> <div>E-BFMI: 0.79</div> <div>Step size: 0.07</div> <div>Total gradient evaluations: 2e+05 (6us)</div> <div>Total time: 2s</div>"
      ]
     },
     "metadata": {},
     "output_type": "display_data"
    },
    {
     "data": {
      "text/html": [
       "<b>Chain 4 Complete</b>: <div>Iteration: 1000 (1ms)</div> <div>Acceptance rate: 0.82</div> <div>E-BFMI: 0.77</div> <div>Step size: 0.07</div> <div>Total gradient evaluations: 2e+05 (5us)</div> <div>Total time: 2s</div>"
      ]
     },
     "metadata": {},
     "output_type": "display_data"
    },
    {
     "name": "stdout",
     "output_type": "stream",
     "text": [
      "Slovakia\n"
     ]
    },
    {
     "data": {
      "text/html": [
       "<b>Chain 1 Complete</b>: <div>Iteration: 1000 (4ms)</div> <div>Acceptance rate: 0.85</div> <div>E-BFMI: 0.61</div> <div>Step size: 0.06</div> <div>Total gradient evaluations: 2e+05 (20us)</div> <div>Total time: 9s</div>"
      ]
     },
     "metadata": {},
     "output_type": "display_data"
    },
    {
     "data": {
      "text/html": [
       "<b>Chain 2 Complete</b>: <div>Iteration: 1000 (3ms)</div> <div>Acceptance rate: 0.82</div> <div>E-BFMI: 0.70</div> <div>Step size: 0.05</div> <div>Total gradient evaluations: 2e+05 (18us)</div> <div>Total time: 8s</div>"
      ]
     },
     "metadata": {},
     "output_type": "display_data"
    },
    {
     "data": {
      "text/html": [
       "<b>Chain 3 Complete</b>: <div>Iteration: 1000 (4ms)</div> <div>Acceptance rate: 0.82</div> <div>E-BFMI: 0.70</div> <div>Step size: 0.05</div> <div>Total gradient evaluations: 2e+05 (20us)</div> <div>Total time: 8s</div>"
      ]
     },
     "metadata": {},
     "output_type": "display_data"
    },
    {
     "data": {
      "text/html": [
       "<b>Chain 4 Complete</b>: <div>Iteration: 1000 (4ms)</div> <div>Acceptance rate: 0.83</div> <div>E-BFMI: 0.65</div> <div>Step size: 0.06</div> <div>Total gradient evaluations: 2e+05 (18us)</div> <div>Total time: 8s</div>"
      ]
     },
     "metadata": {},
     "output_type": "display_data"
    },
    {
     "name": "stdout",
     "output_type": "stream",
     "text": [
      "Finland\n"
     ]
    },
    {
     "data": {
      "text/html": [
       "<b>Chain 1 Complete</b>: <div>Iteration: 1000 (5ms)</div> <div>Acceptance rate: 0.78</div> <div>E-BFMI: 0.65</div> <div>Step size: 0.04</div> <div>Total gradient evaluations: 2e+05 (31us)</div> <div>Total time: 10s</div>"
      ]
     },
     "metadata": {},
     "output_type": "display_data"
    },
    {
     "data": {
      "text/html": [
       "<b>Chain 2 Complete</b>: <div>Iteration: 1000 (4ms)</div> <div>Acceptance rate: 0.87</div> <div>E-BFMI: 0.66</div> <div>Step size: 0.04</div> <div>Total gradient evaluations: 2e+05 (23us)</div> <div>Total time: 10s</div>"
      ]
     },
     "metadata": {},
     "output_type": "display_data"
    },
    {
     "data": {
      "text/html": [
       "<b>Chain 3 Complete</b>: <div>Iteration: 1000 (5ms)</div> <div>Acceptance rate: 0.85</div> <div>E-BFMI: 0.68</div> <div>Step size: 0.04</div> <div>Total gradient evaluations: 2e+05 (27us)</div> <div>Total time: 10s</div>"
      ]
     },
     "metadata": {},
     "output_type": "display_data"
    },
    {
     "data": {
      "text/html": [
       "<b>Chain 4 Complete</b>: <div>Iteration: 1000 (5ms)</div> <div>Acceptance rate: 0.88</div> <div>E-BFMI: 0.70</div> <div>Step size: 0.04</div> <div>Total gradient evaluations: 2e+05 (22us)</div> <div>Total time: 10s</div>"
      ]
     },
     "metadata": {},
     "output_type": "display_data"
    },
    {
     "name": "stdout",
     "output_type": "stream",
     "text": [
      "Lithuania\n"
     ]
    },
    {
     "data": {
      "text/html": [
       "<b>Chain 1 Complete</b>: <div>Iteration: 1000 (3ms)</div> <div>Acceptance rate: 0.87</div> <div>E-BFMI: 0.69</div> <div>Step size: 0.05</div> <div>Total gradient evaluations: 2e+05 (18us)</div> <div>Total time: 6s</div>"
      ]
     },
     "metadata": {},
     "output_type": "display_data"
    },
    {
     "data": {
      "text/html": [
       "<b>Chain 2 Complete</b>: <div>Iteration: 1000 (3ms)</div> <div>Acceptance rate: 0.83</div> <div>E-BFMI: 0.65</div> <div>Step size: 0.05</div> <div>Total gradient evaluations: 2e+05 (13us)</div> <div>Total time: 6s</div>"
      ]
     },
     "metadata": {},
     "output_type": "display_data"
    },
    {
     "data": {
      "text/html": [
       "<b>Chain 3 Complete</b>: <div>Iteration: 1000 (3ms)</div> <div>Acceptance rate: 0.85</div> <div>E-BFMI: 0.75</div> <div>Step size: 0.05</div> <div>Total gradient evaluations: 2e+05 (16us)</div> <div>Total time: 6s</div>"
      ]
     },
     "metadata": {},
     "output_type": "display_data"
    },
    {
     "data": {
      "text/html": [
       "<b>Chain 4 Complete</b>: <div>Iteration: 1000 (3ms)</div> <div>Acceptance rate: 0.84</div> <div>E-BFMI: 0.81</div> <div>Step size: 0.05</div> <div>Total gradient evaluations: 2e+05 (16us)</div> <div>Total time: 6s</div>"
      ]
     },
     "metadata": {},
     "output_type": "display_data"
    },
    {
     "name": "stdout",
     "output_type": "stream",
     "text": [
      "Sweden\n"
     ]
    },
    {
     "data": {
      "text/html": [
       "<b>Chain 1 Complete</b>: <div>Iteration: 1000 (5ms)</div> <div>Acceptance rate: 0.81</div> <div>E-BFMI: 0.68</div> <div>Step size: 0.03</div> <div>Total gradient evaluations: 2e+05 (25us)</div> <div>Total time: 10s</div>"
      ]
     },
     "metadata": {},
     "output_type": "display_data"
    },
    {
     "data": {
      "text/html": [
       "<b>Chain 2 Complete</b>: <div>Iteration: 1000 (5ms)</div> <div>Acceptance rate: 0.90</div> <div>E-BFMI: 0.63</div> <div>Step size: 0.03</div> <div>Total gradient evaluations: 2e+05 (21us)</div> <div>Total time: 10s</div>"
      ]
     },
     "metadata": {},
     "output_type": "display_data"
    },
    {
     "data": {
      "text/html": [
       "<b>Chain 3 Complete</b>: <div>Iteration: 1000 (5ms)</div> <div>Acceptance rate: 0.93</div> <div>E-BFMI: 0.65</div> <div>Step size: 0.02</div> <div>Total gradient evaluations: 2e+05 (28us)</div> <div>Total time: 12s</div>"
      ]
     },
     "metadata": {},
     "output_type": "display_data"
    },
    {
     "data": {
      "text/html": [
       "<b>Chain 4 Complete</b>: <div>Iteration: 1000 (4ms)</div> <div>Acceptance rate: 0.90</div> <div>E-BFMI: 0.63</div> <div>Step size: 0.03</div> <div>Total gradient evaluations: 2e+05 (26us)</div> <div>Total time: 10s</div>"
      ]
     },
     "metadata": {},
     "output_type": "display_data"
    },
    {
     "name": "stdout",
     "output_type": "stream",
     "text": [
      "Austria\n"
     ]
    },
    {
     "data": {
      "text/html": [
       "<b>Chain 1 Complete</b>: <div>Iteration: 1000 (5ms)</div> <div>Acceptance rate: 0.86</div> <div>E-BFMI: 0.75</div> <div>Step size: 0.02</div> <div>Total gradient evaluations: 2e+05 (33us)</div> <div>Total time: 12s</div>"
      ]
     },
     "metadata": {},
     "output_type": "display_data"
    },
    {
     "data": {
      "text/html": [
       "<b>Chain 2 Complete</b>: <div>Iteration: 1000 (6ms)</div> <div>Acceptance rate: 0.93</div> <div>E-BFMI: 0.63</div> <div>Step size: 0.02</div> <div>Total gradient evaluations: 2e+05 (27us)</div> <div>Total time: 14s</div>"
      ]
     },
     "metadata": {},
     "output_type": "display_data"
    },
    {
     "data": {
      "text/html": [
       "<b>Chain 3 Complete</b>: <div>Iteration: 1000 (5ms)</div> <div>Acceptance rate: 0.89</div> <div>E-BFMI: 0.64</div> <div>Step size: 0.02</div> <div>Total gradient evaluations: 2e+05 (30us)</div> <div>Total time: 14s</div>"
      ]
     },
     "metadata": {},
     "output_type": "display_data"
    },
    {
     "data": {
      "text/html": [
       "<b>Chain 4 Complete</b>: <div>Iteration: 1000 (6ms)</div> <div>Acceptance rate: 0.92</div> <div>E-BFMI: 0.68</div> <div>Step size: 0.02</div> <div>Total gradient evaluations: 2e+05 (29us)</div> <div>Total time: 12s</div>"
      ]
     },
     "metadata": {},
     "output_type": "display_data"
    },
    {
     "name": "stdout",
     "output_type": "stream",
     "text": [
      "Latvia\n"
     ]
    },
    {
     "data": {
      "text/html": [
       "<b>Chain 1 Complete</b>: <div>Iteration: 1000 (3ms)</div> <div>Acceptance rate: 0.82</div> <div>E-BFMI: 0.71</div> <div>Step size: 0.05</div> <div>Total gradient evaluations: 2e+05 (15us)</div> <div>Total time: 7s</div>"
      ]
     },
     "metadata": {},
     "output_type": "display_data"
    },
    {
     "data": {
      "text/html": [
       "<b>Chain 2 Complete</b>: <div>Iteration: 1000 (3ms)</div> <div>Acceptance rate: 0.80</div> <div>E-BFMI: 0.60</div> <div>Step size: 0.06</div> <div>Total gradient evaluations: 2e+05 (15us)</div> <div>Total time: 7s</div>"
      ]
     },
     "metadata": {},
     "output_type": "display_data"
    },
    {
     "data": {
      "text/html": [
       "<b>Chain 3 Complete</b>: <div>Iteration: 1000 (3ms)</div> <div>Acceptance rate: 0.84</div> <div>E-BFMI: 0.62</div> <div>Step size: 0.05</div> <div>Total gradient evaluations: 2e+05 (18us)</div> <div>Total time: 6s</div>"
      ]
     },
     "metadata": {},
     "output_type": "display_data"
    },
    {
     "data": {
      "text/html": [
       "<b>Chain 4 Complete</b>: <div>Iteration: 1000 (3ms)</div> <div>Acceptance rate: 0.84</div> <div>E-BFMI: 0.75</div> <div>Step size: 0.05</div> <div>Total gradient evaluations: 2e+05 (19us)</div> <div>Total time: 6s</div>"
      ]
     },
     "metadata": {},
     "output_type": "display_data"
    },
    {
     "name": "stdout",
     "output_type": "stream",
     "text": [
      "Italy\n"
     ]
    },
    {
     "data": {
      "text/html": [
       "<b>Chain 1 Complete</b>: <div>Iteration: 1000 (9ms)</div> <div>Acceptance rate: 0.90</div> <div>E-BFMI: 0.56</div> <div>Step size: 0.01</div> <div>Total gradient evaluations: 2e+05 (52us)</div> <div>Total time: 20s</div>"
      ]
     },
     "metadata": {},
     "output_type": "display_data"
    },
    {
     "data": {
      "text/html": [
       "<b>Chain 2 Complete</b>: <div>Iteration: 1000 (16ms)</div> <div>Acceptance rate: 0.94</div> <div>E-BFMI: 0.67</div> <div>Step size: 0.009</div> <div>Total gradient evaluations: 2e+05 (78us)</div> <div>Total time: 19s</div>"
      ]
     },
     "metadata": {},
     "output_type": "display_data"
    },
    {
     "data": {
      "text/html": [
       "<b>Chain 3 Complete</b>: <div>Iteration: 1000 (9ms)</div> <div>Acceptance rate: 0.94</div> <div>E-BFMI: 0.72</div> <div>Step size: 0.008</div> <div>Total gradient evaluations: 2e+05 (42us)</div> <div>Total time: 19s</div>"
      ]
     },
     "metadata": {},
     "output_type": "display_data"
    },
    {
     "data": {
      "text/html": [
       "<b>Chain 4 Complete</b>: <div>Iteration: 1000 (16ms)</div> <div>Acceptance rate: 0.92</div> <div>E-BFMI: 0.65</div> <div>Step size: 0.009</div> <div>Total gradient evaluations: 2e+05 (107us)</div> <div>Total time: 20s</div>"
      ]
     },
     "metadata": {},
     "output_type": "display_data"
    },
    {
     "name": "stdout",
     "output_type": "stream",
     "text": [
      "Ireland\n"
     ]
    },
    {
     "data": {
      "text/html": [
       "<b>Chain 1 Complete</b>: <div>Iteration: 1000 (4ms)</div> <div>Acceptance rate: 0.84</div> <div>E-BFMI: 0.66</div> <div>Step size: 0.02</div> <div>Total gradient evaluations: 2e+05 (34us)</div> <div>Total time: 10s</div>"
      ]
     },
     "metadata": {},
     "output_type": "display_data"
    },
    {
     "data": {
      "text/html": [
       "<b>Chain 2 Complete</b>: <div>Iteration: 1000 (4ms)</div> <div>Acceptance rate: 0.93</div> <div>E-BFMI: 0.74</div> <div>Step size: 0.02</div> <div>Total gradient evaluations: 2e+05 (23us)</div> <div>Total time: 8s</div>"
      ]
     },
     "metadata": {},
     "output_type": "display_data"
    },
    {
     "data": {
      "text/html": [
       "<b>Chain 3 Complete</b>: <div>Iteration: 1000 (4ms)</div> <div>Acceptance rate: 0.91</div> <div>E-BFMI: 0.51</div> <div>Step size: 0.02</div> <div>Total gradient evaluations: 2e+05 (44us)</div> <div>Total time: 7s</div>"
      ]
     },
     "metadata": {},
     "output_type": "display_data"
    },
    {
     "data": {
      "text/html": [
       "<b>Chain 4 Complete</b>: <div>Iteration: 1000 (3ms)</div> <div>Acceptance rate: 0.89</div> <div>E-BFMI: 0.66</div> <div>Step size: 0.02</div> <div>Total gradient evaluations: 2e+05 (17us)</div> <div>Total time: 6s</div>"
      ]
     },
     "metadata": {},
     "output_type": "display_data"
    },
    {
     "name": "stdout",
     "output_type": "stream",
     "text": [
      "Bulgaria\n"
     ]
    },
    {
     "data": {
      "text/html": [
       "<b>Chain 1 Complete</b>: <div>Iteration: 1000 (4ms)</div> <div>Acceptance rate: 0.90</div> <div>E-BFMI: 0.67</div> <div>Step size: 0.05</div> <div>Total gradient evaluations: 2e+05 (19us)</div> <div>Total time: 8s</div>"
      ]
     },
     "metadata": {},
     "output_type": "display_data"
    },
    {
     "data": {
      "text/html": [
       "<b>Chain 2 Complete</b>: <div>Iteration: 1000 (3ms)</div> <div>Acceptance rate: 0.88</div> <div>E-BFMI: 0.69</div> <div>Step size: 0.05</div> <div>Total gradient evaluations: 2e+05 (19us)</div> <div>Total time: 7s</div>"
      ]
     },
     "metadata": {},
     "output_type": "display_data"
    },
    {
     "data": {
      "text/html": [
       "<b>Chain 3 Complete</b>: <div>Iteration: 1000 (3ms)</div> <div>Acceptance rate: 0.82</div> <div>E-BFMI: 0.75</div> <div>Step size: 0.05</div> <div>Total gradient evaluations: 2e+05 (21us)</div> <div>Total time: 8s</div>"
      ]
     },
     "metadata": {},
     "output_type": "display_data"
    },
    {
     "data": {
      "text/html": [
       "<b>Chain 4 Complete</b>: <div>Iteration: 1000 (3ms)</div> <div>Acceptance rate: 0.87</div> <div>E-BFMI: 0.68</div> <div>Step size: 0.05</div> <div>Total gradient evaluations: 2e+05 (17us)</div> <div>Total time: 8s</div>"
      ]
     },
     "metadata": {},
     "output_type": "display_data"
    },
    {
     "name": "stdout",
     "output_type": "stream",
     "text": [
      "Norway\n"
     ]
    },
    {
     "data": {
      "text/html": [
       "<b>Chain 1 Complete</b>: <div>Iteration: 1000 (5ms)</div> <div>Acceptance rate: 0.88</div> <div>E-BFMI: 0.60</div> <div>Step size: 0.03</div> <div>Total gradient evaluations: 2e+05 (26us)</div> <div>Total time: 10s</div>"
      ]
     },
     "metadata": {},
     "output_type": "display_data"
    },
    {
     "data": {
      "text/html": [
       "<b>Chain 2 Complete</b>: <div>Iteration: 1000 (6ms)</div> <div>Acceptance rate: 0.88</div> <div>E-BFMI: 0.62</div> <div>Step size: 0.03</div> <div>Total gradient evaluations: 2e+05 (25us)</div> <div>Total time: 11s</div>"
      ]
     },
     "metadata": {},
     "output_type": "display_data"
    },
    {
     "data": {
      "text/html": [
       "<b>Chain 3 Complete</b>: <div>Iteration: 1000 (5ms)</div> <div>Acceptance rate: 0.87</div> <div>E-BFMI: 0.65</div> <div>Step size: 0.03</div> <div>Total gradient evaluations: 2e+05 (24us)</div> <div>Total time: 13s</div>"
      ]
     },
     "metadata": {},
     "output_type": "display_data"
    },
    {
     "data": {
      "text/html": [
       "<b>Chain 4 Complete</b>: <div>Iteration: 1000 (6ms)</div> <div>Acceptance rate: 0.88</div> <div>E-BFMI: 0.69</div> <div>Step size: 0.03</div> <div>Total gradient evaluations: 2e+05 (24us)</div> <div>Total time: 10s</div>"
      ]
     },
     "metadata": {},
     "output_type": "display_data"
    },
    {
     "name": "stdout",
     "output_type": "stream",
     "text": [
      "France\n"
     ]
    },
    {
     "data": {
      "text/html": [
       "<b>Chain 1 Complete</b>: <div>Iteration: 1000 (7ms)</div> <div>Acceptance rate: 0.88</div> <div>E-BFMI: 0.47</div> <div>Step size: 0.007</div> <div>Total gradient evaluations: 2e+05 (42us)</div> <div>Total time: 18s</div>"
      ]
     },
     "metadata": {},
     "output_type": "display_data"
    },
    {
     "data": {
      "text/html": [
       "<b>Chain 2 Complete</b>: <div>Iteration: 1000 (7ms)</div> <div>Acceptance rate: 0.89</div> <div>E-BFMI: 0.52</div> <div>Step size: 0.008</div> <div>Total gradient evaluations: 2e+05 (34us)</div> <div>Total time: 15s</div>"
      ]
     },
     "metadata": {},
     "output_type": "display_data"
    },
    {
     "data": {
      "text/html": [
       "<b>Chain 3 Complete</b>: <div>Iteration: 1000 (7ms)</div> <div>Acceptance rate: 0.92</div> <div>E-BFMI: 0.58</div> <div>Step size: 0.007</div> <div>Total gradient evaluations: 2e+05 (35us)</div> <div>Total time: 14s</div>"
      ]
     },
     "metadata": {},
     "output_type": "display_data"
    },
    {
     "data": {
      "text/html": [
       "<b>Chain 4 Complete</b>: <div>Iteration: 1000 (7ms)</div> <div>Acceptance rate: 0.91</div> <div>E-BFMI: 0.56</div> <div>Step size: 0.008</div> <div>Total gradient evaluations: 2e+05 (37us)</div> <div>Total time: 15s</div>"
      ]
     },
     "metadata": {},
     "output_type": "display_data"
    },
    {
     "name": "stdout",
     "output_type": "stream",
     "text": [
      "Netherlands\n"
     ]
    },
    {
     "data": {
      "text/html": [
       "<b>Chain 1 Complete</b>: <div>Iteration: 1000 (4ms)</div> <div>Acceptance rate: 0.88</div> <div>E-BFMI: 0.64</div> <div>Step size: 0.02</div> <div>Total gradient evaluations: 2e+05 (24us)</div> <div>Total time: 9s</div>"
      ]
     },
     "metadata": {},
     "output_type": "display_data"
    },
    {
     "data": {
      "text/html": [
       "<b>Chain 2 Complete</b>: <div>Iteration: 1000 (4ms)</div> <div>Acceptance rate: 0.94</div> <div>E-BFMI: 0.67</div> <div>Step size: 0.02</div> <div>Total gradient evaluations: 2e+05 (20us)</div> <div>Total time: 9s</div>"
      ]
     },
     "metadata": {},
     "output_type": "display_data"
    },
    {
     "data": {
      "text/html": [
       "<b>Chain 3 Complete</b>: <div>Iteration: 1000 (6ms)</div> <div>Acceptance rate: 0.94</div> <div>E-BFMI: 0.59</div> <div>Step size: 0.02</div> <div>Total gradient evaluations: 2e+05 (32us)</div> <div>Total time: 10s</div>"
      ]
     },
     "metadata": {},
     "output_type": "display_data"
    },
    {
     "data": {
      "text/html": [
       "<b>Chain 4 Complete</b>: <div>Iteration: 1000 (8ms)</div> <div>Acceptance rate: 0.89</div> <div>E-BFMI: 0.68</div> <div>Step size: 0.02</div> <div>Total gradient evaluations: 2e+05 (48us)</div> <div>Total time: 15s</div>"
      ]
     },
     "metadata": {},
     "output_type": "display_data"
    },
    {
     "name": "stdout",
     "output_type": "stream",
     "text": [
      "Switzerland\n"
     ]
    },
    {
     "data": {
      "text/html": [
       "<b>Chain 1 Complete</b>: <div>Iteration: 1000 (5ms)</div> <div>Acceptance rate: 0.91</div> <div>E-BFMI: 0.61</div> <div>Step size: 0.02</div> <div>Total gradient evaluations: 2e+05 (24us)</div> <div>Total time: 13s</div>"
      ]
     },
     "metadata": {},
     "output_type": "display_data"
    },
    {
     "data": {
      "text/html": [
       "<b>Chain 2 Complete</b>: <div>Iteration: 1000 (6ms)</div> <div>Acceptance rate: 0.90</div> <div>E-BFMI: 0.68</div> <div>Step size: 0.02</div> <div>Total gradient evaluations: 2e+05 (25us)</div> <div>Total time: 11s</div>"
      ]
     },
     "metadata": {},
     "output_type": "display_data"
    },
    {
     "data": {
      "text/html": [
       "<b>Chain 3 Complete</b>: <div>Iteration: 1000 (5ms)</div> <div>Acceptance rate: 0.88</div> <div>E-BFMI: 0.68</div> <div>Step size: 0.02</div> <div>Total gradient evaluations: 2e+05 (26us)</div> <div>Total time: 10s</div>"
      ]
     },
     "metadata": {},
     "output_type": "display_data"
    },
    {
     "data": {
      "text/html": [
       "<b>Chain 4 Complete</b>: <div>Iteration: 1000 (4ms)</div> <div>Acceptance rate: 0.92</div> <div>E-BFMI: 0.64</div> <div>Step size: 0.02</div> <div>Total gradient evaluations: 2e+05 (22us)</div> <div>Total time: 10s</div>"
      ]
     },
     "metadata": {},
     "output_type": "display_data"
    },
    {
     "name": "stdout",
     "output_type": "stream",
     "text": [
      "Cyprus\n"
     ]
    },
    {
     "data": {
      "text/html": [
       "<b>Chain 1 Complete</b>: <div>Iteration: 1000 (4ms)</div> <div>Acceptance rate: 0.81</div> <div>E-BFMI: 0.67</div> <div>Step size: 0.06</div> <div>Total gradient evaluations: 2e+05 (16us)</div> <div>Total time: 7s</div>"
      ]
     },
     "metadata": {},
     "output_type": "display_data"
    },
    {
     "data": {
      "text/html": [
       "<b>Chain 2 Complete</b>: <div>Iteration: 1000 (2ms)</div> <div>Acceptance rate: 0.84</div> <div>E-BFMI: 0.53</div> <div>Step size: 0.05</div> <div>Total gradient evaluations: 2e+05 (12us)</div> <div>Total time: 7s</div>"
      ]
     },
     "metadata": {},
     "output_type": "display_data"
    },
    {
     "data": {
      "text/html": [
       "<b>Chain 3 Complete</b>: <div>Iteration: 1000 (2ms)</div> <div>Acceptance rate: 0.80</div> <div>E-BFMI: 0.58</div> <div>Step size: 0.06</div> <div>Total gradient evaluations: 2e+05 (11us)</div> <div>Total time: 5s</div>"
      ]
     },
     "metadata": {},
     "output_type": "display_data"
    },
    {
     "data": {
      "text/html": [
       "<b>Chain 4 Complete</b>: <div>Iteration: 1000 (3ms)</div> <div>Acceptance rate: 0.82</div> <div>E-BFMI: 0.68</div> <div>Step size: 0.06</div> <div>Total gradient evaluations: 2e+05 (18us)</div> <div>Total time: 5s</div>"
      ]
     },
     "metadata": {},
     "output_type": "display_data"
    },
    {
     "name": "stdout",
     "output_type": "stream",
     "text": [
      "Germany\n"
     ]
    },
    {
     "data": {
      "text/html": [
       "<b>Chain 1 Complete</b>: <div>Iteration: 1000 (10ms)</div> <div>Acceptance rate: 0.78</div> <div>E-BFMI: 0.59</div> <div>Step size: 0.01</div> <div>Total gradient evaluations: 2e+05 (46us)</div> <div>Total time: 24s</div>"
      ]
     },
     "metadata": {},
     "output_type": "display_data"
    },
    {
     "data": {
      "text/html": [
       "<b>Chain 2 Complete</b>: <div>Iteration: 1000 (8ms)</div> <div>Acceptance rate: 0.93</div> <div>E-BFMI: 0.59</div> <div>Step size: 0.01</div> <div>Total gradient evaluations: 2e+05 (35us)</div> <div>Total time: 17s</div>"
      ]
     },
     "metadata": {},
     "output_type": "display_data"
    },
    {
     "data": {
      "text/html": [
       "<b>Chain 3 Complete</b>: <div>Iteration: 1000 (7ms)</div> <div>Acceptance rate: 0.93</div> <div>E-BFMI: 0.66</div> <div>Step size: 0.01</div> <div>Total gradient evaluations: 2e+05 (35us)</div> <div>Total time: 15s</div>"
      ]
     },
     "metadata": {},
     "output_type": "display_data"
    },
    {
     "data": {
      "text/html": [
       "<b>Chain 4 Complete</b>: <div>Iteration: 1000 (7ms)</div> <div>Acceptance rate: 0.91</div> <div>E-BFMI: 0.53</div> <div>Step size: 0.01</div> <div>Total gradient evaluations: 2e+05 (40us)</div> <div>Total time: 15s</div>"
      ]
     },
     "metadata": {},
     "output_type": "display_data"
    },
    {
     "name": "stdout",
     "output_type": "stream",
     "text": [
      "Portugal\n"
     ]
    },
    {
     "data": {
      "text/html": [
       "<b>Chain 1 Complete</b>: <div>Iteration: 1000 (4ms)</div> <div>Acceptance rate: 0.92</div> <div>E-BFMI: 0.65</div> <div>Step size: 0.02</div> <div>Total gradient evaluations: 2e+05 (19us)</div> <div>Total time: 9s</div>"
      ]
     },
     "metadata": {},
     "output_type": "display_data"
    },
    {
     "data": {
      "text/html": [
       "<b>Chain 2 Complete</b>: <div>Iteration: 1000 (5ms)</div> <div>Acceptance rate: 0.92</div> <div>E-BFMI: 0.68</div> <div>Step size: 0.02</div> <div>Total gradient evaluations: 2e+05 (24us)</div> <div>Total time: 9s</div>"
      ]
     },
     "metadata": {},
     "output_type": "display_data"
    },
    {
     "data": {
      "text/html": [
       "<b>Chain 3 Complete</b>: <div>Iteration: 1000 (4ms)</div> <div>Acceptance rate: 0.87</div> <div>E-BFMI: 0.55</div> <div>Step size: 0.02</div> <div>Total gradient evaluations: 2e+05 (22us)</div> <div>Total time: 8s</div>"
      ]
     },
     "metadata": {},
     "output_type": "display_data"
    },
    {
     "data": {
      "text/html": [
       "<b>Chain 4 Complete</b>: <div>Iteration: 1000 (3ms)</div> <div>Acceptance rate: 0.88</div> <div>E-BFMI: 0.58</div> <div>Step size: 0.02</div> <div>Total gradient evaluations: 2e+05 (18us)</div> <div>Total time: 9s</div>"
      ]
     },
     "metadata": {},
     "output_type": "display_data"
    },
    {
     "name": "stdout",
     "output_type": "stream",
     "text": [
      "Hungary\n"
     ]
    },
    {
     "data": {
      "text/html": [
       "<b>Chain 1 Complete</b>: <div>Iteration: 1000 (3ms)</div> <div>Acceptance rate: 0.83</div> <div>E-BFMI: 0.67</div> <div>Step size: 0.05</div> <div>Total gradient evaluations: 2e+05 (15us)</div> <div>Total time: 6s</div>"
      ]
     },
     "metadata": {},
     "output_type": "display_data"
    },
    {
     "data": {
      "text/html": [
       "<b>Chain 2 Complete</b>: <div>Iteration: 1000 (3ms)</div> <div>Acceptance rate: 0.78</div> <div>E-BFMI: 0.67</div> <div>Step size: 0.05</div> <div>Total gradient evaluations: 2e+05 (15us)</div> <div>Total time: 7s</div>"
      ]
     },
     "metadata": {},
     "output_type": "display_data"
    },
    {
     "data": {
      "text/html": [
       "<b>Chain 3 Complete</b>: <div>Iteration: 1000 (4ms)</div> <div>Acceptance rate: 0.84</div> <div>E-BFMI: 0.70</div> <div>Step size: 0.05</div> <div>Total gradient evaluations: 2e+05 (16us)</div> <div>Total time: 7s</div>"
      ]
     },
     "metadata": {},
     "output_type": "display_data"
    },
    {
     "data": {
      "text/html": [
       "<b>Chain 4 Complete</b>: <div>Iteration: 1000 (3ms)</div> <div>Acceptance rate: 0.80</div> <div>E-BFMI: 0.76</div> <div>Step size: 0.05</div> <div>Total gradient evaluations: 2e+05 (15us)</div> <div>Total time: 7s</div>"
      ]
     },
     "metadata": {},
     "output_type": "display_data"
    },
    {
     "data": {
      "text/plain": [
       "\u001b[36mcountryStats\u001b[39m: \u001b[32mMap\u001b[39m[\u001b[32mString\u001b[39m, \u001b[32mRtsDistributionStats\u001b[39m] = \u001b[33mMap\u001b[39m(\n",
       "  \u001b[32m\"Poland\"\u001b[39m -> \u001b[33mRtsDistributionStats\u001b[39m(\n",
       "    \u001b[33mVector\u001b[39m(\n",
       "      (\u001b[32m0\u001b[39m, \u001b[32m1.9300442577923222\u001b[39m),\n",
       "      (\u001b[32m1\u001b[39m, \u001b[32m1.9370527000304405\u001b[39m),\n",
       "      (\u001b[32m2\u001b[39m, \u001b[32m1.9270739195813145\u001b[39m),\n",
       "      (\u001b[32m3\u001b[39m, \u001b[32m1.9117772680736584\u001b[39m),\n",
       "      (\u001b[32m4\u001b[39m, \u001b[32m1.8883968594337286\u001b[39m),\n",
       "      (\u001b[32m5\u001b[39m, \u001b[32m1.8661131009236145\u001b[39m),\n",
       "      (\u001b[32m6\u001b[39m, \u001b[32m1.8402595221220075\u001b[39m),\n",
       "      (\u001b[32m7\u001b[39m, \u001b[32m1.8064549731817539\u001b[39m),\n",
       "      (\u001b[32m8\u001b[39m, \u001b[32m1.7760616101981253\u001b[39m),\n",
       "      (\u001b[32m9\u001b[39m, \u001b[32m1.7502304794360823\u001b[39m),\n",
       "      (\u001b[32m10\u001b[39m, \u001b[32m1.7193178716489914\u001b[39m),\n",
       "      (\u001b[32m11\u001b[39m, \u001b[32m1.6913246771654247\u001b[39m),\n",
       "      (\u001b[32m12\u001b[39m, \u001b[32m1.663868068303793\u001b[39m),\n",
       "      (\u001b[32m13\u001b[39m, \u001b[32m1.633138420458228\u001b[39m),\n",
       "      (\u001b[32m14\u001b[39m, \u001b[32m1.5933382137827028\u001b[39m),\n",
       "      (\u001b[32m15\u001b[39m, \u001b[32m1.5515952725679412\u001b[39m),\n",
       "      (\u001b[32m16\u001b[39m, \u001b[32m1.5271648135247755\u001b[39m),\n",
       "      (\u001b[32m17\u001b[39m, \u001b[32m1.5034740191065952\u001b[39m),\n",
       "      (\u001b[32m18\u001b[39m, \u001b[32m1.488350231019381\u001b[39m),\n",
       "      (\u001b[32m19\u001b[39m, \u001b[32m1.466402087652154\u001b[39m),\n",
       "      (\u001b[32m20\u001b[39m, \u001b[32m1.4279044517838535\u001b[39m),\n",
       "      (\u001b[32m21\u001b[39m, \u001b[32m1.393060294450128\u001b[39m),\n",
       "      (\u001b[32m22\u001b[39m, \u001b[32m1.3445633604450813\u001b[39m),\n",
       "      (\u001b[32m23\u001b[39m, \u001b[32m1.3001750162620256\u001b[39m),\n",
       "      (\u001b[32m24\u001b[39m, \u001b[32m1.2488163082791357\u001b[39m),\n",
       "      (\u001b[32m25\u001b[39m, \u001b[32m1.1948040801326256\u001b[39m),\n",
       "      (\u001b[32m26\u001b[39m, \u001b[32m1.143851027087305\u001b[39m),\n",
       "      (\u001b[32m27\u001b[39m, \u001b[32m1.0995344041894959\u001b[39m),\n",
       "      (\u001b[32m28\u001b[39m, \u001b[32m1.0627445067128019\u001b[39m),\n",
       "      (\u001b[32m29\u001b[39m, \u001b[32m1.0367464604780574\u001b[39m),\n",
       "      (\u001b[32m30\u001b[39m, \u001b[32m1.0166617270279408\u001b[39m),\n",
       "      (\u001b[32m31\u001b[39m, \u001b[32m1.0116194837417707\u001b[39m),\n",
       "      (\u001b[32m32\u001b[39m, \u001b[32m1.0119562353939586\u001b[39m),\n",
       "      (\u001b[32m33\u001b[39m, \u001b[32m1.0246702991841894\u001b[39m),\n",
       "      (\u001b[32m34\u001b[39m, \u001b[32m1.0346431018111883\u001b[39m),\n",
       "      (\u001b[32m35\u001b[39m, \u001b[32m1.0462047164750272\u001b[39m),\n",
       "..."
      ]
     },
     "execution_count": 30,
     "metadata": {},
     "output_type": "execute_result"
    }
   ],
   "source": [
    "val countryStats: Map[String, RtsDistributionStats] = {\n",
    "    assert(countriesToPredict.toSet.subsetOf(countriesSmooth.map(_(\"country\")).toSet))\n",
    "    countriesToPredict.map { countryName =>\n",
    "        println(countryName)\n",
    "        val caseNumbers = countriesSmooth.collect {\n",
    "            case m if m(\"country\") == countryName => m(\"cases\").toLong\n",
    "        }\n",
    "        val (rts,estimates) = predictRt(caseNumbers)\n",
    "        val stats@RtsDistributionStats(means, hdpis) = distributionStats(rts, estimates)\n",
    "        countryName -> stats\n",
    "    }.toMap\n",
    "}"
   ]
  },
  {
   "cell_type": "code",
   "execution_count": 31,
   "metadata": {},
   "outputs": [
    {
     "data": {
      "image/png": "[encoded data removed]"
     },
     "metadata": {
      "height": "1600",
      "width": "1600"
     },
     "output_type": "display_data"
    }
   ],
   "source": [
    "{{\n",
    "    val RtsDistributionStats(means, hdpis) = countryStats(\"Austria\")\n",
    "    show(\"t\", \"Rt\", line(means), shade(hdpis))\n",
    "}}"
   ]
  },
  {
   "cell_type": "code",
   "execution_count": 32,
   "metadata": {},
   "outputs": [
    {
     "data": {
      "text/plain": [
       "defined \u001b[32mfunction\u001b[39m \u001b[36mdatesForCountry\u001b[39m"
      ]
     },
     "execution_count": 32,
     "metadata": {},
     "output_type": "execute_result"
    }
   ],
   "source": [
    "def datesForCountry(country: String) = {\n",
    "    countriesSmooth.collect {\n",
    "        case m if m(\"country\") == country => m(\"date\")\n",
    "    }\n",
    "}"
   ]
  },
  {
   "cell_type": "code",
   "execution_count": 33,
   "metadata": {},
   "outputs": [
    {
     "data": {
      "text/plain": [
       "defined \u001b[32mfunction\u001b[39m \u001b[36mwriteStatsToCsv\u001b[39m"
      ]
     },
     "execution_count": 33,
     "metadata": {},
     "output_type": "execute_result"
    }
   ],
   "source": [
    "def writeStatsToCsv(country: String, stats: RtsDistributionStats, csvWriter: CSVWriter): Unit = {\n",
    "    val xs = stats.means.unzip._2 zip stats.hdpis.unzip._2\n",
    "    val dates = datesForCountry(country)\n",
    "    assert(xs.size == dates.size)\n",
    "    (xs zip dates) foreach {\n",
    "        case ((mean, (low90, high90)), date) => \n",
    "            csvWriter.writeRow(country :: date :: mean.toString :: low90.toString :: high90.toString :: Nil)\n",
    "    }\n",
    "}"
   ]
  },
  {
   "cell_type": "code",
   "execution_count": 34,
   "metadata": {},
   "outputs": [
    {
     "data": {
      "text/plain": [
       "\u001b[36mcsvWriter\u001b[39m: \u001b[32mCSVWriter\u001b[39m = com.github.tototoshi.csv.CSVWriter@89da1b4"
      ]
     },
     "execution_count": 34,
     "metadata": {},
     "output_type": "execute_result"
    }
   ],
   "source": [
    "val csvWriter = CSVWriter.open(new File(\"data/rt-rainier.csv\"))"
   ]
  },
  {
   "cell_type": "code",
   "execution_count": 35,
   "metadata": {},
   "outputs": [],
   "source": [
    "csvWriter.writeRow(List(\"country\", \"date\", \"ML\", \"Low_90\", \"High_90\"))"
   ]
  },
  {
   "cell_type": "code",
   "execution_count": 36,
   "metadata": {},
   "outputs": [],
   "source": [
    "countryStats.toList.sortBy(_._1).foreach {\n",
    "    case (country, stats) => writeStatsToCsv(country, stats, csvWriter)\n",
    "}"
   ]
  },
  {
   "cell_type": "code",
   "execution_count": 37,
   "metadata": {},
   "outputs": [],
   "source": [
    "csvWriter.close()"
   ]
  },
  {
   "cell_type": "markdown",
   "metadata": {},
   "source": [
    "Changes from the original model:\n",
    "* run the markov process with log(R_t) to ensure that it always stays positive\n",
    "* use a Laplace transition to strongly regularize\n",
    "* put a prior on the std dev of the transition, rather than fixing it\n",
    "* put a prior on the serial interval rather than fixing it"
   ]
  },
  {
   "cell_type": "code",
   "execution_count": 5,
   "metadata": {},
   "outputs": [
    {
     "data": {
      "text/plain": [
       "\u001b[36mmodel\u001b[39m: \u001b[32mModel\u001b[39m = \u001b[32mModel[57]\u001b[39m\n",
       "\u001b[36mrts\u001b[39m: \u001b[32mVec\u001b[39m[\u001b[32mReal\u001b[39m] = \u001b[33mVec\u001b[39m(\n",
       "  \u001b[32mReal(0.00, Infinity)\u001b[39m,\n",
       "  \u001b[32mReal(0.00, Infinity)\u001b[39m,\n",
       "  \u001b[32mReal(0.00, Infinity)\u001b[39m,\n",
       "  \u001b[32mReal(0.00, Infinity)\u001b[39m,\n",
       "  \u001b[32mReal(0.00, Infinity)\u001b[39m,\n",
       "  \u001b[32mReal(0.00, Infinity)\u001b[39m,\n",
       "  \u001b[32mReal(0.00, Infinity)\u001b[39m,\n",
       "  \u001b[32mReal(0.00, Infinity)\u001b[39m,\n",
       "  \u001b[32mReal(0.00, Infinity)\u001b[39m,\n",
       "  \u001b[32mReal(0.00, Infinity)\u001b[39m,\n",
       "  \u001b[32mReal(0.00, Infinity)\u001b[39m,\n",
       "  \u001b[32mReal(0.00, Infinity)\u001b[39m,\n",
       "  \u001b[32mReal(0.00, Infinity)\u001b[39m,\n",
       "  \u001b[32mReal(0.00, Infinity)\u001b[39m,\n",
       "  \u001b[32mReal(0.00, Infinity)\u001b[39m,\n",
       "  \u001b[32mReal(0.00, Infinity)\u001b[39m,\n",
       "  \u001b[32mReal(0.00, Infinity)\u001b[39m,\n",
       "  \u001b[32mReal(0.00, Infinity)\u001b[39m,\n",
       "  \u001b[32mReal(0.00, Infinity)\u001b[39m,\n",
       "  \u001b[32mReal(0.00, Infinity)\u001b[39m,\n",
       "  \u001b[32mReal(0.00, Infinity)\u001b[39m,\n",
       "  \u001b[32mReal(0.00, Infinity)\u001b[39m,\n",
       "  \u001b[32mReal(0.00, Infinity)\u001b[39m,\n",
       "  \u001b[32mReal(0.00, Infinity)\u001b[39m,\n",
       "  \u001b[32mReal(0.00, Infinity)\u001b[39m,\n",
       "  \u001b[32mReal(0.00, Infinity)\u001b[39m,\n",
       "  \u001b[32mReal(0.00, Infinity)\u001b[39m,\n",
       "  \u001b[32mReal(0.00, Infinity)\u001b[39m,\n",
       "  \u001b[32mReal(0.00, Infinity)\u001b[39m,\n",
       "  \u001b[32mReal(0.00, Infinity)\u001b[39m,\n",
       "  \u001b[32mReal(0.00, Infinity)\u001b[39m,\n",
       "  \u001b[32mReal(0.00, Infinity)\u001b[39m,\n",
       "  \u001b[32mReal(0.00, Infinity)\u001b[39m,\n",
       "  \u001b[32mReal(0.00, Infinity)\u001b[39m,\n",
       "  \u001b[32mReal(0.00, Infinity)\u001b[39m,\n",
       "  \u001b[32mReal(0.00, Infinity)\u001b[39m,\n",
       "  \u001b[32mReal(0.00, Infinity)\u001b[39m,\n",
       "  \u001b[32mReal(0.00, Infinity)\u001b[39m,\n",
       "..."
      ]
     },
     "execution_count": 5,
     "metadata": {},
     "output_type": "execute_result"
    }
   ],
   "source": [
    "val (model, rts) =  {\n",
    "    val (xs, ys) = data.unzip\n",
    "\n",
    "    val serialInterval = Normal(5,2).latent\n",
    "    val logR0 = Normal(0, 1).latent\n",
    "    val sigma = Exponential(10).latent\n",
    "    val diffs = Laplace(0,sigma).latentVec(data.size)\n",
    "    val logRts = Vec.from(diffs.toList.scanLeft(logR0)(_ + _))\n",
    "    val likelihoods = Vec.from(xs).map{case (i, kt_prev) => \n",
    "        val lambda = ((logRts(i).exp - 1)/serialInterval).exp * kt_prev\n",
    "        Poisson(lambda)\n",
    "    }\n",
    "\n",
    "    (Model.observe(ys, likelihoods), logRts.map(_.exp))\n",
    "}"
   ]
  },
  {
   "cell_type": "markdown",
   "metadata": {},
   "source": [
    "This seems to work best (and fastest) with a dead simple HMC(100) sampler, no mass matrix or path length adapation."
   ]
  },
  {
   "cell_type": "code",
   "execution_count": 8,
   "metadata": {},
   "outputs": [
    {
     "data": {
      "text/html": [
       "<b>Chain 1 Complete</b>: <div>Iteration: 1000 (6ms)</div> <div>Acceptance rate: 0.91</div> <div>E-BFMI: 0.55</div> <div>Step size: 0.007</div> <div></div> <div>Total gradient evaluations: 2e+05 (33us)</div> <div>Total time: 13s</div>"
      ]
     },
     "metadata": {},
     "output_type": "display_data"
    },
    {
     "data": {
      "text/html": [
       "<b>Chain 2 Complete</b>: <div>Iteration: 1000 (6ms)</div> <div>Acceptance rate: 0.95</div> <div>E-BFMI: 0.67</div> <div>Step size: 0.006</div> <div></div> <div>Total gradient evaluations: 2e+05 (26us)</div> <div>Total time: 13s</div>"
      ]
     },
     "metadata": {},
     "output_type": "display_data"
    },
    {
     "data": {
      "text/plain": [
       "\u001b[36msamplerConfig\u001b[39m: \u001b[32mDefaultConfig\u001b[39m{def massMatrixTuner(): com.stripe.rainier.sampler.IdentityMassMatrixTuner;def sampler(): com.stripe.rainier.sampler.HMCSampler} = ammonite.$sess.cmd7$Helper$$anon$1@7a190a17\n",
       "\u001b[36mtrace\u001b[39m: \u001b[32mTrace\u001b[39m = \u001b[32mTrace[2][1000][57]\u001b[39m"
      ]
     },
     "execution_count": 8,
     "metadata": {},
     "output_type": "execute_result"
    }
   ],
   "source": [
    "val samplerConfig = new DefaultConfig {\n",
    "    override def massMatrixTuner() = new IdentityMassMatrixTuner\n",
    "    override def sampler() = new HMCSampler(100)\n",
    "}\n",
    "val trace = model.sample(samplerConfig, 2)"
   ]
  },
  {
   "cell_type": "code",
   "execution_count": 9,
   "metadata": {},
   "outputs": [
    {
     "data": {
      "image/png": "[encoded data removed]"
     },
     "metadata": {
      "height": "1600",
      "width": "1600"
     },
     "output_type": "display_data"
    }
   ],
   "source": [
    "{{\n",
    "    val rtForecasts = trace.predict(rts)\n",
    "    val means = 0.until(rts.size).map{i => (i,mean(rtForecasts.map(_(i))))}\n",
    "    val hdpis = 0.until(rts.size).map{i => (i, hdpi(rtForecasts.map(_(i))))}\n",
    "    show(\"t\", \"Rt\", line(means), shade(hdpis))\n",
    "}}"
   ]
  },
  {
   "cell_type": "code",
   "execution_count": 39,
   "metadata": {},
   "outputs": [
    {
     "data": {
      "text/plain": [
       "\u001b[36mres38\u001b[39m: \u001b[32mVec\u001b[39m[\u001b[32mReal\u001b[39m] = \u001b[33mVec\u001b[39m(\n",
       "  \u001b[32mReal(0.00, Infinity)\u001b[39m,\n",
       "  \u001b[32mReal(0.00, Infinity)\u001b[39m,\n",
       "  \u001b[32mReal(0.00, Infinity)\u001b[39m,\n",
       "  \u001b[32mReal(0.00, Infinity)\u001b[39m,\n",
       "  \u001b[32mReal(0.00, Infinity)\u001b[39m,\n",
       "  \u001b[32mReal(0.00, Infinity)\u001b[39m,\n",
       "  \u001b[32mReal(0.00, Infinity)\u001b[39m,\n",
       "  \u001b[32mReal(0.00, Infinity)\u001b[39m,\n",
       "  \u001b[32mReal(0.00, Infinity)\u001b[39m,\n",
       "  \u001b[32mReal(0.00, Infinity)\u001b[39m,\n",
       "  \u001b[32mReal(0.00, Infinity)\u001b[39m,\n",
       "  \u001b[32mReal(0.00, Infinity)\u001b[39m,\n",
       "  \u001b[32mReal(0.00, Infinity)\u001b[39m,\n",
       "  \u001b[32mReal(0.00, Infinity)\u001b[39m,\n",
       "  \u001b[32mReal(0.00, Infinity)\u001b[39m,\n",
       "  \u001b[32mReal(0.00, Infinity)\u001b[39m,\n",
       "  \u001b[32mReal(0.00, Infinity)\u001b[39m,\n",
       "  \u001b[32mReal(0.00, Infinity)\u001b[39m,\n",
       "  \u001b[32mReal(0.00, Infinity)\u001b[39m,\n",
       "  \u001b[32mReal(0.00, Infinity)\u001b[39m,\n",
       "  \u001b[32mReal(0.00, Infinity)\u001b[39m,\n",
       "  \u001b[32mReal(0.00, Infinity)\u001b[39m,\n",
       "  \u001b[32mReal(0.00, Infinity)\u001b[39m,\n",
       "  \u001b[32mReal(0.00, Infinity)\u001b[39m,\n",
       "  \u001b[32mReal(0.00, Infinity)\u001b[39m,\n",
       "  \u001b[32mReal(0.00, Infinity)\u001b[39m,\n",
       "  \u001b[32mReal(0.00, Infinity)\u001b[39m,\n",
       "  \u001b[32mReal(0.00, Infinity)\u001b[39m,\n",
       "  \u001b[32mReal(0.00, Infinity)\u001b[39m,\n",
       "  \u001b[32mReal(0.00, Infinity)\u001b[39m,\n",
       "  \u001b[32mReal(0.00, Infinity)\u001b[39m,\n",
       "  \u001b[32mReal(0.00, Infinity)\u001b[39m,\n",
       "  \u001b[32mReal(0.00, Infinity)\u001b[39m,\n",
       "  \u001b[32mReal(0.00, Infinity)\u001b[39m,\n",
       "  \u001b[32mReal(0.00, Infinity)\u001b[39m,\n",
       "  \u001b[32mReal(0.00, Infinity)\u001b[39m,\n",
       "  \u001b[32mReal(0.00, Infinity)\u001b[39m,\n",
       "  \u001b[32mReal(0.00, Infinity)\u001b[39m,\n",
       "..."
      ]
     },
     "execution_count": 39,
     "metadata": {},
     "output_type": "execute_result"
    }
   ],
   "source": [
    "rts"
   ]
  },
  {
   "cell_type": "code",
   "execution_count": null,
   "metadata": {},
   "outputs": [],
   "source": []
  }
 ],
 "metadata": {
  "kernelspec": {
   "display_name": "Rainier (Scala 2.12)",
   "language": "scala",
   "name": "rainier"
  },
  "language_info": {
   "codemirror_mode": "text/x-scala",
   "file_extension": ".scala",
   "mimetype": "text/x-scala",
   "name": "scala",
   "nbconvert_exporter": "script",
   "version": "2.12.10"
  }
 },
 "nbformat": 4,
 "nbformat_minor": 2
}
